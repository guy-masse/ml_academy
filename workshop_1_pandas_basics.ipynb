{
  "nbformat": 4,
  "nbformat_minor": 0,
  "metadata": {
    "colab": {
      "name": "workshop_1_pandas_basics.ipynb",
      "version": "0.3.2",
      "provenance": []
    },
    "kernelspec": {
      "display_name": "Python 2",
      "language": "python",
      "name": "python2"
    }
  },
  "cells": [
    {
      "cell_type": "markdown",
      "metadata": {
        "id": "view-in-github",
        "colab_type": "text"
      },
      "source": [
        "[View in Colaboratory](https://colab.research.google.com/github/guy-masse/ml_academy/blob/master/workshop_1_pandas_basics.ipynb)"
      ]
    },
    {
      "metadata": {
        "id": "UnxuLTHCXC-4",
        "colab_type": "text"
      },
      "cell_type": "markdown",
      "source": [
        "![alt text](http://pandas.pydata.org/_static/pandas_logo.png)"
      ]
    },
    {
      "metadata": {
        "id": "GaXDKoHHXC-6",
        "colab_type": "text"
      },
      "cell_type": "markdown",
      "source": [
        "<center><h1> PANDAS TABLE OF CONTENTS </h1></center>\n",
        "\n",
        "## [Essential Basic Functionality](http://pandas.pydata.org/pandas-docs/stable/basics.html) "
      ]
    },
    {
      "metadata": {
        "id": "dy96a4hqXC-7",
        "colab_type": "text"
      },
      "cell_type": "markdown",
      "source": [
        "- [Head and Tail](#Head-and-Tail)\n",
        "- [Attributes and the raw ndaray](#Attributes-and-the-raw-ndaray)\n",
        "- [Accelerate operations](#Accelerate-operations)\n",
        "- [Flexible binary operations](#Flexible-binary-operations)\n",
        "- [Descriptive statistics](#Descriptive-statistics)\n",
        "- [Function applicaton](#Function-applicaton)\n",
        "- [Reindexing and altering labels](#Reindexing-and-altering-labels)\n",
        "- [Iteration](#Iteration)\n",
        "- [.dt-accessor](#.dt-accessor)\n",
        "- [Vecorized string methods](#Vecorized-string-methods)\n",
        "- [Sorting](#Sorting)\n",
        "- [Copying](#Copying)\n",
        "- [dtypes](#dtypes)\n"
      ]
    },
    {
      "metadata": {
        "id": "Rh_7sYKiXC-7",
        "colab_type": "text"
      },
      "cell_type": "markdown",
      "source": [
        "Here we discuss a lot of the essential functionality common to the pandas data structures. Here’s how to create some of the objects used in the examples from the previous section:"
      ]
    },
    {
      "metadata": {
        "id": "cU1FUNstXC-7",
        "colab_type": "code",
        "colab": {}
      },
      "cell_type": "code",
      "source": [
        "import pandas as pd\n",
        "import numpy as np"
      ],
      "execution_count": 0,
      "outputs": []
    },
    {
      "metadata": {
        "id": "i7OF9kTEXC--",
        "colab_type": "code",
        "colab": {}
      },
      "cell_type": "code",
      "source": [
        "index = pd.date_range('1/1/2000', periods = 8)"
      ],
      "execution_count": 0,
      "outputs": []
    },
    {
      "metadata": {
        "id": "GE5oyF4qXC_A",
        "colab_type": "code",
        "colab": {},
        "outputId": "e679a14c-f60e-45e1-d9b4-5718ad1faf56"
      },
      "cell_type": "code",
      "source": [
        "index"
      ],
      "execution_count": 0,
      "outputs": [
        {
          "output_type": "execute_result",
          "data": {
            "text/plain": [
              "DatetimeIndex(['2000-01-01', '2000-01-02', '2000-01-03', '2000-01-04',\n",
              "               '2000-01-05', '2000-01-06', '2000-01-07', '2000-01-08'],\n",
              "              dtype='datetime64[ns]', freq='D')"
            ]
          },
          "metadata": {
            "tags": []
          },
          "execution_count": 5
        }
      ]
    },
    {
      "metadata": {
        "id": "IfMiW1YSXC_F",
        "colab_type": "code",
        "colab": {}
      },
      "cell_type": "code",
      "source": [
        "s = pd.Series(np.random.rand(5), index = ['a', 'b', 'c', 'd', 'e'])"
      ],
      "execution_count": 0,
      "outputs": []
    },
    {
      "metadata": {
        "id": "kFFbOijeXC_H",
        "colab_type": "code",
        "colab": {}
      },
      "cell_type": "code",
      "source": [
        "df = pd.DataFrame(np.random.randn(8, 3), index = index,\n",
        "                 columns = ['A', 'B', 'C'])"
      ],
      "execution_count": 0,
      "outputs": []
    },
    {
      "metadata": {
        "id": "I3FLdVf_XC_J",
        "colab_type": "code",
        "colab": {},
        "outputId": "d13d82a6-f8f4-42aa-b720-ad25abdc68ee"
      },
      "cell_type": "code",
      "source": [
        "df"
      ],
      "execution_count": 0,
      "outputs": [
        {
          "output_type": "execute_result",
          "data": {
            "text/html": [
              "<div>\n",
              "<table border=\"1\" class=\"dataframe\">\n",
              "  <thead>\n",
              "    <tr style=\"text-align: right;\">\n",
              "      <th></th>\n",
              "      <th>A</th>\n",
              "      <th>B</th>\n",
              "      <th>C</th>\n",
              "    </tr>\n",
              "  </thead>\n",
              "  <tbody>\n",
              "    <tr>\n",
              "      <th>2000-01-01</th>\n",
              "      <td>-1.101994</td>\n",
              "      <td>-1.722728</td>\n",
              "      <td>-1.341667</td>\n",
              "    </tr>\n",
              "    <tr>\n",
              "      <th>2000-01-02</th>\n",
              "      <td>1.074900</td>\n",
              "      <td>0.230318</td>\n",
              "      <td>0.155521</td>\n",
              "    </tr>\n",
              "    <tr>\n",
              "      <th>2000-01-03</th>\n",
              "      <td>0.910731</td>\n",
              "      <td>-0.246496</td>\n",
              "      <td>0.074840</td>\n",
              "    </tr>\n",
              "    <tr>\n",
              "      <th>2000-01-04</th>\n",
              "      <td>-0.939314</td>\n",
              "      <td>-0.940890</td>\n",
              "      <td>-0.305041</td>\n",
              "    </tr>\n",
              "    <tr>\n",
              "      <th>2000-01-05</th>\n",
              "      <td>0.461511</td>\n",
              "      <td>-0.254858</td>\n",
              "      <td>-0.159353</td>\n",
              "    </tr>\n",
              "    <tr>\n",
              "      <th>2000-01-06</th>\n",
              "      <td>-0.292855</td>\n",
              "      <td>0.060352</td>\n",
              "      <td>0.754768</td>\n",
              "    </tr>\n",
              "    <tr>\n",
              "      <th>2000-01-07</th>\n",
              "      <td>0.222525</td>\n",
              "      <td>-0.018138</td>\n",
              "      <td>0.609716</td>\n",
              "    </tr>\n",
              "    <tr>\n",
              "      <th>2000-01-08</th>\n",
              "      <td>0.303977</td>\n",
              "      <td>-0.375029</td>\n",
              "      <td>-1.772556</td>\n",
              "    </tr>\n",
              "  </tbody>\n",
              "</table>\n",
              "</div>"
            ],
            "text/plain": [
              "                   A         B         C\n",
              "2000-01-01 -1.101994 -1.722728 -1.341667\n",
              "2000-01-02  1.074900  0.230318  0.155521\n",
              "2000-01-03  0.910731 -0.246496  0.074840\n",
              "2000-01-04 -0.939314 -0.940890 -0.305041\n",
              "2000-01-05  0.461511 -0.254858 -0.159353\n",
              "2000-01-06 -0.292855  0.060352  0.754768\n",
              "2000-01-07  0.222525 -0.018138  0.609716\n",
              "2000-01-08  0.303977 -0.375029 -1.772556"
            ]
          },
          "metadata": {
            "tags": []
          },
          "execution_count": 8
        }
      ]
    },
    {
      "metadata": {
        "id": "7Jd38ekLXC_M",
        "colab_type": "code",
        "colab": {}
      },
      "cell_type": "code",
      "source": [
        " wp = pd.Panel(np.random.randn(2, 5, 4), items=['Item1', 'Item2'],\n",
        "               major_axis=pd.date_range('1/1/2000', periods=5),\n",
        "               minor_axis=['A', 'B', 'C', 'D'])"
      ],
      "execution_count": 0,
      "outputs": []
    },
    {
      "metadata": {
        "id": "7ljAC1SzXC_N",
        "colab_type": "text"
      },
      "cell_type": "markdown",
      "source": [
        "## Head and Tail"
      ]
    },
    {
      "metadata": {
        "id": "so6bgFeaXC_O",
        "colab_type": "text"
      },
      "cell_type": "markdown",
      "source": [
        "To view a small sample of a Series or DataFrame object, use the head() and tail() methods. The default number of elements to display is five, but you may pass a custom number."
      ]
    },
    {
      "metadata": {
        "id": "nrYOiRxKXC_P",
        "colab_type": "code",
        "colab": {}
      },
      "cell_type": "code",
      "source": [
        "long_series = pd.Series(np.random.randn(1000))"
      ],
      "execution_count": 0,
      "outputs": []
    },
    {
      "metadata": {
        "id": "nsLgLEtjXC_R",
        "colab_type": "code",
        "colab": {},
        "outputId": "7a81bbb4-09c1-4e63-fa3d-f20132b9ab47"
      },
      "cell_type": "code",
      "source": [
        "long_series.head()"
      ],
      "execution_count": 0,
      "outputs": [
        {
          "output_type": "execute_result",
          "data": {
            "text/plain": [
              "0   -0.702765\n",
              "1    1.244324\n",
              "2   -0.293079\n",
              "3    0.232502\n",
              "4   -2.334224\n",
              "dtype: float64"
            ]
          },
          "metadata": {
            "tags": []
          },
          "execution_count": 14
        }
      ]
    },
    {
      "metadata": {
        "id": "65nvpht7XC_T",
        "colab_type": "code",
        "colab": {},
        "outputId": "08d42ce5-51ce-4cce-a6da-3e1333cf8560"
      },
      "cell_type": "code",
      "source": [
        "long_series.tail(3)"
      ],
      "execution_count": 0,
      "outputs": [
        {
          "output_type": "execute_result",
          "data": {
            "text/plain": [
              "997   -2.264176\n",
              "998   -0.985780\n",
              "999   -0.788931\n",
              "dtype: float64"
            ]
          },
          "metadata": {
            "tags": []
          },
          "execution_count": 16
        }
      ]
    },
    {
      "metadata": {
        "id": "ajVNlFOuXC_W",
        "colab_type": "text"
      },
      "cell_type": "markdown",
      "source": [
        "## Attributes and the raw ndaray"
      ]
    },
    {
      "metadata": {
        "id": "C9MIWtclXC_X",
        "colab_type": "text"
      },
      "cell_type": "markdown",
      "source": [
        "pandas objects have a number of attributes enabling you to access the metadata\n",
        "\n",
        "* **shape:** gives the axis dimensions of the object, consistent with ndarray\n",
        "* Axis labels\n",
        "  * **Series:** index (only axis)\n",
        "  * **DataFrame:** index (rows) and columns\n",
        "  * **Panel:** items, major_axis, and minor_axis\n",
        "\n",
        "Note, **these attributes can be safely assigned to!**"
      ]
    },
    {
      "metadata": {
        "id": "XbSuE_yhXC_Y",
        "colab_type": "code",
        "colab": {},
        "outputId": "f66edf25-2e75-4632-f33a-7b64b28dee7f"
      },
      "cell_type": "code",
      "source": [
        "df[:2]"
      ],
      "execution_count": 0,
      "outputs": [
        {
          "output_type": "execute_result",
          "data": {
            "text/html": [
              "<div>\n",
              "<table border=\"1\" class=\"dataframe\">\n",
              "  <thead>\n",
              "    <tr style=\"text-align: right;\">\n",
              "      <th></th>\n",
              "      <th>A</th>\n",
              "      <th>B</th>\n",
              "      <th>C</th>\n",
              "    </tr>\n",
              "  </thead>\n",
              "  <tbody>\n",
              "    <tr>\n",
              "      <th>2000-01-01</th>\n",
              "      <td>-1.101994</td>\n",
              "      <td>-1.722728</td>\n",
              "      <td>-1.341667</td>\n",
              "    </tr>\n",
              "    <tr>\n",
              "      <th>2000-01-02</th>\n",
              "      <td>1.074900</td>\n",
              "      <td>0.230318</td>\n",
              "      <td>0.155521</td>\n",
              "    </tr>\n",
              "  </tbody>\n",
              "</table>\n",
              "</div>"
            ],
            "text/plain": [
              "                   A         B         C\n",
              "2000-01-01 -1.101994 -1.722728 -1.341667\n",
              "2000-01-02  1.074900  0.230318  0.155521"
            ]
          },
          "metadata": {
            "tags": []
          },
          "execution_count": 17
        }
      ]
    },
    {
      "metadata": {
        "id": "nyw-YMCJXC_b",
        "colab_type": "code",
        "colab": {},
        "collapsed": true
      },
      "cell_type": "code",
      "source": [
        "df.columns = [x.lower() for x in df.columns]"
      ],
      "execution_count": 0,
      "outputs": []
    },
    {
      "metadata": {
        "id": "ROb9G8wHXC_d",
        "colab_type": "code",
        "colab": {},
        "outputId": "330b73a4-cb97-4958-ed3b-fed48919fc1a"
      },
      "cell_type": "code",
      "source": [
        "df"
      ],
      "execution_count": 0,
      "outputs": [
        {
          "output_type": "execute_result",
          "data": {
            "text/html": [
              "<div>\n",
              "<table border=\"1\" class=\"dataframe\">\n",
              "  <thead>\n",
              "    <tr style=\"text-align: right;\">\n",
              "      <th></th>\n",
              "      <th>a</th>\n",
              "      <th>b</th>\n",
              "      <th>c</th>\n",
              "    </tr>\n",
              "  </thead>\n",
              "  <tbody>\n",
              "    <tr>\n",
              "      <th>2000-01-01</th>\n",
              "      <td>-1.101994</td>\n",
              "      <td>-1.722728</td>\n",
              "      <td>-1.341667</td>\n",
              "    </tr>\n",
              "    <tr>\n",
              "      <th>2000-01-02</th>\n",
              "      <td>1.074900</td>\n",
              "      <td>0.230318</td>\n",
              "      <td>0.155521</td>\n",
              "    </tr>\n",
              "    <tr>\n",
              "      <th>2000-01-03</th>\n",
              "      <td>0.910731</td>\n",
              "      <td>-0.246496</td>\n",
              "      <td>0.074840</td>\n",
              "    </tr>\n",
              "    <tr>\n",
              "      <th>2000-01-04</th>\n",
              "      <td>-0.939314</td>\n",
              "      <td>-0.940890</td>\n",
              "      <td>-0.305041</td>\n",
              "    </tr>\n",
              "    <tr>\n",
              "      <th>2000-01-05</th>\n",
              "      <td>0.461511</td>\n",
              "      <td>-0.254858</td>\n",
              "      <td>-0.159353</td>\n",
              "    </tr>\n",
              "    <tr>\n",
              "      <th>2000-01-06</th>\n",
              "      <td>-0.292855</td>\n",
              "      <td>0.060352</td>\n",
              "      <td>0.754768</td>\n",
              "    </tr>\n",
              "    <tr>\n",
              "      <th>2000-01-07</th>\n",
              "      <td>0.222525</td>\n",
              "      <td>-0.018138</td>\n",
              "      <td>0.609716</td>\n",
              "    </tr>\n",
              "    <tr>\n",
              "      <th>2000-01-08</th>\n",
              "      <td>0.303977</td>\n",
              "      <td>-0.375029</td>\n",
              "      <td>-1.772556</td>\n",
              "    </tr>\n",
              "  </tbody>\n",
              "</table>\n",
              "</div>"
            ],
            "text/plain": [
              "                   a         b         c\n",
              "2000-01-01 -1.101994 -1.722728 -1.341667\n",
              "2000-01-02  1.074900  0.230318  0.155521\n",
              "2000-01-03  0.910731 -0.246496  0.074840\n",
              "2000-01-04 -0.939314 -0.940890 -0.305041\n",
              "2000-01-05  0.461511 -0.254858 -0.159353\n",
              "2000-01-06 -0.292855  0.060352  0.754768\n",
              "2000-01-07  0.222525 -0.018138  0.609716\n",
              "2000-01-08  0.303977 -0.375029 -1.772556"
            ]
          },
          "metadata": {
            "tags": []
          },
          "execution_count": 19
        }
      ]
    },
    {
      "metadata": {
        "id": "OGle7IMvXC_g",
        "colab_type": "text"
      },
      "cell_type": "markdown",
      "source": [
        "To get the actual data inside a data structure, one need only access the **values** property"
      ]
    },
    {
      "metadata": {
        "id": "BlMk53zPXC_h",
        "colab_type": "code",
        "colab": {},
        "outputId": "17c237b6-f2a1-4c7e-8cdb-72bc5002d730"
      },
      "cell_type": "code",
      "source": [
        "s.values"
      ],
      "execution_count": 0,
      "outputs": [
        {
          "output_type": "execute_result",
          "data": {
            "text/plain": [
              "array([ 0.57570467,  0.28086173,  0.13720265,  0.35516233,  0.48849201])"
            ]
          },
          "metadata": {
            "tags": []
          },
          "execution_count": 20
        }
      ]
    },
    {
      "metadata": {
        "id": "4ne2xflEXC_j",
        "colab_type": "code",
        "colab": {},
        "outputId": "869dc444-ba2c-47b2-e21d-d16cdc9e17b5"
      },
      "cell_type": "code",
      "source": [
        "df.values"
      ],
      "execution_count": 0,
      "outputs": [
        {
          "output_type": "execute_result",
          "data": {
            "text/plain": [
              "array([[-1.10199385, -1.72272819, -1.34166749],\n",
              "       [ 1.07489971,  0.23031829,  0.15552062],\n",
              "       [ 0.91073092, -0.2464963 ,  0.0748402 ],\n",
              "       [-0.93931398, -0.9408898 , -0.3050411 ],\n",
              "       [ 0.46151127, -0.25485759, -0.1593526 ],\n",
              "       [-0.29285546,  0.06035166,  0.75476781],\n",
              "       [ 0.22252522, -0.0181383 ,  0.6097162 ],\n",
              "       [ 0.30397713, -0.3750288 , -1.7725558 ]])"
            ]
          },
          "metadata": {
            "tags": []
          },
          "execution_count": 21
        }
      ]
    },
    {
      "metadata": {
        "id": "vcSZ7OroXC_m",
        "colab_type": "code",
        "colab": {},
        "outputId": "aeaa001a-95d4-47e5-f4a4-b263db1350f4"
      },
      "cell_type": "code",
      "source": [
        "wp.values"
      ],
      "execution_count": 0,
      "outputs": [
        {
          "output_type": "execute_result",
          "data": {
            "text/plain": [
              "array([[[ 1.8418    , -2.14536724,  0.37094418,  0.04166484],\n",
              "        [ 1.14774695,  0.44682272, -0.8416782 , -1.0477633 ],\n",
              "        [-0.05801218,  0.59397592, -0.1727015 , -0.32228237],\n",
              "        [ 0.16070069, -0.40686287,  0.85947005,  0.06764598],\n",
              "        [ 1.27033079, -2.62317707, -0.19729403, -0.54779117]],\n",
              "\n",
              "       [[ 0.21086528, -0.34628053,  0.16887097,  0.65929494],\n",
              "        [ 0.49031298, -0.07793252, -0.56851636, -1.75309483],\n",
              "        [-0.19943855,  2.60588556,  0.27831847,  0.36817091],\n",
              "        [-1.59457969,  0.63196644, -0.42496429,  0.97118989],\n",
              "        [-0.05315063,  1.11325034,  0.20286807,  1.31114808]]])"
            ]
          },
          "metadata": {
            "tags": []
          },
          "execution_count": 22
        }
      ]
    },
    {
      "metadata": {
        "id": "KfULi9N_XC_o",
        "colab_type": "text"
      },
      "cell_type": "markdown",
      "source": [
        "If a DataFrame or Panel contains homogeneously-typed data, the ndarray can actually be modified in-place, and the changes will be reflected in the data structure. For heterogeneous data (e.g. some of the DataFrame’s columns are not all the same dtype), this will not be the case. The values attribute itself, unlike the axis labels, cannot be assigned to."
      ]
    },
    {
      "metadata": {
        "id": "f6gCo2TYXC_p",
        "colab_type": "text"
      },
      "cell_type": "markdown",
      "source": [
        "**Note:** When working with heterogeneous data, the dtype of the resulting ndarray will be chosen to accommodate all of the data involved. For example, if strings are involved, the result will be of object dtype. If there are only floats and integers, the resulting array will be of float dtype."
      ]
    },
    {
      "metadata": {
        "id": "LlOeLKpUXC_p",
        "colab_type": "text"
      },
      "cell_type": "markdown",
      "source": [
        "## Accelerate operations"
      ]
    },
    {
      "metadata": {
        "id": "N17jov9TXC_q",
        "colab_type": "text"
      },
      "cell_type": "markdown",
      "source": [
        "pandas has support for accelerating certain types of binary numerical and boolean operations using the numexpr library (starting in 0.11.0) and the bottleneck libraries.\n",
        "\n",
        "These libraries are especially useful when dealing with large data sets, and provide large speedups. numexpr uses smart chunking, caching, and multiple cores. bottleneck is a set of specialized cython routines that are especially fast when dealing with arrays that have nans.\n",
        "\n",
        "Here is a sample (using 100 column x 100,000 row DataFrames):"
      ]
    },
    {
      "metadata": {
        "id": "Chb6ZfHfXC_q",
        "colab_type": "text"
      },
      "cell_type": "markdown",
      "source": [
        "<table border=\"1\" class=\"docutils\" align = \"left\">\n",
        "<colgroup>\n",
        "<col width=\"25%\" />\n",
        "<col width=\"25%\" />\n",
        "<col width=\"25%\" />\n",
        "<col width=\"25%\" />\n",
        "</colgroup>\n",
        "<thead valign=\"bottom\">\n",
        "<tr class=\"row-odd\"><th class=\"head\">Operation</th>\n",
        "<th class=\"head\">0.11.0 (ms)</th>\n",
        "<th class=\"head\">Prior Version (ms)</th>\n",
        "<th class=\"head\">Ratio to Prior</th>\n",
        "</tr>\n",
        "</thead>\n",
        "<tbody valign=\"top\">\n",
        "<tr class=\"row-even\"><td><tt class=\"docutils literal\"><span class=\"pre\">df1</span> <span class=\"pre\">&gt;</span> <span class=\"pre\">df2</span></tt></td>\n",
        "<td>13.32</td>\n",
        "<td>125.35</td>\n",
        "<td>0.1063</td>\n",
        "</tr>\n",
        "<tr class=\"row-odd\"><td><tt class=\"docutils literal\"><span class=\"pre\">df1</span> <span class=\"pre\">*</span> <span class=\"pre\">df2</span></tt></td>\n",
        "<td>21.71</td>\n",
        "<td>36.63</td>\n",
        "<td>0.5928</td>\n",
        "</tr>\n",
        "<tr class=\"row-even\"><td><tt class=\"docutils literal\"><span class=\"pre\">df1</span> <span class=\"pre\">+</span> <span class=\"pre\">df2</span></tt></td>\n",
        "<td>22.04</td>\n",
        "<td>36.50</td>\n",
        "<td>0.6039</td>\n",
        "</tr>\n",
        "</tbody>\n",
        "</table>"
      ]
    },
    {
      "metadata": {
        "id": "PErss2z-XC_q",
        "colab_type": "text"
      },
      "cell_type": "markdown",
      "source": [
        "You are highly encouraged to install both libraries. See the section Recommended Dependencies for more installation info."
      ]
    },
    {
      "metadata": {
        "id": "Chwij1VXXC_s",
        "colab_type": "text"
      },
      "cell_type": "markdown",
      "source": [
        "## Flexible binary operations"
      ]
    },
    {
      "metadata": {
        "id": "EFtiVjJpXC_t",
        "colab_type": "text"
      },
      "cell_type": "markdown",
      "source": [
        "With binary operations between pandas data structures, there are two key points of interest:\n",
        "\n",
        "* Broadcasting behavior between higher- (e.g. DataFrame) and lower-dimensional (e.g. Series) objects.\n",
        "* Missing data in computations\n",
        "\n",
        "We will demonstrate how to manage these issues independently, though they can be handled simultaneously."
      ]
    },
    {
      "metadata": {
        "id": "eTwVkAK2XC_t",
        "colab_type": "text"
      },
      "cell_type": "markdown",
      "source": [
        "### Matching / broadcasting behavior"
      ]
    },
    {
      "metadata": {
        "id": "hMgowCBtXC_u",
        "colab_type": "text"
      },
      "cell_type": "markdown",
      "source": [
        "DataFrame has the methods **add()**, **sub()**, **mul()**, **div()** and related functions **radd()**, **rsub()**, ... for carrying out binary operations. For broadcasting behavior, Series input is of primary interest. Using these functions, you can use to either match on the index or columns via the **axis** keyword:"
      ]
    },
    {
      "metadata": {
        "id": "vuH6rzt0XC_u",
        "colab_type": "code",
        "colab": {},
        "collapsed": true
      },
      "cell_type": "code",
      "source": [
        "df = pd.DataFrame({'one' : pd.Series(np.random.randn(3), index=['a', 'b', 'c']),\n",
        "                   'two' : pd.Series(np.random.randn(4), index=['a', 'b', 'c', 'd']),\n",
        "                   'three' : pd.Series(np.random.randn(3), index=['b', 'c', 'd'])})"
      ],
      "execution_count": 0,
      "outputs": []
    },
    {
      "metadata": {
        "id": "yymJPsO0XC_x",
        "colab_type": "code",
        "colab": {},
        "outputId": "a6758334-5737-4019-8e53-acb80429af08"
      },
      "cell_type": "code",
      "source": [
        "df"
      ],
      "execution_count": 0,
      "outputs": [
        {
          "output_type": "execute_result",
          "data": {
            "text/html": [
              "<div>\n",
              "<table border=\"1\" class=\"dataframe\">\n",
              "  <thead>\n",
              "    <tr style=\"text-align: right;\">\n",
              "      <th></th>\n",
              "      <th>one</th>\n",
              "      <th>three</th>\n",
              "      <th>two</th>\n",
              "    </tr>\n",
              "  </thead>\n",
              "  <tbody>\n",
              "    <tr>\n",
              "      <th>a</th>\n",
              "      <td>-0.648508</td>\n",
              "      <td>NaN</td>\n",
              "      <td>-1.060154</td>\n",
              "    </tr>\n",
              "    <tr>\n",
              "      <th>b</th>\n",
              "      <td>0.580513</td>\n",
              "      <td>-1.818959</td>\n",
              "      <td>-0.744376</td>\n",
              "    </tr>\n",
              "    <tr>\n",
              "      <th>c</th>\n",
              "      <td>0.935250</td>\n",
              "      <td>-0.932856</td>\n",
              "      <td>-1.752320</td>\n",
              "    </tr>\n",
              "    <tr>\n",
              "      <th>d</th>\n",
              "      <td>NaN</td>\n",
              "      <td>0.877767</td>\n",
              "      <td>-0.799884</td>\n",
              "    </tr>\n",
              "  </tbody>\n",
              "</table>\n",
              "</div>"
            ],
            "text/plain": [
              "        one     three       two\n",
              "a -0.648508       NaN -1.060154\n",
              "b  0.580513 -1.818959 -0.744376\n",
              "c  0.935250 -0.932856 -1.752320\n",
              "d       NaN  0.877767 -0.799884"
            ]
          },
          "metadata": {
            "tags": []
          },
          "execution_count": 24
        }
      ]
    },
    {
      "metadata": {
        "id": "uQMtfxoxXC_0",
        "colab_type": "code",
        "colab": {},
        "collapsed": true
      },
      "cell_type": "code",
      "source": [
        "row = df.ix[1]  # or df.iloc[1]"
      ],
      "execution_count": 0,
      "outputs": []
    },
    {
      "metadata": {
        "id": "4SsXG5TaXC_2",
        "colab_type": "code",
        "colab": {},
        "outputId": "f8ff480f-38c9-409a-ebc2-cbe6f975d060"
      },
      "cell_type": "code",
      "source": [
        "row"
      ],
      "execution_count": 0,
      "outputs": [
        {
          "output_type": "execute_result",
          "data": {
            "text/plain": [
              "one      0.580513\n",
              "three   -1.818959\n",
              "two     -0.744376\n",
              "Name: b, dtype: float64"
            ]
          },
          "metadata": {
            "tags": []
          },
          "execution_count": 44
        }
      ]
    },
    {
      "metadata": {
        "id": "xfOp4G1kXC_4",
        "colab_type": "code",
        "colab": {}
      },
      "cell_type": "code",
      "source": [
        "column = df['two'] # or df.loc[:,'two']"
      ],
      "execution_count": 0,
      "outputs": []
    },
    {
      "metadata": {
        "id": "BJ2ZEL5gXC_7",
        "colab_type": "code",
        "colab": {},
        "outputId": "4c97c173-dd86-4b76-d678-d256930f7dd8"
      },
      "cell_type": "code",
      "source": [
        "column"
      ],
      "execution_count": 0,
      "outputs": [
        {
          "output_type": "execute_result",
          "data": {
            "text/plain": [
              "a   -1.060154\n",
              "b   -0.744376\n",
              "c   -1.752320\n",
              "d   -0.799884\n",
              "Name: two, dtype: float64"
            ]
          },
          "metadata": {
            "tags": []
          },
          "execution_count": 50
        }
      ]
    },
    {
      "metadata": {
        "id": "9CZgiPnkXC_-",
        "colab_type": "code",
        "colab": {},
        "outputId": "f636209b-f37b-4d84-d401-193b62fec916"
      },
      "cell_type": "code",
      "source": [
        "df.sub(row, axis = 'columns') # or df.sub(row, axis = 1)"
      ],
      "execution_count": 0,
      "outputs": [
        {
          "output_type": "execute_result",
          "data": {
            "text/html": [
              "<div>\n",
              "<table border=\"1\" class=\"dataframe\">\n",
              "  <thead>\n",
              "    <tr style=\"text-align: right;\">\n",
              "      <th></th>\n",
              "      <th>one</th>\n",
              "      <th>three</th>\n",
              "      <th>two</th>\n",
              "    </tr>\n",
              "  </thead>\n",
              "  <tbody>\n",
              "    <tr>\n",
              "      <th>a</th>\n",
              "      <td>-1.229021</td>\n",
              "      <td>NaN</td>\n",
              "      <td>-0.315778</td>\n",
              "    </tr>\n",
              "    <tr>\n",
              "      <th>b</th>\n",
              "      <td>0.000000</td>\n",
              "      <td>0.000000</td>\n",
              "      <td>0.000000</td>\n",
              "    </tr>\n",
              "    <tr>\n",
              "      <th>c</th>\n",
              "      <td>0.354737</td>\n",
              "      <td>0.886103</td>\n",
              "      <td>-1.007944</td>\n",
              "    </tr>\n",
              "    <tr>\n",
              "      <th>d</th>\n",
              "      <td>NaN</td>\n",
              "      <td>2.696726</td>\n",
              "      <td>-0.055507</td>\n",
              "    </tr>\n",
              "  </tbody>\n",
              "</table>\n",
              "</div>"
            ],
            "text/plain": [
              "        one     three       two\n",
              "a -1.229021       NaN -0.315778\n",
              "b  0.000000  0.000000  0.000000\n",
              "c  0.354737  0.886103 -1.007944\n",
              "d       NaN  2.696726 -0.055507"
            ]
          },
          "metadata": {
            "tags": []
          },
          "execution_count": 54
        }
      ]
    },
    {
      "metadata": {
        "id": "4bDQuUjsXDAB",
        "colab_type": "code",
        "colab": {},
        "outputId": "c85ccc50-a3b9-4c09-b592-6ce03dad904f"
      },
      "cell_type": "code",
      "source": [
        "df.sub(column, axis='index') # or df.sub(column, axis=0)"
      ],
      "execution_count": 0,
      "outputs": [
        {
          "output_type": "execute_result",
          "data": {
            "text/html": [
              "<div>\n",
              "<table border=\"1\" class=\"dataframe\">\n",
              "  <thead>\n",
              "    <tr style=\"text-align: right;\">\n",
              "      <th></th>\n",
              "      <th>one</th>\n",
              "      <th>three</th>\n",
              "      <th>two</th>\n",
              "    </tr>\n",
              "  </thead>\n",
              "  <tbody>\n",
              "    <tr>\n",
              "      <th>a</th>\n",
              "      <td>0.411647</td>\n",
              "      <td>NaN</td>\n",
              "      <td>0.0</td>\n",
              "    </tr>\n",
              "    <tr>\n",
              "      <th>b</th>\n",
              "      <td>1.324889</td>\n",
              "      <td>-1.074582</td>\n",
              "      <td>0.0</td>\n",
              "    </tr>\n",
              "    <tr>\n",
              "      <th>c</th>\n",
              "      <td>2.687570</td>\n",
              "      <td>0.819464</td>\n",
              "      <td>0.0</td>\n",
              "    </tr>\n",
              "    <tr>\n",
              "      <th>d</th>\n",
              "      <td>NaN</td>\n",
              "      <td>1.677651</td>\n",
              "      <td>0.0</td>\n",
              "    </tr>\n",
              "  </tbody>\n",
              "</table>\n",
              "</div>"
            ],
            "text/plain": [
              "        one     three  two\n",
              "a  0.411647       NaN  0.0\n",
              "b  1.324889 -1.074582  0.0\n",
              "c  2.687570  0.819464  0.0\n",
              "d       NaN  1.677651  0.0"
            ]
          },
          "metadata": {
            "tags": []
          },
          "execution_count": 55
        }
      ]
    },
    {
      "metadata": {
        "id": "LpPYlOMRXDAF",
        "colab_type": "text"
      },
      "cell_type": "markdown",
      "source": [
        "Furthermore you can align a level of a multi-indexed DataFrame with a Series."
      ]
    },
    {
      "metadata": {
        "id": "1c5att9UXDAG",
        "colab_type": "code",
        "colab": {},
        "collapsed": true
      },
      "cell_type": "code",
      "source": [
        "dfmi = df.copy()"
      ],
      "execution_count": 0,
      "outputs": []
    },
    {
      "metadata": {
        "id": "HTjy-1UMXDAJ",
        "colab_type": "code",
        "colab": {},
        "collapsed": true
      },
      "cell_type": "code",
      "source": [
        "dfmi.index = pd.MultiIndex.from_tuples([(1,'a'),(1,'b'),(1,'c'),(2,'a')],\n",
        "                                       names=['first','second'])"
      ],
      "execution_count": 0,
      "outputs": []
    },
    {
      "metadata": {
        "id": "EimgvkzJXDAL",
        "colab_type": "code",
        "colab": {},
        "outputId": "dc1274e5-d599-405e-b94b-0a7db74a6626"
      },
      "cell_type": "code",
      "source": [
        "dfmi"
      ],
      "execution_count": 0,
      "outputs": [
        {
          "output_type": "execute_result",
          "data": {
            "text/html": [
              "<div>\n",
              "<table border=\"1\" class=\"dataframe\">\n",
              "  <thead>\n",
              "    <tr style=\"text-align: right;\">\n",
              "      <th></th>\n",
              "      <th></th>\n",
              "      <th>one</th>\n",
              "      <th>three</th>\n",
              "      <th>two</th>\n",
              "    </tr>\n",
              "    <tr>\n",
              "      <th>first</th>\n",
              "      <th>second</th>\n",
              "      <th></th>\n",
              "      <th></th>\n",
              "      <th></th>\n",
              "    </tr>\n",
              "  </thead>\n",
              "  <tbody>\n",
              "    <tr>\n",
              "      <th rowspan=\"3\" valign=\"top\">1</th>\n",
              "      <th>a</th>\n",
              "      <td>-0.648508</td>\n",
              "      <td>NaN</td>\n",
              "      <td>-1.060154</td>\n",
              "    </tr>\n",
              "    <tr>\n",
              "      <th>b</th>\n",
              "      <td>0.580513</td>\n",
              "      <td>-1.818959</td>\n",
              "      <td>-0.744376</td>\n",
              "    </tr>\n",
              "    <tr>\n",
              "      <th>c</th>\n",
              "      <td>0.935250</td>\n",
              "      <td>-0.932856</td>\n",
              "      <td>-1.752320</td>\n",
              "    </tr>\n",
              "    <tr>\n",
              "      <th>2</th>\n",
              "      <th>a</th>\n",
              "      <td>NaN</td>\n",
              "      <td>0.877767</td>\n",
              "      <td>-0.799884</td>\n",
              "    </tr>\n",
              "  </tbody>\n",
              "</table>\n",
              "</div>"
            ],
            "text/plain": [
              "                   one     three       two\n",
              "first second                              \n",
              "1     a      -0.648508       NaN -1.060154\n",
              "      b       0.580513 -1.818959 -0.744376\n",
              "      c       0.935250 -0.932856 -1.752320\n",
              "2     a            NaN  0.877767 -0.799884"
            ]
          },
          "metadata": {
            "tags": []
          },
          "execution_count": 58
        }
      ]
    },
    {
      "metadata": {
        "id": "zh110sfzXDAN",
        "colab_type": "code",
        "colab": {},
        "outputId": "3a9011e6-c8bf-43c3-cf68-26c7b2cb8150"
      },
      "cell_type": "code",
      "source": [
        "dfmi.sub(column, axis=0, level='second')"
      ],
      "execution_count": 0,
      "outputs": [
        {
          "output_type": "execute_result",
          "data": {
            "text/html": [
              "<div>\n",
              "<table border=\"1\" class=\"dataframe\">\n",
              "  <thead>\n",
              "    <tr style=\"text-align: right;\">\n",
              "      <th></th>\n",
              "      <th></th>\n",
              "      <th>one</th>\n",
              "      <th>three</th>\n",
              "      <th>two</th>\n",
              "    </tr>\n",
              "    <tr>\n",
              "      <th>first</th>\n",
              "      <th>second</th>\n",
              "      <th></th>\n",
              "      <th></th>\n",
              "      <th></th>\n",
              "    </tr>\n",
              "  </thead>\n",
              "  <tbody>\n",
              "    <tr>\n",
              "      <th rowspan=\"3\" valign=\"top\">1</th>\n",
              "      <th>a</th>\n",
              "      <td>0.411647</td>\n",
              "      <td>NaN</td>\n",
              "      <td>0.000000</td>\n",
              "    </tr>\n",
              "    <tr>\n",
              "      <th>b</th>\n",
              "      <td>1.324889</td>\n",
              "      <td>-1.074582</td>\n",
              "      <td>0.000000</td>\n",
              "    </tr>\n",
              "    <tr>\n",
              "      <th>c</th>\n",
              "      <td>2.687570</td>\n",
              "      <td>0.819464</td>\n",
              "      <td>0.000000</td>\n",
              "    </tr>\n",
              "    <tr>\n",
              "      <th>2</th>\n",
              "      <th>a</th>\n",
              "      <td>NaN</td>\n",
              "      <td>1.937922</td>\n",
              "      <td>0.260271</td>\n",
              "    </tr>\n",
              "  </tbody>\n",
              "</table>\n",
              "</div>"
            ],
            "text/plain": [
              "                   one     three       two\n",
              "first second                              \n",
              "1     a       0.411647       NaN  0.000000\n",
              "      b       1.324889 -1.074582  0.000000\n",
              "      c       2.687570  0.819464  0.000000\n",
              "2     a            NaN  1.937922  0.260271"
            ]
          },
          "metadata": {
            "tags": []
          },
          "execution_count": 59
        }
      ]
    },
    {
      "metadata": {
        "id": "17CnO4yJXDAP",
        "colab_type": "text"
      },
      "cell_type": "markdown",
      "source": [
        "### Missing data / operations with fill values"
      ]
    },
    {
      "metadata": {
        "id": "4NVufwwzXDAQ",
        "colab_type": "text"
      },
      "cell_type": "markdown",
      "source": [
        "In Series and DataFrame (though not yet in Panel), the arithmetic functions have the option of inputting a fill_value, namely a value to substitute when at most one of the values at a location are missing. For example, when adding two DataFrame objects, you may wish to treat NaN as 0 unless both DataFrames are missing that value, in which case the result will be NaN (you can later replace NaN with some other value using fillna if you wish)."
      ]
    },
    {
      "metadata": {
        "id": "c4oDzt4vXDAQ",
        "colab_type": "code",
        "colab": {},
        "outputId": "4eebfc87-a8bc-4cb5-853e-ee1dcea437be"
      },
      "cell_type": "code",
      "source": [
        "df"
      ],
      "execution_count": 0,
      "outputs": [
        {
          "output_type": "execute_result",
          "data": {
            "text/html": [
              "<div>\n",
              "<table border=\"1\" class=\"dataframe\">\n",
              "  <thead>\n",
              "    <tr style=\"text-align: right;\">\n",
              "      <th></th>\n",
              "      <th>one</th>\n",
              "      <th>three</th>\n",
              "      <th>two</th>\n",
              "    </tr>\n",
              "  </thead>\n",
              "  <tbody>\n",
              "    <tr>\n",
              "      <th>a</th>\n",
              "      <td>-0.648508</td>\n",
              "      <td>NaN</td>\n",
              "      <td>-1.060154</td>\n",
              "    </tr>\n",
              "    <tr>\n",
              "      <th>b</th>\n",
              "      <td>0.580513</td>\n",
              "      <td>-1.818959</td>\n",
              "      <td>-0.744376</td>\n",
              "    </tr>\n",
              "    <tr>\n",
              "      <th>c</th>\n",
              "      <td>0.935250</td>\n",
              "      <td>-0.932856</td>\n",
              "      <td>-1.752320</td>\n",
              "    </tr>\n",
              "    <tr>\n",
              "      <th>d</th>\n",
              "      <td>NaN</td>\n",
              "      <td>0.877767</td>\n",
              "      <td>-0.799884</td>\n",
              "    </tr>\n",
              "  </tbody>\n",
              "</table>\n",
              "</div>"
            ],
            "text/plain": [
              "        one     three       two\n",
              "a -0.648508       NaN -1.060154\n",
              "b  0.580513 -1.818959 -0.744376\n",
              "c  0.935250 -0.932856 -1.752320\n",
              "d       NaN  0.877767 -0.799884"
            ]
          },
          "metadata": {
            "tags": []
          },
          "execution_count": 60
        }
      ]
    },
    {
      "metadata": {
        "id": "p61dUDF2XDAT",
        "colab_type": "code",
        "colab": {}
      },
      "cell_type": "code",
      "source": [
        "df2 = df.fillna(0).copy()"
      ],
      "execution_count": 0,
      "outputs": []
    },
    {
      "metadata": {
        "id": "I969JrkHXDAX",
        "colab_type": "code",
        "colab": {},
        "outputId": "799bfe45-ecb7-4f46-eac1-70deb18cb04c"
      },
      "cell_type": "code",
      "source": [
        "df2"
      ],
      "execution_count": 0,
      "outputs": [
        {
          "output_type": "execute_result",
          "data": {
            "text/html": [
              "<div>\n",
              "<table border=\"1\" class=\"dataframe\">\n",
              "  <thead>\n",
              "    <tr style=\"text-align: right;\">\n",
              "      <th></th>\n",
              "      <th>one</th>\n",
              "      <th>three</th>\n",
              "      <th>two</th>\n",
              "    </tr>\n",
              "  </thead>\n",
              "  <tbody>\n",
              "    <tr>\n",
              "      <th>a</th>\n",
              "      <td>-0.648508</td>\n",
              "      <td>0.000000</td>\n",
              "      <td>-1.060154</td>\n",
              "    </tr>\n",
              "    <tr>\n",
              "      <th>b</th>\n",
              "      <td>0.580513</td>\n",
              "      <td>-1.818959</td>\n",
              "      <td>-0.744376</td>\n",
              "    </tr>\n",
              "    <tr>\n",
              "      <th>c</th>\n",
              "      <td>0.935250</td>\n",
              "      <td>-0.932856</td>\n",
              "      <td>-1.752320</td>\n",
              "    </tr>\n",
              "    <tr>\n",
              "      <th>d</th>\n",
              "      <td>0.000000</td>\n",
              "      <td>0.877767</td>\n",
              "      <td>-0.799884</td>\n",
              "    </tr>\n",
              "  </tbody>\n",
              "</table>\n",
              "</div>"
            ],
            "text/plain": [
              "        one     three       two\n",
              "a -0.648508  0.000000 -1.060154\n",
              "b  0.580513 -1.818959 -0.744376\n",
              "c  0.935250 -0.932856 -1.752320\n",
              "d  0.000000  0.877767 -0.799884"
            ]
          },
          "metadata": {
            "tags": []
          },
          "execution_count": 69
        }
      ]
    },
    {
      "metadata": {
        "id": "7rdDXa63XDAc",
        "colab_type": "code",
        "colab": {},
        "outputId": "e7ac6896-d828-4d99-dbd2-31b2a01b4969"
      },
      "cell_type": "code",
      "source": [
        "df + df2"
      ],
      "execution_count": 0,
      "outputs": [
        {
          "output_type": "execute_result",
          "data": {
            "text/html": [
              "<div>\n",
              "<table border=\"1\" class=\"dataframe\">\n",
              "  <thead>\n",
              "    <tr style=\"text-align: right;\">\n",
              "      <th></th>\n",
              "      <th>one</th>\n",
              "      <th>three</th>\n",
              "      <th>two</th>\n",
              "    </tr>\n",
              "  </thead>\n",
              "  <tbody>\n",
              "    <tr>\n",
              "      <th>a</th>\n",
              "      <td>-1.297016</td>\n",
              "      <td>NaN</td>\n",
              "      <td>-2.120309</td>\n",
              "    </tr>\n",
              "    <tr>\n",
              "      <th>b</th>\n",
              "      <td>1.161027</td>\n",
              "      <td>-3.637917</td>\n",
              "      <td>-1.488752</td>\n",
              "    </tr>\n",
              "    <tr>\n",
              "      <th>c</th>\n",
              "      <td>1.870501</td>\n",
              "      <td>-1.865712</td>\n",
              "      <td>-3.504640</td>\n",
              "    </tr>\n",
              "    <tr>\n",
              "      <th>d</th>\n",
              "      <td>NaN</td>\n",
              "      <td>1.755535</td>\n",
              "      <td>-1.599767</td>\n",
              "    </tr>\n",
              "  </tbody>\n",
              "</table>\n",
              "</div>"
            ],
            "text/plain": [
              "        one     three       two\n",
              "a -1.297016       NaN -2.120309\n",
              "b  1.161027 -3.637917 -1.488752\n",
              "c  1.870501 -1.865712 -3.504640\n",
              "d       NaN  1.755535 -1.599767"
            ]
          },
          "metadata": {
            "tags": []
          },
          "execution_count": 70
        }
      ]
    },
    {
      "metadata": {
        "id": "kfNkej5lXDAe",
        "colab_type": "code",
        "colab": {},
        "outputId": "44f9176c-8262-4e63-d4b8-8a86895b79f1"
      },
      "cell_type": "code",
      "source": [
        "df.add(df2, fill_value = 0)"
      ],
      "execution_count": 0,
      "outputs": [
        {
          "output_type": "execute_result",
          "data": {
            "text/html": [
              "<div>\n",
              "<table border=\"1\" class=\"dataframe\">\n",
              "  <thead>\n",
              "    <tr style=\"text-align: right;\">\n",
              "      <th></th>\n",
              "      <th>one</th>\n",
              "      <th>three</th>\n",
              "      <th>two</th>\n",
              "    </tr>\n",
              "  </thead>\n",
              "  <tbody>\n",
              "    <tr>\n",
              "      <th>a</th>\n",
              "      <td>-1.297016</td>\n",
              "      <td>0.000000</td>\n",
              "      <td>-2.120309</td>\n",
              "    </tr>\n",
              "    <tr>\n",
              "      <th>b</th>\n",
              "      <td>1.161027</td>\n",
              "      <td>-3.637917</td>\n",
              "      <td>-1.488752</td>\n",
              "    </tr>\n",
              "    <tr>\n",
              "      <th>c</th>\n",
              "      <td>1.870501</td>\n",
              "      <td>-1.865712</td>\n",
              "      <td>-3.504640</td>\n",
              "    </tr>\n",
              "    <tr>\n",
              "      <th>d</th>\n",
              "      <td>0.000000</td>\n",
              "      <td>1.755535</td>\n",
              "      <td>-1.599767</td>\n",
              "    </tr>\n",
              "  </tbody>\n",
              "</table>\n",
              "</div>"
            ],
            "text/plain": [
              "        one     three       two\n",
              "a -1.297016  0.000000 -2.120309\n",
              "b  1.161027 -3.637917 -1.488752\n",
              "c  1.870501 -1.865712 -3.504640\n",
              "d  0.000000  1.755535 -1.599767"
            ]
          },
          "metadata": {
            "tags": []
          },
          "execution_count": 71
        }
      ]
    },
    {
      "metadata": {
        "id": "7AZfwHjoXDAj",
        "colab_type": "text"
      },
      "cell_type": "markdown",
      "source": [
        "### Flexible Comparisons"
      ]
    },
    {
      "metadata": {
        "id": "SKHCA145XDAk",
        "colab_type": "text"
      },
      "cell_type": "markdown",
      "source": [
        "Starting in v0.8, pandas introduced binary comparison methods eq, ne, lt, gt, le, and ge to Series and DataFrame whose behavior is analogous to the binary arithmetic operations described above:"
      ]
    },
    {
      "metadata": {
        "id": "j06oiYWgXDAk",
        "colab_type": "code",
        "colab": {},
        "outputId": "1edc55b9-ea56-4ae5-ab68-7ca51b7955f3"
      },
      "cell_type": "code",
      "source": [
        "df2.gt(df)"
      ],
      "execution_count": 0,
      "outputs": [
        {
          "output_type": "execute_result",
          "data": {
            "text/html": [
              "<div>\n",
              "<table border=\"1\" class=\"dataframe\">\n",
              "  <thead>\n",
              "    <tr style=\"text-align: right;\">\n",
              "      <th></th>\n",
              "      <th>one</th>\n",
              "      <th>three</th>\n",
              "      <th>two</th>\n",
              "    </tr>\n",
              "  </thead>\n",
              "  <tbody>\n",
              "    <tr>\n",
              "      <th>a</th>\n",
              "      <td>False</td>\n",
              "      <td>False</td>\n",
              "      <td>False</td>\n",
              "    </tr>\n",
              "    <tr>\n",
              "      <th>b</th>\n",
              "      <td>False</td>\n",
              "      <td>False</td>\n",
              "      <td>False</td>\n",
              "    </tr>\n",
              "    <tr>\n",
              "      <th>c</th>\n",
              "      <td>False</td>\n",
              "      <td>False</td>\n",
              "      <td>False</td>\n",
              "    </tr>\n",
              "    <tr>\n",
              "      <th>d</th>\n",
              "      <td>False</td>\n",
              "      <td>False</td>\n",
              "      <td>False</td>\n",
              "    </tr>\n",
              "  </tbody>\n",
              "</table>\n",
              "</div>"
            ],
            "text/plain": [
              "     one  three    two\n",
              "a  False  False  False\n",
              "b  False  False  False\n",
              "c  False  False  False\n",
              "d  False  False  False"
            ]
          },
          "metadata": {
            "tags": []
          },
          "execution_count": 73
        }
      ]
    },
    {
      "metadata": {
        "id": "oEcbsFcPXDAm",
        "colab_type": "code",
        "colab": {},
        "outputId": "a2676101-a1d8-490e-eb8b-386b2cdcb929"
      },
      "cell_type": "code",
      "source": [
        "df2.ne(df)"
      ],
      "execution_count": 0,
      "outputs": [
        {
          "output_type": "execute_result",
          "data": {
            "text/html": [
              "<div>\n",
              "<table border=\"1\" class=\"dataframe\">\n",
              "  <thead>\n",
              "    <tr style=\"text-align: right;\">\n",
              "      <th></th>\n",
              "      <th>one</th>\n",
              "      <th>three</th>\n",
              "      <th>two</th>\n",
              "    </tr>\n",
              "  </thead>\n",
              "  <tbody>\n",
              "    <tr>\n",
              "      <th>a</th>\n",
              "      <td>False</td>\n",
              "      <td>True</td>\n",
              "      <td>False</td>\n",
              "    </tr>\n",
              "    <tr>\n",
              "      <th>b</th>\n",
              "      <td>False</td>\n",
              "      <td>False</td>\n",
              "      <td>False</td>\n",
              "    </tr>\n",
              "    <tr>\n",
              "      <th>c</th>\n",
              "      <td>False</td>\n",
              "      <td>False</td>\n",
              "      <td>False</td>\n",
              "    </tr>\n",
              "    <tr>\n",
              "      <th>d</th>\n",
              "      <td>True</td>\n",
              "      <td>False</td>\n",
              "      <td>False</td>\n",
              "    </tr>\n",
              "  </tbody>\n",
              "</table>\n",
              "</div>"
            ],
            "text/plain": [
              "     one  three    two\n",
              "a  False   True  False\n",
              "b  False  False  False\n",
              "c  False  False  False\n",
              "d   True  False  False"
            ]
          },
          "metadata": {
            "tags": []
          },
          "execution_count": 74
        }
      ]
    },
    {
      "metadata": {
        "id": "U4elL-XEXDAp",
        "colab_type": "text"
      },
      "cell_type": "markdown",
      "source": [
        "These operations produce a pandas object the same type as the left-hand-side input that if of dtype bool. These boolean objects can be used in indexing operations, see [here](http://pandas.pydata.org/pandas-docs/stable/indexing.html#indexing-boolean)"
      ]
    },
    {
      "metadata": {
        "id": "PKLoebqMXDAq",
        "colab_type": "text"
      },
      "cell_type": "markdown",
      "source": [
        "### Boolean Reductions"
      ]
    },
    {
      "metadata": {
        "id": "PBJSyMxAXDAq",
        "colab_type": "text"
      },
      "cell_type": "markdown",
      "source": [
        "You can apply the reductions: **empty**, **any()**, **all()**, and **bool()** to provide a way to summarize a boolean result."
      ]
    },
    {
      "metadata": {
        "id": "YbXBlCc2XDAq",
        "colab_type": "code",
        "colab": {},
        "outputId": "94691a66-bcdb-45c3-b561-86b3bf3c4b01"
      },
      "cell_type": "code",
      "source": [
        "(df > 0).all() #default is axis = \"index\" or 0"
      ],
      "execution_count": 0,
      "outputs": [
        {
          "output_type": "execute_result",
          "data": {
            "text/plain": [
              "one      False\n",
              "three    False\n",
              "two      False\n",
              "dtype: bool"
            ]
          },
          "metadata": {
            "tags": []
          },
          "execution_count": 81
        }
      ]
    },
    {
      "metadata": {
        "id": "ADcrtBJbXDAt",
        "colab_type": "code",
        "colab": {},
        "outputId": "40b6b074-ffb2-42a6-fd28-4141e4f7464d"
      },
      "cell_type": "code",
      "source": [
        "(df > 0).any()"
      ],
      "execution_count": 0,
      "outputs": [
        {
          "output_type": "execute_result",
          "data": {
            "text/plain": [
              "one       True\n",
              "three     True\n",
              "two      False\n",
              "dtype: bool"
            ]
          },
          "metadata": {
            "tags": []
          },
          "execution_count": 82
        }
      ]
    },
    {
      "metadata": {
        "id": "_ZcMPJdMXDAv",
        "colab_type": "text"
      },
      "cell_type": "markdown",
      "source": [
        "You can reduce to a final boolean value."
      ]
    },
    {
      "metadata": {
        "id": "RmUTvQc-XDAw",
        "colab_type": "code",
        "colab": {},
        "outputId": "30c1f309-2caf-4baf-887a-92237873fddc"
      },
      "cell_type": "code",
      "source": [
        "(df > 0).any().any()"
      ],
      "execution_count": 0,
      "outputs": [
        {
          "output_type": "execute_result",
          "data": {
            "text/plain": [
              "True"
            ]
          },
          "metadata": {
            "tags": []
          },
          "execution_count": 83
        }
      ]
    },
    {
      "metadata": {
        "id": "L2WOGszwXDAy",
        "colab_type": "text"
      },
      "cell_type": "markdown",
      "source": [
        "You can test if a pandas object is empty, via the **empty**\n",
        "property."
      ]
    },
    {
      "metadata": {
        "id": "I5LDHfRIXDAy",
        "colab_type": "code",
        "colab": {},
        "outputId": "f0c73a7e-b796-4d6d-fd7f-24e4f30c3c44"
      },
      "cell_type": "code",
      "source": [
        "df.empty"
      ],
      "execution_count": 0,
      "outputs": [
        {
          "output_type": "execute_result",
          "data": {
            "text/plain": [
              "False"
            ]
          },
          "metadata": {
            "tags": []
          },
          "execution_count": 84
        }
      ]
    },
    {
      "metadata": {
        "id": "SnWeZthMXDA0",
        "colab_type": "code",
        "colab": {},
        "outputId": "6f31eb9c-c4c1-425c-fbc8-c9a0dd0418aa"
      },
      "cell_type": "code",
      "source": [
        "pd.DataFrame(columns = list('ABC')).empty"
      ],
      "execution_count": 0,
      "outputs": [
        {
          "output_type": "execute_result",
          "data": {
            "text/plain": [
              "True"
            ]
          },
          "metadata": {
            "tags": []
          },
          "execution_count": 85
        }
      ]
    },
    {
      "metadata": {
        "id": "42FcrnAOXDA6",
        "colab_type": "text"
      },
      "cell_type": "markdown",
      "source": [
        "To evaluate single-element pandas objects in a boolean context, use the method **bool()**:"
      ]
    },
    {
      "metadata": {
        "id": "FZhJYMHXXDA6",
        "colab_type": "code",
        "colab": {},
        "outputId": "342b1b7b-27f7-4a1e-d9ec-854e3c7cfdfe"
      },
      "cell_type": "code",
      "source": [
        "pd.Series([True]).bool()"
      ],
      "execution_count": 0,
      "outputs": [
        {
          "output_type": "execute_result",
          "data": {
            "text/plain": [
              "True"
            ]
          },
          "metadata": {
            "tags": []
          },
          "execution_count": 86
        }
      ]
    },
    {
      "metadata": {
        "id": "KzlLSHd3XDA9",
        "colab_type": "code",
        "colab": {},
        "outputId": "750870c6-9c02-45d6-d8ca-3b3efd653f6b"
      },
      "cell_type": "code",
      "source": [
        "pd.Series([False]).bool()"
      ],
      "execution_count": 0,
      "outputs": [
        {
          "output_type": "execute_result",
          "data": {
            "text/plain": [
              "False"
            ]
          },
          "metadata": {
            "tags": []
          },
          "execution_count": 87
        }
      ]
    },
    {
      "metadata": {
        "id": "rQFSw4UoXDA_",
        "colab_type": "code",
        "colab": {},
        "outputId": "572c6de7-aab1-4d4e-9d69-59b41e0c205b"
      },
      "cell_type": "code",
      "source": [
        "pd.DataFrame([[True]])"
      ],
      "execution_count": 0,
      "outputs": [
        {
          "output_type": "execute_result",
          "data": {
            "text/html": [
              "<div>\n",
              "<table border=\"1\" class=\"dataframe\">\n",
              "  <thead>\n",
              "    <tr style=\"text-align: right;\">\n",
              "      <th></th>\n",
              "      <th>0</th>\n",
              "    </tr>\n",
              "  </thead>\n",
              "  <tbody>\n",
              "    <tr>\n",
              "      <th>0</th>\n",
              "      <td>True</td>\n",
              "    </tr>\n",
              "  </tbody>\n",
              "</table>\n",
              "</div>"
            ],
            "text/plain": [
              "      0\n",
              "0  True"
            ]
          },
          "metadata": {
            "tags": []
          },
          "execution_count": 88
        }
      ]
    },
    {
      "metadata": {
        "id": "HanOzJ8ZXDBB",
        "colab_type": "code",
        "colab": {},
        "outputId": "66f8c71f-aef0-4880-b453-36b0d5fe1fa9"
      },
      "cell_type": "code",
      "source": [
        "pd.DataFrame([[True]]).bool()"
      ],
      "execution_count": 0,
      "outputs": [
        {
          "output_type": "execute_result",
          "data": {
            "text/plain": [
              "True"
            ]
          },
          "metadata": {
            "tags": []
          },
          "execution_count": 90
        }
      ]
    },
    {
      "metadata": {
        "id": "W87QsWRtXDBC",
        "colab_type": "code",
        "colab": {},
        "outputId": "b4d2cbcc-d8f6-4889-b97e-79bbc80f011d"
      },
      "cell_type": "code",
      "source": [
        "pd.DataFrame([[False]]).bool()"
      ],
      "execution_count": 0,
      "outputs": [
        {
          "output_type": "execute_result",
          "data": {
            "text/plain": [
              "False"
            ]
          },
          "metadata": {
            "tags": []
          },
          "execution_count": 91
        }
      ]
    },
    {
      "metadata": {
        "id": "18szMKwIXDBE",
        "colab_type": "text"
      },
      "cell_type": "markdown",
      "source": [
        "Warning You might be tempted to do the following:\n",
        "    >>> if df:\n",
        "         ...\n",
        "\n",
        "Or\n",
        "\n",
        "    >>> df and df2\n",
        "\n",
        "These both will raise as you are trying to compare multiple values.\n",
        "\n",
        "    ValueError: The truth value of an array is ambiguous. Use a.empty, a.any() or a.all()."
      ]
    },
    {
      "metadata": {
        "id": "gIdKtQA3XDBE",
        "colab_type": "text"
      },
      "cell_type": "markdown",
      "source": [
        "See [gotchas](http://pandas.pydata.org/pandas-docs/stable/gotchas.html#gotchas-truth) for a more detailed discussion."
      ]
    },
    {
      "metadata": {
        "id": "KZnSGvMbXDBF",
        "colab_type": "text"
      },
      "cell_type": "markdown",
      "source": [
        "### Comparing if objects are equivalent"
      ]
    },
    {
      "metadata": {
        "id": "Ka65jU06XDBF",
        "colab_type": "text"
      },
      "cell_type": "markdown",
      "source": [
        "Often you may find there is more than one way to compute the same result. As a simple example, consider df+df and df*2. To test that these two computations produce the same result, given the tools shown above, you might imagine using (df+df == df*2).all(). But in fact, this expression is False:"
      ]
    },
    {
      "metadata": {
        "id": "b0eV7zZyXDBF",
        "colab_type": "code",
        "colab": {},
        "outputId": "c555b7ab-07ba-4d2b-c684-61cd5bfe3d9f"
      },
      "cell_type": "code",
      "source": [
        "df+df == df*2"
      ],
      "execution_count": 0,
      "outputs": [
        {
          "output_type": "execute_result",
          "data": {
            "text/html": [
              "<div>\n",
              "<table border=\"1\" class=\"dataframe\">\n",
              "  <thead>\n",
              "    <tr style=\"text-align: right;\">\n",
              "      <th></th>\n",
              "      <th>one</th>\n",
              "      <th>three</th>\n",
              "      <th>two</th>\n",
              "    </tr>\n",
              "  </thead>\n",
              "  <tbody>\n",
              "    <tr>\n",
              "      <th>a</th>\n",
              "      <td>True</td>\n",
              "      <td>False</td>\n",
              "      <td>True</td>\n",
              "    </tr>\n",
              "    <tr>\n",
              "      <th>b</th>\n",
              "      <td>True</td>\n",
              "      <td>True</td>\n",
              "      <td>True</td>\n",
              "    </tr>\n",
              "    <tr>\n",
              "      <th>c</th>\n",
              "      <td>True</td>\n",
              "      <td>True</td>\n",
              "      <td>True</td>\n",
              "    </tr>\n",
              "    <tr>\n",
              "      <th>d</th>\n",
              "      <td>False</td>\n",
              "      <td>True</td>\n",
              "      <td>True</td>\n",
              "    </tr>\n",
              "  </tbody>\n",
              "</table>\n",
              "</div>"
            ],
            "text/plain": [
              "     one  three   two\n",
              "a   True  False  True\n",
              "b   True   True  True\n",
              "c   True   True  True\n",
              "d  False   True  True"
            ]
          },
          "metadata": {
            "tags": []
          },
          "execution_count": 92
        }
      ]
    },
    {
      "metadata": {
        "id": "SD_rH9o4XDBH",
        "colab_type": "code",
        "colab": {},
        "outputId": "d6fa93e5-1801-4939-d821-97823492e197"
      },
      "cell_type": "code",
      "source": [
        "(df+df == df*2).all()"
      ],
      "execution_count": 0,
      "outputs": [
        {
          "output_type": "execute_result",
          "data": {
            "text/plain": [
              "one      False\n",
              "three    False\n",
              "two       True\n",
              "dtype: bool"
            ]
          },
          "metadata": {
            "tags": []
          },
          "execution_count": 98
        }
      ]
    },
    {
      "metadata": {
        "id": "xuYVkMOOXDBJ",
        "colab_type": "text"
      },
      "cell_type": "markdown",
      "source": [
        "Notice that the boolean DataFrame df+df == df*2 contains some False values! That is because NaNs do not compare as equals:"
      ]
    },
    {
      "metadata": {
        "id": "tk-DorVmXDBJ",
        "colab_type": "code",
        "colab": {},
        "outputId": "30cd353c-e33b-45ff-f9ed-9ccd5cbbe4e6"
      },
      "cell_type": "code",
      "source": [
        "np.nan == np.nan"
      ],
      "execution_count": 0,
      "outputs": [
        {
          "output_type": "execute_result",
          "data": {
            "text/plain": [
              "False"
            ]
          },
          "metadata": {
            "tags": []
          },
          "execution_count": 99
        }
      ]
    },
    {
      "metadata": {
        "id": "GEXGHfFYXDBL",
        "colab_type": "text"
      },
      "cell_type": "markdown",
      "source": [
        "So, as of v0.13.1, NDFrames (such as Series, DataFrames, and Panels) have an equals() method for testing equality, with NaNs in corresponding locations treated as equal."
      ]
    },
    {
      "metadata": {
        "id": "VsmBGPg7XDBL",
        "colab_type": "code",
        "colab": {},
        "outputId": "349344ab-0edf-439f-a083-8af7a80c1d77"
      },
      "cell_type": "code",
      "source": [
        "(df+df).equals(df*2)"
      ],
      "execution_count": 0,
      "outputs": [
        {
          "output_type": "execute_result",
          "data": {
            "text/plain": [
              "True"
            ]
          },
          "metadata": {
            "tags": []
          },
          "execution_count": 100
        }
      ]
    },
    {
      "metadata": {
        "id": "-YFj5YA0XDBM",
        "colab_type": "text"
      },
      "cell_type": "markdown",
      "source": [
        "Note that the Series or DataFrame index needs to be in the same order for equality to be True:"
      ]
    },
    {
      "metadata": {
        "id": "VyEcV0oQXDBN",
        "colab_type": "code",
        "colab": {},
        "collapsed": true
      },
      "cell_type": "code",
      "source": [
        "df1 = pd.DataFrame({'col':['foo', 0, np.nan]})"
      ],
      "execution_count": 0,
      "outputs": []
    },
    {
      "metadata": {
        "id": "NrNnr7YTXDBO",
        "colab_type": "code",
        "colab": {},
        "collapsed": true
      },
      "cell_type": "code",
      "source": [
        "df2 = pd.DataFrame({'col':[np.nan, 0, 'foo']}, index=[2,1,0])"
      ],
      "execution_count": 0,
      "outputs": []
    },
    {
      "metadata": {
        "id": "O-FCPUjKXDBQ",
        "colab_type": "code",
        "colab": {},
        "outputId": "b2b32474-2b79-4013-aa63-281c0ae72014"
      },
      "cell_type": "code",
      "source": [
        "df1"
      ],
      "execution_count": 0,
      "outputs": [
        {
          "output_type": "execute_result",
          "data": {
            "text/html": [
              "<div>\n",
              "<table border=\"1\" class=\"dataframe\">\n",
              "  <thead>\n",
              "    <tr style=\"text-align: right;\">\n",
              "      <th></th>\n",
              "      <th>col</th>\n",
              "    </tr>\n",
              "  </thead>\n",
              "  <tbody>\n",
              "    <tr>\n",
              "      <th>0</th>\n",
              "      <td>foo</td>\n",
              "    </tr>\n",
              "    <tr>\n",
              "      <th>1</th>\n",
              "      <td>0</td>\n",
              "    </tr>\n",
              "    <tr>\n",
              "      <th>2</th>\n",
              "      <td>NaN</td>\n",
              "    </tr>\n",
              "  </tbody>\n",
              "</table>\n",
              "</div>"
            ],
            "text/plain": [
              "   col\n",
              "0  foo\n",
              "1    0\n",
              "2  NaN"
            ]
          },
          "metadata": {
            "tags": []
          },
          "execution_count": 103
        }
      ]
    },
    {
      "metadata": {
        "id": "p0KepQXGXDBR",
        "colab_type": "code",
        "colab": {},
        "outputId": "6a0dc78b-44f1-410a-a483-46a24bcab6bc"
      },
      "cell_type": "code",
      "source": [
        "df2"
      ],
      "execution_count": 0,
      "outputs": [
        {
          "output_type": "execute_result",
          "data": {
            "text/html": [
              "<div>\n",
              "<table border=\"1\" class=\"dataframe\">\n",
              "  <thead>\n",
              "    <tr style=\"text-align: right;\">\n",
              "      <th></th>\n",
              "      <th>col</th>\n",
              "    </tr>\n",
              "  </thead>\n",
              "  <tbody>\n",
              "    <tr>\n",
              "      <th>2</th>\n",
              "      <td>NaN</td>\n",
              "    </tr>\n",
              "    <tr>\n",
              "      <th>1</th>\n",
              "      <td>0</td>\n",
              "    </tr>\n",
              "    <tr>\n",
              "      <th>0</th>\n",
              "      <td>foo</td>\n",
              "    </tr>\n",
              "  </tbody>\n",
              "</table>\n",
              "</div>"
            ],
            "text/plain": [
              "   col\n",
              "2  NaN\n",
              "1    0\n",
              "0  foo"
            ]
          },
          "metadata": {
            "tags": []
          },
          "execution_count": 104
        }
      ]
    },
    {
      "metadata": {
        "id": "iS_oidfoXDBT",
        "colab_type": "code",
        "colab": {},
        "outputId": "cc198db7-a9bb-4565-c13e-828ac4db97f3"
      },
      "cell_type": "code",
      "source": [
        "df1.equals(df2)"
      ],
      "execution_count": 0,
      "outputs": [
        {
          "output_type": "execute_result",
          "data": {
            "text/plain": [
              "False"
            ]
          },
          "metadata": {
            "tags": []
          },
          "execution_count": 105
        }
      ]
    },
    {
      "metadata": {
        "id": "1-nlPzlhXDBV",
        "colab_type": "code",
        "colab": {},
        "outputId": "7be92eea-adc8-49fe-ed7d-18bf3b29830f"
      },
      "cell_type": "code",
      "source": [
        "df1.equals(df2.sort_index())"
      ],
      "execution_count": 0,
      "outputs": [
        {
          "output_type": "execute_result",
          "data": {
            "text/plain": [
              "True"
            ]
          },
          "metadata": {
            "tags": []
          },
          "execution_count": 106
        }
      ]
    },
    {
      "metadata": {
        "id": "0rEPcmvSXDBY",
        "colab_type": "text"
      },
      "cell_type": "markdown",
      "source": [
        "### Comparing array-like objects"
      ]
    },
    {
      "metadata": {
        "id": "K2jeBaVnXDBY",
        "colab_type": "text"
      },
      "cell_type": "markdown",
      "source": [
        "You can conveniently do element-wise comparisons when comparing a pandas data structure with a scalar value"
      ]
    },
    {
      "metadata": {
        "id": "E9aGGvrdXDBZ",
        "colab_type": "code",
        "colab": {},
        "outputId": "553d415e-6644-4eec-bc4b-74127801fcee"
      },
      "cell_type": "code",
      "source": [
        "pd.Series(['foo', 'bar', 'baz']) == 'foo'"
      ],
      "execution_count": 0,
      "outputs": [
        {
          "output_type": "execute_result",
          "data": {
            "text/plain": [
              "0     True\n",
              "1    False\n",
              "2    False\n",
              "dtype: bool"
            ]
          },
          "metadata": {
            "tags": []
          },
          "execution_count": 107
        }
      ]
    },
    {
      "metadata": {
        "id": "4roPmvMoXDBe",
        "colab_type": "code",
        "colab": {},
        "outputId": "59d120e4-d010-4b0d-a343-df7acef04303"
      },
      "cell_type": "code",
      "source": [
        " pd.Index(['foo', 'bar', 'baz']) == 'foo'"
      ],
      "execution_count": 0,
      "outputs": [
        {
          "output_type": "execute_result",
          "data": {
            "text/plain": [
              "array([ True, False, False], dtype=bool)"
            ]
          },
          "metadata": {
            "tags": []
          },
          "execution_count": 108
        }
      ]
    },
    {
      "metadata": {
        "id": "2BM1Pl7YXDBf",
        "colab_type": "text"
      },
      "cell_type": "markdown",
      "source": [
        "Pandas also handles element-wise comparisons between different array-like objects of the same length:"
      ]
    },
    {
      "metadata": {
        "id": "vQk3Zde1XDBg",
        "colab_type": "code",
        "colab": {},
        "outputId": "b245fcb9-45e9-47f2-a716-670327a49ec9"
      },
      "cell_type": "code",
      "source": [
        "pd.Series(['foo', 'bar', 'baz']) == pd.Index(['foo', 'bar', 'qux'])"
      ],
      "execution_count": 0,
      "outputs": [
        {
          "output_type": "execute_result",
          "data": {
            "text/plain": [
              "0     True\n",
              "1     True\n",
              "2    False\n",
              "dtype: bool"
            ]
          },
          "metadata": {
            "tags": []
          },
          "execution_count": 109
        }
      ]
    },
    {
      "metadata": {
        "id": "I3LVMPEcXDBi",
        "colab_type": "code",
        "colab": {},
        "outputId": "6f61c909-5e36-4e9f-ef7c-1863663c3fa2"
      },
      "cell_type": "code",
      "source": [
        "pd.Series(['foo', 'bar', 'baz']) == np.array(['foo', 'bar', 'qux'])"
      ],
      "execution_count": 0,
      "outputs": [
        {
          "output_type": "execute_result",
          "data": {
            "text/plain": [
              "0     True\n",
              "1     True\n",
              "2    False\n",
              "dtype: bool"
            ]
          },
          "metadata": {
            "tags": []
          },
          "execution_count": 110
        }
      ]
    },
    {
      "metadata": {
        "id": "9AonEylXXDBj",
        "colab_type": "text"
      },
      "cell_type": "markdown",
      "source": [
        "Trying to compare Index or Series objects of different lengths will raise a ValueError:"
      ]
    },
    {
      "metadata": {
        "id": "-xeDMU5nXDBl",
        "colab_type": "code",
        "colab": {}
      },
      "cell_type": "code",
      "source": [
        "# pd.Series(['foo', 'bar', 'baz']) == pd.Series(['foo', 'bar'])\n",
        "# ValueError: Series lengths must match to compare"
      ],
      "execution_count": 0,
      "outputs": []
    },
    {
      "metadata": {
        "id": "VRqmFfi-XDBm",
        "colab_type": "text"
      },
      "cell_type": "markdown",
      "source": [
        "Note that this is different from the numpy behavior where a comparison can be broadcast:"
      ]
    },
    {
      "metadata": {
        "id": "TbjeSKkPXDBm",
        "colab_type": "code",
        "colab": {},
        "outputId": "24b75d34-abca-4ffd-ac4b-63331fabe59b"
      },
      "cell_type": "code",
      "source": [
        " np.array([1, 2, 3]) == np.array([2])"
      ],
      "execution_count": 0,
      "outputs": [
        {
          "output_type": "execute_result",
          "data": {
            "text/plain": [
              "array([False,  True, False], dtype=bool)"
            ]
          },
          "metadata": {
            "tags": []
          },
          "execution_count": 113
        }
      ]
    },
    {
      "metadata": {
        "id": "TlGarHHqXDBo",
        "colab_type": "text"
      },
      "cell_type": "markdown",
      "source": [
        "or it can return False if broadcasting can not be done:"
      ]
    },
    {
      "metadata": {
        "id": "NJ1rTFr3XDBp",
        "colab_type": "code",
        "colab": {},
        "outputId": "d83a31b3-e879-4392-f67f-18509c57f729"
      },
      "cell_type": "code",
      "source": [
        "np.array([1, 2, 3]) == np.array([1, 2])"
      ],
      "execution_count": 0,
      "outputs": [
        {
          "output_type": "stream",
          "text": [
            "C:\\Anaconda2\\lib\\site-packages\\ipykernel\\__main__.py:1: DeprecationWarning: elementwise == comparison failed; this will raise an error in the future.\n",
            "  if __name__ == '__main__':\n"
          ],
          "name": "stderr"
        },
        {
          "output_type": "execute_result",
          "data": {
            "text/plain": [
              "False"
            ]
          },
          "metadata": {
            "tags": []
          },
          "execution_count": 114
        }
      ]
    },
    {
      "metadata": {
        "id": "9g6xQhANXDBq",
        "colab_type": "text"
      },
      "cell_type": "markdown",
      "source": [
        "## Combining overlapping data sets"
      ]
    },
    {
      "metadata": {
        "id": "h49oTcodXDBq",
        "colab_type": "text"
      },
      "cell_type": "markdown",
      "source": [
        "A problem occasionally arising is the combination of two similar data sets where values in one are preferred over the other. An example would be two data series representing a particular economic indicator where one is considered to be of “higher quality”. However, the lower quality series might extend further back in history or have more complete data coverage. As such, we would like to combine two DataFrame objects where missing values in one DataFrame are conditionally filled with like-labeled values from the other DataFrame. The function implementing this operation is **combine_first()**, which we illustrate:"
      ]
    },
    {
      "metadata": {
        "id": "3yVzYJkaXDBq",
        "colab_type": "code",
        "colab": {},
        "collapsed": true
      },
      "cell_type": "code",
      "source": [
        "df1 = pd.DataFrame({'A' : [1., np.nan, 3., 5., np.nan],\n",
        "                    'B' : [np.nan, 2., 3., np.nan, 6.]})"
      ],
      "execution_count": 0,
      "outputs": []
    },
    {
      "metadata": {
        "id": "BywTw2vUXDBs",
        "colab_type": "code",
        "colab": {},
        "collapsed": true
      },
      "cell_type": "code",
      "source": [
        "df2 = pd.DataFrame({'A' : [5., 2., 4., np.nan, 3., 7.],\n",
        "                    'B' : [np.nan, np.nan, 3., 4., 6., 8.]})"
      ],
      "execution_count": 0,
      "outputs": []
    },
    {
      "metadata": {
        "id": "BCT6ky0fXDBu",
        "colab_type": "code",
        "colab": {},
        "outputId": "4db75895-6f43-476e-ddbc-1d66a46cd8cd"
      },
      "cell_type": "code",
      "source": [
        "df1"
      ],
      "execution_count": 0,
      "outputs": [
        {
          "output_type": "execute_result",
          "data": {
            "text/html": [
              "<div>\n",
              "<table border=\"1\" class=\"dataframe\">\n",
              "  <thead>\n",
              "    <tr style=\"text-align: right;\">\n",
              "      <th></th>\n",
              "      <th>A</th>\n",
              "      <th>B</th>\n",
              "    </tr>\n",
              "  </thead>\n",
              "  <tbody>\n",
              "    <tr>\n",
              "      <th>0</th>\n",
              "      <td>1.0</td>\n",
              "      <td>NaN</td>\n",
              "    </tr>\n",
              "    <tr>\n",
              "      <th>1</th>\n",
              "      <td>NaN</td>\n",
              "      <td>2.0</td>\n",
              "    </tr>\n",
              "    <tr>\n",
              "      <th>2</th>\n",
              "      <td>3.0</td>\n",
              "      <td>3.0</td>\n",
              "    </tr>\n",
              "    <tr>\n",
              "      <th>3</th>\n",
              "      <td>5.0</td>\n",
              "      <td>NaN</td>\n",
              "    </tr>\n",
              "    <tr>\n",
              "      <th>4</th>\n",
              "      <td>NaN</td>\n",
              "      <td>6.0</td>\n",
              "    </tr>\n",
              "  </tbody>\n",
              "</table>\n",
              "</div>"
            ],
            "text/plain": [
              "     A    B\n",
              "0  1.0  NaN\n",
              "1  NaN  2.0\n",
              "2  3.0  3.0\n",
              "3  5.0  NaN\n",
              "4  NaN  6.0"
            ]
          },
          "metadata": {
            "tags": []
          },
          "execution_count": 117
        }
      ]
    },
    {
      "metadata": {
        "id": "n9ZYzDONXDBv",
        "colab_type": "code",
        "colab": {},
        "outputId": "671505e6-7a08-4e98-93fe-63c43fdd6d2b"
      },
      "cell_type": "code",
      "source": [
        "df2"
      ],
      "execution_count": 0,
      "outputs": [
        {
          "output_type": "execute_result",
          "data": {
            "text/html": [
              "<div>\n",
              "<table border=\"1\" class=\"dataframe\">\n",
              "  <thead>\n",
              "    <tr style=\"text-align: right;\">\n",
              "      <th></th>\n",
              "      <th>A</th>\n",
              "      <th>B</th>\n",
              "    </tr>\n",
              "  </thead>\n",
              "  <tbody>\n",
              "    <tr>\n",
              "      <th>0</th>\n",
              "      <td>5.0</td>\n",
              "      <td>NaN</td>\n",
              "    </tr>\n",
              "    <tr>\n",
              "      <th>1</th>\n",
              "      <td>2.0</td>\n",
              "      <td>NaN</td>\n",
              "    </tr>\n",
              "    <tr>\n",
              "      <th>2</th>\n",
              "      <td>4.0</td>\n",
              "      <td>3.0</td>\n",
              "    </tr>\n",
              "    <tr>\n",
              "      <th>3</th>\n",
              "      <td>NaN</td>\n",
              "      <td>4.0</td>\n",
              "    </tr>\n",
              "    <tr>\n",
              "      <th>4</th>\n",
              "      <td>3.0</td>\n",
              "      <td>6.0</td>\n",
              "    </tr>\n",
              "    <tr>\n",
              "      <th>5</th>\n",
              "      <td>7.0</td>\n",
              "      <td>8.0</td>\n",
              "    </tr>\n",
              "  </tbody>\n",
              "</table>\n",
              "</div>"
            ],
            "text/plain": [
              "     A    B\n",
              "0  5.0  NaN\n",
              "1  2.0  NaN\n",
              "2  4.0  3.0\n",
              "3  NaN  4.0\n",
              "4  3.0  6.0\n",
              "5  7.0  8.0"
            ]
          },
          "metadata": {
            "tags": []
          },
          "execution_count": 118
        }
      ]
    },
    {
      "metadata": {
        "id": "NELPerCvXDBx",
        "colab_type": "code",
        "colab": {},
        "outputId": "b2de9c2a-c83f-4c44-e889-69db8b5c7fa7"
      },
      "cell_type": "code",
      "source": [
        "df1.combine_first(df2)"
      ],
      "execution_count": 0,
      "outputs": [
        {
          "output_type": "execute_result",
          "data": {
            "text/html": [
              "<div>\n",
              "<table border=\"1\" class=\"dataframe\">\n",
              "  <thead>\n",
              "    <tr style=\"text-align: right;\">\n",
              "      <th></th>\n",
              "      <th>A</th>\n",
              "      <th>B</th>\n",
              "    </tr>\n",
              "  </thead>\n",
              "  <tbody>\n",
              "    <tr>\n",
              "      <th>0</th>\n",
              "      <td>1.0</td>\n",
              "      <td>NaN</td>\n",
              "    </tr>\n",
              "    <tr>\n",
              "      <th>1</th>\n",
              "      <td>2.0</td>\n",
              "      <td>2.0</td>\n",
              "    </tr>\n",
              "    <tr>\n",
              "      <th>2</th>\n",
              "      <td>3.0</td>\n",
              "      <td>3.0</td>\n",
              "    </tr>\n",
              "    <tr>\n",
              "      <th>3</th>\n",
              "      <td>5.0</td>\n",
              "      <td>4.0</td>\n",
              "    </tr>\n",
              "    <tr>\n",
              "      <th>4</th>\n",
              "      <td>3.0</td>\n",
              "      <td>6.0</td>\n",
              "    </tr>\n",
              "    <tr>\n",
              "      <th>5</th>\n",
              "      <td>7.0</td>\n",
              "      <td>8.0</td>\n",
              "    </tr>\n",
              "  </tbody>\n",
              "</table>\n",
              "</div>"
            ],
            "text/plain": [
              "     A    B\n",
              "0  1.0  NaN\n",
              "1  2.0  2.0\n",
              "2  3.0  3.0\n",
              "3  5.0  4.0\n",
              "4  3.0  6.0\n",
              "5  7.0  8.0"
            ]
          },
          "metadata": {
            "tags": []
          },
          "execution_count": 119
        }
      ]
    },
    {
      "metadata": {
        "id": "tBYWthxuXDBy",
        "colab_type": "text"
      },
      "cell_type": "markdown",
      "source": [
        "### General DataFrame Combine"
      ]
    },
    {
      "metadata": {
        "id": "m7PJHVxRXDBz",
        "colab_type": "text"
      },
      "cell_type": "markdown",
      "source": [
        "The **combine_first()** method above calls the more general DataFrame method **combine()**. This method takes another DataFrame and a combiner function, aligns the input DataFrame and then passes the combiner function pairs of Series (i.e., columns whose names are the same).\n",
        "\n",
        "So, for instance, to reproduce **combine_first()** as above:"
      ]
    },
    {
      "metadata": {
        "id": "uVB-82kJXDBz",
        "colab_type": "code",
        "colab": {},
        "collapsed": true
      },
      "cell_type": "code",
      "source": [
        "combiner = lambda x, y: np.where(pd.isnull(x), y, x)"
      ],
      "execution_count": 0,
      "outputs": []
    },
    {
      "metadata": {
        "id": "NlXXome7XDB0",
        "colab_type": "code",
        "colab": {},
        "outputId": "a8fdc460-4ebb-40a3-8a03-112496b2dc5e"
      },
      "cell_type": "code",
      "source": [
        "combiner"
      ],
      "execution_count": 0,
      "outputs": [
        {
          "output_type": "execute_result",
          "data": {
            "text/plain": [
              "<function __main__.<lambda>>"
            ]
          },
          "metadata": {
            "tags": []
          },
          "execution_count": 121
        }
      ]
    },
    {
      "metadata": {
        "id": "uxrmim1wXDB2",
        "colab_type": "code",
        "colab": {},
        "outputId": "fcbfbf02-8cf6-449e-9c83-804541446ede"
      },
      "cell_type": "code",
      "source": [
        "df1.combine(df2, combiner)"
      ],
      "execution_count": 0,
      "outputs": [
        {
          "output_type": "execute_result",
          "data": {
            "text/html": [
              "<div>\n",
              "<table border=\"1\" class=\"dataframe\">\n",
              "  <thead>\n",
              "    <tr style=\"text-align: right;\">\n",
              "      <th></th>\n",
              "      <th>A</th>\n",
              "      <th>B</th>\n",
              "    </tr>\n",
              "  </thead>\n",
              "  <tbody>\n",
              "    <tr>\n",
              "      <th>0</th>\n",
              "      <td>1.0</td>\n",
              "      <td>NaN</td>\n",
              "    </tr>\n",
              "    <tr>\n",
              "      <th>1</th>\n",
              "      <td>2.0</td>\n",
              "      <td>2.0</td>\n",
              "    </tr>\n",
              "    <tr>\n",
              "      <th>2</th>\n",
              "      <td>3.0</td>\n",
              "      <td>3.0</td>\n",
              "    </tr>\n",
              "    <tr>\n",
              "      <th>3</th>\n",
              "      <td>5.0</td>\n",
              "      <td>4.0</td>\n",
              "    </tr>\n",
              "    <tr>\n",
              "      <th>4</th>\n",
              "      <td>3.0</td>\n",
              "      <td>6.0</td>\n",
              "    </tr>\n",
              "    <tr>\n",
              "      <th>5</th>\n",
              "      <td>7.0</td>\n",
              "      <td>8.0</td>\n",
              "    </tr>\n",
              "  </tbody>\n",
              "</table>\n",
              "</div>"
            ],
            "text/plain": [
              "     A    B\n",
              "0  1.0  NaN\n",
              "1  2.0  2.0\n",
              "2  3.0  3.0\n",
              "3  5.0  4.0\n",
              "4  3.0  6.0\n",
              "5  7.0  8.0"
            ]
          },
          "metadata": {
            "tags": []
          },
          "execution_count": 122
        }
      ]
    },
    {
      "metadata": {
        "id": "FjqHBjQOXDB5",
        "colab_type": "text"
      },
      "cell_type": "markdown",
      "source": [
        "## Descriptive statistics"
      ]
    },
    {
      "metadata": {
        "id": "lpb207uFXDB5",
        "colab_type": "text"
      },
      "cell_type": "markdown",
      "source": [
        "A large number of methods for computing descriptive statistics and other related operations on Series, DataFrame, and Panel. Most of these are aggregations (hence producing a lower-dimensional result) like **sum()**, **mean()**, and **quantile()**, but some of them, like **cumsum()** and **cumprod()**, produce an object of the same size. Generally speaking, these methods take an **axis** argument, just like ndarray.{sum, std, ...}, but the axis can be specified by name or integer:\n",
        "\n",
        "* **Series**: no axis argument needed\n",
        "* **DataFrame**: “index” (axis=0, default), “columns” (axis=1)\n",
        "* **Panel**: “items” (axis=0), “major” (axis=1, default), “minor” (axis=2)\n",
        "\n",
        "For example:"
      ]
    },
    {
      "metadata": {
        "id": "l7rQd0ZrXDB5",
        "colab_type": "code",
        "colab": {},
        "outputId": "570d0bcc-8693-4524-cdef-c0f73c5f11f3"
      },
      "cell_type": "code",
      "source": [
        "df"
      ],
      "execution_count": 0,
      "outputs": [
        {
          "output_type": "execute_result",
          "data": {
            "text/html": [
              "<div>\n",
              "<table border=\"1\" class=\"dataframe\">\n",
              "  <thead>\n",
              "    <tr style=\"text-align: right;\">\n",
              "      <th></th>\n",
              "      <th>one</th>\n",
              "      <th>three</th>\n",
              "      <th>two</th>\n",
              "    </tr>\n",
              "  </thead>\n",
              "  <tbody>\n",
              "    <tr>\n",
              "      <th>a</th>\n",
              "      <td>-0.648508</td>\n",
              "      <td>NaN</td>\n",
              "      <td>-1.060154</td>\n",
              "    </tr>\n",
              "    <tr>\n",
              "      <th>b</th>\n",
              "      <td>0.580513</td>\n",
              "      <td>-1.818959</td>\n",
              "      <td>-0.744376</td>\n",
              "    </tr>\n",
              "    <tr>\n",
              "      <th>c</th>\n",
              "      <td>0.935250</td>\n",
              "      <td>-0.932856</td>\n",
              "      <td>-1.752320</td>\n",
              "    </tr>\n",
              "    <tr>\n",
              "      <th>d</th>\n",
              "      <td>NaN</td>\n",
              "      <td>0.877767</td>\n",
              "      <td>-0.799884</td>\n",
              "    </tr>\n",
              "  </tbody>\n",
              "</table>\n",
              "</div>"
            ],
            "text/plain": [
              "        one     three       two\n",
              "a -0.648508       NaN -1.060154\n",
              "b  0.580513 -1.818959 -0.744376\n",
              "c  0.935250 -0.932856 -1.752320\n",
              "d       NaN  0.877767 -0.799884"
            ]
          },
          "metadata": {
            "tags": []
          },
          "execution_count": 123
        }
      ]
    },
    {
      "metadata": {
        "id": "YQpQbFzTXDB7",
        "colab_type": "code",
        "colab": {},
        "outputId": "0be3206f-c56a-4b55-a45d-903f9f56f26e"
      },
      "cell_type": "code",
      "source": [
        "df.mean() #or df.mean(0)"
      ],
      "execution_count": 0,
      "outputs": [
        {
          "output_type": "execute_result",
          "data": {
            "text/plain": [
              "one      0.289085\n",
              "three   -0.624682\n",
              "two     -1.089184\n",
              "dtype: float64"
            ]
          },
          "metadata": {
            "tags": []
          },
          "execution_count": 128
        }
      ]
    },
    {
      "metadata": {
        "id": "9MgS0W3nXDB8",
        "colab_type": "code",
        "colab": {},
        "outputId": "6f4612b0-a38f-4e9c-a0f4-2ba8e9e27e01"
      },
      "cell_type": "code",
      "source": [
        "df.mean(1) #or df.mean(axis = 1 or \"columns\")"
      ],
      "execution_count": 0,
      "outputs": [
        {
          "output_type": "execute_result",
          "data": {
            "text/plain": [
              "a   -0.854331\n",
              "b   -0.660940\n",
              "c   -0.583309\n",
              "d    0.038942\n",
              "dtype: float64"
            ]
          },
          "metadata": {
            "tags": []
          },
          "execution_count": 132
        }
      ]
    },
    {
      "metadata": {
        "id": "OSF6-BpdXDB-",
        "colab_type": "text"
      },
      "cell_type": "markdown",
      "source": [
        "All such methods have a skipna option signaling whether to exclude missing data (True by default):"
      ]
    },
    {
      "metadata": {
        "id": "EdxHlVRjXDB_",
        "colab_type": "code",
        "colab": {},
        "outputId": "0376078e-8207-4b5b-8014-6d42b6880fd0"
      },
      "cell_type": "code",
      "source": [
        "df.sum(0, skipna = False)"
      ],
      "execution_count": 0,
      "outputs": [
        {
          "output_type": "execute_result",
          "data": {
            "text/plain": [
              "one           NaN\n",
              "three         NaN\n",
              "two     -4.356734\n",
              "dtype: float64"
            ]
          },
          "metadata": {
            "tags": []
          },
          "execution_count": 134
        }
      ]
    },
    {
      "metadata": {
        "id": "i9AdD-S-XDCB",
        "colab_type": "code",
        "colab": {},
        "outputId": "9b602d10-3f6f-4e4b-de0f-77aec677b204"
      },
      "cell_type": "code",
      "source": [
        "df.sum(axis=1, skipna=True)"
      ],
      "execution_count": 0,
      "outputs": [
        {
          "output_type": "execute_result",
          "data": {
            "text/plain": [
              "a   -1.708662\n",
              "b   -1.982821\n",
              "c   -1.749926\n",
              "d    0.077884\n",
              "dtype: float64"
            ]
          },
          "metadata": {
            "tags": []
          },
          "execution_count": 135
        }
      ]
    },
    {
      "metadata": {
        "id": "7EKMU5O0XDCC",
        "colab_type": "text"
      },
      "cell_type": "markdown",
      "source": [
        "Combined with the broadcasting / arithmetic behavior, one can describe various statistical procedures, like standardization (rendering data zero mean and standard deviation 1), very concisely:"
      ]
    },
    {
      "metadata": {
        "id": "Qk2Q_qG3XDCC",
        "colab_type": "code",
        "colab": {},
        "collapsed": true
      },
      "cell_type": "code",
      "source": [
        "ts_stand = (df - df.mean()) / df.std()"
      ],
      "execution_count": 0,
      "outputs": []
    },
    {
      "metadata": {
        "id": "nuQMTt8-XDCE",
        "colab_type": "code",
        "colab": {},
        "outputId": "acf83e11-bf16-4364-ec59-b4e5906c3eea"
      },
      "cell_type": "code",
      "source": [
        "ts_stand"
      ],
      "execution_count": 0,
      "outputs": [
        {
          "output_type": "execute_result",
          "data": {
            "text/html": [
              "<div>\n",
              "<table border=\"1\" class=\"dataframe\">\n",
              "  <thead>\n",
              "    <tr style=\"text-align: right;\">\n",
              "      <th></th>\n",
              "      <th>one</th>\n",
              "      <th>three</th>\n",
              "      <th>two</th>\n",
              "    </tr>\n",
              "  </thead>\n",
              "  <tbody>\n",
              "    <tr>\n",
              "      <th>a</th>\n",
              "      <td>-1.128100</td>\n",
              "      <td>NaN</td>\n",
              "      <td>0.062694</td>\n",
              "    </tr>\n",
              "    <tr>\n",
              "      <th>b</th>\n",
              "      <td>0.350642</td>\n",
              "      <td>-0.868867</td>\n",
              "      <td>0.744683</td>\n",
              "    </tr>\n",
              "    <tr>\n",
              "      <th>c</th>\n",
              "      <td>0.777458</td>\n",
              "      <td>-0.224204</td>\n",
              "      <td>-1.432180</td>\n",
              "    </tr>\n",
              "    <tr>\n",
              "      <th>d</th>\n",
              "      <td>NaN</td>\n",
              "      <td>1.093071</td>\n",
              "      <td>0.624803</td>\n",
              "    </tr>\n",
              "  </tbody>\n",
              "</table>\n",
              "</div>"
            ],
            "text/plain": [
              "        one     three       two\n",
              "a -1.128100       NaN  0.062694\n",
              "b  0.350642 -0.868867  0.744683\n",
              "c  0.777458 -0.224204 -1.432180\n",
              "d       NaN  1.093071  0.624803"
            ]
          },
          "metadata": {
            "tags": []
          },
          "execution_count": 137
        }
      ]
    },
    {
      "metadata": {
        "id": "wu8cwTGQXDCG",
        "colab_type": "code",
        "colab": {},
        "outputId": "fbb66167-1954-4507-a655-30b293b17389"
      },
      "cell_type": "code",
      "source": [
        "ts_stand.std()"
      ],
      "execution_count": 0,
      "outputs": [
        {
          "output_type": "execute_result",
          "data": {
            "text/plain": [
              "one      1.0\n",
              "three    1.0\n",
              "two      1.0\n",
              "dtype: float64"
            ]
          },
          "metadata": {
            "tags": []
          },
          "execution_count": 138
        }
      ]
    },
    {
      "metadata": {
        "id": "jw-vctH_XDCH",
        "colab_type": "code",
        "colab": {},
        "collapsed": true
      },
      "cell_type": "code",
      "source": [
        " xs_stand = df.sub(df.mean(1), axis=0).div(df.std(1), axis=0)"
      ],
      "execution_count": 0,
      "outputs": []
    },
    {
      "metadata": {
        "id": "-cZwBgaHXDCJ",
        "colab_type": "code",
        "colab": {},
        "outputId": "32fe2f80-6760-4147-9b2a-51aeb1cc5583"
      },
      "cell_type": "code",
      "source": [
        "xs_stand.std(1)"
      ],
      "execution_count": 0,
      "outputs": [
        {
          "output_type": "execute_result",
          "data": {
            "text/plain": [
              "a    1.0\n",
              "b    1.0\n",
              "c    1.0\n",
              "d    1.0\n",
              "dtype: float64"
            ]
          },
          "metadata": {
            "tags": []
          },
          "execution_count": 142
        }
      ]
    },
    {
      "metadata": {
        "id": "Q92goLkBXDCL",
        "colab_type": "text"
      },
      "cell_type": "markdown",
      "source": [
        "Note that methods like **cumsum()** and **cumprod()** preserve the location of NA values:"
      ]
    },
    {
      "metadata": {
        "id": "co5qM_V6XDCM",
        "colab_type": "code",
        "colab": {},
        "outputId": "e368fde0-cb26-4e2d-a84d-b695cfb0d700"
      },
      "cell_type": "code",
      "source": [
        "df.cumsum()"
      ],
      "execution_count": 0,
      "outputs": [
        {
          "output_type": "execute_result",
          "data": {
            "text/html": [
              "<div>\n",
              "<table border=\"1\" class=\"dataframe\">\n",
              "  <thead>\n",
              "    <tr style=\"text-align: right;\">\n",
              "      <th></th>\n",
              "      <th>one</th>\n",
              "      <th>three</th>\n",
              "      <th>two</th>\n",
              "    </tr>\n",
              "  </thead>\n",
              "  <tbody>\n",
              "    <tr>\n",
              "      <th>a</th>\n",
              "      <td>-0.648508</td>\n",
              "      <td>NaN</td>\n",
              "      <td>-1.060154</td>\n",
              "    </tr>\n",
              "    <tr>\n",
              "      <th>b</th>\n",
              "      <td>-0.067994</td>\n",
              "      <td>-1.818959</td>\n",
              "      <td>-1.804531</td>\n",
              "    </tr>\n",
              "    <tr>\n",
              "      <th>c</th>\n",
              "      <td>0.867256</td>\n",
              "      <td>-2.751814</td>\n",
              "      <td>-3.556851</td>\n",
              "    </tr>\n",
              "    <tr>\n",
              "      <th>d</th>\n",
              "      <td>NaN</td>\n",
              "      <td>-1.874047</td>\n",
              "      <td>-4.356734</td>\n",
              "    </tr>\n",
              "  </tbody>\n",
              "</table>\n",
              "</div>"
            ],
            "text/plain": [
              "        one     three       two\n",
              "a -0.648508       NaN -1.060154\n",
              "b -0.067994 -1.818959 -1.804531\n",
              "c  0.867256 -2.751814 -3.556851\n",
              "d       NaN -1.874047 -4.356734"
            ]
          },
          "metadata": {
            "tags": []
          },
          "execution_count": 143
        }
      ]
    },
    {
      "metadata": {
        "id": "ndwPSl5lXDCN",
        "colab_type": "text"
      },
      "cell_type": "markdown",
      "source": [
        "Here is a quick reference summary table of common functions. Each also takes an optional level parameter which applies only if the object has a [hierarchical index](http://pandas.pydata.org/pandas-docs/stable/advanced.html#advanced-hierarchical)."
      ]
    },
    {
      "metadata": {
        "id": "05c0wu4eXDCO",
        "colab_type": "text"
      },
      "cell_type": "markdown",
      "source": [
        "<table border=\"1\" class=\"docutils\" align = \"left\">\n",
        "<colgroup>\n",
        "<col width=\"20%\" />\n",
        "<col width=\"80%\" />\n",
        "</colgroup>\n",
        "<thead valign=\"bottom\">\n",
        "<tr class=\"row-odd\"><th class=\"head\">Function</th>\n",
        "<th class=\"head\">Description</th>\n",
        "</tr>\n",
        "</thead>\n",
        "<tbody valign=\"top\">\n",
        "<tr class=\"row-even\"><td><tt class=\"docutils literal\"><span class=\"pre\">count</span></tt></td>\n",
        "<td>Number of non-null observations</td>\n",
        "</tr>\n",
        "<tr class=\"row-odd\"><td><tt class=\"docutils literal\"><span class=\"pre\">sum</span></tt></td>\n",
        "<td>Sum of values</td>\n",
        "</tr>\n",
        "<tr class=\"row-even\"><td><tt class=\"docutils literal\"><span class=\"pre\">mean</span></tt></td>\n",
        "<td>Mean of values</td>\n",
        "</tr>\n",
        "<tr class=\"row-odd\"><td><tt class=\"docutils literal\"><span class=\"pre\">mad</span></tt></td>\n",
        "<td>Mean absolute deviation</td>\n",
        "</tr>\n",
        "<tr class=\"row-even\"><td><tt class=\"docutils literal\"><span class=\"pre\">median</span></tt></td>\n",
        "<td>Arithmetic median of values</td>\n",
        "</tr>\n",
        "<tr class=\"row-odd\"><td><tt class=\"docutils literal\"><span class=\"pre\">min</span></tt></td>\n",
        "<td>Minimum</td>\n",
        "</tr>\n",
        "<tr class=\"row-even\"><td><tt class=\"docutils literal\"><span class=\"pre\">max</span></tt></td>\n",
        "<td>Maximum</td>\n",
        "</tr>\n",
        "<tr class=\"row-odd\"><td><tt class=\"docutils literal\"><span class=\"pre\">mode</span></tt></td>\n",
        "<td>Mode</td>\n",
        "</tr>\n",
        "<tr class=\"row-even\"><td><tt class=\"docutils literal\"><span class=\"pre\">abs</span></tt></td>\n",
        "<td>Absolute Value</td>\n",
        "</tr>\n",
        "<tr class=\"row-odd\"><td><tt class=\"docutils literal\"><span class=\"pre\">prod</span></tt></td>\n",
        "<td>Product of values</td>\n",
        "</tr>\n",
        "<tr class=\"row-even\"><td><tt class=\"docutils literal\"><span class=\"pre\">std</span></tt></td>\n",
        "<td>Bessel-corrected sample standard deviation</td>\n",
        "</tr>\n",
        "<tr class=\"row-odd\"><td><tt class=\"docutils literal\"><span class=\"pre\">var</span></tt></td>\n",
        "<td>Unbiased variance</td>\n",
        "</tr>\n",
        "<tr class=\"row-even\"><td><tt class=\"docutils literal\"><span class=\"pre\">sem</span></tt></td>\n",
        "<td>Standard error of the mean</td>\n",
        "</tr>\n",
        "<tr class=\"row-odd\"><td><tt class=\"docutils literal\"><span class=\"pre\">skew</span></tt></td>\n",
        "<td>Sample skewness (3rd moment)</td>\n",
        "</tr>\n",
        "<tr class=\"row-even\"><td><tt class=\"docutils literal\"><span class=\"pre\">kurt</span></tt></td>\n",
        "<td>Sample kurtosis (4th moment)</td>\n",
        "</tr>\n",
        "<tr class=\"row-odd\"><td><tt class=\"docutils literal\"><span class=\"pre\">quantile</span></tt></td>\n",
        "<td>Sample quantile (value at %)</td>\n",
        "</tr>\n",
        "<tr class=\"row-even\"><td><tt class=\"docutils literal\"><span class=\"pre\">cumsum</span></tt></td>\n",
        "<td>Cumulative sum</td>\n",
        "</tr>\n",
        "<tr class=\"row-odd\"><td><tt class=\"docutils literal\"><span class=\"pre\">cumprod</span></tt></td>\n",
        "<td>Cumulative product</td>\n",
        "</tr>\n",
        "<tr class=\"row-even\"><td><tt class=\"docutils literal\"><span class=\"pre\">cummax</span></tt></td>\n",
        "<td>Cumulative maximum</td>\n",
        "</tr>\n",
        "<tr class=\"row-odd\"><td><tt class=\"docutils literal\"><span class=\"pre\">cummin</span></tt></td>\n",
        "<td>Cumulative minimum</td>\n",
        "</tr>\n",
        "</tbody>\n",
        "</table>"
      ]
    },
    {
      "metadata": {
        "id": "soARrgyFXDCO",
        "colab_type": "text"
      },
      "cell_type": "markdown",
      "source": [
        "Note that by chance some NumPy methods, like mean, std, and sum, will exclude NAs on Series input by default:"
      ]
    },
    {
      "metadata": {
        "id": "RtGplr8qXDCO",
        "colab_type": "code",
        "colab": {},
        "outputId": "bc4a31c8-572f-465b-9528-0b10ec71983f"
      },
      "cell_type": "code",
      "source": [
        "np.mean(df['one'])"
      ],
      "execution_count": 0,
      "outputs": [
        {
          "output_type": "execute_result",
          "data": {
            "text/plain": [
              "0.2890852514985352"
            ]
          },
          "metadata": {
            "tags": []
          },
          "execution_count": 144
        }
      ]
    },
    {
      "metadata": {
        "id": "vkr0DE6sXDCQ",
        "colab_type": "code",
        "colab": {},
        "outputId": "13e7affc-b6da-477f-9354-8ded01ae5e7a"
      },
      "cell_type": "code",
      "source": [
        "np.mean(df['one'].values)"
      ],
      "execution_count": 0,
      "outputs": [
        {
          "output_type": "execute_result",
          "data": {
            "text/plain": [
              "nan"
            ]
          },
          "metadata": {
            "tags": []
          },
          "execution_count": 145
        }
      ]
    },
    {
      "metadata": {
        "id": "RVDLZpRyXDCS",
        "colab_type": "text"
      },
      "cell_type": "markdown",
      "source": [
        "Series also has a method **nunique()** which will return the number of unique non-null values:"
      ]
    },
    {
      "metadata": {
        "id": "cOtEk4b0XDCT",
        "colab_type": "code",
        "colab": {},
        "collapsed": true
      },
      "cell_type": "code",
      "source": [
        "series = pd.Series(np.random.randn(500))"
      ],
      "execution_count": 0,
      "outputs": []
    },
    {
      "metadata": {
        "id": "aecCdGVcXDCU",
        "colab_type": "code",
        "colab": {},
        "collapsed": true
      },
      "cell_type": "code",
      "source": [
        "series[20:500] = np.nan"
      ],
      "execution_count": 0,
      "outputs": []
    },
    {
      "metadata": {
        "id": "PCr5RQOYXDCV",
        "colab_type": "code",
        "colab": {},
        "collapsed": true
      },
      "cell_type": "code",
      "source": [
        "series[10:20]  = 5"
      ],
      "execution_count": 0,
      "outputs": []
    },
    {
      "metadata": {
        "id": "XmuM_X_5XDCW",
        "colab_type": "code",
        "colab": {},
        "outputId": "f11008a7-5069-4824-ffcc-83c75510209b"
      },
      "cell_type": "code",
      "source": [
        "series.nunique()"
      ],
      "execution_count": 0,
      "outputs": [
        {
          "output_type": "execute_result",
          "data": {
            "text/plain": [
              "11"
            ]
          },
          "metadata": {
            "tags": []
          },
          "execution_count": 150
        }
      ]
    },
    {
      "metadata": {
        "id": "SXBYw79SXDCb",
        "colab_type": "text"
      },
      "cell_type": "markdown",
      "source": [
        "### Summarizing data: describe"
      ]
    },
    {
      "metadata": {
        "id": "RXebNxokXDCb",
        "colab_type": "text"
      },
      "cell_type": "markdown",
      "source": [
        "There is a convenient **describe()** function which computes a variety of summary statistics about a Series or the columns of a DataFrame (excluding NAs of course):"
      ]
    },
    {
      "metadata": {
        "id": "eQqzDjcNXDCc",
        "colab_type": "code",
        "colab": {},
        "collapsed": true
      },
      "cell_type": "code",
      "source": [
        "series = pd.Series(np.random.randn(1000))"
      ],
      "execution_count": 0,
      "outputs": []
    },
    {
      "metadata": {
        "id": "GLvFaB8uXDCd",
        "colab_type": "code",
        "colab": {},
        "collapsed": true
      },
      "cell_type": "code",
      "source": [
        "series[::2] = np.nan"
      ],
      "execution_count": 0,
      "outputs": []
    },
    {
      "metadata": {
        "id": "o9ikoE4dXDCf",
        "colab_type": "code",
        "colab": {},
        "outputId": "95b269e2-afcf-4256-b227-ab84cbc9c008"
      },
      "cell_type": "code",
      "source": [
        "series.describe()"
      ],
      "execution_count": 0,
      "outputs": [
        {
          "output_type": "stream",
          "text": [
            "C:\\Anaconda2\\lib\\site-packages\\numpy\\lib\\function_base.py:3823: RuntimeWarning: Invalid value encountered in percentile\n",
            "  RuntimeWarning)\n"
          ],
          "name": "stderr"
        },
        {
          "output_type": "execute_result",
          "data": {
            "text/plain": [
              "count    500.000000\n",
              "mean       0.096293\n",
              "std        1.038361\n",
              "min       -2.584954\n",
              "25%             NaN\n",
              "50%             NaN\n",
              "75%             NaN\n",
              "max        3.161543\n",
              "dtype: float64"
            ]
          },
          "metadata": {
            "tags": []
          },
          "execution_count": 153
        }
      ]
    },
    {
      "metadata": {
        "id": "KYcOrCuSXDCi",
        "colab_type": "code",
        "colab": {},
        "collapsed": true
      },
      "cell_type": "code",
      "source": [
        " frame = pd.DataFrame(np.random.randn(1000, 5), columns=['a', 'b', 'c', 'd', 'e'])"
      ],
      "execution_count": 0,
      "outputs": []
    },
    {
      "metadata": {
        "id": "REhtGcH_XDCk",
        "colab_type": "code",
        "colab": {}
      },
      "cell_type": "code",
      "source": [
        "frame.ix[::2] = np.nan"
      ],
      "execution_count": 0,
      "outputs": []
    },
    {
      "metadata": {
        "id": "AHvlSV0tXDCk",
        "colab_type": "code",
        "colab": {},
        "outputId": "50a88d55-9805-418c-e222-1bc7c1536323"
      },
      "cell_type": "code",
      "source": [
        "frame.describe()"
      ],
      "execution_count": 0,
      "outputs": [
        {
          "output_type": "execute_result",
          "data": {
            "text/html": [
              "<div>\n",
              "<table border=\"1\" class=\"dataframe\">\n",
              "  <thead>\n",
              "    <tr style=\"text-align: right;\">\n",
              "      <th></th>\n",
              "      <th>a</th>\n",
              "      <th>b</th>\n",
              "      <th>c</th>\n",
              "      <th>d</th>\n",
              "      <th>e</th>\n",
              "    </tr>\n",
              "  </thead>\n",
              "  <tbody>\n",
              "    <tr>\n",
              "      <th>count</th>\n",
              "      <td>500.000000</td>\n",
              "      <td>500.000000</td>\n",
              "      <td>500.000000</td>\n",
              "      <td>500.000000</td>\n",
              "      <td>500.000000</td>\n",
              "    </tr>\n",
              "    <tr>\n",
              "      <th>mean</th>\n",
              "      <td>-0.091959</td>\n",
              "      <td>-0.003558</td>\n",
              "      <td>0.058276</td>\n",
              "      <td>0.056249</td>\n",
              "      <td>-0.023981</td>\n",
              "    </tr>\n",
              "    <tr>\n",
              "      <th>std</th>\n",
              "      <td>0.973767</td>\n",
              "      <td>1.010847</td>\n",
              "      <td>0.993963</td>\n",
              "      <td>0.933181</td>\n",
              "      <td>1.035500</td>\n",
              "    </tr>\n",
              "    <tr>\n",
              "      <th>min</th>\n",
              "      <td>-3.600023</td>\n",
              "      <td>-2.806886</td>\n",
              "      <td>-3.629092</td>\n",
              "      <td>-2.771273</td>\n",
              "      <td>-3.147375</td>\n",
              "    </tr>\n",
              "    <tr>\n",
              "      <th>25%</th>\n",
              "      <td>NaN</td>\n",
              "      <td>NaN</td>\n",
              "      <td>NaN</td>\n",
              "      <td>NaN</td>\n",
              "      <td>NaN</td>\n",
              "    </tr>\n",
              "    <tr>\n",
              "      <th>50%</th>\n",
              "      <td>NaN</td>\n",
              "      <td>NaN</td>\n",
              "      <td>NaN</td>\n",
              "      <td>NaN</td>\n",
              "      <td>NaN</td>\n",
              "    </tr>\n",
              "    <tr>\n",
              "      <th>75%</th>\n",
              "      <td>NaN</td>\n",
              "      <td>NaN</td>\n",
              "      <td>NaN</td>\n",
              "      <td>NaN</td>\n",
              "      <td>NaN</td>\n",
              "    </tr>\n",
              "    <tr>\n",
              "      <th>max</th>\n",
              "      <td>2.954986</td>\n",
              "      <td>2.426325</td>\n",
              "      <td>2.618350</td>\n",
              "      <td>2.583097</td>\n",
              "      <td>3.173197</td>\n",
              "    </tr>\n",
              "  </tbody>\n",
              "</table>\n",
              "</div>"
            ],
            "text/plain": [
              "                a           b           c           d           e\n",
              "count  500.000000  500.000000  500.000000  500.000000  500.000000\n",
              "mean    -0.091959   -0.003558    0.058276    0.056249   -0.023981\n",
              "std      0.973767    1.010847    0.993963    0.933181    1.035500\n",
              "min     -3.600023   -2.806886   -3.629092   -2.771273   -3.147375\n",
              "25%           NaN         NaN         NaN         NaN         NaN\n",
              "50%           NaN         NaN         NaN         NaN         NaN\n",
              "75%           NaN         NaN         NaN         NaN         NaN\n",
              "max      2.954986    2.426325    2.618350    2.583097    3.173197"
            ]
          },
          "metadata": {
            "tags": []
          },
          "execution_count": 157
        }
      ]
    },
    {
      "metadata": {
        "id": "ogJQtdeaXDCm",
        "colab_type": "text"
      },
      "cell_type": "markdown",
      "source": [
        "You can select specific percentiles to include in the output:"
      ]
    },
    {
      "metadata": {
        "id": "a-24AiQAXDCm",
        "colab_type": "text"
      },
      "cell_type": "markdown",
      "source": [
        "By default, the median is always included.\n",
        "\n",
        "For a non-numerical Series object, **describe()** will give a simple summary of the number of unique values and most frequently occurring values:"
      ]
    },
    {
      "metadata": {
        "id": "TtFcoqEzXDCm",
        "colab_type": "code",
        "colab": {},
        "collapsed": true
      },
      "cell_type": "code",
      "source": [
        "s = pd.Series(['a', 'a', 'b', 'b', 'a', 'a', np.nan, 'c', 'd', 'a'])"
      ],
      "execution_count": 0,
      "outputs": []
    },
    {
      "metadata": {
        "id": "QNRp9sNIXDCn",
        "colab_type": "code",
        "colab": {},
        "outputId": "a431bea7-1ba0-4f93-c457-cbf97f0b6236"
      },
      "cell_type": "code",
      "source": [
        "s.describe()"
      ],
      "execution_count": 0,
      "outputs": [
        {
          "output_type": "execute_result",
          "data": {
            "text/plain": [
              "count     9\n",
              "unique    4\n",
              "top       a\n",
              "freq      5\n",
              "dtype: object"
            ]
          },
          "metadata": {
            "tags": []
          },
          "execution_count": 159
        }
      ]
    },
    {
      "metadata": {
        "id": "dUUgxYJbXDCp",
        "colab_type": "text"
      },
      "cell_type": "markdown",
      "source": [
        "Note that on a mixed-type DataFrame object, describe() will restrict the summary to include only numerical columns or, if none are, only categorical columns:"
      ]
    },
    {
      "metadata": {
        "id": "F4UEfo86XDCq",
        "colab_type": "code",
        "colab": {},
        "collapsed": true
      },
      "cell_type": "code",
      "source": [
        "frame = pd.DataFrame({'a': ['Yes', 'Yes', 'No', 'No'], 'b': range(4)})"
      ],
      "execution_count": 0,
      "outputs": []
    },
    {
      "metadata": {
        "id": "s2amvxZXXDCr",
        "colab_type": "code",
        "colab": {},
        "outputId": "3491a682-9706-4192-8412-123086280133"
      },
      "cell_type": "code",
      "source": [
        "frame.describe()"
      ],
      "execution_count": 0,
      "outputs": [
        {
          "output_type": "execute_result",
          "data": {
            "text/html": [
              "<div>\n",
              "<table border=\"1\" class=\"dataframe\">\n",
              "  <thead>\n",
              "    <tr style=\"text-align: right;\">\n",
              "      <th></th>\n",
              "      <th>b</th>\n",
              "    </tr>\n",
              "  </thead>\n",
              "  <tbody>\n",
              "    <tr>\n",
              "      <th>count</th>\n",
              "      <td>4.000000</td>\n",
              "    </tr>\n",
              "    <tr>\n",
              "      <th>mean</th>\n",
              "      <td>1.500000</td>\n",
              "    </tr>\n",
              "    <tr>\n",
              "      <th>std</th>\n",
              "      <td>1.290994</td>\n",
              "    </tr>\n",
              "    <tr>\n",
              "      <th>min</th>\n",
              "      <td>0.000000</td>\n",
              "    </tr>\n",
              "    <tr>\n",
              "      <th>25%</th>\n",
              "      <td>0.750000</td>\n",
              "    </tr>\n",
              "    <tr>\n",
              "      <th>50%</th>\n",
              "      <td>1.500000</td>\n",
              "    </tr>\n",
              "    <tr>\n",
              "      <th>75%</th>\n",
              "      <td>2.250000</td>\n",
              "    </tr>\n",
              "    <tr>\n",
              "      <th>max</th>\n",
              "      <td>3.000000</td>\n",
              "    </tr>\n",
              "  </tbody>\n",
              "</table>\n",
              "</div>"
            ],
            "text/plain": [
              "              b\n",
              "count  4.000000\n",
              "mean   1.500000\n",
              "std    1.290994\n",
              "min    0.000000\n",
              "25%    0.750000\n",
              "50%    1.500000\n",
              "75%    2.250000\n",
              "max    3.000000"
            ]
          },
          "metadata": {
            "tags": []
          },
          "execution_count": 162
        }
      ]
    },
    {
      "metadata": {
        "id": "Cod25q3MXDCt",
        "colab_type": "text"
      },
      "cell_type": "markdown",
      "source": [
        "This behaviour can be controlled by providing a list of types as include/exclude arguments. The special value all can also be used:"
      ]
    },
    {
      "metadata": {
        "id": "jE5WsWwPXDCu",
        "colab_type": "code",
        "colab": {},
        "outputId": "20da883b-0263-4ba0-de83-ae98f8baaa0e"
      },
      "cell_type": "code",
      "source": [
        "frame.describe(include=['object'])"
      ],
      "execution_count": 0,
      "outputs": [
        {
          "output_type": "execute_result",
          "data": {
            "text/html": [
              "<div>\n",
              "<table border=\"1\" class=\"dataframe\">\n",
              "  <thead>\n",
              "    <tr style=\"text-align: right;\">\n",
              "      <th></th>\n",
              "      <th>a</th>\n",
              "    </tr>\n",
              "  </thead>\n",
              "  <tbody>\n",
              "    <tr>\n",
              "      <th>count</th>\n",
              "      <td>4</td>\n",
              "    </tr>\n",
              "    <tr>\n",
              "      <th>unique</th>\n",
              "      <td>2</td>\n",
              "    </tr>\n",
              "    <tr>\n",
              "      <th>top</th>\n",
              "      <td>No</td>\n",
              "    </tr>\n",
              "    <tr>\n",
              "      <th>freq</th>\n",
              "      <td>2</td>\n",
              "    </tr>\n",
              "  </tbody>\n",
              "</table>\n",
              "</div>"
            ],
            "text/plain": [
              "         a\n",
              "count    4\n",
              "unique   2\n",
              "top     No\n",
              "freq     2"
            ]
          },
          "metadata": {
            "tags": []
          },
          "execution_count": 163
        }
      ]
    },
    {
      "metadata": {
        "id": "9EE9A2sUXDCw",
        "colab_type": "code",
        "colab": {},
        "outputId": "3c670f8c-5a59-4001-9134-83430926a96a"
      },
      "cell_type": "code",
      "source": [
        " frame.describe(include=['number'])"
      ],
      "execution_count": 0,
      "outputs": [
        {
          "output_type": "execute_result",
          "data": {
            "text/html": [
              "<div>\n",
              "<table border=\"1\" class=\"dataframe\">\n",
              "  <thead>\n",
              "    <tr style=\"text-align: right;\">\n",
              "      <th></th>\n",
              "      <th>b</th>\n",
              "    </tr>\n",
              "  </thead>\n",
              "  <tbody>\n",
              "    <tr>\n",
              "      <th>count</th>\n",
              "      <td>4.000000</td>\n",
              "    </tr>\n",
              "    <tr>\n",
              "      <th>mean</th>\n",
              "      <td>1.500000</td>\n",
              "    </tr>\n",
              "    <tr>\n",
              "      <th>std</th>\n",
              "      <td>1.290994</td>\n",
              "    </tr>\n",
              "    <tr>\n",
              "      <th>min</th>\n",
              "      <td>0.000000</td>\n",
              "    </tr>\n",
              "    <tr>\n",
              "      <th>25%</th>\n",
              "      <td>0.750000</td>\n",
              "    </tr>\n",
              "    <tr>\n",
              "      <th>50%</th>\n",
              "      <td>1.500000</td>\n",
              "    </tr>\n",
              "    <tr>\n",
              "      <th>75%</th>\n",
              "      <td>2.250000</td>\n",
              "    </tr>\n",
              "    <tr>\n",
              "      <th>max</th>\n",
              "      <td>3.000000</td>\n",
              "    </tr>\n",
              "  </tbody>\n",
              "</table>\n",
              "</div>"
            ],
            "text/plain": [
              "              b\n",
              "count  4.000000\n",
              "mean   1.500000\n",
              "std    1.290994\n",
              "min    0.000000\n",
              "25%    0.750000\n",
              "50%    1.500000\n",
              "75%    2.250000\n",
              "max    3.000000"
            ]
          },
          "metadata": {
            "tags": []
          },
          "execution_count": 164
        }
      ]
    },
    {
      "metadata": {
        "id": "T19UhyHkXDCw",
        "colab_type": "code",
        "colab": {},
        "outputId": "2f5d9ff7-f0a8-4589-edda-e7067f23eb78"
      },
      "cell_type": "code",
      "source": [
        "frame.describe(include='all')"
      ],
      "execution_count": 0,
      "outputs": [
        {
          "output_type": "execute_result",
          "data": {
            "text/html": [
              "<div>\n",
              "<table border=\"1\" class=\"dataframe\">\n",
              "  <thead>\n",
              "    <tr style=\"text-align: right;\">\n",
              "      <th></th>\n",
              "      <th>a</th>\n",
              "      <th>b</th>\n",
              "    </tr>\n",
              "  </thead>\n",
              "  <tbody>\n",
              "    <tr>\n",
              "      <th>count</th>\n",
              "      <td>4</td>\n",
              "      <td>4.000000</td>\n",
              "    </tr>\n",
              "    <tr>\n",
              "      <th>unique</th>\n",
              "      <td>2</td>\n",
              "      <td>NaN</td>\n",
              "    </tr>\n",
              "    <tr>\n",
              "      <th>top</th>\n",
              "      <td>No</td>\n",
              "      <td>NaN</td>\n",
              "    </tr>\n",
              "    <tr>\n",
              "      <th>freq</th>\n",
              "      <td>2</td>\n",
              "      <td>NaN</td>\n",
              "    </tr>\n",
              "    <tr>\n",
              "      <th>mean</th>\n",
              "      <td>NaN</td>\n",
              "      <td>1.500000</td>\n",
              "    </tr>\n",
              "    <tr>\n",
              "      <th>std</th>\n",
              "      <td>NaN</td>\n",
              "      <td>1.290994</td>\n",
              "    </tr>\n",
              "    <tr>\n",
              "      <th>min</th>\n",
              "      <td>NaN</td>\n",
              "      <td>0.000000</td>\n",
              "    </tr>\n",
              "    <tr>\n",
              "      <th>25%</th>\n",
              "      <td>NaN</td>\n",
              "      <td>0.750000</td>\n",
              "    </tr>\n",
              "    <tr>\n",
              "      <th>50%</th>\n",
              "      <td>NaN</td>\n",
              "      <td>1.500000</td>\n",
              "    </tr>\n",
              "    <tr>\n",
              "      <th>75%</th>\n",
              "      <td>NaN</td>\n",
              "      <td>2.250000</td>\n",
              "    </tr>\n",
              "    <tr>\n",
              "      <th>max</th>\n",
              "      <td>NaN</td>\n",
              "      <td>3.000000</td>\n",
              "    </tr>\n",
              "  </tbody>\n",
              "</table>\n",
              "</div>"
            ],
            "text/plain": [
              "          a         b\n",
              "count     4  4.000000\n",
              "unique    2       NaN\n",
              "top      No       NaN\n",
              "freq      2       NaN\n",
              "mean    NaN  1.500000\n",
              "std     NaN  1.290994\n",
              "min     NaN  0.000000\n",
              "25%     NaN  0.750000\n",
              "50%     NaN  1.500000\n",
              "75%     NaN  2.250000\n",
              "max     NaN  3.000000"
            ]
          },
          "metadata": {
            "tags": []
          },
          "execution_count": 165
        }
      ]
    },
    {
      "metadata": {
        "id": "bSG2a3VwXDCy",
        "colab_type": "text"
      },
      "cell_type": "markdown",
      "source": [
        "That feature relies on [select_dtypes](http://pandas.pydata.org/pandas-docs/stable/basics.html#basics-selectdtypes). Refer to there for details about accepted inputs."
      ]
    },
    {
      "metadata": {
        "id": "f9EdxerWXDCz",
        "colab_type": "text"
      },
      "cell_type": "markdown",
      "source": [
        "### Index of Min/Max Values"
      ]
    },
    {
      "metadata": {
        "id": "eg1kUsKZXDCz",
        "colab_type": "text"
      },
      "cell_type": "markdown",
      "source": [
        "The **idxmin()** and **idxmax()** functions on Series and DataFrame compute the index labels with the minimum and maximum corresponding values:"
      ]
    },
    {
      "metadata": {
        "id": "Ml-1rQQBXDC0",
        "colab_type": "code",
        "colab": {},
        "collapsed": true
      },
      "cell_type": "code",
      "source": [
        "s1 = pd.Series(np.random.randn(5))"
      ],
      "execution_count": 0,
      "outputs": []
    },
    {
      "metadata": {
        "id": "DAjpPucPXDC1",
        "colab_type": "code",
        "colab": {},
        "outputId": "70fa1c96-a450-4133-fc57-787d256f35fe"
      },
      "cell_type": "code",
      "source": [
        "s1"
      ],
      "execution_count": 0,
      "outputs": [
        {
          "output_type": "execute_result",
          "data": {
            "text/plain": [
              "0   -0.543725\n",
              "1   -1.303089\n",
              "2   -1.454813\n",
              "3    0.527219\n",
              "4    0.031134\n",
              "dtype: float64"
            ]
          },
          "metadata": {
            "tags": []
          },
          "execution_count": 176
        }
      ]
    },
    {
      "metadata": {
        "id": "IV-BNuBHXDC2",
        "colab_type": "code",
        "colab": {},
        "outputId": "dd9d07ad-8f57-4b69-d7f8-e1e9e849f5ba"
      },
      "cell_type": "code",
      "source": [
        "s1.idxmin(), s1.idxmax()"
      ],
      "execution_count": 0,
      "outputs": [
        {
          "output_type": "execute_result",
          "data": {
            "text/plain": [
              "(2, 3)"
            ]
          },
          "metadata": {
            "tags": []
          },
          "execution_count": 177
        }
      ]
    },
    {
      "metadata": {
        "id": "zhKMf0EUXDC4",
        "colab_type": "code",
        "colab": {},
        "collapsed": true
      },
      "cell_type": "code",
      "source": [
        "df1 = pd.DataFrame(np.random.randn(5,3), columns=['A','B','C'])"
      ],
      "execution_count": 0,
      "outputs": []
    },
    {
      "metadata": {
        "id": "02aw5_mUXDC5",
        "colab_type": "code",
        "colab": {},
        "outputId": "f5ddd08d-7e92-4c20-8b9b-48a8a73d1837"
      },
      "cell_type": "code",
      "source": [
        "df1"
      ],
      "execution_count": 0,
      "outputs": [
        {
          "output_type": "execute_result",
          "data": {
            "text/html": [
              "<div>\n",
              "<table border=\"1\" class=\"dataframe\">\n",
              "  <thead>\n",
              "    <tr style=\"text-align: right;\">\n",
              "      <th></th>\n",
              "      <th>A</th>\n",
              "      <th>B</th>\n",
              "      <th>C</th>\n",
              "    </tr>\n",
              "  </thead>\n",
              "  <tbody>\n",
              "    <tr>\n",
              "      <th>0</th>\n",
              "      <td>0.412822</td>\n",
              "      <td>1.297395</td>\n",
              "      <td>0.565581</td>\n",
              "    </tr>\n",
              "    <tr>\n",
              "      <th>1</th>\n",
              "      <td>0.411433</td>\n",
              "      <td>-0.803406</td>\n",
              "      <td>-0.466814</td>\n",
              "    </tr>\n",
              "    <tr>\n",
              "      <th>2</th>\n",
              "      <td>-0.825119</td>\n",
              "      <td>-0.619946</td>\n",
              "      <td>-0.908971</td>\n",
              "    </tr>\n",
              "    <tr>\n",
              "      <th>3</th>\n",
              "      <td>-0.757649</td>\n",
              "      <td>1.045385</td>\n",
              "      <td>-1.138001</td>\n",
              "    </tr>\n",
              "    <tr>\n",
              "      <th>4</th>\n",
              "      <td>0.751215</td>\n",
              "      <td>1.536153</td>\n",
              "      <td>-0.625996</td>\n",
              "    </tr>\n",
              "  </tbody>\n",
              "</table>\n",
              "</div>"
            ],
            "text/plain": [
              "          A         B         C\n",
              "0  0.412822  1.297395  0.565581\n",
              "1  0.411433 -0.803406 -0.466814\n",
              "2 -0.825119 -0.619946 -0.908971\n",
              "3 -0.757649  1.045385 -1.138001\n",
              "4  0.751215  1.536153 -0.625996"
            ]
          },
          "metadata": {
            "tags": []
          },
          "execution_count": 179
        }
      ]
    },
    {
      "metadata": {
        "id": "PnIFvLxIXDC6",
        "colab_type": "code",
        "colab": {},
        "outputId": "b8cbed77-4ab5-4528-9f8c-5d3b870cc6ac"
      },
      "cell_type": "code",
      "source": [
        "df1.idxmin(axis=0)"
      ],
      "execution_count": 0,
      "outputs": [
        {
          "output_type": "execute_result",
          "data": {
            "text/plain": [
              "A    2\n",
              "B    1\n",
              "C    3\n",
              "dtype: int64"
            ]
          },
          "metadata": {
            "tags": []
          },
          "execution_count": 180
        }
      ]
    },
    {
      "metadata": {
        "id": "-W413X1AXDC8",
        "colab_type": "code",
        "colab": {},
        "outputId": "68d487f4-c077-456e-e6de-d63f19de626a"
      },
      "cell_type": "code",
      "source": [
        "df1.idxmax(axis=1)"
      ],
      "execution_count": 0,
      "outputs": [
        {
          "output_type": "execute_result",
          "data": {
            "text/plain": [
              "0    B\n",
              "1    A\n",
              "2    B\n",
              "3    B\n",
              "4    B\n",
              "dtype: object"
            ]
          },
          "metadata": {
            "tags": []
          },
          "execution_count": 181
        }
      ]
    },
    {
      "metadata": {
        "id": "FY5eIb40XDC-",
        "colab_type": "text"
      },
      "cell_type": "markdown",
      "source": [
        "When there are multiple rows (or columns) matching the minimum or maximum value, **idxmin()** and **idxmax()** return the first matching index:"
      ]
    },
    {
      "metadata": {
        "id": "w52-vRf5XDC-",
        "colab_type": "code",
        "colab": {},
        "collapsed": true
      },
      "cell_type": "code",
      "source": [
        "df3 = pd.DataFrame([2, 1, 1, 3, np.nan], columns=['A'], index=list('edcba'))"
      ],
      "execution_count": 0,
      "outputs": []
    },
    {
      "metadata": {
        "id": "Kwu4VmOdXDC-",
        "colab_type": "code",
        "colab": {},
        "outputId": "1af2081e-ef3a-4c66-c525-b389d0f211dd"
      },
      "cell_type": "code",
      "source": [
        "df3"
      ],
      "execution_count": 0,
      "outputs": [
        {
          "output_type": "execute_result",
          "data": {
            "text/html": [
              "<div>\n",
              "<table border=\"1\" class=\"dataframe\">\n",
              "  <thead>\n",
              "    <tr style=\"text-align: right;\">\n",
              "      <th></th>\n",
              "      <th>A</th>\n",
              "    </tr>\n",
              "  </thead>\n",
              "  <tbody>\n",
              "    <tr>\n",
              "      <th>e</th>\n",
              "      <td>2.0</td>\n",
              "    </tr>\n",
              "    <tr>\n",
              "      <th>d</th>\n",
              "      <td>1.0</td>\n",
              "    </tr>\n",
              "    <tr>\n",
              "      <th>c</th>\n",
              "      <td>1.0</td>\n",
              "    </tr>\n",
              "    <tr>\n",
              "      <th>b</th>\n",
              "      <td>3.0</td>\n",
              "    </tr>\n",
              "    <tr>\n",
              "      <th>a</th>\n",
              "      <td>NaN</td>\n",
              "    </tr>\n",
              "  </tbody>\n",
              "</table>\n",
              "</div>"
            ],
            "text/plain": [
              "     A\n",
              "e  2.0\n",
              "d  1.0\n",
              "c  1.0\n",
              "b  3.0\n",
              "a  NaN"
            ]
          },
          "metadata": {
            "tags": []
          },
          "execution_count": 183
        }
      ]
    },
    {
      "metadata": {
        "id": "bYZkSG9bXDDA",
        "colab_type": "code",
        "colab": {},
        "outputId": "79e0bac5-14e0-4f8e-cb21-37103dcd6ce4"
      },
      "cell_type": "code",
      "source": [
        "df3['A'].idxmin()"
      ],
      "execution_count": 0,
      "outputs": [
        {
          "output_type": "execute_result",
          "data": {
            "text/plain": [
              "'d'"
            ]
          },
          "metadata": {
            "tags": []
          },
          "execution_count": 186
        }
      ]
    },
    {
      "metadata": {
        "id": "vD9L8t6jXDDB",
        "colab_type": "code",
        "colab": {},
        "outputId": "7160c7f7-6ee3-4b40-94ba-d3d331017dc1"
      },
      "cell_type": "code",
      "source": [
        "df3.idxmin()"
      ],
      "execution_count": 0,
      "outputs": [
        {
          "output_type": "execute_result",
          "data": {
            "text/plain": [
              "A    d\n",
              "dtype: object"
            ]
          },
          "metadata": {
            "tags": []
          },
          "execution_count": 187
        }
      ]
    },
    {
      "metadata": {
        "id": "9Pu1yXcHXDDC",
        "colab_type": "text"
      },
      "cell_type": "markdown",
      "source": [
        "**Note:** `idxmin` and `idxmax` are called `argmin` and `argmax` in NumPy."
      ]
    },
    {
      "metadata": {
        "id": "XVE_PD_VXDDC",
        "colab_type": "text"
      },
      "cell_type": "markdown",
      "source": [
        "### Value counts (histogramming) / Mode"
      ]
    },
    {
      "metadata": {
        "id": "SOFZQ4drXDDD",
        "colab_type": "text"
      },
      "cell_type": "markdown",
      "source": [
        "The **value_counts()** Series method and top-level function computes a histogram of a 1D array of values. It can also be used as a function on regular arrays:"
      ]
    },
    {
      "metadata": {
        "id": "qm9SZFuIXDDD",
        "colab_type": "code",
        "colab": {},
        "collapsed": true
      },
      "cell_type": "code",
      "source": [
        "data = np.random.randint(0, 7, size=50)"
      ],
      "execution_count": 0,
      "outputs": []
    },
    {
      "metadata": {
        "id": "zkxUiFRGXDDD",
        "colab_type": "code",
        "colab": {},
        "outputId": "a4ea19d4-3061-45aa-8dab-5a9ee8688e91"
      },
      "cell_type": "code",
      "source": [
        "data"
      ],
      "execution_count": 0,
      "outputs": [
        {
          "output_type": "execute_result",
          "data": {
            "text/plain": [
              "array([2, 6, 4, 5, 6, 3, 0, 4, 0, 4, 4, 4, 0, 5, 5, 1, 3, 1, 5, 5, 2, 2, 0,\n",
              "       6, 2, 5, 2, 1, 0, 1, 5, 6, 0, 2, 6, 3, 2, 0, 2, 6, 0, 3, 3, 6, 6, 4,\n",
              "       5, 5, 2, 4])"
            ]
          },
          "metadata": {
            "tags": []
          },
          "execution_count": 189
        }
      ]
    },
    {
      "metadata": {
        "id": "T8ixz17jXDDF",
        "colab_type": "code",
        "colab": {},
        "collapsed": true
      },
      "cell_type": "code",
      "source": [
        "s = pd.Series(data)"
      ],
      "execution_count": 0,
      "outputs": []
    },
    {
      "metadata": {
        "id": "ePugBKWyXDDG",
        "colab_type": "code",
        "colab": {},
        "outputId": "c19bc6c8-d767-4c34-94ca-2dba42eda1e1"
      },
      "cell_type": "code",
      "source": [
        "s.value_counts()"
      ],
      "execution_count": 0,
      "outputs": [
        {
          "output_type": "execute_result",
          "data": {
            "text/plain": [
              "5    9\n",
              "2    9\n",
              "6    8\n",
              "0    8\n",
              "4    7\n",
              "3    5\n",
              "1    4\n",
              "dtype: int64"
            ]
          },
          "metadata": {
            "tags": []
          },
          "execution_count": 191
        }
      ]
    },
    {
      "metadata": {
        "id": "RmO2OLZsXDDG",
        "colab_type": "code",
        "colab": {},
        "outputId": "726a5c6d-cfa8-4771-ba93-11d94408313d"
      },
      "cell_type": "code",
      "source": [
        "pd.value_counts(data)"
      ],
      "execution_count": 0,
      "outputs": [
        {
          "output_type": "execute_result",
          "data": {
            "text/plain": [
              "5    9\n",
              "2    9\n",
              "6    8\n",
              "0    8\n",
              "4    7\n",
              "3    5\n",
              "1    4\n",
              "dtype: int64"
            ]
          },
          "metadata": {
            "tags": []
          },
          "execution_count": 192
        }
      ]
    },
    {
      "metadata": {
        "id": "BkYuXL47XDDI",
        "colab_type": "text"
      },
      "cell_type": "markdown",
      "source": [
        "Similarly, you can get the most frequently occurring value(s) (the mode) of the values in a Series or DataFrame:"
      ]
    },
    {
      "metadata": {
        "id": "DhkGB8TJXDDI",
        "colab_type": "code",
        "colab": {},
        "collapsed": true
      },
      "cell_type": "code",
      "source": [
        "s5 = pd.Series([1, 1, 3, 3, 3, 5, 5, 7, 7, 7])"
      ],
      "execution_count": 0,
      "outputs": []
    },
    {
      "metadata": {
        "id": "wDgqJ4_SXDDJ",
        "colab_type": "code",
        "colab": {},
        "outputId": "72ab7739-ad59-4c8e-cd47-040bda57ffbe"
      },
      "cell_type": "code",
      "source": [
        "s5.mode()"
      ],
      "execution_count": 0,
      "outputs": [
        {
          "output_type": "execute_result",
          "data": {
            "text/plain": [
              "0    3\n",
              "1    7\n",
              "dtype: int64"
            ]
          },
          "metadata": {
            "tags": []
          },
          "execution_count": 194
        }
      ]
    },
    {
      "metadata": {
        "id": "fDAewU96XDDM",
        "colab_type": "code",
        "colab": {},
        "collapsed": true
      },
      "cell_type": "code",
      "source": [
        "df5 = pd.DataFrame({\"A\": np.random.randint(0, 7, size=50),\n",
        "                    \"B\": np.random.randint(-10, 15, size=50)})"
      ],
      "execution_count": 0,
      "outputs": []
    },
    {
      "metadata": {
        "id": "5if6Rz7YXDDM",
        "colab_type": "code",
        "colab": {},
        "outputId": "b17c2085-783a-49fc-8ada-66b6770741da"
      },
      "cell_type": "code",
      "source": [
        "df5.mode()"
      ],
      "execution_count": 0,
      "outputs": [
        {
          "output_type": "execute_result",
          "data": {
            "text/html": [
              "<div>\n",
              "<table border=\"1\" class=\"dataframe\">\n",
              "  <thead>\n",
              "    <tr style=\"text-align: right;\">\n",
              "      <th></th>\n",
              "      <th>A</th>\n",
              "      <th>B</th>\n",
              "    </tr>\n",
              "  </thead>\n",
              "  <tbody>\n",
              "    <tr>\n",
              "      <th>0</th>\n",
              "      <td>5</td>\n",
              "      <td>-3</td>\n",
              "    </tr>\n",
              "  </tbody>\n",
              "</table>\n",
              "</div>"
            ],
            "text/plain": [
              "   A  B\n",
              "0  5 -3"
            ]
          },
          "metadata": {
            "tags": []
          },
          "execution_count": 200
        }
      ]
    },
    {
      "metadata": {
        "id": "Th6NVPB1XDDN",
        "colab_type": "text"
      },
      "cell_type": "markdown",
      "source": [
        "### Discretization and quantiling"
      ]
    },
    {
      "metadata": {
        "id": "YmOH1kH4XDDN",
        "colab_type": "text"
      },
      "cell_type": "markdown",
      "source": [
        "Continuous values can be discretized using the cut() (bins based on values) and qcut() (bins based on sample quantiles) functions:"
      ]
    },
    {
      "metadata": {
        "id": "z6RUnp93XDDN",
        "colab_type": "code",
        "colab": {},
        "collapsed": true
      },
      "cell_type": "code",
      "source": [
        "arr = np.random.randn(20)"
      ],
      "execution_count": 0,
      "outputs": []
    },
    {
      "metadata": {
        "id": "FcVbP_9lXDDO",
        "colab_type": "code",
        "colab": {},
        "collapsed": true
      },
      "cell_type": "code",
      "source": [
        "factor = pd.cut(arr, 4)"
      ],
      "execution_count": 0,
      "outputs": []
    },
    {
      "metadata": {
        "id": "gSf13Bf2XDDO",
        "colab_type": "code",
        "colab": {},
        "outputId": "d0e5d9cb-c903-4417-9359-56600d3e07a1"
      },
      "cell_type": "code",
      "source": [
        "factor"
      ],
      "execution_count": 0,
      "outputs": [
        {
          "output_type": "execute_result",
          "data": {
            "text/plain": [
              "[(0.617, 1.227], (0.00659, 0.617], (-1.216, -0.604], (-0.604, 0.00659], (-1.216, -0.604], ..., (0.617, 1.227], (-1.216, -0.604], (-0.604, 0.00659], (0.00659, 0.617], (0.00659, 0.617]]\n",
              "Length: 20\n",
              "Categories (4, object): [(-1.216, -0.604] < (-0.604, 0.00659] < (0.00659, 0.617] < (0.617, 1.227]]"
            ]
          },
          "metadata": {
            "tags": []
          },
          "execution_count": 203
        }
      ]
    },
    {
      "metadata": {
        "id": "m76BgDmhXDDQ",
        "colab_type": "code",
        "colab": {},
        "collapsed": true
      },
      "cell_type": "code",
      "source": [
        "factor = pd.cut(arr, [-5, -1, 0, 1, 5])"
      ],
      "execution_count": 0,
      "outputs": []
    },
    {
      "metadata": {
        "id": "no6TmfcVXDDR",
        "colab_type": "code",
        "colab": {},
        "outputId": "c8186655-ccc8-4721-afb7-92701c0d385e"
      },
      "cell_type": "code",
      "source": [
        "factor.value_counts()"
      ],
      "execution_count": 0,
      "outputs": [
        {
          "output_type": "execute_result",
          "data": {
            "text/plain": [
              "(-5, -1]     1\n",
              "(-1, 0]     11\n",
              "(0, 1]       6\n",
              "(1, 5]       2\n",
              "dtype: int64"
            ]
          },
          "metadata": {
            "tags": []
          },
          "execution_count": 205
        }
      ]
    },
    {
      "metadata": {
        "id": "GWE4MtnAXDDR",
        "colab_type": "text"
      },
      "cell_type": "markdown",
      "source": [
        "qcut() computes sample quantiles. For example, we could slice up some normally distributed data into equal-size quartiles like so:"
      ]
    },
    {
      "metadata": {
        "id": "ybPcdQN2XDDR",
        "colab_type": "code",
        "colab": {},
        "collapsed": true
      },
      "cell_type": "code",
      "source": [
        "arr = np.random.randn(30)"
      ],
      "execution_count": 0,
      "outputs": []
    },
    {
      "metadata": {
        "id": "WOV6qAGAXDDS",
        "colab_type": "code",
        "colab": {},
        "collapsed": true
      },
      "cell_type": "code",
      "source": [
        "factor = pd.qcut(arr, [0, .25, .5, .75, 1])"
      ],
      "execution_count": 0,
      "outputs": []
    },
    {
      "metadata": {
        "id": "fSqadL8vXDDT",
        "colab_type": "code",
        "colab": {},
        "outputId": "9f72cd6e-fae0-4b68-d7d5-8fa3b2909062"
      },
      "cell_type": "code",
      "source": [
        "factor"
      ],
      "execution_count": 0,
      "outputs": [
        {
          "output_type": "execute_result",
          "data": {
            "text/plain": [
              "[(0.441, 1.765], (-0.72, -0.27], (-0.72, -0.27], (-0.27, 0.441], [-1.808, -0.72], ..., (0.441, 1.765], (0.441, 1.765], [-1.808, -0.72], [-1.808, -0.72], [-1.808, -0.72]]\n",
              "Length: 30\n",
              "Categories (4, object): [[-1.808, -0.72] < (-0.72, -0.27] < (-0.27, 0.441] < (0.441, 1.765]]"
            ]
          },
          "metadata": {
            "tags": []
          },
          "execution_count": 208
        }
      ]
    },
    {
      "metadata": {
        "id": "hF9NomaOXDDU",
        "colab_type": "code",
        "colab": {},
        "outputId": "6a7cc592-4246-4ec8-c61f-9aaf0b6e5cb9"
      },
      "cell_type": "code",
      "source": [
        " pd.value_counts(factor)"
      ],
      "execution_count": 0,
      "outputs": [
        {
          "output_type": "execute_result",
          "data": {
            "text/plain": [
              "(0.441, 1.765]     8\n",
              "[-1.808, -0.72]    8\n",
              "(-0.27, 0.441]     7\n",
              "(-0.72, -0.27]     7\n",
              "dtype: int64"
            ]
          },
          "metadata": {
            "tags": []
          },
          "execution_count": 209
        }
      ]
    },
    {
      "metadata": {
        "id": "Lknp3WmwXDDV",
        "colab_type": "text"
      },
      "cell_type": "markdown",
      "source": [
        "We can also pass infinite values to define the bins:"
      ]
    },
    {
      "metadata": {
        "id": "IydazwWQXDDV",
        "colab_type": "code",
        "colab": {},
        "collapsed": true
      },
      "cell_type": "code",
      "source": [
        "arr = np.random.randn(20)"
      ],
      "execution_count": 0,
      "outputs": []
    },
    {
      "metadata": {
        "id": "1KQknPbmXDDV",
        "colab_type": "code",
        "colab": {},
        "collapsed": true
      },
      "cell_type": "code",
      "source": [
        "factor = pd.cut(arr, [-np.inf, 0, np.inf])"
      ],
      "execution_count": 0,
      "outputs": []
    },
    {
      "metadata": {
        "id": "pfGlnKD3XDDW",
        "colab_type": "code",
        "colab": {},
        "outputId": "e5e0f820-8c5b-4808-d031-b12ca8f24bec"
      },
      "cell_type": "code",
      "source": [
        "factor.value_counts()"
      ],
      "execution_count": 0,
      "outputs": [
        {
          "output_type": "execute_result",
          "data": {
            "text/plain": [
              "(-inf, 0]     8\n",
              "(0, inf]     12\n",
              "dtype: int64"
            ]
          },
          "metadata": {
            "tags": []
          },
          "execution_count": 213
        }
      ]
    },
    {
      "metadata": {
        "id": "lbTJdLHgXDDX",
        "colab_type": "text"
      },
      "cell_type": "markdown",
      "source": [
        "## Function applicaton"
      ]
    },
    {
      "metadata": {
        "id": "B5hVgFulXDDX",
        "colab_type": "text"
      },
      "cell_type": "markdown",
      "source": [
        "To apply your own or another library’s functions to pandas objects, you should be aware of the three methods below. The appropriate method to use depends on whether your function expects to operate on an entire DataFrame or Series, row- or column-wise, or elementwise.\n",
        "\n",
        " 1. [Tablewise Function Application:](http://pandas.pydata.org/pandas-docs/stable/basics.html#tablewise-function-application) **[pipe()](http://pandas.pydata.org/pandas-docs/stable/generated/pandas.DataFrame.pipe.html#pandas.DataFrame.pipe)**\n",
        " 2. [Row or Column-wise Function Application:](http://pandas.pydata.org/pandas-docs/stable/basics.html#row-or-column-wise-function-application) **[apply()](http://pandas.pydata.org/pandas-docs/stable/generated/pandas.DataFrame.apply.html#pandas.DataFrame.apply)**\n",
        " 3. [Elementwise function application:](http://pandas.pydata.org/pandas-docs/stable/basics.html#elementwise) **[applymap()](http://pandas.pydata.org/pandas-docs/stable/generated/pandas.DataFrame.applymap.html#pandas.DataFrame.applymap)**"
      ]
    },
    {
      "metadata": {
        "id": "4MyZqs7SXDDX",
        "colab_type": "text"
      },
      "cell_type": "markdown",
      "source": [
        "### Tablewise Function Application"
      ]
    },
    {
      "metadata": {
        "id": "L8d_09hRXDDX",
        "colab_type": "text"
      },
      "cell_type": "markdown",
      "source": [
        "DataFrames and Series can of course just be passed into functions. However, if the function needs to be called in a chain, consider using the **pipe()** method. Compare the following"
      ]
    },
    {
      "metadata": {
        "id": "Sjjp2976XDDX",
        "colab_type": "text"
      },
      "cell_type": "markdown",
      "source": [
        "f, g, and h are functions taking and returning ``DataFrames``\n",
        "    \n",
        "    f(g(h(df), arg1=1), arg2=2, arg3=3)"
      ]
    },
    {
      "metadata": {
        "id": "YvzDgiQhXDDX",
        "colab_type": "text"
      },
      "cell_type": "markdown",
      "source": [
        "with the equivalent"
      ]
    },
    {
      "metadata": {
        "id": "DEhlxysOXDDX",
        "colab_type": "text"
      },
      "cell_type": "markdown",
      "source": [
        "    (df.pipe(h)\n",
        "       .pipe(g, arg1=1)\n",
        "       .pipe(f, arg2=2, arg3=3)\n",
        "    )"
      ]
    },
    {
      "metadata": {
        "id": "Vq6HvAjEXDDX",
        "colab_type": "text"
      },
      "cell_type": "markdown",
      "source": [
        "Pandas encourages the second style, which is known as method chaining. pipe makes it easy to use your own or another library’s functions in method chains, alongside pandas’ methods.\n",
        "\n",
        "In the example above, the functions f, g, and h each expected the DataFrame as the first positional argument. What if the function you wish to apply takes its data as, say, the second argument? In this case, provide pipe with a tuple of (callable, data_keyword). .pipe will route the DataFrame to the argument specified in the tuple.\n",
        "\n",
        "For example, we can fit a regression using statsmodels. Their API expects a formula first and a DataFrame as the second argument, data. We pass in the function, keyword pair (sm.poisson, 'data') to pipe:"
      ]
    },
    {
      "metadata": {
        "id": "s0_o89puXDDY",
        "colab_type": "code",
        "colab": {}
      },
      "cell_type": "code",
      "source": [
        "import statsmodels.formula.api as sm"
      ],
      "execution_count": 0,
      "outputs": []
    },
    {
      "metadata": {
        "id": "vPsbqIBXXDDY",
        "colab_type": "code",
        "colab": {}
      },
      "cell_type": "code",
      "source": [
        "bb = pd.read_csv('data/baseball.csv', index_col='id')"
      ],
      "execution_count": 0,
      "outputs": []
    },
    {
      "metadata": {
        "id": "gdbZmR4WXDDZ",
        "colab_type": "code",
        "colab": {},
        "outputId": "4a189391-8eb3-4c2d-c041-db16811bc409"
      },
      "cell_type": "code",
      "source": [
        "# Doesn't work...not sure how to fix\n",
        "\"\"\"\n",
        "(bb.query('h > 0')\n",
        " .assign(ln_h = lambda df: np.log(df.h))\n",
        " .pipe((sm.poisson, 'data'), 'hr ~ ln_h + year + g + C(lg)')\n",
        " .fit()\n",
        " .summary()\n",
        " )\n",
        "\"\"\" "
      ],
      "execution_count": 0,
      "outputs": [
        {
          "output_type": "execute_result",
          "data": {
            "text/plain": [
              "\"\\n(bb.query('h > 0')\\n .assign(ln_h = lambda df: np.log(df.h))\\n .pipe((sm.poisson, 'data'), 'hr ~ ln_h + year + g + C(lg)')\\n .fit()\\n .summary()\\n )\\n\""
            ]
          },
          "metadata": {
            "tags": []
          },
          "execution_count": 224
        }
      ]
    },
    {
      "metadata": {
        "id": "pH8DSGN8XDDZ",
        "colab_type": "text"
      },
      "cell_type": "markdown",
      "source": [
        "The pipe method is inspired by unix pipes and more recently dplyr and magrittr, which have introduced the popular (%>%) (read pipe) operator for R. The implementation of pipe here is quite clean and feels right at home in python. We encourage you to view the source code (pd.DataFrame.pipe?? in IPython)."
      ]
    },
    {
      "metadata": {
        "id": "G3sgA3HqXDDZ",
        "colab_type": "text"
      },
      "cell_type": "markdown",
      "source": [
        "### Row or Column-wise Function Application"
      ]
    },
    {
      "metadata": {
        "id": "B7XLvpBkXDDZ",
        "colab_type": "text"
      },
      "cell_type": "markdown",
      "source": [
        "Arbitrary functions can be applied along the axes of a DataFrame or Panel using the **apply()** method, which, like the descriptive statistics methods, take an optional axis argument:"
      ]
    },
    {
      "metadata": {
        "id": "pUTaugu_XDDZ",
        "colab_type": "code",
        "colab": {},
        "outputId": "4c63d62d-619f-452d-8a22-e417aee3511c"
      },
      "cell_type": "code",
      "source": [
        "df"
      ],
      "execution_count": 0,
      "outputs": [
        {
          "output_type": "execute_result",
          "data": {
            "text/html": [
              "<div>\n",
              "<table border=\"1\" class=\"dataframe\">\n",
              "  <thead>\n",
              "    <tr style=\"text-align: right;\">\n",
              "      <th></th>\n",
              "      <th>one</th>\n",
              "      <th>three</th>\n",
              "      <th>two</th>\n",
              "    </tr>\n",
              "  </thead>\n",
              "  <tbody>\n",
              "    <tr>\n",
              "      <th>a</th>\n",
              "      <td>-0.648508</td>\n",
              "      <td>NaN</td>\n",
              "      <td>-1.060154</td>\n",
              "    </tr>\n",
              "    <tr>\n",
              "      <th>b</th>\n",
              "      <td>0.580513</td>\n",
              "      <td>-1.818959</td>\n",
              "      <td>-0.744376</td>\n",
              "    </tr>\n",
              "    <tr>\n",
              "      <th>c</th>\n",
              "      <td>0.935250</td>\n",
              "      <td>-0.932856</td>\n",
              "      <td>-1.752320</td>\n",
              "    </tr>\n",
              "    <tr>\n",
              "      <th>d</th>\n",
              "      <td>NaN</td>\n",
              "      <td>0.877767</td>\n",
              "      <td>-0.799884</td>\n",
              "    </tr>\n",
              "  </tbody>\n",
              "</table>\n",
              "</div>"
            ],
            "text/plain": [
              "        one     three       two\n",
              "a -0.648508       NaN -1.060154\n",
              "b  0.580513 -1.818959 -0.744376\n",
              "c  0.935250 -0.932856 -1.752320\n",
              "d       NaN  0.877767 -0.799884"
            ]
          },
          "metadata": {
            "tags": []
          },
          "execution_count": 225
        }
      ]
    },
    {
      "metadata": {
        "id": "0sVgD3dlXDDb",
        "colab_type": "code",
        "colab": {},
        "outputId": "82780af7-ff38-4b53-de98-055d3c6e5390"
      },
      "cell_type": "code",
      "source": [
        "df.apply(np.mean)"
      ],
      "execution_count": 0,
      "outputs": [
        {
          "output_type": "execute_result",
          "data": {
            "text/plain": [
              "one      0.289085\n",
              "three   -0.624682\n",
              "two     -1.089184\n",
              "dtype: float64"
            ]
          },
          "metadata": {
            "tags": []
          },
          "execution_count": 226
        }
      ]
    },
    {
      "metadata": {
        "id": "HZs1D2wkXDDc",
        "colab_type": "code",
        "colab": {},
        "outputId": "0043bf7e-b349-4e8c-c932-5d3750894b57"
      },
      "cell_type": "code",
      "source": [
        "df.apply(np.mean, axis=1)"
      ],
      "execution_count": 0,
      "outputs": [
        {
          "output_type": "execute_result",
          "data": {
            "text/plain": [
              "a   -0.854331\n",
              "b   -0.660940\n",
              "c   -0.583309\n",
              "d    0.038942\n",
              "dtype: float64"
            ]
          },
          "metadata": {
            "tags": []
          },
          "execution_count": 227
        }
      ]
    },
    {
      "metadata": {
        "id": "hCKbSufpXDDg",
        "colab_type": "code",
        "colab": {},
        "outputId": "dc0a7689-8366-4ad4-86fc-bdd4db13f8ce"
      },
      "cell_type": "code",
      "source": [
        "df.apply(lambda x: x.max() - x.min())"
      ],
      "execution_count": 0,
      "outputs": [
        {
          "output_type": "execute_result",
          "data": {
            "text/plain": [
              "one      1.583758\n",
              "three    2.696726\n",
              "two      1.007944\n",
              "dtype: float64"
            ]
          },
          "metadata": {
            "tags": []
          },
          "execution_count": 228
        }
      ]
    },
    {
      "metadata": {
        "id": "7tos37ABXDDh",
        "colab_type": "code",
        "colab": {},
        "outputId": "a7488a6c-950a-43fd-d2dd-f9ca4aee2d8d"
      },
      "cell_type": "code",
      "source": [
        "df.apply(np.cumsum)"
      ],
      "execution_count": 0,
      "outputs": [
        {
          "output_type": "execute_result",
          "data": {
            "text/html": [
              "<div>\n",
              "<table border=\"1\" class=\"dataframe\">\n",
              "  <thead>\n",
              "    <tr style=\"text-align: right;\">\n",
              "      <th></th>\n",
              "      <th>one</th>\n",
              "      <th>three</th>\n",
              "      <th>two</th>\n",
              "    </tr>\n",
              "  </thead>\n",
              "  <tbody>\n",
              "    <tr>\n",
              "      <th>a</th>\n",
              "      <td>-0.648508</td>\n",
              "      <td>NaN</td>\n",
              "      <td>-1.060154</td>\n",
              "    </tr>\n",
              "    <tr>\n",
              "      <th>b</th>\n",
              "      <td>-0.067994</td>\n",
              "      <td>-1.818959</td>\n",
              "      <td>-1.804531</td>\n",
              "    </tr>\n",
              "    <tr>\n",
              "      <th>c</th>\n",
              "      <td>0.867256</td>\n",
              "      <td>-2.751814</td>\n",
              "      <td>-3.556851</td>\n",
              "    </tr>\n",
              "    <tr>\n",
              "      <th>d</th>\n",
              "      <td>NaN</td>\n",
              "      <td>-1.874047</td>\n",
              "      <td>-4.356734</td>\n",
              "    </tr>\n",
              "  </tbody>\n",
              "</table>\n",
              "</div>"
            ],
            "text/plain": [
              "        one     three       two\n",
              "a -0.648508       NaN -1.060154\n",
              "b -0.067994 -1.818959 -1.804531\n",
              "c  0.867256 -2.751814 -3.556851\n",
              "d       NaN -1.874047 -4.356734"
            ]
          },
          "metadata": {
            "tags": []
          },
          "execution_count": 229
        }
      ]
    },
    {
      "metadata": {
        "id": "5TTAgUs9XDDj",
        "colab_type": "code",
        "colab": {},
        "outputId": "895be0b0-80cf-4292-a0ef-073452035cc8"
      },
      "cell_type": "code",
      "source": [
        "df.apply(np.exp)"
      ],
      "execution_count": 0,
      "outputs": [
        {
          "output_type": "execute_result",
          "data": {
            "text/html": [
              "<div>\n",
              "<table border=\"1\" class=\"dataframe\">\n",
              "  <thead>\n",
              "    <tr style=\"text-align: right;\">\n",
              "      <th></th>\n",
              "      <th>one</th>\n",
              "      <th>three</th>\n",
              "      <th>two</th>\n",
              "    </tr>\n",
              "  </thead>\n",
              "  <tbody>\n",
              "    <tr>\n",
              "      <th>a</th>\n",
              "      <td>0.522825</td>\n",
              "      <td>NaN</td>\n",
              "      <td>0.346402</td>\n",
              "    </tr>\n",
              "    <tr>\n",
              "      <th>b</th>\n",
              "      <td>1.786955</td>\n",
              "      <td>0.162195</td>\n",
              "      <td>0.475031</td>\n",
              "    </tr>\n",
              "    <tr>\n",
              "      <th>c</th>\n",
              "      <td>2.547851</td>\n",
              "      <td>0.393429</td>\n",
              "      <td>0.173371</td>\n",
              "    </tr>\n",
              "    <tr>\n",
              "      <th>d</th>\n",
              "      <td>NaN</td>\n",
              "      <td>2.405523</td>\n",
              "      <td>0.449381</td>\n",
              "    </tr>\n",
              "  </tbody>\n",
              "</table>\n",
              "</div>"
            ],
            "text/plain": [
              "        one     three       two\n",
              "a  0.522825       NaN  0.346402\n",
              "b  1.786955  0.162195  0.475031\n",
              "c  2.547851  0.393429  0.173371\n",
              "d       NaN  2.405523  0.449381"
            ]
          },
          "metadata": {
            "tags": []
          },
          "execution_count": 230
        }
      ]
    },
    {
      "metadata": {
        "id": "evv_D9E9XDDj",
        "colab_type": "text"
      },
      "cell_type": "markdown",
      "source": [
        "Depending on the return type of the function passed to **apply()**, the result will either be of lower dimension or the same dimension.\n",
        "\n",
        "**apply()** combined with some cleverness can be used to answer many questions about a data set. For example, suppose we wanted to extract the date where the maximum value for each column occurred:"
      ]
    },
    {
      "metadata": {
        "id": "hp3Ia4JKXDDj",
        "colab_type": "code",
        "colab": {},
        "collapsed": true
      },
      "cell_type": "code",
      "source": [
        "tsdf = pd.DataFrame(np.random.randn(1000, 3), columns=['A', 'B', 'C'],\n",
        "                    index=pd.date_range('1/1/2000', periods=1000))\n"
      ],
      "execution_count": 0,
      "outputs": []
    },
    {
      "metadata": {
        "id": "M7ooIImZXDDk",
        "colab_type": "code",
        "colab": {},
        "outputId": "06e81421-c69a-4640-a780-9b58ff12185c"
      },
      "cell_type": "code",
      "source": [
        "tsdf.apply(lambda x: x.idxmax())"
      ],
      "execution_count": 0,
      "outputs": [
        {
          "output_type": "execute_result",
          "data": {
            "text/plain": [
              "A   2002-06-29\n",
              "B   2001-01-31\n",
              "C   2001-02-19\n",
              "dtype: datetime64[ns]"
            ]
          },
          "metadata": {
            "tags": []
          },
          "execution_count": 233
        }
      ]
    },
    {
      "metadata": {
        "id": "3LiML79VXDDk",
        "colab_type": "text"
      },
      "cell_type": "markdown",
      "source": [
        "You may also pass additional arguments and keyword arguments to the **apply()** method. For instance, consider the following function you would like to apply:"
      ]
    },
    {
      "metadata": {
        "id": "u3QQYsk-XDDk",
        "colab_type": "code",
        "colab": {},
        "collapsed": true
      },
      "cell_type": "code",
      "source": [
        "def subtract_and_divide(x, sub, divide=1):\n",
        "    return (x - sub) / divide"
      ],
      "execution_count": 0,
      "outputs": []
    },
    {
      "metadata": {
        "id": "M_vXfaiNXDDl",
        "colab_type": "text"
      },
      "cell_type": "markdown",
      "source": [
        "You may then apply this function as follows:"
      ]
    },
    {
      "metadata": {
        "id": "CLiZVuH0XDDl",
        "colab_type": "code",
        "colab": {},
        "outputId": "b5046ef8-570d-4688-af24-0180ebe1ece0"
      },
      "cell_type": "code",
      "source": [
        "df"
      ],
      "execution_count": 0,
      "outputs": [
        {
          "output_type": "execute_result",
          "data": {
            "text/html": [
              "<div>\n",
              "<table border=\"1\" class=\"dataframe\">\n",
              "  <thead>\n",
              "    <tr style=\"text-align: right;\">\n",
              "      <th></th>\n",
              "      <th>one</th>\n",
              "      <th>three</th>\n",
              "      <th>two</th>\n",
              "    </tr>\n",
              "  </thead>\n",
              "  <tbody>\n",
              "    <tr>\n",
              "      <th>a</th>\n",
              "      <td>-0.648508</td>\n",
              "      <td>NaN</td>\n",
              "      <td>-1.060154</td>\n",
              "    </tr>\n",
              "    <tr>\n",
              "      <th>b</th>\n",
              "      <td>0.580513</td>\n",
              "      <td>-1.818959</td>\n",
              "      <td>-0.744376</td>\n",
              "    </tr>\n",
              "    <tr>\n",
              "      <th>c</th>\n",
              "      <td>0.935250</td>\n",
              "      <td>-0.932856</td>\n",
              "      <td>-1.752320</td>\n",
              "    </tr>\n",
              "    <tr>\n",
              "      <th>d</th>\n",
              "      <td>NaN</td>\n",
              "      <td>0.877767</td>\n",
              "      <td>-0.799884</td>\n",
              "    </tr>\n",
              "  </tbody>\n",
              "</table>\n",
              "</div>"
            ],
            "text/plain": [
              "        one     three       two\n",
              "a -0.648508       NaN -1.060154\n",
              "b  0.580513 -1.818959 -0.744376\n",
              "c  0.935250 -0.932856 -1.752320\n",
              "d       NaN  0.877767 -0.799884"
            ]
          },
          "metadata": {
            "tags": []
          },
          "execution_count": 235
        }
      ]
    },
    {
      "metadata": {
        "id": "lp1FVurpXDDm",
        "colab_type": "code",
        "colab": {},
        "outputId": "f96f5a03-a1a1-4de9-9c1b-7358522a9a5d"
      },
      "cell_type": "code",
      "source": [
        "df.apply(subtract_and_divide, args=(0,), divide=2)"
      ],
      "execution_count": 0,
      "outputs": [
        {
          "output_type": "execute_result",
          "data": {
            "text/html": [
              "<div>\n",
              "<table border=\"1\" class=\"dataframe\">\n",
              "  <thead>\n",
              "    <tr style=\"text-align: right;\">\n",
              "      <th></th>\n",
              "      <th>one</th>\n",
              "      <th>three</th>\n",
              "      <th>two</th>\n",
              "    </tr>\n",
              "  </thead>\n",
              "  <tbody>\n",
              "    <tr>\n",
              "      <th>a</th>\n",
              "      <td>-0.324254</td>\n",
              "      <td>NaN</td>\n",
              "      <td>-0.530077</td>\n",
              "    </tr>\n",
              "    <tr>\n",
              "      <th>b</th>\n",
              "      <td>0.290257</td>\n",
              "      <td>-0.909479</td>\n",
              "      <td>-0.372188</td>\n",
              "    </tr>\n",
              "    <tr>\n",
              "      <th>c</th>\n",
              "      <td>0.467625</td>\n",
              "      <td>-0.466428</td>\n",
              "      <td>-0.876160</td>\n",
              "    </tr>\n",
              "    <tr>\n",
              "      <th>d</th>\n",
              "      <td>NaN</td>\n",
              "      <td>0.438884</td>\n",
              "      <td>-0.399942</td>\n",
              "    </tr>\n",
              "  </tbody>\n",
              "</table>\n",
              "</div>"
            ],
            "text/plain": [
              "        one     three       two\n",
              "a -0.324254       NaN -0.530077\n",
              "b  0.290257 -0.909479 -0.372188\n",
              "c  0.467625 -0.466428 -0.876160\n",
              "d       NaN  0.438884 -0.399942"
            ]
          },
          "metadata": {
            "tags": []
          },
          "execution_count": 241
        }
      ]
    },
    {
      "metadata": {
        "id": "B5rv_XHwXDDm",
        "colab_type": "code",
        "colab": {},
        "outputId": "3ce653e9-57f4-4a45-8a5b-494f9ea5d008"
      },
      "cell_type": "code",
      "source": [
        "df.apply(subtract_and_divide, args=(5,), divide=1)"
      ],
      "execution_count": 0,
      "outputs": [
        {
          "output_type": "execute_result",
          "data": {
            "text/html": [
              "<div>\n",
              "<table border=\"1\" class=\"dataframe\">\n",
              "  <thead>\n",
              "    <tr style=\"text-align: right;\">\n",
              "      <th></th>\n",
              "      <th>one</th>\n",
              "      <th>three</th>\n",
              "      <th>two</th>\n",
              "    </tr>\n",
              "  </thead>\n",
              "  <tbody>\n",
              "    <tr>\n",
              "      <th>a</th>\n",
              "      <td>-5.648508</td>\n",
              "      <td>NaN</td>\n",
              "      <td>-6.060154</td>\n",
              "    </tr>\n",
              "    <tr>\n",
              "      <th>b</th>\n",
              "      <td>-4.419487</td>\n",
              "      <td>-6.818959</td>\n",
              "      <td>-5.744376</td>\n",
              "    </tr>\n",
              "    <tr>\n",
              "      <th>c</th>\n",
              "      <td>-4.064750</td>\n",
              "      <td>-5.932856</td>\n",
              "      <td>-6.752320</td>\n",
              "    </tr>\n",
              "    <tr>\n",
              "      <th>d</th>\n",
              "      <td>NaN</td>\n",
              "      <td>-4.122233</td>\n",
              "      <td>-5.799884</td>\n",
              "    </tr>\n",
              "  </tbody>\n",
              "</table>\n",
              "</div>"
            ],
            "text/plain": [
              "        one     three       two\n",
              "a -5.648508       NaN -6.060154\n",
              "b -4.419487 -6.818959 -5.744376\n",
              "c -4.064750 -5.932856 -6.752320\n",
              "d       NaN -4.122233 -5.799884"
            ]
          },
          "metadata": {
            "tags": []
          },
          "execution_count": 242
        }
      ]
    },
    {
      "metadata": {
        "id": "JRSnbGZVXDDn",
        "colab_type": "text"
      },
      "cell_type": "markdown",
      "source": [
        "Another useful feature is the ability to pass Series methods to carry out some Series operation on each column or row:"
      ]
    },
    {
      "metadata": {
        "id": "yQH-8GcZXDDn",
        "colab_type": "code",
        "colab": {}
      },
      "cell_type": "code",
      "source": [
        "tsdf.loc['2000-01-04':'2000-01-07'] = np.nan"
      ],
      "execution_count": 0,
      "outputs": []
    },
    {
      "metadata": {
        "id": "EIHeiHo9XDDp",
        "colab_type": "code",
        "colab": {}
      },
      "cell_type": "code",
      "source": [
        "tsdf = tsdf.iloc[0:10]"
      ],
      "execution_count": 0,
      "outputs": []
    },
    {
      "metadata": {
        "id": "to_KbSwDXDDp",
        "colab_type": "code",
        "colab": {},
        "outputId": "5b4d3c4b-56de-4d39-a3ee-a7cb2ddce35b"
      },
      "cell_type": "code",
      "source": [
        "tsdf"
      ],
      "execution_count": 0,
      "outputs": [
        {
          "output_type": "execute_result",
          "data": {
            "text/html": [
              "<div>\n",
              "<table border=\"1\" class=\"dataframe\">\n",
              "  <thead>\n",
              "    <tr style=\"text-align: right;\">\n",
              "      <th></th>\n",
              "      <th>A</th>\n",
              "      <th>B</th>\n",
              "      <th>C</th>\n",
              "    </tr>\n",
              "  </thead>\n",
              "  <tbody>\n",
              "    <tr>\n",
              "      <th>2000-01-01</th>\n",
              "      <td>-0.826373</td>\n",
              "      <td>-0.797725</td>\n",
              "      <td>0.091672</td>\n",
              "    </tr>\n",
              "    <tr>\n",
              "      <th>2000-01-02</th>\n",
              "      <td>-0.077055</td>\n",
              "      <td>0.259896</td>\n",
              "      <td>0.314722</td>\n",
              "    </tr>\n",
              "    <tr>\n",
              "      <th>2000-01-03</th>\n",
              "      <td>-0.065032</td>\n",
              "      <td>-1.438713</td>\n",
              "      <td>-2.292992</td>\n",
              "    </tr>\n",
              "    <tr>\n",
              "      <th>2000-01-04</th>\n",
              "      <td>NaN</td>\n",
              "      <td>NaN</td>\n",
              "      <td>NaN</td>\n",
              "    </tr>\n",
              "    <tr>\n",
              "      <th>2000-01-05</th>\n",
              "      <td>NaN</td>\n",
              "      <td>NaN</td>\n",
              "      <td>NaN</td>\n",
              "    </tr>\n",
              "    <tr>\n",
              "      <th>2000-01-06</th>\n",
              "      <td>NaN</td>\n",
              "      <td>NaN</td>\n",
              "      <td>NaN</td>\n",
              "    </tr>\n",
              "    <tr>\n",
              "      <th>2000-01-07</th>\n",
              "      <td>NaN</td>\n",
              "      <td>NaN</td>\n",
              "      <td>NaN</td>\n",
              "    </tr>\n",
              "    <tr>\n",
              "      <th>2000-01-08</th>\n",
              "      <td>-1.384821</td>\n",
              "      <td>-0.315854</td>\n",
              "      <td>0.054385</td>\n",
              "    </tr>\n",
              "    <tr>\n",
              "      <th>2000-01-09</th>\n",
              "      <td>-0.728192</td>\n",
              "      <td>-0.430682</td>\n",
              "      <td>1.567192</td>\n",
              "    </tr>\n",
              "    <tr>\n",
              "      <th>2000-01-10</th>\n",
              "      <td>-2.620100</td>\n",
              "      <td>-1.856958</td>\n",
              "      <td>-1.331801</td>\n",
              "    </tr>\n",
              "  </tbody>\n",
              "</table>\n",
              "</div>"
            ],
            "text/plain": [
              "                   A         B         C\n",
              "2000-01-01 -0.826373 -0.797725  0.091672\n",
              "2000-01-02 -0.077055  0.259896  0.314722\n",
              "2000-01-03 -0.065032 -1.438713 -2.292992\n",
              "2000-01-04       NaN       NaN       NaN\n",
              "2000-01-05       NaN       NaN       NaN\n",
              "2000-01-06       NaN       NaN       NaN\n",
              "2000-01-07       NaN       NaN       NaN\n",
              "2000-01-08 -1.384821 -0.315854  0.054385\n",
              "2000-01-09 -0.728192 -0.430682  1.567192\n",
              "2000-01-10 -2.620100 -1.856958 -1.331801"
            ]
          },
          "metadata": {
            "tags": []
          },
          "execution_count": 249
        }
      ]
    },
    {
      "metadata": {
        "id": "_zz-OHXlXDDq",
        "colab_type": "code",
        "colab": {},
        "outputId": "b0c8bed8-c18e-494a-b66a-547cb9685631"
      },
      "cell_type": "code",
      "source": [
        "tsdf.apply(pd.Series.interpolate)"
      ],
      "execution_count": 0,
      "outputs": [
        {
          "output_type": "execute_result",
          "data": {
            "text/html": [
              "<div>\n",
              "<table border=\"1\" class=\"dataframe\">\n",
              "  <thead>\n",
              "    <tr style=\"text-align: right;\">\n",
              "      <th></th>\n",
              "      <th>A</th>\n",
              "      <th>B</th>\n",
              "      <th>C</th>\n",
              "    </tr>\n",
              "  </thead>\n",
              "  <tbody>\n",
              "    <tr>\n",
              "      <th>2000-01-01</th>\n",
              "      <td>-0.826373</td>\n",
              "      <td>-0.797725</td>\n",
              "      <td>0.091672</td>\n",
              "    </tr>\n",
              "    <tr>\n",
              "      <th>2000-01-02</th>\n",
              "      <td>-0.077055</td>\n",
              "      <td>0.259896</td>\n",
              "      <td>0.314722</td>\n",
              "    </tr>\n",
              "    <tr>\n",
              "      <th>2000-01-03</th>\n",
              "      <td>-0.065032</td>\n",
              "      <td>-1.438713</td>\n",
              "      <td>-2.292992</td>\n",
              "    </tr>\n",
              "    <tr>\n",
              "      <th>2000-01-04</th>\n",
              "      <td>-0.328990</td>\n",
              "      <td>-1.214141</td>\n",
              "      <td>-1.823517</td>\n",
              "    </tr>\n",
              "    <tr>\n",
              "      <th>2000-01-05</th>\n",
              "      <td>-0.592948</td>\n",
              "      <td>-0.989569</td>\n",
              "      <td>-1.354041</td>\n",
              "    </tr>\n",
              "    <tr>\n",
              "      <th>2000-01-06</th>\n",
              "      <td>-0.856906</td>\n",
              "      <td>-0.764997</td>\n",
              "      <td>-0.884566</td>\n",
              "    </tr>\n",
              "    <tr>\n",
              "      <th>2000-01-07</th>\n",
              "      <td>-1.120864</td>\n",
              "      <td>-0.540426</td>\n",
              "      <td>-0.415091</td>\n",
              "    </tr>\n",
              "    <tr>\n",
              "      <th>2000-01-08</th>\n",
              "      <td>-1.384821</td>\n",
              "      <td>-0.315854</td>\n",
              "      <td>0.054385</td>\n",
              "    </tr>\n",
              "    <tr>\n",
              "      <th>2000-01-09</th>\n",
              "      <td>-0.728192</td>\n",
              "      <td>-0.430682</td>\n",
              "      <td>1.567192</td>\n",
              "    </tr>\n",
              "    <tr>\n",
              "      <th>2000-01-10</th>\n",
              "      <td>-2.620100</td>\n",
              "      <td>-1.856958</td>\n",
              "      <td>-1.331801</td>\n",
              "    </tr>\n",
              "  </tbody>\n",
              "</table>\n",
              "</div>"
            ],
            "text/plain": [
              "                   A         B         C\n",
              "2000-01-01 -0.826373 -0.797725  0.091672\n",
              "2000-01-02 -0.077055  0.259896  0.314722\n",
              "2000-01-03 -0.065032 -1.438713 -2.292992\n",
              "2000-01-04 -0.328990 -1.214141 -1.823517\n",
              "2000-01-05 -0.592948 -0.989569 -1.354041\n",
              "2000-01-06 -0.856906 -0.764997 -0.884566\n",
              "2000-01-07 -1.120864 -0.540426 -0.415091\n",
              "2000-01-08 -1.384821 -0.315854  0.054385\n",
              "2000-01-09 -0.728192 -0.430682  1.567192\n",
              "2000-01-10 -2.620100 -1.856958 -1.331801"
            ]
          },
          "metadata": {
            "tags": []
          },
          "execution_count": 250
        }
      ]
    },
    {
      "metadata": {
        "id": "CaXogPYqXDDq",
        "colab_type": "text"
      },
      "cell_type": "markdown",
      "source": [
        "Finally, **apply()** takes an argument raw which is False by default, which converts each row or column into a Series before applying the function. When set to True, the passed function will instead receive an ndarray object, which has positive performance implications if you do not need the indexing functionality.\n",
        "\n",
        "**See also:** The section on [GroupBy](http://pandas.pydata.org/pandas-docs/stable/groupby.html#groupby) demonstrates related, flexible functionality for grouping by some criterion, applying, and combining the results into a Series, DataFrame, etc."
      ]
    },
    {
      "metadata": {
        "id": "mE8QEa99XDDq",
        "colab_type": "text"
      },
      "cell_type": "markdown",
      "source": [
        "### Applying elementwise Python  functions"
      ]
    },
    {
      "metadata": {
        "id": "VDK7gDZCXDDq",
        "colab_type": "text"
      },
      "cell_type": "markdown",
      "source": [
        "Since not all functions can be vectorized (accept NumPy arrays and return another array or value), the methods **applymap()** on DataFrame and analogously **map()** on Series accept any Python function taking a single value and returning a single value. For example:"
      ]
    },
    {
      "metadata": {
        "id": "3lFu2NNIXDDq",
        "colab_type": "code",
        "colab": {}
      },
      "cell_type": "code",
      "source": [
        "df4 = df.copy()"
      ],
      "execution_count": 0,
      "outputs": []
    },
    {
      "metadata": {
        "id": "gWAaMhXaXDDr",
        "colab_type": "code",
        "colab": {},
        "outputId": "55c559a0-b3fb-44f0-be1e-5ecd602ac34a"
      },
      "cell_type": "code",
      "source": [
        "df4"
      ],
      "execution_count": 0,
      "outputs": [
        {
          "output_type": "execute_result",
          "data": {
            "text/html": [
              "<div>\n",
              "<table border=\"1\" class=\"dataframe\">\n",
              "  <thead>\n",
              "    <tr style=\"text-align: right;\">\n",
              "      <th></th>\n",
              "      <th>one</th>\n",
              "      <th>three</th>\n",
              "      <th>two</th>\n",
              "    </tr>\n",
              "  </thead>\n",
              "  <tbody>\n",
              "    <tr>\n",
              "      <th>a</th>\n",
              "      <td>-0.648508</td>\n",
              "      <td>NaN</td>\n",
              "      <td>-1.060154</td>\n",
              "    </tr>\n",
              "    <tr>\n",
              "      <th>b</th>\n",
              "      <td>0.580513</td>\n",
              "      <td>-1.818959</td>\n",
              "      <td>-0.744376</td>\n",
              "    </tr>\n",
              "    <tr>\n",
              "      <th>c</th>\n",
              "      <td>0.935250</td>\n",
              "      <td>-0.932856</td>\n",
              "      <td>-1.752320</td>\n",
              "    </tr>\n",
              "    <tr>\n",
              "      <th>d</th>\n",
              "      <td>NaN</td>\n",
              "      <td>0.877767</td>\n",
              "      <td>-0.799884</td>\n",
              "    </tr>\n",
              "  </tbody>\n",
              "</table>\n",
              "</div>"
            ],
            "text/plain": [
              "        one     three       two\n",
              "a -0.648508       NaN -1.060154\n",
              "b  0.580513 -1.818959 -0.744376\n",
              "c  0.935250 -0.932856 -1.752320\n",
              "d       NaN  0.877767 -0.799884"
            ]
          },
          "metadata": {
            "tags": []
          },
          "execution_count": 259
        }
      ]
    },
    {
      "metadata": {
        "id": "24WYJWwRXDDs",
        "colab_type": "code",
        "colab": {},
        "collapsed": true
      },
      "cell_type": "code",
      "source": [
        "f = lambda x: len(str(x))"
      ],
      "execution_count": 0,
      "outputs": []
    },
    {
      "metadata": {
        "id": "lpYgA_ZaXDDs",
        "colab_type": "code",
        "colab": {},
        "outputId": "7bb19f7a-993b-44e2-8060-0404b84303e0"
      },
      "cell_type": "code",
      "source": [
        "df4['one'].map(f)"
      ],
      "execution_count": 0,
      "outputs": [
        {
          "output_type": "execute_result",
          "data": {
            "text/plain": [
              "a    15\n",
              "b    14\n",
              "c    14\n",
              "d     3\n",
              "Name: one, dtype: int64"
            ]
          },
          "metadata": {
            "tags": []
          },
          "execution_count": 261
        }
      ]
    },
    {
      "metadata": {
        "id": "OEXOjbtUXDDs",
        "colab_type": "code",
        "colab": {},
        "outputId": "c1af9bf3-4fb7-4877-aba6-62460cbc59fd"
      },
      "cell_type": "code",
      "source": [
        "df4.applymap(f)"
      ],
      "execution_count": 0,
      "outputs": [
        {
          "output_type": "execute_result",
          "data": {
            "text/html": [
              "<div>\n",
              "<table border=\"1\" class=\"dataframe\">\n",
              "  <thead>\n",
              "    <tr style=\"text-align: right;\">\n",
              "      <th></th>\n",
              "      <th>one</th>\n",
              "      <th>three</th>\n",
              "      <th>two</th>\n",
              "    </tr>\n",
              "  </thead>\n",
              "  <tbody>\n",
              "    <tr>\n",
              "      <th>a</th>\n",
              "      <td>15</td>\n",
              "      <td>3</td>\n",
              "      <td>14</td>\n",
              "    </tr>\n",
              "    <tr>\n",
              "      <th>b</th>\n",
              "      <td>14</td>\n",
              "      <td>14</td>\n",
              "      <td>15</td>\n",
              "    </tr>\n",
              "    <tr>\n",
              "      <th>c</th>\n",
              "      <td>14</td>\n",
              "      <td>15</td>\n",
              "      <td>14</td>\n",
              "    </tr>\n",
              "    <tr>\n",
              "      <th>d</th>\n",
              "      <td>3</td>\n",
              "      <td>14</td>\n",
              "      <td>15</td>\n",
              "    </tr>\n",
              "  </tbody>\n",
              "</table>\n",
              "</div>"
            ],
            "text/plain": [
              "   one  three  two\n",
              "a   15      3   14\n",
              "b   14     14   15\n",
              "c   14     15   14\n",
              "d    3     14   15"
            ]
          },
          "metadata": {
            "tags": []
          },
          "execution_count": 262
        }
      ]
    },
    {
      "metadata": {
        "id": "vvF0OYskXDDt",
        "colab_type": "text"
      },
      "cell_type": "markdown",
      "source": [
        "**Series.map()** has an additional feature which is that it can be used to easily “link” or “map” values defined by a secondary series. This is closely related to [merging/joining functionality](http://pandas.pydata.org/pandas-docs/stable/merging.html#merging):"
      ]
    },
    {
      "metadata": {
        "id": "cObSa1zBXDDt",
        "colab_type": "code",
        "colab": {},
        "collapsed": true
      },
      "cell_type": "code",
      "source": [
        "s = pd.Series(['six', 'seven', 'six', 'seven', 'six'],\n",
        "              index=['a', 'b', 'c', 'd', 'e'])              "
      ],
      "execution_count": 0,
      "outputs": []
    },
    {
      "metadata": {
        "id": "9QlTNIZIXDDu",
        "colab_type": "code",
        "colab": {},
        "collapsed": true
      },
      "cell_type": "code",
      "source": [
        "t = pd.Series({'six' : 6., 'seven' : 7.})"
      ],
      "execution_count": 0,
      "outputs": []
    },
    {
      "metadata": {
        "id": "-RKCOJAjXDDu",
        "colab_type": "code",
        "colab": {},
        "outputId": "3f7ca079-9005-4cb2-a9a6-bc870d1fc7ea"
      },
      "cell_type": "code",
      "source": [
        "s"
      ],
      "execution_count": 0,
      "outputs": [
        {
          "output_type": "execute_result",
          "data": {
            "text/plain": [
              "a      six\n",
              "b    seven\n",
              "c      six\n",
              "d    seven\n",
              "e      six\n",
              "dtype: object"
            ]
          },
          "metadata": {
            "tags": []
          },
          "execution_count": 265
        }
      ]
    },
    {
      "metadata": {
        "id": "Qqc7qFxYXDDv",
        "colab_type": "code",
        "colab": {},
        "outputId": "71dc3413-25d2-471d-9ff7-9cc07af3b74b"
      },
      "cell_type": "code",
      "source": [
        "t"
      ],
      "execution_count": 0,
      "outputs": [
        {
          "output_type": "execute_result",
          "data": {
            "text/plain": [
              "seven    7.0\n",
              "six      6.0\n",
              "dtype: float64"
            ]
          },
          "metadata": {
            "tags": []
          },
          "execution_count": 266
        }
      ]
    },
    {
      "metadata": {
        "id": "uyRgFh2gXDDw",
        "colab_type": "code",
        "colab": {},
        "outputId": "7c4f7cff-8c54-4d3b-94ea-c8bb3132eac7"
      },
      "cell_type": "code",
      "source": [
        "s.map(t)"
      ],
      "execution_count": 0,
      "outputs": [
        {
          "output_type": "execute_result",
          "data": {
            "text/plain": [
              "a    6.0\n",
              "b    7.0\n",
              "c    6.0\n",
              "d    7.0\n",
              "e    6.0\n",
              "dtype: float64"
            ]
          },
          "metadata": {
            "tags": []
          },
          "execution_count": 267
        }
      ]
    },
    {
      "metadata": {
        "id": "8LFRpIruXDDx",
        "colab_type": "text"
      },
      "cell_type": "markdown",
      "source": [
        "### Applying with a Panel"
      ]
    },
    {
      "metadata": {
        "id": "MrDypiTKXDDx",
        "colab_type": "text"
      },
      "cell_type": "markdown",
      "source": [
        "Applying with a Panel will pass a Series to the applied function. If the applied function returns a Series, the result of the application will be a Panel. If the applied function reduces to a scalar, the result of the application will be a DataFrame.\n",
        "\n",
        "**Note:** Prior to 0.13.1 apply on a Panel would only work on ufuncs (e.g. np.sum/np.max)."
      ]
    },
    {
      "metadata": {
        "id": "QPHDihTxXDDy",
        "colab_type": "code",
        "colab": {},
        "collapsed": true
      },
      "cell_type": "code",
      "source": [
        "import pandas.util.testing as tm"
      ],
      "execution_count": 0,
      "outputs": []
    },
    {
      "metadata": {
        "id": "mS6SfDx_XDDy",
        "colab_type": "code",
        "colab": {},
        "collapsed": true
      },
      "cell_type": "code",
      "source": [
        "panel = tm.makePanel(5)"
      ],
      "execution_count": 0,
      "outputs": []
    },
    {
      "metadata": {
        "id": "NjkNnP3xXDDy",
        "colab_type": "code",
        "colab": {},
        "outputId": "12cb1a1f-4244-497f-8ad6-9cb907c1f3eb"
      },
      "cell_type": "code",
      "source": [
        "panel"
      ],
      "execution_count": 0,
      "outputs": [
        {
          "output_type": "execute_result",
          "data": {
            "text/plain": [
              "<class 'pandas.core.panel.Panel'>\n",
              "Dimensions: 3 (items) x 5 (major_axis) x 4 (minor_axis)\n",
              "Items axis: ItemA to ItemC\n",
              "Major_axis axis: 2000-01-03 00:00:00 to 2000-01-07 00:00:00\n",
              "Minor_axis axis: A to D"
            ]
          },
          "metadata": {
            "tags": []
          },
          "execution_count": 270
        }
      ]
    },
    {
      "metadata": {
        "id": "EegvBZ4SXDDz",
        "colab_type": "code",
        "colab": {},
        "outputId": "deef8e13-a313-4caa-f883-6bd77df4d2cf"
      },
      "cell_type": "code",
      "source": [
        "panel['ItemA']"
      ],
      "execution_count": 0,
      "outputs": [
        {
          "output_type": "execute_result",
          "data": {
            "text/html": [
              "<div>\n",
              "<table border=\"1\" class=\"dataframe\">\n",
              "  <thead>\n",
              "    <tr style=\"text-align: right;\">\n",
              "      <th></th>\n",
              "      <th>A</th>\n",
              "      <th>B</th>\n",
              "      <th>C</th>\n",
              "      <th>D</th>\n",
              "    </tr>\n",
              "  </thead>\n",
              "  <tbody>\n",
              "    <tr>\n",
              "      <th>2000-01-03</th>\n",
              "      <td>0.423400</td>\n",
              "      <td>1.319777</td>\n",
              "      <td>0.984601</td>\n",
              "      <td>0.786756</td>\n",
              "    </tr>\n",
              "    <tr>\n",
              "      <th>2000-01-04</th>\n",
              "      <td>-0.964339</td>\n",
              "      <td>-0.852524</td>\n",
              "      <td>0.658022</td>\n",
              "      <td>-1.569861</td>\n",
              "    </tr>\n",
              "    <tr>\n",
              "      <th>2000-01-05</th>\n",
              "      <td>-1.423748</td>\n",
              "      <td>0.818447</td>\n",
              "      <td>2.104680</td>\n",
              "      <td>-1.700514</td>\n",
              "    </tr>\n",
              "    <tr>\n",
              "      <th>2000-01-06</th>\n",
              "      <td>-0.371473</td>\n",
              "      <td>-0.214182</td>\n",
              "      <td>0.056136</td>\n",
              "      <td>0.038166</td>\n",
              "    </tr>\n",
              "    <tr>\n",
              "      <th>2000-01-07</th>\n",
              "      <td>0.731295</td>\n",
              "      <td>1.857414</td>\n",
              "      <td>0.055033</td>\n",
              "      <td>1.851630</td>\n",
              "    </tr>\n",
              "  </tbody>\n",
              "</table>\n",
              "</div>"
            ],
            "text/plain": [
              "                   A         B         C         D\n",
              "2000-01-03  0.423400  1.319777  0.984601  0.786756\n",
              "2000-01-04 -0.964339 -0.852524  0.658022 -1.569861\n",
              "2000-01-05 -1.423748  0.818447  2.104680 -1.700514\n",
              "2000-01-06 -0.371473 -0.214182  0.056136  0.038166\n",
              "2000-01-07  0.731295  1.857414  0.055033  1.851630"
            ]
          },
          "metadata": {
            "tags": []
          },
          "execution_count": 271
        }
      ]
    },
    {
      "metadata": {
        "id": "CgxQN8xuXDD0",
        "colab_type": "text"
      },
      "cell_type": "markdown",
      "source": [
        "A transformational apply."
      ]
    },
    {
      "metadata": {
        "id": "cPabPjyTXDD0",
        "colab_type": "code",
        "colab": {},
        "collapsed": true
      },
      "cell_type": "code",
      "source": [
        "result = panel.apply(lambda x: x*2, axis='items')"
      ],
      "execution_count": 0,
      "outputs": []
    },
    {
      "metadata": {
        "id": "71AtcpKPXDD0",
        "colab_type": "code",
        "colab": {},
        "outputId": "bc7f9f2d-91c1-4b65-d1ad-ec5c863436d3"
      },
      "cell_type": "code",
      "source": [
        "result"
      ],
      "execution_count": 0,
      "outputs": [
        {
          "output_type": "execute_result",
          "data": {
            "text/plain": [
              "<class 'pandas.core.panel.Panel'>\n",
              "Dimensions: 3 (items) x 5 (major_axis) x 4 (minor_axis)\n",
              "Items axis: ItemA to ItemC\n",
              "Major_axis axis: 2000-01-03 00:00:00 to 2000-01-07 00:00:00\n",
              "Minor_axis axis: A to D"
            ]
          },
          "metadata": {
            "tags": []
          },
          "execution_count": 273
        }
      ]
    },
    {
      "metadata": {
        "id": "jOXN0VQ7XDD2",
        "colab_type": "code",
        "colab": {},
        "outputId": "a222a551-3474-4d14-ea1b-850e65a5cc28"
      },
      "cell_type": "code",
      "source": [
        "result['ItemA']"
      ],
      "execution_count": 0,
      "outputs": [
        {
          "output_type": "execute_result",
          "data": {
            "text/html": [
              "<div>\n",
              "<table border=\"1\" class=\"dataframe\">\n",
              "  <thead>\n",
              "    <tr style=\"text-align: right;\">\n",
              "      <th></th>\n",
              "      <th>A</th>\n",
              "      <th>B</th>\n",
              "      <th>C</th>\n",
              "      <th>D</th>\n",
              "    </tr>\n",
              "  </thead>\n",
              "  <tbody>\n",
              "    <tr>\n",
              "      <th>2000-01-03</th>\n",
              "      <td>0.846800</td>\n",
              "      <td>2.639555</td>\n",
              "      <td>1.969203</td>\n",
              "      <td>1.573513</td>\n",
              "    </tr>\n",
              "    <tr>\n",
              "      <th>2000-01-04</th>\n",
              "      <td>-1.928677</td>\n",
              "      <td>-1.705049</td>\n",
              "      <td>1.316043</td>\n",
              "      <td>-3.139722</td>\n",
              "    </tr>\n",
              "    <tr>\n",
              "      <th>2000-01-05</th>\n",
              "      <td>-2.847497</td>\n",
              "      <td>1.636895</td>\n",
              "      <td>4.209360</td>\n",
              "      <td>-3.401029</td>\n",
              "    </tr>\n",
              "    <tr>\n",
              "      <th>2000-01-06</th>\n",
              "      <td>-0.742946</td>\n",
              "      <td>-0.428365</td>\n",
              "      <td>0.112273</td>\n",
              "      <td>0.076333</td>\n",
              "    </tr>\n",
              "    <tr>\n",
              "      <th>2000-01-07</th>\n",
              "      <td>1.462590</td>\n",
              "      <td>3.714829</td>\n",
              "      <td>0.110067</td>\n",
              "      <td>3.703260</td>\n",
              "    </tr>\n",
              "  </tbody>\n",
              "</table>\n",
              "</div>"
            ],
            "text/plain": [
              "                   A         B         C         D\n",
              "2000-01-03  0.846800  2.639555  1.969203  1.573513\n",
              "2000-01-04 -1.928677 -1.705049  1.316043 -3.139722\n",
              "2000-01-05 -2.847497  1.636895  4.209360 -3.401029\n",
              "2000-01-06 -0.742946 -0.428365  0.112273  0.076333\n",
              "2000-01-07  1.462590  3.714829  0.110067  3.703260"
            ]
          },
          "metadata": {
            "tags": []
          },
          "execution_count": 274
        }
      ]
    },
    {
      "metadata": {
        "id": "IpgmUMMmXDD2",
        "colab_type": "text"
      },
      "cell_type": "markdown",
      "source": [
        "A reduction operation."
      ]
    },
    {
      "metadata": {
        "id": "M46C2NGdXDD2",
        "colab_type": "code",
        "colab": {},
        "outputId": "8cdeabdc-6369-4b0d-ef62-9d7514abb191"
      },
      "cell_type": "code",
      "source": [
        "panel.apply(lambda x: x.dtype, axis='items')"
      ],
      "execution_count": 0,
      "outputs": [
        {
          "output_type": "execute_result",
          "data": {
            "text/html": [
              "<div>\n",
              "<table border=\"1\" class=\"dataframe\">\n",
              "  <thead>\n",
              "    <tr style=\"text-align: right;\">\n",
              "      <th></th>\n",
              "      <th>A</th>\n",
              "      <th>B</th>\n",
              "      <th>C</th>\n",
              "      <th>D</th>\n",
              "    </tr>\n",
              "  </thead>\n",
              "  <tbody>\n",
              "    <tr>\n",
              "      <th>2000-01-03</th>\n",
              "      <td>float64</td>\n",
              "      <td>float64</td>\n",
              "      <td>float64</td>\n",
              "      <td>float64</td>\n",
              "    </tr>\n",
              "    <tr>\n",
              "      <th>2000-01-04</th>\n",
              "      <td>float64</td>\n",
              "      <td>float64</td>\n",
              "      <td>float64</td>\n",
              "      <td>float64</td>\n",
              "    </tr>\n",
              "    <tr>\n",
              "      <th>2000-01-05</th>\n",
              "      <td>float64</td>\n",
              "      <td>float64</td>\n",
              "      <td>float64</td>\n",
              "      <td>float64</td>\n",
              "    </tr>\n",
              "    <tr>\n",
              "      <th>2000-01-06</th>\n",
              "      <td>float64</td>\n",
              "      <td>float64</td>\n",
              "      <td>float64</td>\n",
              "      <td>float64</td>\n",
              "    </tr>\n",
              "    <tr>\n",
              "      <th>2000-01-07</th>\n",
              "      <td>float64</td>\n",
              "      <td>float64</td>\n",
              "      <td>float64</td>\n",
              "      <td>float64</td>\n",
              "    </tr>\n",
              "  </tbody>\n",
              "</table>\n",
              "</div>"
            ],
            "text/plain": [
              "                  A        B        C        D\n",
              "2000-01-03  float64  float64  float64  float64\n",
              "2000-01-04  float64  float64  float64  float64\n",
              "2000-01-05  float64  float64  float64  float64\n",
              "2000-01-06  float64  float64  float64  float64\n",
              "2000-01-07  float64  float64  float64  float64"
            ]
          },
          "metadata": {
            "tags": []
          },
          "execution_count": 275
        }
      ]
    },
    {
      "metadata": {
        "id": "0jlSuLl-XDD3",
        "colab_type": "text"
      },
      "cell_type": "markdown",
      "source": [
        "A similar reduction type operation"
      ]
    },
    {
      "metadata": {
        "id": "Y_Io4QYRXDD4",
        "colab_type": "code",
        "colab": {},
        "outputId": "e22c32d0-b13d-4980-cd1d-a9c6b206eca7"
      },
      "cell_type": "code",
      "source": [
        "panel.apply(lambda x: x.sum(), axis='major_axis')"
      ],
      "execution_count": 0,
      "outputs": [
        {
          "output_type": "execute_result",
          "data": {
            "text/html": [
              "<div>\n",
              "<table border=\"1\" class=\"dataframe\">\n",
              "  <thead>\n",
              "    <tr style=\"text-align: right;\">\n",
              "      <th></th>\n",
              "      <th>ItemA</th>\n",
              "      <th>ItemB</th>\n",
              "      <th>ItemC</th>\n",
              "    </tr>\n",
              "  </thead>\n",
              "  <tbody>\n",
              "    <tr>\n",
              "      <th>A</th>\n",
              "      <td>-1.604865</td>\n",
              "      <td>-2.079969</td>\n",
              "      <td>2.066802</td>\n",
              "    </tr>\n",
              "    <tr>\n",
              "      <th>B</th>\n",
              "      <td>2.928932</td>\n",
              "      <td>0.784355</td>\n",
              "      <td>-0.273076</td>\n",
              "    </tr>\n",
              "    <tr>\n",
              "      <th>C</th>\n",
              "      <td>3.858473</td>\n",
              "      <td>1.079016</td>\n",
              "      <td>2.652317</td>\n",
              "    </tr>\n",
              "    <tr>\n",
              "      <th>D</th>\n",
              "      <td>-0.593823</td>\n",
              "      <td>-0.130808</td>\n",
              "      <td>-0.283707</td>\n",
              "    </tr>\n",
              "  </tbody>\n",
              "</table>\n",
              "</div>"
            ],
            "text/plain": [
              "      ItemA     ItemB     ItemC\n",
              "A -1.604865 -2.079969  2.066802\n",
              "B  2.928932  0.784355 -0.273076\n",
              "C  3.858473  1.079016  2.652317\n",
              "D -0.593823 -0.130808 -0.283707"
            ]
          },
          "metadata": {
            "tags": []
          },
          "execution_count": 276
        }
      ]
    },
    {
      "metadata": {
        "id": "741OQhZnXDD4",
        "colab_type": "text"
      },
      "cell_type": "markdown",
      "source": [
        "This last reduction is equivalent to"
      ]
    },
    {
      "metadata": {
        "id": "3H1RvA6MXDD4",
        "colab_type": "code",
        "colab": {},
        "outputId": "e8e8af79-6110-4fa1-952b-786a6aff83e7"
      },
      "cell_type": "code",
      "source": [
        "panel.sum('major_axis')"
      ],
      "execution_count": 0,
      "outputs": [
        {
          "output_type": "execute_result",
          "data": {
            "text/html": [
              "<div>\n",
              "<table border=\"1\" class=\"dataframe\">\n",
              "  <thead>\n",
              "    <tr style=\"text-align: right;\">\n",
              "      <th></th>\n",
              "      <th>ItemA</th>\n",
              "      <th>ItemB</th>\n",
              "      <th>ItemC</th>\n",
              "    </tr>\n",
              "  </thead>\n",
              "  <tbody>\n",
              "    <tr>\n",
              "      <th>A</th>\n",
              "      <td>-1.604865</td>\n",
              "      <td>-2.079969</td>\n",
              "      <td>2.066802</td>\n",
              "    </tr>\n",
              "    <tr>\n",
              "      <th>B</th>\n",
              "      <td>2.928932</td>\n",
              "      <td>0.784355</td>\n",
              "      <td>-0.273076</td>\n",
              "    </tr>\n",
              "    <tr>\n",
              "      <th>C</th>\n",
              "      <td>3.858473</td>\n",
              "      <td>1.079016</td>\n",
              "      <td>2.652317</td>\n",
              "    </tr>\n",
              "    <tr>\n",
              "      <th>D</th>\n",
              "      <td>-0.593823</td>\n",
              "      <td>-0.130808</td>\n",
              "      <td>-0.283707</td>\n",
              "    </tr>\n",
              "  </tbody>\n",
              "</table>\n",
              "</div>"
            ],
            "text/plain": [
              "      ItemA     ItemB     ItemC\n",
              "A -1.604865 -2.079969  2.066802\n",
              "B  2.928932  0.784355 -0.273076\n",
              "C  3.858473  1.079016  2.652317\n",
              "D -0.593823 -0.130808 -0.283707"
            ]
          },
          "metadata": {
            "tags": []
          },
          "execution_count": 277
        }
      ]
    },
    {
      "metadata": {
        "id": "W_n8RhsYXDD4",
        "colab_type": "text"
      },
      "cell_type": "markdown",
      "source": [
        "A transformation operation that returns a Panel, but is computing the z-score across the major_axis."
      ]
    },
    {
      "metadata": {
        "id": "g_xIYjhZXDD4",
        "colab_type": "code",
        "colab": {},
        "collapsed": true
      },
      "cell_type": "code",
      "source": [
        "result = panel.apply(\n",
        "    lambda x: (x-x.mean())/x.std(),\n",
        "    axis='major_axis')"
      ],
      "execution_count": 0,
      "outputs": []
    },
    {
      "metadata": {
        "id": "3HsVVK8-XDD5",
        "colab_type": "code",
        "colab": {},
        "outputId": "09e15709-02a7-4c81-e80b-44a77d8f8cfd"
      },
      "cell_type": "code",
      "source": [
        "result"
      ],
      "execution_count": 0,
      "outputs": [
        {
          "output_type": "execute_result",
          "data": {
            "text/plain": [
              "<class 'pandas.core.panel.Panel'>\n",
              "Dimensions: 3 (items) x 5 (major_axis) x 4 (minor_axis)\n",
              "Items axis: ItemA to ItemC\n",
              "Major_axis axis: 2000-01-03 00:00:00 to 2000-01-07 00:00:00\n",
              "Minor_axis axis: A to D"
            ]
          },
          "metadata": {
            "tags": []
          },
          "execution_count": 279
        }
      ]
    },
    {
      "metadata": {
        "id": "RfLJDBFvXDD6",
        "colab_type": "code",
        "colab": {},
        "outputId": "18ac3467-a464-4436-beaa-b66cc0eef024"
      },
      "cell_type": "code",
      "source": [
        "result['ItemA']"
      ],
      "execution_count": 0,
      "outputs": [
        {
          "output_type": "execute_result",
          "data": {
            "text/html": [
              "<div>\n",
              "<table border=\"1\" class=\"dataframe\">\n",
              "  <thead>\n",
              "    <tr style=\"text-align: right;\">\n",
              "      <th></th>\n",
              "      <th>A</th>\n",
              "      <th>B</th>\n",
              "      <th>C</th>\n",
              "      <th>D</th>\n",
              "    </tr>\n",
              "  </thead>\n",
              "  <tbody>\n",
              "    <tr>\n",
              "      <th>2000-01-03</th>\n",
              "      <td>0.820281</td>\n",
              "      <td>0.661912</td>\n",
              "      <td>0.251757</td>\n",
              "      <td>0.592760</td>\n",
              "    </tr>\n",
              "    <tr>\n",
              "      <th>2000-01-04</th>\n",
              "      <td>-0.708973</td>\n",
              "      <td>-1.297066</td>\n",
              "      <td>-0.134415</td>\n",
              "      <td>-0.949898</td>\n",
              "    </tr>\n",
              "    <tr>\n",
              "      <th>2000-01-05</th>\n",
              "      <td>-1.215232</td>\n",
              "      <td>0.209813</td>\n",
              "      <td>1.576221</td>\n",
              "      <td>-1.035425</td>\n",
              "    </tr>\n",
              "    <tr>\n",
              "      <th>2000-01-06</th>\n",
              "      <td>-0.055650</td>\n",
              "      <td>-0.721410</td>\n",
              "      <td>-0.846129</td>\n",
              "      <td>0.102728</td>\n",
              "    </tr>\n",
              "    <tr>\n",
              "      <th>2000-01-07</th>\n",
              "      <td>1.159574</td>\n",
              "      <td>1.146751</td>\n",
              "      <td>-0.847434</td>\n",
              "      <td>1.289834</td>\n",
              "    </tr>\n",
              "  </tbody>\n",
              "</table>\n",
              "</div>"
            ],
            "text/plain": [
              "                   A         B         C         D\n",
              "2000-01-03  0.820281  0.661912  0.251757  0.592760\n",
              "2000-01-04 -0.708973 -1.297066 -0.134415 -0.949898\n",
              "2000-01-05 -1.215232  0.209813  1.576221 -1.035425\n",
              "2000-01-06 -0.055650 -0.721410 -0.846129  0.102728\n",
              "2000-01-07  1.159574  1.146751 -0.847434  1.289834"
            ]
          },
          "metadata": {
            "tags": []
          },
          "execution_count": 280
        }
      ]
    },
    {
      "metadata": {
        "id": "0uXI89MOXDD6",
        "colab_type": "text"
      },
      "cell_type": "markdown",
      "source": [
        "Apply can also accept multiple axes in the axis argument. This will pass a DataFrame of the cross-section to the applied function."
      ]
    },
    {
      "metadata": {
        "id": "wjKDozlPXDD6",
        "colab_type": "code",
        "colab": {},
        "collapsed": true
      },
      "cell_type": "code",
      "source": [
        "f = lambda x: ((x.T-x.mean(1))/x.std(1)).T"
      ],
      "execution_count": 0,
      "outputs": []
    },
    {
      "metadata": {
        "id": "0nrFQ0uKXDD7",
        "colab_type": "code",
        "colab": {},
        "collapsed": true
      },
      "cell_type": "code",
      "source": [
        "result = panel.apply(f, axis = ['items','major_axis'])"
      ],
      "execution_count": 0,
      "outputs": []
    },
    {
      "metadata": {
        "id": "oRP5ye9DXDD7",
        "colab_type": "code",
        "colab": {},
        "outputId": "02ba400a-97f0-42da-e151-3a92de89aed0"
      },
      "cell_type": "code",
      "source": [
        "result"
      ],
      "execution_count": 0,
      "outputs": [
        {
          "output_type": "execute_result",
          "data": {
            "text/plain": [
              "<class 'pandas.core.panel.Panel'>\n",
              "Dimensions: 4 (items) x 5 (major_axis) x 3 (minor_axis)\n",
              "Items axis: A to D\n",
              "Major_axis axis: 2000-01-03 00:00:00 to 2000-01-07 00:00:00\n",
              "Minor_axis axis: ItemA to ItemC"
            ]
          },
          "metadata": {
            "tags": []
          },
          "execution_count": 283
        }
      ]
    },
    {
      "metadata": {
        "id": "5tAL17kGXDD8",
        "colab_type": "code",
        "colab": {},
        "outputId": "e52a1b50-4eff-4c51-cd0b-aab7057fa335"
      },
      "cell_type": "code",
      "source": [
        "result.loc[:,:,'ItemA']"
      ],
      "execution_count": 0,
      "outputs": [
        {
          "output_type": "execute_result",
          "data": {
            "text/html": [
              "<div>\n",
              "<table border=\"1\" class=\"dataframe\">\n",
              "  <thead>\n",
              "    <tr style=\"text-align: right;\">\n",
              "      <th></th>\n",
              "      <th>A</th>\n",
              "      <th>B</th>\n",
              "      <th>C</th>\n",
              "      <th>D</th>\n",
              "    </tr>\n",
              "  </thead>\n",
              "  <tbody>\n",
              "    <tr>\n",
              "      <th>2000-01-03</th>\n",
              "      <td>0.170102</td>\n",
              "      <td>1.137731</td>\n",
              "      <td>0.882365</td>\n",
              "      <td>0.943867</td>\n",
              "    </tr>\n",
              "    <tr>\n",
              "      <th>2000-01-04</th>\n",
              "      <td>-0.910008</td>\n",
              "      <td>-1.107344</td>\n",
              "      <td>-0.468222</td>\n",
              "      <td>-0.681336</td>\n",
              "    </tr>\n",
              "    <tr>\n",
              "      <th>2000-01-05</th>\n",
              "      <td>-0.939701</td>\n",
              "      <td>-0.585970</td>\n",
              "      <td>1.122760</td>\n",
              "      <td>-0.908065</td>\n",
              "    </tr>\n",
              "    <tr>\n",
              "      <th>2000-01-06</th>\n",
              "      <td>0.356126</td>\n",
              "      <td>-1.102907</td>\n",
              "      <td>-0.578516</td>\n",
              "      <td>0.332407</td>\n",
              "    </tr>\n",
              "    <tr>\n",
              "      <th>2000-01-07</th>\n",
              "      <td>0.673951</td>\n",
              "      <td>1.075835</td>\n",
              "      <td>-0.506175</td>\n",
              "      <td>1.105989</td>\n",
              "    </tr>\n",
              "  </tbody>\n",
              "</table>\n",
              "</div>"
            ],
            "text/plain": [
              "                   A         B         C         D\n",
              "2000-01-03  0.170102  1.137731  0.882365  0.943867\n",
              "2000-01-04 -0.910008 -1.107344 -0.468222 -0.681336\n",
              "2000-01-05 -0.939701 -0.585970  1.122760 -0.908065\n",
              "2000-01-06  0.356126 -1.102907 -0.578516  0.332407\n",
              "2000-01-07  0.673951  1.075835 -0.506175  1.105989"
            ]
          },
          "metadata": {
            "tags": []
          },
          "execution_count": 285
        }
      ]
    },
    {
      "metadata": {
        "id": "qx-0iVELXDD9",
        "colab_type": "text"
      },
      "cell_type": "markdown",
      "source": [
        "This is equivalent to the following"
      ]
    },
    {
      "metadata": {
        "id": "omzwu7dEXDD9",
        "colab_type": "code",
        "colab": {},
        "collapsed": true
      },
      "cell_type": "code",
      "source": [
        "result = pd.Panel(dict([ (ax, f(panel.loc[:,:,ax]))\n",
        "                  for ax in panel.minor_axis ]))      "
      ],
      "execution_count": 0,
      "outputs": []
    },
    {
      "metadata": {
        "id": "2QM__Y0BXDD9",
        "colab_type": "code",
        "colab": {},
        "outputId": "f9c994cd-21e1-4eae-9532-f46da1cccefa"
      },
      "cell_type": "code",
      "source": [
        "result"
      ],
      "execution_count": 0,
      "outputs": [
        {
          "output_type": "execute_result",
          "data": {
            "text/plain": [
              "<class 'pandas.core.panel.Panel'>\n",
              "Dimensions: 4 (items) x 5 (major_axis) x 3 (minor_axis)\n",
              "Items axis: A to D\n",
              "Major_axis axis: 2000-01-03 00:00:00 to 2000-01-07 00:00:00\n",
              "Minor_axis axis: ItemA to ItemC"
            ]
          },
          "metadata": {
            "tags": []
          },
          "execution_count": 287
        }
      ]
    },
    {
      "metadata": {
        "id": "U5ITMDcYXDD-",
        "colab_type": "code",
        "colab": {},
        "outputId": "aa5c72d4-d14e-4c07-9ced-314607246380"
      },
      "cell_type": "code",
      "source": [
        "result.loc[:,:,'ItemA']"
      ],
      "execution_count": 0,
      "outputs": [
        {
          "output_type": "execute_result",
          "data": {
            "text/html": [
              "<div>\n",
              "<table border=\"1\" class=\"dataframe\">\n",
              "  <thead>\n",
              "    <tr style=\"text-align: right;\">\n",
              "      <th></th>\n",
              "      <th>A</th>\n",
              "      <th>B</th>\n",
              "      <th>C</th>\n",
              "      <th>D</th>\n",
              "    </tr>\n",
              "  </thead>\n",
              "  <tbody>\n",
              "    <tr>\n",
              "      <th>2000-01-03</th>\n",
              "      <td>0.170102</td>\n",
              "      <td>1.137731</td>\n",
              "      <td>0.882365</td>\n",
              "      <td>0.943867</td>\n",
              "    </tr>\n",
              "    <tr>\n",
              "      <th>2000-01-04</th>\n",
              "      <td>-0.910008</td>\n",
              "      <td>-1.107344</td>\n",
              "      <td>-0.468222</td>\n",
              "      <td>-0.681336</td>\n",
              "    </tr>\n",
              "    <tr>\n",
              "      <th>2000-01-05</th>\n",
              "      <td>-0.939701</td>\n",
              "      <td>-0.585970</td>\n",
              "      <td>1.122760</td>\n",
              "      <td>-0.908065</td>\n",
              "    </tr>\n",
              "    <tr>\n",
              "      <th>2000-01-06</th>\n",
              "      <td>0.356126</td>\n",
              "      <td>-1.102907</td>\n",
              "      <td>-0.578516</td>\n",
              "      <td>0.332407</td>\n",
              "    </tr>\n",
              "    <tr>\n",
              "      <th>2000-01-07</th>\n",
              "      <td>0.673951</td>\n",
              "      <td>1.075835</td>\n",
              "      <td>-0.506175</td>\n",
              "      <td>1.105989</td>\n",
              "    </tr>\n",
              "  </tbody>\n",
              "</table>\n",
              "</div>"
            ],
            "text/plain": [
              "                   A         B         C         D\n",
              "2000-01-03  0.170102  1.137731  0.882365  0.943867\n",
              "2000-01-04 -0.910008 -1.107344 -0.468222 -0.681336\n",
              "2000-01-05 -0.939701 -0.585970  1.122760 -0.908065\n",
              "2000-01-06  0.356126 -1.102907 -0.578516  0.332407\n",
              "2000-01-07  0.673951  1.075835 -0.506175  1.105989"
            ]
          },
          "metadata": {
            "tags": []
          },
          "execution_count": 288
        }
      ]
    },
    {
      "metadata": {
        "id": "7iLNhCEwXDD-",
        "colab_type": "text"
      },
      "cell_type": "markdown",
      "source": [
        "## Reindexing and altering labels"
      ]
    },
    {
      "metadata": {
        "id": "ZaeN99SFXDD-",
        "colab_type": "text"
      },
      "cell_type": "markdown",
      "source": [
        "**reindex()** is the fundamental data alignment method in pandas. It is used to implement nearly all other features relying on label-alignment functionality. To reindex means to conform the data to match a given set of labels along a particular axis. This accomplishes several things:\n",
        "\n",
        "* Reorders the existing data to match a new set of labels\n",
        "* Inserts missing value (NA) markers in label locations where no data for that label existed\n",
        "* If specified, **fill** data for missing labels using logic (highly relevant to working with time series data)\n",
        "\n",
        "Here is a simple example:"
      ]
    },
    {
      "metadata": {
        "id": "qzv95bXRXDD-",
        "colab_type": "code",
        "colab": {},
        "collapsed": true
      },
      "cell_type": "code",
      "source": [
        "s = pd.Series(np.random.randn(5), index=['a', 'b', 'c', 'd', 'e'])"
      ],
      "execution_count": 0,
      "outputs": []
    },
    {
      "metadata": {
        "id": "qwoaUe7wXDD_",
        "colab_type": "code",
        "colab": {},
        "outputId": "a46dfe22-d9ac-40ad-a3f9-4274d60bf66d"
      },
      "cell_type": "code",
      "source": [
        "s"
      ],
      "execution_count": 0,
      "outputs": [
        {
          "output_type": "execute_result",
          "data": {
            "text/plain": [
              "a   -1.463969\n",
              "b   -2.022841\n",
              "c   -1.637103\n",
              "d    0.005063\n",
              "e    0.097862\n",
              "dtype: float64"
            ]
          },
          "metadata": {
            "tags": []
          },
          "execution_count": 290
        }
      ]
    },
    {
      "metadata": {
        "id": "n9PKaDEyXDD_",
        "colab_type": "code",
        "colab": {},
        "outputId": "22739c92-e93b-42d5-da42-3baae18cf022"
      },
      "cell_type": "code",
      "source": [
        "s.reindex(['e', 'b', 'f', 'd'])"
      ],
      "execution_count": 0,
      "outputs": [
        {
          "output_type": "execute_result",
          "data": {
            "text/plain": [
              "e    0.097862\n",
              "b   -2.022841\n",
              "f         NaN\n",
              "d    0.005063\n",
              "dtype: float64"
            ]
          },
          "metadata": {
            "tags": []
          },
          "execution_count": 291
        }
      ]
    },
    {
      "metadata": {
        "id": "XHEB3m8OXDEA",
        "colab_type": "text"
      },
      "cell_type": "markdown",
      "source": [
        "Here, the f label was not contained in the Series and hence appears as NaN in the result.\n",
        "\n",
        "With a DataFrame, you can simultaneously reindex the index and columns:"
      ]
    },
    {
      "metadata": {
        "id": "MaCD3VVnXDEA",
        "colab_type": "code",
        "colab": {},
        "outputId": "1758e08e-6dce-414b-c0f8-66d1ceca3906"
      },
      "cell_type": "code",
      "source": [
        "df"
      ],
      "execution_count": 0,
      "outputs": [
        {
          "output_type": "execute_result",
          "data": {
            "text/html": [
              "<div>\n",
              "<table border=\"1\" class=\"dataframe\">\n",
              "  <thead>\n",
              "    <tr style=\"text-align: right;\">\n",
              "      <th></th>\n",
              "      <th>one</th>\n",
              "      <th>three</th>\n",
              "      <th>two</th>\n",
              "    </tr>\n",
              "  </thead>\n",
              "  <tbody>\n",
              "    <tr>\n",
              "      <th>a</th>\n",
              "      <td>-0.648508</td>\n",
              "      <td>NaN</td>\n",
              "      <td>-1.060154</td>\n",
              "    </tr>\n",
              "    <tr>\n",
              "      <th>b</th>\n",
              "      <td>0.580513</td>\n",
              "      <td>-1.818959</td>\n",
              "      <td>-0.744376</td>\n",
              "    </tr>\n",
              "    <tr>\n",
              "      <th>c</th>\n",
              "      <td>0.935250</td>\n",
              "      <td>-0.932856</td>\n",
              "      <td>-1.752320</td>\n",
              "    </tr>\n",
              "    <tr>\n",
              "      <th>d</th>\n",
              "      <td>NaN</td>\n",
              "      <td>0.877767</td>\n",
              "      <td>-0.799884</td>\n",
              "    </tr>\n",
              "  </tbody>\n",
              "</table>\n",
              "</div>"
            ],
            "text/plain": [
              "        one     three       two\n",
              "a -0.648508       NaN -1.060154\n",
              "b  0.580513 -1.818959 -0.744376\n",
              "c  0.935250 -0.932856 -1.752320\n",
              "d       NaN  0.877767 -0.799884"
            ]
          },
          "metadata": {
            "tags": []
          },
          "execution_count": 292
        }
      ]
    },
    {
      "metadata": {
        "id": "gj52t-a4XDEB",
        "colab_type": "code",
        "colab": {},
        "outputId": "3872e2c4-2732-4ff7-f2e5-ebe8f2cb8fb0"
      },
      "cell_type": "code",
      "source": [
        "df.reindex(index=['c', 'f', 'b'], columns=['three', 'two', 'one'])"
      ],
      "execution_count": 0,
      "outputs": [
        {
          "output_type": "execute_result",
          "data": {
            "text/html": [
              "<div>\n",
              "<table border=\"1\" class=\"dataframe\">\n",
              "  <thead>\n",
              "    <tr style=\"text-align: right;\">\n",
              "      <th></th>\n",
              "      <th>three</th>\n",
              "      <th>two</th>\n",
              "      <th>one</th>\n",
              "    </tr>\n",
              "  </thead>\n",
              "  <tbody>\n",
              "    <tr>\n",
              "      <th>c</th>\n",
              "      <td>-0.932856</td>\n",
              "      <td>-1.752320</td>\n",
              "      <td>0.935250</td>\n",
              "    </tr>\n",
              "    <tr>\n",
              "      <th>f</th>\n",
              "      <td>NaN</td>\n",
              "      <td>NaN</td>\n",
              "      <td>NaN</td>\n",
              "    </tr>\n",
              "    <tr>\n",
              "      <th>b</th>\n",
              "      <td>-1.818959</td>\n",
              "      <td>-0.744376</td>\n",
              "      <td>0.580513</td>\n",
              "    </tr>\n",
              "  </tbody>\n",
              "</table>\n",
              "</div>"
            ],
            "text/plain": [
              "      three       two       one\n",
              "c -0.932856 -1.752320  0.935250\n",
              "f       NaN       NaN       NaN\n",
              "b -1.818959 -0.744376  0.580513"
            ]
          },
          "metadata": {
            "tags": []
          },
          "execution_count": 293
        }
      ]
    },
    {
      "metadata": {
        "id": "4wUJM1G2XDEC",
        "colab_type": "text"
      },
      "cell_type": "markdown",
      "source": [
        "For convenience, you may utilize the **reindex_axis()** method, which takes the labels and a keyword axis parameter.\n",
        "\n",
        "Note that the Index objects containing the actual axis labels can be **shared** between objects. So if we have a Series and a DataFrame, the following can be done:"
      ]
    },
    {
      "metadata": {
        "id": "uAEzueCuXDEC",
        "colab_type": "code",
        "colab": {},
        "outputId": "37a05a0f-5925-43c6-ff0b-bd0f9e2b05ac"
      },
      "cell_type": "code",
      "source": [
        "s"
      ],
      "execution_count": 0,
      "outputs": [
        {
          "output_type": "execute_result",
          "data": {
            "text/plain": [
              "a   -1.463969\n",
              "b   -2.022841\n",
              "c   -1.637103\n",
              "d    0.005063\n",
              "e    0.097862\n",
              "dtype: float64"
            ]
          },
          "metadata": {
            "tags": []
          },
          "execution_count": 294
        }
      ]
    },
    {
      "metadata": {
        "id": "X0beLPirXDEC",
        "colab_type": "code",
        "colab": {},
        "outputId": "26385ca2-d1b2-4789-e417-ca38cfc06101"
      },
      "cell_type": "code",
      "source": [
        "df.index"
      ],
      "execution_count": 0,
      "outputs": [
        {
          "output_type": "execute_result",
          "data": {
            "text/plain": [
              "Index([u'a', u'b', u'c', u'd'], dtype='object')"
            ]
          },
          "metadata": {
            "tags": []
          },
          "execution_count": 295
        }
      ]
    },
    {
      "metadata": {
        "id": "c6DnNKhjXDEE",
        "colab_type": "code",
        "colab": {},
        "collapsed": true
      },
      "cell_type": "code",
      "source": [
        "rs = s.reindex(df.index)"
      ],
      "execution_count": 0,
      "outputs": []
    },
    {
      "metadata": {
        "id": "Oujmpv4wXDEE",
        "colab_type": "code",
        "colab": {},
        "outputId": "60d5e60f-3ba4-4c65-8702-fd886f4f9248"
      },
      "cell_type": "code",
      "source": [
        "rs.index is df.index"
      ],
      "execution_count": 0,
      "outputs": [
        {
          "output_type": "execute_result",
          "data": {
            "text/plain": [
              "True"
            ]
          },
          "metadata": {
            "tags": []
          },
          "execution_count": 297
        }
      ]
    },
    {
      "metadata": {
        "id": "qSElzfdgXDEF",
        "colab_type": "text"
      },
      "cell_type": "markdown",
      "source": [
        "This means that the reindexed Series’s index is the same Python object as the DataFrame’s index.\n",
        "\n",
        "**See also:** [MultiIndex / Advanced Indexing](http://pandas.pydata.org/pandas-docs/stable/advanced.html#advanced) is an even more concise way of doing reindexing.\n",
        "\n",
        "**Note:** When writing performance-sensitive code, there is a good reason to spend some time becoming a reindexing ninja: **many operations are faster on pre-aligned data.** Adding two unaligned DataFrames internally triggers a reindexing step. For exploratory analysis you will hardly notice the difference (because reindex has been heavily optimized), but when CPU cycles matter sprinkling a few explicit reindex calls here and there can have an impact."
      ]
    },
    {
      "metadata": {
        "id": "72e1VndsXDEF",
        "colab_type": "text"
      },
      "cell_type": "markdown",
      "source": [
        "### Reindexing to align with another object"
      ]
    },
    {
      "metadata": {
        "id": "uO8D33xPXDEF",
        "colab_type": "text"
      },
      "cell_type": "markdown",
      "source": [
        "You may wish to take an object and reindex its axes to be labeled the same as another object. While the syntax for this is straightforward albeit verbose, it is a common enough operation that the **reindex_like()** method is available to make this simpler:"
      ]
    },
    {
      "metadata": {
        "id": "LXZGXqXvXDEF",
        "colab_type": "code",
        "colab": {},
        "outputId": "f1b629b5-8bf5-4342-9d1f-48fe445421a1"
      },
      "cell_type": "code",
      "source": [
        "df"
      ],
      "execution_count": 0,
      "outputs": [
        {
          "output_type": "execute_result",
          "data": {
            "text/html": [
              "<div>\n",
              "<table border=\"1\" class=\"dataframe\">\n",
              "  <thead>\n",
              "    <tr style=\"text-align: right;\">\n",
              "      <th></th>\n",
              "      <th>one</th>\n",
              "      <th>three</th>\n",
              "      <th>two</th>\n",
              "    </tr>\n",
              "  </thead>\n",
              "  <tbody>\n",
              "    <tr>\n",
              "      <th>a</th>\n",
              "      <td>-0.648508</td>\n",
              "      <td>NaN</td>\n",
              "      <td>-1.060154</td>\n",
              "    </tr>\n",
              "    <tr>\n",
              "      <th>b</th>\n",
              "      <td>0.580513</td>\n",
              "      <td>-1.818959</td>\n",
              "      <td>-0.744376</td>\n",
              "    </tr>\n",
              "    <tr>\n",
              "      <th>c</th>\n",
              "      <td>0.935250</td>\n",
              "      <td>-0.932856</td>\n",
              "      <td>-1.752320</td>\n",
              "    </tr>\n",
              "    <tr>\n",
              "      <th>d</th>\n",
              "      <td>NaN</td>\n",
              "      <td>0.877767</td>\n",
              "      <td>-0.799884</td>\n",
              "    </tr>\n",
              "  </tbody>\n",
              "</table>\n",
              "</div>"
            ],
            "text/plain": [
              "        one     three       two\n",
              "a -0.648508       NaN -1.060154\n",
              "b  0.580513 -1.818959 -0.744376\n",
              "c  0.935250 -0.932856 -1.752320\n",
              "d       NaN  0.877767 -0.799884"
            ]
          },
          "metadata": {
            "tags": []
          },
          "execution_count": 303
        }
      ]
    },
    {
      "metadata": {
        "id": "Xf7USjlRXDEI",
        "colab_type": "code",
        "colab": {}
      },
      "cell_type": "code",
      "source": [
        "df2 = df[0:3].copy()"
      ],
      "execution_count": 0,
      "outputs": []
    },
    {
      "metadata": {
        "id": "-Ue7sfpMXDEK",
        "colab_type": "code",
        "colab": {},
        "outputId": "e8f39074-225e-4872-8602-f6e96e5de762"
      },
      "cell_type": "code",
      "source": [
        "df2"
      ],
      "execution_count": 0,
      "outputs": [
        {
          "output_type": "execute_result",
          "data": {
            "text/html": [
              "<div>\n",
              "<table border=\"1\" class=\"dataframe\">\n",
              "  <thead>\n",
              "    <tr style=\"text-align: right;\">\n",
              "      <th></th>\n",
              "      <th>one</th>\n",
              "      <th>three</th>\n",
              "      <th>two</th>\n",
              "    </tr>\n",
              "  </thead>\n",
              "  <tbody>\n",
              "    <tr>\n",
              "      <th>a</th>\n",
              "      <td>-0.648508</td>\n",
              "      <td>NaN</td>\n",
              "      <td>-1.060154</td>\n",
              "    </tr>\n",
              "    <tr>\n",
              "      <th>b</th>\n",
              "      <td>0.580513</td>\n",
              "      <td>-1.818959</td>\n",
              "      <td>-0.744376</td>\n",
              "    </tr>\n",
              "    <tr>\n",
              "      <th>c</th>\n",
              "      <td>0.935250</td>\n",
              "      <td>-0.932856</td>\n",
              "      <td>-1.752320</td>\n",
              "    </tr>\n",
              "  </tbody>\n",
              "</table>\n",
              "</div>"
            ],
            "text/plain": [
              "        one     three       two\n",
              "a -0.648508       NaN -1.060154\n",
              "b  0.580513 -1.818959 -0.744376\n",
              "c  0.935250 -0.932856 -1.752320"
            ]
          },
          "metadata": {
            "tags": []
          },
          "execution_count": 308
        }
      ]
    },
    {
      "metadata": {
        "id": "Pr8FlkObXDEK",
        "colab_type": "code",
        "colab": {},
        "outputId": "1725d168-4662-4aac-cee7-6a56061f59e0"
      },
      "cell_type": "code",
      "source": [
        "df.reindex_like(df2)"
      ],
      "execution_count": 0,
      "outputs": [
        {
          "output_type": "execute_result",
          "data": {
            "text/html": [
              "<div>\n",
              "<table border=\"1\" class=\"dataframe\">\n",
              "  <thead>\n",
              "    <tr style=\"text-align: right;\">\n",
              "      <th></th>\n",
              "      <th>one</th>\n",
              "      <th>three</th>\n",
              "      <th>two</th>\n",
              "    </tr>\n",
              "  </thead>\n",
              "  <tbody>\n",
              "    <tr>\n",
              "      <th>a</th>\n",
              "      <td>-0.648508</td>\n",
              "      <td>NaN</td>\n",
              "      <td>-1.060154</td>\n",
              "    </tr>\n",
              "    <tr>\n",
              "      <th>b</th>\n",
              "      <td>0.580513</td>\n",
              "      <td>-1.818959</td>\n",
              "      <td>-0.744376</td>\n",
              "    </tr>\n",
              "    <tr>\n",
              "      <th>c</th>\n",
              "      <td>0.935250</td>\n",
              "      <td>-0.932856</td>\n",
              "      <td>-1.752320</td>\n",
              "    </tr>\n",
              "  </tbody>\n",
              "</table>\n",
              "</div>"
            ],
            "text/plain": [
              "        one     three       two\n",
              "a -0.648508       NaN -1.060154\n",
              "b  0.580513 -1.818959 -0.744376\n",
              "c  0.935250 -0.932856 -1.752320"
            ]
          },
          "metadata": {
            "tags": []
          },
          "execution_count": 309
        }
      ]
    },
    {
      "metadata": {
        "id": "yFpRsn8bXDEL",
        "colab_type": "text"
      },
      "cell_type": "markdown",
      "source": [
        "### Aligning objects with each other with align"
      ]
    },
    {
      "metadata": {
        "id": "xFUzNzJJXDEL",
        "colab_type": "text"
      },
      "cell_type": "markdown",
      "source": [
        "The align() method is the fastest way to simultaneously align two objects. It supports a join argument (related to [joining and merging)](http://pandas.pydata.org/pandas-docs/stable/merging.html#merging):\n",
        "\n",
        "* `join='outer'`: take the union of the indexes (default)\n",
        "* `join='left'`: use the calling object’s index\n",
        "* `join='right'`: use the passed object’s index\n",
        "* `join='inner'`: intersect the indexes\n",
        "\n",
        "It returns a tuple with both of the reindexed Series:"
      ]
    },
    {
      "metadata": {
        "id": "feSRCrsiXDEL",
        "colab_type": "code",
        "colab": {},
        "collapsed": true
      },
      "cell_type": "code",
      "source": [
        "s = pd.Series(np.random.randn(5), index=['a', 'b', 'c', 'd', 'e'])"
      ],
      "execution_count": 0,
      "outputs": []
    },
    {
      "metadata": {
        "id": "RzQitONTXDEL",
        "colab_type": "code",
        "colab": {},
        "outputId": "0220cb30-f966-4482-c21e-e1ca509e9fc8"
      },
      "cell_type": "code",
      "source": [
        "s"
      ],
      "execution_count": 0,
      "outputs": [
        {
          "output_type": "execute_result",
          "data": {
            "text/plain": [
              "a    0.315921\n",
              "b    0.096587\n",
              "c   -1.466747\n",
              "d   -2.207584\n",
              "e    0.643140\n",
              "dtype: float64"
            ]
          },
          "metadata": {
            "tags": []
          },
          "execution_count": 311
        }
      ]
    },
    {
      "metadata": {
        "id": "2E60SLYmXDEM",
        "colab_type": "code",
        "colab": {},
        "collapsed": true
      },
      "cell_type": "code",
      "source": [
        "s1 = s[:4]"
      ],
      "execution_count": 0,
      "outputs": []
    },
    {
      "metadata": {
        "id": "gx02_HBKXDEN",
        "colab_type": "code",
        "colab": {},
        "collapsed": true
      },
      "cell_type": "code",
      "source": [
        "s2 = s[1:]"
      ],
      "execution_count": 0,
      "outputs": []
    },
    {
      "metadata": {
        "id": "a_qdtg0tXDEN",
        "colab_type": "code",
        "colab": {},
        "outputId": "18be5e76-b225-4168-a80e-d664a4dd0e01"
      },
      "cell_type": "code",
      "source": [
        "s1"
      ],
      "execution_count": 0,
      "outputs": [
        {
          "output_type": "execute_result",
          "data": {
            "text/plain": [
              "a    0.315921\n",
              "b    0.096587\n",
              "c   -1.466747\n",
              "d   -2.207584\n",
              "dtype: float64"
            ]
          },
          "metadata": {
            "tags": []
          },
          "execution_count": 314
        }
      ]
    },
    {
      "metadata": {
        "id": "65ppiPXVXDEN",
        "colab_type": "code",
        "colab": {},
        "outputId": "6c8f09be-600e-4029-a036-8e4bd6630a2d"
      },
      "cell_type": "code",
      "source": [
        "s2"
      ],
      "execution_count": 0,
      "outputs": [
        {
          "output_type": "execute_result",
          "data": {
            "text/plain": [
              "b    0.096587\n",
              "c   -1.466747\n",
              "d   -2.207584\n",
              "e    0.643140\n",
              "dtype: float64"
            ]
          },
          "metadata": {
            "tags": []
          },
          "execution_count": 315
        }
      ]
    },
    {
      "metadata": {
        "id": "szhjZsSzXDEO",
        "colab_type": "code",
        "colab": {},
        "outputId": "2f0e5c7c-796a-487f-a29e-b12587238ba5"
      },
      "cell_type": "code",
      "source": [
        "s1.align(s2)"
      ],
      "execution_count": 0,
      "outputs": [
        {
          "output_type": "execute_result",
          "data": {
            "text/plain": [
              "(a    0.315921\n",
              " b    0.096587\n",
              " c   -1.466747\n",
              " d   -2.207584\n",
              " e         NaN\n",
              " dtype: float64, a         NaN\n",
              " b    0.096587\n",
              " c   -1.466747\n",
              " d   -2.207584\n",
              " e    0.643140\n",
              " dtype: float64)"
            ]
          },
          "metadata": {
            "tags": []
          },
          "execution_count": 316
        }
      ]
    },
    {
      "metadata": {
        "id": "fYjaTXHxXDEO",
        "colab_type": "code",
        "colab": {},
        "outputId": "84c699b2-a4bd-4854-e6c9-b11fe45b3384"
      },
      "cell_type": "code",
      "source": [
        "s1.align(s2, join='inner')"
      ],
      "execution_count": 0,
      "outputs": [
        {
          "output_type": "execute_result",
          "data": {
            "text/plain": [
              "(b    0.096587\n",
              " c   -1.466747\n",
              " d   -2.207584\n",
              " dtype: float64, b    0.096587\n",
              " c   -1.466747\n",
              " d   -2.207584\n",
              " dtype: float64)"
            ]
          },
          "metadata": {
            "tags": []
          },
          "execution_count": 317
        }
      ]
    },
    {
      "metadata": {
        "id": "NKeoVvbbXDEP",
        "colab_type": "code",
        "colab": {},
        "outputId": "22e6ca69-f711-47fd-90ea-95ceb26ff018"
      },
      "cell_type": "code",
      "source": [
        "s1.align(s2, join='left')"
      ],
      "execution_count": 0,
      "outputs": [
        {
          "output_type": "execute_result",
          "data": {
            "text/plain": [
              "(a    0.315921\n",
              " b    0.096587\n",
              " c   -1.466747\n",
              " d   -2.207584\n",
              " dtype: float64, a         NaN\n",
              " b    0.096587\n",
              " c   -1.466747\n",
              " d   -2.207584\n",
              " dtype: float64)"
            ]
          },
          "metadata": {
            "tags": []
          },
          "execution_count": 318
        }
      ]
    },
    {
      "metadata": {
        "id": "PlyaeSk5XDEP",
        "colab_type": "text"
      },
      "cell_type": "markdown",
      "source": [
        "For DataFrames, the join method will be applied to both the index and the columns by default:"
      ]
    },
    {
      "metadata": {
        "id": "JzjkSeaDXDEP",
        "colab_type": "code",
        "colab": {},
        "outputId": "94d94a6f-4115-4057-c638-dcf5661f163d"
      },
      "cell_type": "code",
      "source": [
        "df.align(df2, join='inner')"
      ],
      "execution_count": 0,
      "outputs": [
        {
          "output_type": "execute_result",
          "data": {
            "text/plain": [
              "(        one     three       two\n",
              " a -0.648508       NaN -1.060154\n",
              " b  0.580513 -1.818959 -0.744376\n",
              " c  0.935250 -0.932856 -1.752320,         one     three       two\n",
              " a -0.648508       NaN -1.060154\n",
              " b  0.580513 -1.818959 -0.744376\n",
              " c  0.935250 -0.932856 -1.752320)"
            ]
          },
          "metadata": {
            "tags": []
          },
          "execution_count": 319
        }
      ]
    },
    {
      "metadata": {
        "id": "zxOgg2wUXDEQ",
        "colab_type": "text"
      },
      "cell_type": "markdown",
      "source": [
        "You can also pass an axis option to only align on the specified axis:"
      ]
    },
    {
      "metadata": {
        "id": "Yu705a-BXDEQ",
        "colab_type": "code",
        "colab": {},
        "outputId": "db14d7a2-89ab-4042-addd-26d6938a0dcc"
      },
      "cell_type": "code",
      "source": [
        " df.align(df2, join='inner', axis=0)"
      ],
      "execution_count": 0,
      "outputs": [
        {
          "output_type": "execute_result",
          "data": {
            "text/plain": [
              "(        one     three       two\n",
              " a -0.648508       NaN -1.060154\n",
              " b  0.580513 -1.818959 -0.744376\n",
              " c  0.935250 -0.932856 -1.752320,         one     three       two\n",
              " a -0.648508       NaN -1.060154\n",
              " b  0.580513 -1.818959 -0.744376\n",
              " c  0.935250 -0.932856 -1.752320)"
            ]
          },
          "metadata": {
            "tags": []
          },
          "execution_count": 322
        }
      ]
    },
    {
      "metadata": {
        "id": "pepAOCpkXDER",
        "colab_type": "text"
      },
      "cell_type": "markdown",
      "source": [
        "If you pass a Series to **DataFrame.align()**, you can choose to align both objects either on the DataFrame’s index or columns using the axis argument:"
      ]
    },
    {
      "metadata": {
        "id": "Ude_iBkQXDER",
        "colab_type": "code",
        "colab": {},
        "outputId": "02ac921b-9976-45bd-9cd8-160d8ec015e0"
      },
      "cell_type": "code",
      "source": [
        "df.align(df2.ix[0], axis=1)"
      ],
      "execution_count": 0,
      "outputs": [
        {
          "output_type": "execute_result",
          "data": {
            "text/plain": [
              "(        one     three       two\n",
              " a -0.648508       NaN -1.060154\n",
              " b  0.580513 -1.818959 -0.744376\n",
              " c  0.935250 -0.932856 -1.752320\n",
              " d       NaN  0.877767 -0.799884, one     -0.648508\n",
              " three         NaN\n",
              " two     -1.060154\n",
              " Name: a, dtype: float64)"
            ]
          },
          "metadata": {
            "tags": []
          },
          "execution_count": 324
        }
      ]
    },
    {
      "metadata": {
        "id": "Yl5R-y7pXDES",
        "colab_type": "text"
      },
      "cell_type": "markdown",
      "source": [
        "### Filling while reindexing"
      ]
    },
    {
      "metadata": {
        "id": "Lbr_sjt8XDES",
        "colab_type": "text"
      },
      "cell_type": "markdown",
      "source": [
        "**reindex()** takes an optional parameter method which is a filling method chosen from the following table:"
      ]
    },
    {
      "metadata": {
        "id": "x5Yx76OwXDES",
        "colab_type": "text"
      },
      "cell_type": "markdown",
      "source": [
        "<table border=\"1\" class=\"docutils\" align = \"left\">\n",
        "<colgroup>\n",
        "<col width=\"38%\" />\n",
        "<col width=\"63%\" />\n",
        "</colgroup>\n",
        "<thead valign=\"bottom\">\n",
        "<tr class=\"row-odd\"><th class=\"head\">Method</th>\n",
        "<th class=\"head\">Action</th>\n",
        "</tr>\n",
        "</thead>\n",
        "<tbody valign=\"top\">\n",
        "<tr class=\"row-even\"><td>pad / ffill</td>\n",
        "<td>Fill values forward</td>\n",
        "</tr>\n",
        "<tr class=\"row-odd\"><td>bfill / backfill</td>\n",
        "<td>Fill values backward</td>\n",
        "</tr>\n",
        "<tr class=\"row-even\"><td>nearest</td>\n",
        "<td>Fill from the nearest index value</td>\n",
        "</tr>\n",
        "</tbody>\n",
        "</table>"
      ]
    },
    {
      "metadata": {
        "id": "w3cpFYCZXDES",
        "colab_type": "text"
      },
      "cell_type": "markdown",
      "source": [
        "We illustrate these fill methods on a simple Series:"
      ]
    },
    {
      "metadata": {
        "id": "S6NcgjbcXDES",
        "colab_type": "code",
        "colab": {},
        "collapsed": true
      },
      "cell_type": "code",
      "source": [
        "rng = pd.date_range('1/3/2000', periods=8)"
      ],
      "execution_count": 0,
      "outputs": []
    },
    {
      "metadata": {
        "id": "RprLfbXrXDES",
        "colab_type": "code",
        "colab": {},
        "collapsed": true
      },
      "cell_type": "code",
      "source": [
        "ts = pd.Series(np.random.randn(8), index=rng)"
      ],
      "execution_count": 0,
      "outputs": []
    },
    {
      "metadata": {
        "id": "4XPuM-65XDES",
        "colab_type": "code",
        "colab": {}
      },
      "cell_type": "code",
      "source": [
        "ts2 = ts[[0, 3, 6]]"
      ],
      "execution_count": 0,
      "outputs": []
    },
    {
      "metadata": {
        "id": "T53H7y0IXDET",
        "colab_type": "code",
        "colab": {},
        "outputId": "f6ae6000-b6ef-4a7a-ab98-f6b3f1049906"
      },
      "cell_type": "code",
      "source": [
        "ts"
      ],
      "execution_count": 0,
      "outputs": [
        {
          "output_type": "execute_result",
          "data": {
            "text/plain": [
              "2000-01-03   -1.289331\n",
              "2000-01-04   -0.222518\n",
              "2000-01-05   -0.471495\n",
              "2000-01-06   -0.359290\n",
              "2000-01-07    0.692203\n",
              "2000-01-08    1.241683\n",
              "2000-01-09    0.062904\n",
              "2000-01-10   -1.059759\n",
              "Freq: D, dtype: float64"
            ]
          },
          "metadata": {
            "tags": []
          },
          "execution_count": 329
        }
      ]
    },
    {
      "metadata": {
        "id": "PNDySkL4XDET",
        "colab_type": "code",
        "colab": {},
        "outputId": "c337ec66-1430-4b22-bb80-caccddd1c9c7"
      },
      "cell_type": "code",
      "source": [
        "ts2"
      ],
      "execution_count": 0,
      "outputs": [
        {
          "output_type": "execute_result",
          "data": {
            "text/plain": [
              "2000-01-03   -1.289331\n",
              "2000-01-06   -0.359290\n",
              "2000-01-09    0.062904\n",
              "dtype: float64"
            ]
          },
          "metadata": {
            "tags": []
          },
          "execution_count": 330
        }
      ]
    },
    {
      "metadata": {
        "id": "lxkmPdftXDEU",
        "colab_type": "code",
        "colab": {},
        "outputId": "387f3660-c507-49c7-8ff1-c5578b4af889"
      },
      "cell_type": "code",
      "source": [
        "ts2.reindex(ts.index)"
      ],
      "execution_count": 0,
      "outputs": [
        {
          "output_type": "execute_result",
          "data": {
            "text/plain": [
              "2000-01-03   -1.289331\n",
              "2000-01-04         NaN\n",
              "2000-01-05         NaN\n",
              "2000-01-06   -0.359290\n",
              "2000-01-07         NaN\n",
              "2000-01-08         NaN\n",
              "2000-01-09    0.062904\n",
              "2000-01-10         NaN\n",
              "Freq: D, dtype: float64"
            ]
          },
          "metadata": {
            "tags": []
          },
          "execution_count": 331
        }
      ]
    },
    {
      "metadata": {
        "id": "NPxTwWhBXDEV",
        "colab_type": "code",
        "colab": {},
        "outputId": "bd2fc3ab-eaea-440f-95b8-66e57542357c"
      },
      "cell_type": "code",
      "source": [
        "ts2.reindex(ts.index, method='ffill')"
      ],
      "execution_count": 0,
      "outputs": [
        {
          "output_type": "execute_result",
          "data": {
            "text/plain": [
              "2000-01-03   -1.289331\n",
              "2000-01-04   -1.289331\n",
              "2000-01-05   -1.289331\n",
              "2000-01-06   -0.359290\n",
              "2000-01-07   -0.359290\n",
              "2000-01-08   -0.359290\n",
              "2000-01-09    0.062904\n",
              "2000-01-10    0.062904\n",
              "Freq: D, dtype: float64"
            ]
          },
          "metadata": {
            "tags": []
          },
          "execution_count": 332
        }
      ]
    },
    {
      "metadata": {
        "id": "X0-fRPTGXDEW",
        "colab_type": "code",
        "colab": {},
        "outputId": "ee310778-d624-47ad-c5bb-ee878ece5638"
      },
      "cell_type": "code",
      "source": [
        "ts2.reindex(ts.index, method='bfill')"
      ],
      "execution_count": 0,
      "outputs": [
        {
          "output_type": "execute_result",
          "data": {
            "text/plain": [
              "2000-01-03   -1.289331\n",
              "2000-01-04   -0.359290\n",
              "2000-01-05   -0.359290\n",
              "2000-01-06   -0.359290\n",
              "2000-01-07    0.062904\n",
              "2000-01-08    0.062904\n",
              "2000-01-09    0.062904\n",
              "2000-01-10         NaN\n",
              "Freq: D, dtype: float64"
            ]
          },
          "metadata": {
            "tags": []
          },
          "execution_count": 333
        }
      ]
    },
    {
      "metadata": {
        "id": "dKr8ZwpUXDEW",
        "colab_type": "code",
        "colab": {},
        "outputId": "71d5c992-d750-48a9-b906-bded25589f87"
      },
      "cell_type": "code",
      "source": [
        "ts2.reindex(ts.index, method='nearest')"
      ],
      "execution_count": 0,
      "outputs": [
        {
          "output_type": "execute_result",
          "data": {
            "text/plain": [
              "2000-01-03   -1.289331\n",
              "2000-01-04   -1.289331\n",
              "2000-01-05   -0.359290\n",
              "2000-01-06   -0.359290\n",
              "2000-01-07   -0.359290\n",
              "2000-01-08    0.062904\n",
              "2000-01-09    0.062904\n",
              "2000-01-10    0.062904\n",
              "Freq: D, dtype: float64"
            ]
          },
          "metadata": {
            "tags": []
          },
          "execution_count": 334
        }
      ]
    },
    {
      "metadata": {
        "id": "r5_FIy_SXDEW",
        "colab_type": "text"
      },
      "cell_type": "markdown",
      "source": [
        "These methods require that the indexes are **ordered** increasing or decreasing.\n",
        "\n",
        "Note that the same result could have been achieved using [fillna](http://pandas.pydata.org/pandas-docs/stable/missing_data.html#missing-data-fillna) (except for method='nearest') or [interpolate](http://pandas.pydata.org/pandas-docs/stable/missing_data.html#missing-data-interpolate):"
      ]
    },
    {
      "metadata": {
        "id": "yXNbhsiDXDEX",
        "colab_type": "code",
        "colab": {},
        "outputId": "ab5ab8f4-4364-4662-aa15-cad796751390"
      },
      "cell_type": "code",
      "source": [
        "ts2.reindex(ts.index).fillna(method='ffill')"
      ],
      "execution_count": 0,
      "outputs": [
        {
          "output_type": "execute_result",
          "data": {
            "text/plain": [
              "2000-01-03   -1.289331\n",
              "2000-01-04   -1.289331\n",
              "2000-01-05   -1.289331\n",
              "2000-01-06   -0.359290\n",
              "2000-01-07   -0.359290\n",
              "2000-01-08   -0.359290\n",
              "2000-01-09    0.062904\n",
              "2000-01-10    0.062904\n",
              "Freq: D, dtype: float64"
            ]
          },
          "metadata": {
            "tags": []
          },
          "execution_count": 335
        }
      ]
    },
    {
      "metadata": {
        "id": "A_20YPE8XDEa",
        "colab_type": "text"
      },
      "cell_type": "markdown",
      "source": [
        "**reindex()** will raise a ValueError if the index is not monotonic increasing or decreasing. **fillna()** and **interpolate()** will not make any checks on the order of the index."
      ]
    },
    {
      "metadata": {
        "id": "Og-tjilEXDEa",
        "colab_type": "text"
      },
      "cell_type": "markdown",
      "source": [
        "### Limits on filling while reindexing"
      ]
    },
    {
      "metadata": {
        "id": "xVZqAOY_XDEa",
        "colab_type": "text"
      },
      "cell_type": "markdown",
      "source": [
        "The limit and tolerance arguments provide additional control over filling while reindexing. Limit specifies the maximum count of consecutive matches:"
      ]
    },
    {
      "metadata": {
        "id": "d_k8fuYIXDEa",
        "colab_type": "code",
        "colab": {},
        "outputId": "d8daf52b-40b1-4617-f5fa-60e35c903cdf"
      },
      "cell_type": "code",
      "source": [
        "ts2.reindex(ts.index, method='ffill', limit=1)"
      ],
      "execution_count": 0,
      "outputs": [
        {
          "output_type": "execute_result",
          "data": {
            "text/plain": [
              "2000-01-03   -1.289331\n",
              "2000-01-04   -1.289331\n",
              "2000-01-05         NaN\n",
              "2000-01-06   -0.359290\n",
              "2000-01-07   -0.359290\n",
              "2000-01-08         NaN\n",
              "2000-01-09    0.062904\n",
              "2000-01-10    0.062904\n",
              "Freq: D, dtype: float64"
            ]
          },
          "metadata": {
            "tags": []
          },
          "execution_count": 336
        }
      ]
    },
    {
      "metadata": {
        "id": "FU2NpyRuXDEb",
        "colab_type": "text"
      },
      "cell_type": "markdown",
      "source": [
        "In contrast, tolerance specifies the maximum distance between the index and indexer values:"
      ]
    },
    {
      "metadata": {
        "id": "jyVO9gbpXDEb",
        "colab_type": "code",
        "colab": {},
        "outputId": "5d81710a-1c3b-41a6-fb19-eab4686c906e"
      },
      "cell_type": "code",
      "source": [
        "ts2.reindex(ts.index, method='ffill', tolerance='1 day')"
      ],
      "execution_count": 0,
      "outputs": [
        {
          "output_type": "execute_result",
          "data": {
            "text/plain": [
              "2000-01-03   -1.289331\n",
              "2000-01-04   -1.289331\n",
              "2000-01-05         NaN\n",
              "2000-01-06   -0.359290\n",
              "2000-01-07   -0.359290\n",
              "2000-01-08         NaN\n",
              "2000-01-09    0.062904\n",
              "2000-01-10    0.062904\n",
              "Freq: D, dtype: float64"
            ]
          },
          "metadata": {
            "tags": []
          },
          "execution_count": 337
        }
      ]
    },
    {
      "metadata": {
        "id": "pb-fwIADXDEc",
        "colab_type": "text"
      },
      "cell_type": "markdown",
      "source": [
        "Notice that when used on a DatetimeIndex, TimedeltaIndex or PeriodIndex, tolerance will coerced into a Timedelta if possible. This allows you to specify tolerance with appropriate strings."
      ]
    },
    {
      "metadata": {
        "id": "dJyirdb1XDEc",
        "colab_type": "text"
      },
      "cell_type": "markdown",
      "source": [
        "### Dropping labels from an axis"
      ]
    },
    {
      "metadata": {
        "id": "fPir3NFIXDEc",
        "colab_type": "text"
      },
      "cell_type": "markdown",
      "source": [
        "A method closely related to reindex is the drop() function. It removes a set of labels from an axis:"
      ]
    },
    {
      "metadata": {
        "id": "GIKiGE1wXDEd",
        "colab_type": "code",
        "colab": {},
        "outputId": "bdbe14e0-4520-48fb-f30c-c8c48871878b"
      },
      "cell_type": "code",
      "source": [
        "df"
      ],
      "execution_count": 0,
      "outputs": [
        {
          "output_type": "execute_result",
          "data": {
            "text/html": [
              "<div>\n",
              "<table border=\"1\" class=\"dataframe\">\n",
              "  <thead>\n",
              "    <tr style=\"text-align: right;\">\n",
              "      <th></th>\n",
              "      <th>one</th>\n",
              "      <th>three</th>\n",
              "      <th>two</th>\n",
              "    </tr>\n",
              "  </thead>\n",
              "  <tbody>\n",
              "    <tr>\n",
              "      <th>a</th>\n",
              "      <td>-0.648508</td>\n",
              "      <td>NaN</td>\n",
              "      <td>-1.060154</td>\n",
              "    </tr>\n",
              "    <tr>\n",
              "      <th>b</th>\n",
              "      <td>0.580513</td>\n",
              "      <td>-1.818959</td>\n",
              "      <td>-0.744376</td>\n",
              "    </tr>\n",
              "    <tr>\n",
              "      <th>c</th>\n",
              "      <td>0.935250</td>\n",
              "      <td>-0.932856</td>\n",
              "      <td>-1.752320</td>\n",
              "    </tr>\n",
              "    <tr>\n",
              "      <th>d</th>\n",
              "      <td>NaN</td>\n",
              "      <td>0.877767</td>\n",
              "      <td>-0.799884</td>\n",
              "    </tr>\n",
              "  </tbody>\n",
              "</table>\n",
              "</div>"
            ],
            "text/plain": [
              "        one     three       two\n",
              "a -0.648508       NaN -1.060154\n",
              "b  0.580513 -1.818959 -0.744376\n",
              "c  0.935250 -0.932856 -1.752320\n",
              "d       NaN  0.877767 -0.799884"
            ]
          },
          "metadata": {
            "tags": []
          },
          "execution_count": 338
        }
      ]
    },
    {
      "metadata": {
        "id": "QcgZwMEgXDEd",
        "colab_type": "code",
        "colab": {},
        "outputId": "2add3ee5-5534-48ab-d1b8-d16552f21776"
      },
      "cell_type": "code",
      "source": [
        "df.drop(['a', 'd'], axis=0)"
      ],
      "execution_count": 0,
      "outputs": [
        {
          "output_type": "execute_result",
          "data": {
            "text/html": [
              "<div>\n",
              "<table border=\"1\" class=\"dataframe\">\n",
              "  <thead>\n",
              "    <tr style=\"text-align: right;\">\n",
              "      <th></th>\n",
              "      <th>one</th>\n",
              "      <th>three</th>\n",
              "      <th>two</th>\n",
              "    </tr>\n",
              "  </thead>\n",
              "  <tbody>\n",
              "    <tr>\n",
              "      <th>b</th>\n",
              "      <td>0.580513</td>\n",
              "      <td>-1.818959</td>\n",
              "      <td>-0.744376</td>\n",
              "    </tr>\n",
              "    <tr>\n",
              "      <th>c</th>\n",
              "      <td>0.935250</td>\n",
              "      <td>-0.932856</td>\n",
              "      <td>-1.752320</td>\n",
              "    </tr>\n",
              "  </tbody>\n",
              "</table>\n",
              "</div>"
            ],
            "text/plain": [
              "        one     three       two\n",
              "b  0.580513 -1.818959 -0.744376\n",
              "c  0.935250 -0.932856 -1.752320"
            ]
          },
          "metadata": {
            "tags": []
          },
          "execution_count": 339
        }
      ]
    },
    {
      "metadata": {
        "id": "Vsi_VOg5XDEd",
        "colab_type": "code",
        "colab": {},
        "outputId": "1b9c31a2-bb93-4d82-c4e1-84c1cbe5aa2a"
      },
      "cell_type": "code",
      "source": [
        "df.drop(['one'], axis=1)"
      ],
      "execution_count": 0,
      "outputs": [
        {
          "output_type": "execute_result",
          "data": {
            "text/html": [
              "<div>\n",
              "<table border=\"1\" class=\"dataframe\">\n",
              "  <thead>\n",
              "    <tr style=\"text-align: right;\">\n",
              "      <th></th>\n",
              "      <th>three</th>\n",
              "      <th>two</th>\n",
              "    </tr>\n",
              "  </thead>\n",
              "  <tbody>\n",
              "    <tr>\n",
              "      <th>a</th>\n",
              "      <td>NaN</td>\n",
              "      <td>-1.060154</td>\n",
              "    </tr>\n",
              "    <tr>\n",
              "      <th>b</th>\n",
              "      <td>-1.818959</td>\n",
              "      <td>-0.744376</td>\n",
              "    </tr>\n",
              "    <tr>\n",
              "      <th>c</th>\n",
              "      <td>-0.932856</td>\n",
              "      <td>-1.752320</td>\n",
              "    </tr>\n",
              "    <tr>\n",
              "      <th>d</th>\n",
              "      <td>0.877767</td>\n",
              "      <td>-0.799884</td>\n",
              "    </tr>\n",
              "  </tbody>\n",
              "</table>\n",
              "</div>"
            ],
            "text/plain": [
              "      three       two\n",
              "a       NaN -1.060154\n",
              "b -1.818959 -0.744376\n",
              "c -0.932856 -1.752320\n",
              "d  0.877767 -0.799884"
            ]
          },
          "metadata": {
            "tags": []
          },
          "execution_count": 340
        }
      ]
    },
    {
      "metadata": {
        "id": "bCubPigSXDEf",
        "colab_type": "text"
      },
      "cell_type": "markdown",
      "source": [
        "Note that the following also works, but is a bit less obvious / clean:"
      ]
    },
    {
      "metadata": {
        "id": "rdY8_UCwXDEf",
        "colab_type": "code",
        "colab": {},
        "outputId": "73a04101-136e-46f3-c8a7-81e07f9c7bd5"
      },
      "cell_type": "code",
      "source": [
        "df.reindex(df.index.difference(['a', 'd']))"
      ],
      "execution_count": 0,
      "outputs": [
        {
          "output_type": "execute_result",
          "data": {
            "text/html": [
              "<div>\n",
              "<table border=\"1\" class=\"dataframe\">\n",
              "  <thead>\n",
              "    <tr style=\"text-align: right;\">\n",
              "      <th></th>\n",
              "      <th>one</th>\n",
              "      <th>three</th>\n",
              "      <th>two</th>\n",
              "    </tr>\n",
              "  </thead>\n",
              "  <tbody>\n",
              "    <tr>\n",
              "      <th>b</th>\n",
              "      <td>0.580513</td>\n",
              "      <td>-1.818959</td>\n",
              "      <td>-0.744376</td>\n",
              "    </tr>\n",
              "    <tr>\n",
              "      <th>c</th>\n",
              "      <td>0.935250</td>\n",
              "      <td>-0.932856</td>\n",
              "      <td>-1.752320</td>\n",
              "    </tr>\n",
              "  </tbody>\n",
              "</table>\n",
              "</div>"
            ],
            "text/plain": [
              "        one     three       two\n",
              "b  0.580513 -1.818959 -0.744376\n",
              "c  0.935250 -0.932856 -1.752320"
            ]
          },
          "metadata": {
            "tags": []
          },
          "execution_count": 341
        }
      ]
    },
    {
      "metadata": {
        "id": "7enVLMKnXDEf",
        "colab_type": "text"
      },
      "cell_type": "markdown",
      "source": [
        "### Renaming / mapping labels"
      ]
    },
    {
      "metadata": {
        "id": "kZxjjzGJXDEf",
        "colab_type": "text"
      },
      "cell_type": "markdown",
      "source": [
        "The **rename()** method allows you to relabel an axis based on some mapping (a dict or Series) or an arbitrary function."
      ]
    },
    {
      "metadata": {
        "id": "ahNfw-d3XDEf",
        "colab_type": "code",
        "colab": {},
        "outputId": "388037c9-c7f4-4c76-c0e2-26d0b692047b"
      },
      "cell_type": "code",
      "source": [
        "s"
      ],
      "execution_count": 0,
      "outputs": [
        {
          "output_type": "execute_result",
          "data": {
            "text/plain": [
              "a    0.315921\n",
              "b    0.096587\n",
              "c   -1.466747\n",
              "d   -2.207584\n",
              "e    0.643140\n",
              "dtype: float64"
            ]
          },
          "metadata": {
            "tags": []
          },
          "execution_count": 342
        }
      ]
    },
    {
      "metadata": {
        "id": "QNZw4eyVXDEg",
        "colab_type": "code",
        "colab": {},
        "outputId": "ee4525d2-9705-4087-9f3d-221b2eebb309"
      },
      "cell_type": "code",
      "source": [
        "s.rename(str.upper)"
      ],
      "execution_count": 0,
      "outputs": [
        {
          "output_type": "execute_result",
          "data": {
            "text/plain": [
              "A    0.315921\n",
              "B    0.096587\n",
              "C   -1.466747\n",
              "D   -2.207584\n",
              "E    0.643140\n",
              "dtype: float64"
            ]
          },
          "metadata": {
            "tags": []
          },
          "execution_count": 343
        }
      ]
    },
    {
      "metadata": {
        "id": "2GMn5D0xXDEh",
        "colab_type": "text"
      },
      "cell_type": "markdown",
      "source": [
        "If you pass a function, it must return a value when called with any of the labels (and must produce a set of unique values). But if you pass a dict or Series, it need only contain a subset of the labels as keys:"
      ]
    },
    {
      "metadata": {
        "id": "NhqsKFn5XDEh",
        "colab_type": "code",
        "colab": {},
        "outputId": "7180a55f-306e-44d0-b1d5-1cf3890c1f6a"
      },
      "cell_type": "code",
      "source": [
        "df.rename(columns={'one' : 'foo', 'two' : 'bar'},\n",
        "      index={'a' : 'apple', 'b' : 'banana', 'd' : 'durian'})    "
      ],
      "execution_count": 0,
      "outputs": [
        {
          "output_type": "execute_result",
          "data": {
            "text/html": [
              "<div>\n",
              "<table border=\"1\" class=\"dataframe\">\n",
              "  <thead>\n",
              "    <tr style=\"text-align: right;\">\n",
              "      <th></th>\n",
              "      <th>foo</th>\n",
              "      <th>three</th>\n",
              "      <th>bar</th>\n",
              "    </tr>\n",
              "  </thead>\n",
              "  <tbody>\n",
              "    <tr>\n",
              "      <th>apple</th>\n",
              "      <td>-0.648508</td>\n",
              "      <td>NaN</td>\n",
              "      <td>-1.060154</td>\n",
              "    </tr>\n",
              "    <tr>\n",
              "      <th>banana</th>\n",
              "      <td>0.580513</td>\n",
              "      <td>-1.818959</td>\n",
              "      <td>-0.744376</td>\n",
              "    </tr>\n",
              "    <tr>\n",
              "      <th>c</th>\n",
              "      <td>0.935250</td>\n",
              "      <td>-0.932856</td>\n",
              "      <td>-1.752320</td>\n",
              "    </tr>\n",
              "    <tr>\n",
              "      <th>durian</th>\n",
              "      <td>NaN</td>\n",
              "      <td>0.877767</td>\n",
              "      <td>-0.799884</td>\n",
              "    </tr>\n",
              "  </tbody>\n",
              "</table>\n",
              "</div>"
            ],
            "text/plain": [
              "             foo     three       bar\n",
              "apple  -0.648508       NaN -1.060154\n",
              "banana  0.580513 -1.818959 -0.744376\n",
              "c       0.935250 -0.932856 -1.752320\n",
              "durian       NaN  0.877767 -0.799884"
            ]
          },
          "metadata": {
            "tags": []
          },
          "execution_count": 344
        }
      ]
    },
    {
      "metadata": {
        "id": "2o4k7NnyXDEi",
        "colab_type": "text"
      },
      "cell_type": "markdown",
      "source": [
        "The **rename()** method also provides an inplace named parameter that is by default False and copies the underlying data. Pass inplace=True to rename the data in place.\n",
        "\n",
        "New in version 0.18.0.\n",
        "\n",
        "Finally, **rename()** also accepts a scalar or list-like for altering the Series.name attribute."
      ]
    },
    {
      "metadata": {
        "id": "kquDtjSGXDEi",
        "colab_type": "code",
        "colab": {},
        "outputId": "7bfed601-9347-4ab3-c859-1581f37d81c1"
      },
      "cell_type": "code",
      "source": [
        "s.rename(\"scalar-name\")"
      ],
      "execution_count": 0,
      "outputs": [
        {
          "output_type": "execute_result",
          "data": {
            "text/plain": [
              "a    0.315921\n",
              "b    0.096587\n",
              "c   -1.466747\n",
              "d   -2.207584\n",
              "e    0.643140\n",
              "Name: scalar-name, dtype: float64"
            ]
          },
          "metadata": {
            "tags": []
          },
          "execution_count": 345
        }
      ]
    },
    {
      "metadata": {
        "id": "4qCJKK6eXDEj",
        "colab_type": "text"
      },
      "cell_type": "markdown",
      "source": [
        "The Panel class has a related **rename_axis()** class which can rename any of its three axes."
      ]
    },
    {
      "metadata": {
        "id": "Yl4H4rlqXDEk",
        "colab_type": "text"
      },
      "cell_type": "markdown",
      "source": [
        "## Iteration"
      ]
    },
    {
      "metadata": {
        "id": "TL_CD9I0XDEk",
        "colab_type": "text"
      },
      "cell_type": "markdown",
      "source": [
        "The behavior of basic iteration over pandas objects depends on the type. When iterating over a Series, it is regarded as array-like, and basic iteration produces the values. Other data structures, like DataFrame and Panel, follow the dict-like convention of iterating over the “keys” of the objects.\n",
        "\n",
        "In short, basic iteration (for i in object) produces:\n",
        "\n",
        "* **Series:** values\n",
        "* **DataFrame:** column labels\n",
        "* **Panel:** item labels\n",
        "\n",
        "Thus, for example, iterating over a DataFrame gives you the column names:"
      ]
    },
    {
      "metadata": {
        "id": "qBYQxMmEXDEk",
        "colab_type": "code",
        "colab": {},
        "collapsed": true
      },
      "cell_type": "code",
      "source": [
        "df = pd.DataFrame({'col1' : np.random.randn(3), 'col2' : np.random.randn(3)},\n",
        "                  index=['a', 'b', 'c'])"
      ],
      "execution_count": 0,
      "outputs": []
    },
    {
      "metadata": {
        "id": "wT15WbckXDEk",
        "colab_type": "code",
        "colab": {},
        "outputId": "dc8d0db0-d479-43d9-8562-4037ceb143c6"
      },
      "cell_type": "code",
      "source": [
        "for col in df:\n",
        "    print(col)"
      ],
      "execution_count": 0,
      "outputs": [
        {
          "output_type": "stream",
          "text": [
            "col1\n",
            "col2\n"
          ],
          "name": "stdout"
        }
      ]
    },
    {
      "metadata": {
        "id": "QrzbvOCdXDEm",
        "colab_type": "text"
      },
      "cell_type": "markdown",
      "source": [
        "Pandas objects also have the dict-like iteritems() method to iterate over the (key, value) pairs.\n",
        "\n",
        "To iterate over the rows of a DataFrame, you can use the following methods:\n",
        "\n",
        "* **iterrows():** Iterate over the rows of a DataFrame as (index, Series) pairs. This converts the rows to Series objects, which can change the dtypes and has some performance implications.\n",
        "* **itertuples():** Iterate over the rows of a DataFrame as namedtuples of the values. This is a lot faster than iterrows(), and is in most cases preferable to use to iterate over the values of a DataFrame.\n",
        "\n",
        "**Warning:** Iterating through pandas objects is generally slow. In many cases, iterating manually over the rows is not needed and can be avoided with one of the following approaches:\n",
        "Look for a vectorized solution: many operations can be performed using built-in methods or numpy functions, (boolean) indexing, ...\n",
        "When you have a function that cannot work on the full DataFrame/Series at once, it is better to use apply() instead of iterating over the values. See the docs on function application.\n",
        "If you need to do iterative manipulations on the values but performance is important, consider writing the inner loop using e.g. cython or numba. See the enhancing performance section for some examples of this approach.\n",
        "\n",
        "**Warning:** You should never modify something you are iterating over. This is not guaranteed to work in all cases. Depending on the data types, the iterator returns a copy and not a view, and writing to it will have no effect!\n",
        "For example, in the following case setting the value has no effect:"
      ]
    },
    {
      "metadata": {
        "id": "UsKIPyXWXDEn",
        "colab_type": "code",
        "colab": {},
        "collapsed": true
      },
      "cell_type": "code",
      "source": [
        "df = pd.DataFrame({'a': [1, 2, 3], 'b': ['a', 'b', 'c']})"
      ],
      "execution_count": 0,
      "outputs": []
    },
    {
      "metadata": {
        "id": "B3eFCuSNXDEn",
        "colab_type": "code",
        "colab": {},
        "collapsed": true
      },
      "cell_type": "code",
      "source": [
        "for index, row in df.iterrows():\n",
        "    row['a'] = 10"
      ],
      "execution_count": 0,
      "outputs": []
    },
    {
      "metadata": {
        "id": "RZ8JLgpqXDEn",
        "colab_type": "code",
        "colab": {},
        "outputId": "59d1c7b9-aaa8-4b0b-ae9f-dc4fbc01ff0c"
      },
      "cell_type": "code",
      "source": [
        "df"
      ],
      "execution_count": 0,
      "outputs": [
        {
          "output_type": "execute_result",
          "data": {
            "text/html": [
              "<div>\n",
              "<table border=\"1\" class=\"dataframe\">\n",
              "  <thead>\n",
              "    <tr style=\"text-align: right;\">\n",
              "      <th></th>\n",
              "      <th>a</th>\n",
              "      <th>b</th>\n",
              "    </tr>\n",
              "  </thead>\n",
              "  <tbody>\n",
              "    <tr>\n",
              "      <th>0</th>\n",
              "      <td>1</td>\n",
              "      <td>a</td>\n",
              "    </tr>\n",
              "    <tr>\n",
              "      <th>1</th>\n",
              "      <td>2</td>\n",
              "      <td>b</td>\n",
              "    </tr>\n",
              "    <tr>\n",
              "      <th>2</th>\n",
              "      <td>3</td>\n",
              "      <td>c</td>\n",
              "    </tr>\n",
              "  </tbody>\n",
              "</table>\n",
              "</div>"
            ],
            "text/plain": [
              "   a  b\n",
              "0  1  a\n",
              "1  2  b\n",
              "2  3  c"
            ]
          },
          "metadata": {
            "tags": []
          },
          "execution_count": 350
        }
      ]
    },
    {
      "metadata": {
        "id": "XVeQ_IgvXDEo",
        "colab_type": "text"
      },
      "cell_type": "markdown",
      "source": [
        "### iteritems"
      ]
    },
    {
      "metadata": {
        "id": "ojUqiJEBXDEo",
        "colab_type": "text"
      },
      "cell_type": "markdown",
      "source": [
        "Consistent with the dict-like interface, **iteritems()** iterates through key-value pairs:\n",
        "\n",
        "* **Series:** (index, scalar value) pairs\n",
        "* **DataFrame:** (column, Series) pairs\n",
        "* **Panel:** (item, DataFrame) pairs\n",
        "\n",
        "For example:"
      ]
    },
    {
      "metadata": {
        "id": "2InrdLSVXDEp",
        "colab_type": "code",
        "colab": {},
        "outputId": "0ddaf07f-e590-4f48-dd0b-2d35ceb7aead"
      },
      "cell_type": "code",
      "source": [
        "for item, frame in wp.iteritems():\n",
        "    print(item)\n",
        "    print(frame)"
      ],
      "execution_count": 0,
      "outputs": [
        {
          "output_type": "stream",
          "text": [
            "Item1\n",
            "                   A         B         C         D\n",
            "2000-01-01  1.841800 -2.145367  0.370944  0.041665\n",
            "2000-01-02  1.147747  0.446823 -0.841678 -1.047763\n",
            "2000-01-03 -0.058012  0.593976 -0.172701 -0.322282\n",
            "2000-01-04  0.160701 -0.406863  0.859470  0.067646\n",
            "2000-01-05  1.270331 -2.623177 -0.197294 -0.547791\n",
            "Item2\n",
            "                   A         B         C         D\n",
            "2000-01-01  0.210865 -0.346281  0.168871  0.659295\n",
            "2000-01-02  0.490313 -0.077933 -0.568516 -1.753095\n",
            "2000-01-03 -0.199439  2.605886  0.278318  0.368171\n",
            "2000-01-04 -1.594580  0.631966 -0.424964  0.971190\n",
            "2000-01-05 -0.053151  1.113250  0.202868  1.311148\n"
          ],
          "name": "stdout"
        }
      ]
    },
    {
      "metadata": {
        "id": "KVqz0vQNXDEp",
        "colab_type": "text"
      },
      "cell_type": "markdown",
      "source": [
        "### iterrows"
      ]
    },
    {
      "metadata": {
        "id": "0R7zd5UWXDEq",
        "colab_type": "text"
      },
      "cell_type": "markdown",
      "source": [
        "**iterrows()** allows you to iterate through the rows of a DataFrame as Series objects. It returns an iterator yielding each index value along with a Series containing the data in each row:"
      ]
    },
    {
      "metadata": {
        "id": "0soCVa0QXDEq",
        "colab_type": "code",
        "colab": {},
        "outputId": "d6d134a5-7b38-4c60-851d-93fae738b7d4"
      },
      "cell_type": "code",
      "source": [
        "df"
      ],
      "execution_count": 0,
      "outputs": [
        {
          "output_type": "execute_result",
          "data": {
            "text/html": [
              "<div>\n",
              "<table border=\"1\" class=\"dataframe\">\n",
              "  <thead>\n",
              "    <tr style=\"text-align: right;\">\n",
              "      <th></th>\n",
              "      <th>a</th>\n",
              "      <th>b</th>\n",
              "    </tr>\n",
              "  </thead>\n",
              "  <tbody>\n",
              "    <tr>\n",
              "      <th>0</th>\n",
              "      <td>1</td>\n",
              "      <td>a</td>\n",
              "    </tr>\n",
              "    <tr>\n",
              "      <th>1</th>\n",
              "      <td>2</td>\n",
              "      <td>b</td>\n",
              "    </tr>\n",
              "    <tr>\n",
              "      <th>2</th>\n",
              "      <td>3</td>\n",
              "      <td>c</td>\n",
              "    </tr>\n",
              "  </tbody>\n",
              "</table>\n",
              "</div>"
            ],
            "text/plain": [
              "   a  b\n",
              "0  1  a\n",
              "1  2  b\n",
              "2  3  c"
            ]
          },
          "metadata": {
            "tags": []
          },
          "execution_count": 355
        }
      ]
    },
    {
      "metadata": {
        "id": "JuISJnudXDEq",
        "colab_type": "code",
        "colab": {},
        "outputId": "76e526e7-849f-46aa-900e-4402070eb32c"
      },
      "cell_type": "code",
      "source": [
        "for row_index, row in df.iterrows():\n",
        "    print row_index\n",
        "    print row"
      ],
      "execution_count": 0,
      "outputs": [
        {
          "output_type": "stream",
          "text": [
            "0\n",
            "a    1\n",
            "b    a\n",
            "Name: 0, dtype: object\n",
            "1\n",
            "a    2\n",
            "b    b\n",
            "Name: 1, dtype: object\n",
            "2\n",
            "a    3\n",
            "b    c\n",
            "Name: 2, dtype: object\n"
          ],
          "name": "stdout"
        }
      ]
    },
    {
      "metadata": {
        "id": "pCgEm8X1XDEr",
        "colab_type": "text"
      },
      "cell_type": "markdown",
      "source": [
        "**Note:** Because iterrows() returns a Series for each row, it does **not** preserve dtypes across the rows (dtypes are preserved across columns for DataFrames). For example,"
      ]
    },
    {
      "metadata": {
        "id": "W0QyODxgXDEr",
        "colab_type": "code",
        "colab": {},
        "collapsed": true
      },
      "cell_type": "code",
      "source": [
        "df_orig = pd.DataFrame([[1, 1.5]], columns=['int', 'float'])"
      ],
      "execution_count": 0,
      "outputs": []
    },
    {
      "metadata": {
        "id": "nwnks7ayXDEr",
        "colab_type": "code",
        "colab": {},
        "outputId": "7c6c3ebb-3abe-4ea6-9eb9-7c4f82839d98"
      },
      "cell_type": "code",
      "source": [
        "df_orig"
      ],
      "execution_count": 0,
      "outputs": [
        {
          "output_type": "execute_result",
          "data": {
            "text/html": [
              "<div>\n",
              "<table border=\"1\" class=\"dataframe\">\n",
              "  <thead>\n",
              "    <tr style=\"text-align: right;\">\n",
              "      <th></th>\n",
              "      <th>int</th>\n",
              "      <th>float</th>\n",
              "    </tr>\n",
              "  </thead>\n",
              "  <tbody>\n",
              "    <tr>\n",
              "      <th>0</th>\n",
              "      <td>1</td>\n",
              "      <td>1.5</td>\n",
              "    </tr>\n",
              "  </tbody>\n",
              "</table>\n",
              "</div>"
            ],
            "text/plain": [
              "   int  float\n",
              "0    1    1.5"
            ]
          },
          "metadata": {
            "tags": []
          },
          "execution_count": 361
        }
      ]
    },
    {
      "metadata": {
        "id": "IkCU18M4XDEs",
        "colab_type": "code",
        "colab": {},
        "outputId": "64fe14b6-d8db-4005-9f5f-969b637fd821"
      },
      "cell_type": "code",
      "source": [
        "df_orig.dtypes"
      ],
      "execution_count": 0,
      "outputs": [
        {
          "output_type": "execute_result",
          "data": {
            "text/plain": [
              "int        int64\n",
              "float    float64\n",
              "dtype: object"
            ]
          },
          "metadata": {
            "tags": []
          },
          "execution_count": 357
        }
      ]
    },
    {
      "metadata": {
        "id": "C9pYyWtrXDEt",
        "colab_type": "code",
        "colab": {},
        "collapsed": true
      },
      "cell_type": "code",
      "source": [
        "row = next(df_orig.iterrows())[1]"
      ],
      "execution_count": 0,
      "outputs": []
    },
    {
      "metadata": {
        "id": "AqZYPf7iXDEu",
        "colab_type": "code",
        "colab": {},
        "outputId": "5ec8b14c-e933-4116-9d11-e1df7cb85fd9"
      },
      "cell_type": "code",
      "source": [
        "row"
      ],
      "execution_count": 0,
      "outputs": [
        {
          "output_type": "execute_result",
          "data": {
            "text/plain": [
              "int      1.0\n",
              "float    1.5\n",
              "Name: 0, dtype: float64"
            ]
          },
          "metadata": {
            "tags": []
          },
          "execution_count": 360
        }
      ]
    },
    {
      "metadata": {
        "id": "PbzdKHCmXDEu",
        "colab_type": "text"
      },
      "cell_type": "markdown",
      "source": [
        "All values in row, returned as a Series, are now upcasted to floats, also the original integer value in column x:"
      ]
    },
    {
      "metadata": {
        "id": "o1L75PtFXDEv",
        "colab_type": "code",
        "colab": {},
        "outputId": "291b214a-46fe-4797-cec9-8c81ddcee92d"
      },
      "cell_type": "code",
      "source": [
        "row['int'].dtype"
      ],
      "execution_count": 0,
      "outputs": [
        {
          "output_type": "execute_result",
          "data": {
            "text/plain": [
              "dtype('float64')"
            ]
          },
          "metadata": {
            "tags": []
          },
          "execution_count": 362
        }
      ]
    },
    {
      "metadata": {
        "id": "9E5YlFs5XDEv",
        "colab_type": "code",
        "colab": {},
        "outputId": "b989de60-1ecf-4384-d4bd-5b1fdb5cd144"
      },
      "cell_type": "code",
      "source": [
        "df_orig['int'].dtype"
      ],
      "execution_count": 0,
      "outputs": [
        {
          "output_type": "execute_result",
          "data": {
            "text/plain": [
              "dtype('int64')"
            ]
          },
          "metadata": {
            "tags": []
          },
          "execution_count": 363
        }
      ]
    },
    {
      "metadata": {
        "id": "9F6vapDaXDEy",
        "colab_type": "text"
      },
      "cell_type": "markdown",
      "source": [
        "To preserve dtypes while iterating over the rows, it is better to use **itertuples()** which returns namedtuples of the values and which is generally much faster as iterrows."
      ]
    },
    {
      "metadata": {
        "id": "-JuDYMDiXDEy",
        "colab_type": "text"
      },
      "cell_type": "markdown",
      "source": [
        "For instance, a contrived way to transpose the DataFrame would be:"
      ]
    },
    {
      "metadata": {
        "id": "jpoVz-i4XDEy",
        "colab_type": "code",
        "colab": {},
        "collapsed": true
      },
      "cell_type": "code",
      "source": [
        "df2 = pd.DataFrame({'x': [1, 2, 3], 'y': [4, 5, 6]})"
      ],
      "execution_count": 0,
      "outputs": []
    },
    {
      "metadata": {
        "id": "tCO4Z5xBXDEy",
        "colab_type": "code",
        "colab": {},
        "outputId": "4f9c2d43-491a-455e-8d7d-b60aa745787f"
      },
      "cell_type": "code",
      "source": [
        "df2"
      ],
      "execution_count": 0,
      "outputs": [
        {
          "output_type": "execute_result",
          "data": {
            "text/html": [
              "<div>\n",
              "<table border=\"1\" class=\"dataframe\">\n",
              "  <thead>\n",
              "    <tr style=\"text-align: right;\">\n",
              "      <th></th>\n",
              "      <th>x</th>\n",
              "      <th>y</th>\n",
              "    </tr>\n",
              "  </thead>\n",
              "  <tbody>\n",
              "    <tr>\n",
              "      <th>0</th>\n",
              "      <td>1</td>\n",
              "      <td>4</td>\n",
              "    </tr>\n",
              "    <tr>\n",
              "      <th>1</th>\n",
              "      <td>2</td>\n",
              "      <td>5</td>\n",
              "    </tr>\n",
              "    <tr>\n",
              "      <th>2</th>\n",
              "      <td>3</td>\n",
              "      <td>6</td>\n",
              "    </tr>\n",
              "  </tbody>\n",
              "</table>\n",
              "</div>"
            ],
            "text/plain": [
              "   x  y\n",
              "0  1  4\n",
              "1  2  5\n",
              "2  3  6"
            ]
          },
          "metadata": {
            "tags": []
          },
          "execution_count": 365
        }
      ]
    },
    {
      "metadata": {
        "id": "BA90cAIcXDEz",
        "colab_type": "code",
        "colab": {},
        "outputId": "35eed6e7-7d7d-4869-e797-f52b8640ec03"
      },
      "cell_type": "code",
      "source": [
        "df2.T"
      ],
      "execution_count": 0,
      "outputs": [
        {
          "output_type": "execute_result",
          "data": {
            "text/html": [
              "<div>\n",
              "<table border=\"1\" class=\"dataframe\">\n",
              "  <thead>\n",
              "    <tr style=\"text-align: right;\">\n",
              "      <th></th>\n",
              "      <th>0</th>\n",
              "      <th>1</th>\n",
              "      <th>2</th>\n",
              "    </tr>\n",
              "  </thead>\n",
              "  <tbody>\n",
              "    <tr>\n",
              "      <th>x</th>\n",
              "      <td>1</td>\n",
              "      <td>2</td>\n",
              "      <td>3</td>\n",
              "    </tr>\n",
              "    <tr>\n",
              "      <th>y</th>\n",
              "      <td>4</td>\n",
              "      <td>5</td>\n",
              "      <td>6</td>\n",
              "    </tr>\n",
              "  </tbody>\n",
              "</table>\n",
              "</div>"
            ],
            "text/plain": [
              "   0  1  2\n",
              "x  1  2  3\n",
              "y  4  5  6"
            ]
          },
          "metadata": {
            "tags": []
          },
          "execution_count": 366
        }
      ]
    },
    {
      "metadata": {
        "id": "RSTUSaQNXDE0",
        "colab_type": "code",
        "colab": {},
        "collapsed": true
      },
      "cell_type": "code",
      "source": [
        "df2_t = pd.DataFrame(dict((idx,values) for idx, values in df2.iterrows()))"
      ],
      "execution_count": 0,
      "outputs": []
    },
    {
      "metadata": {
        "id": "JZUvh8NSXDE1",
        "colab_type": "code",
        "colab": {},
        "outputId": "0341ae01-e2c7-4c01-abc9-9d8f237ad275"
      },
      "cell_type": "code",
      "source": [
        "df2_t"
      ],
      "execution_count": 0,
      "outputs": [
        {
          "output_type": "execute_result",
          "data": {
            "text/html": [
              "<div>\n",
              "<table border=\"1\" class=\"dataframe\">\n",
              "  <thead>\n",
              "    <tr style=\"text-align: right;\">\n",
              "      <th></th>\n",
              "      <th>0</th>\n",
              "      <th>1</th>\n",
              "      <th>2</th>\n",
              "    </tr>\n",
              "  </thead>\n",
              "  <tbody>\n",
              "    <tr>\n",
              "      <th>x</th>\n",
              "      <td>1</td>\n",
              "      <td>2</td>\n",
              "      <td>3</td>\n",
              "    </tr>\n",
              "    <tr>\n",
              "      <th>y</th>\n",
              "      <td>4</td>\n",
              "      <td>5</td>\n",
              "      <td>6</td>\n",
              "    </tr>\n",
              "  </tbody>\n",
              "</table>\n",
              "</div>"
            ],
            "text/plain": [
              "   0  1  2\n",
              "x  1  2  3\n",
              "y  4  5  6"
            ]
          },
          "metadata": {
            "tags": []
          },
          "execution_count": 368
        }
      ]
    },
    {
      "metadata": {
        "id": "k0q6XAFGXDE1",
        "colab_type": "text"
      },
      "cell_type": "markdown",
      "source": [
        "### itertuples"
      ]
    },
    {
      "metadata": {
        "id": "cYDgg_7HXDE1",
        "colab_type": "text"
      },
      "cell_type": "markdown",
      "source": [
        "The **itertuples()** method will return an iterator yielding a namedtuple for each row in the DataFrame. The first element of the tuple will be the row’s corresponding index value, while the remaining values are the row values.\n",
        "\n",
        "For instance,"
      ]
    },
    {
      "metadata": {
        "id": "aQma9ukjXDE1",
        "colab_type": "code",
        "colab": {},
        "outputId": "a66c4089-f4e1-46a2-ae3b-9489c2589b4f"
      },
      "cell_type": "code",
      "source": [
        "for row in df.itertuples():\n",
        "    print row"
      ],
      "execution_count": 0,
      "outputs": [
        {
          "output_type": "stream",
          "text": [
            "Pandas(Index=0, a=1, b='a')\n",
            "Pandas(Index=1, a=2, b='b')\n",
            "Pandas(Index=2, a=3, b='c')\n"
          ],
          "name": "stdout"
        }
      ]
    },
    {
      "metadata": {
        "id": "nIP51hwvXDE2",
        "colab_type": "text"
      },
      "cell_type": "markdown",
      "source": [
        "This method does not convert the row to a Series object but just returns the values inside a namedtuple. Therefore, **itertuples()** preserves the data type of the values and is generally faster as **iterrows()**.\n",
        "\n",
        "**Note:** The column names will be renamed to positional names if they are invalid Python identifiers, repeated, or start with an underscore. With a large number of columns (>255), regular tuples are returned."
      ]
    },
    {
      "metadata": {
        "id": "Tijgj76wXDE2",
        "colab_type": "text"
      },
      "cell_type": "markdown",
      "source": [
        "## .dt accessor"
      ]
    },
    {
      "metadata": {
        "id": "SikoNYk8XDE2",
        "colab_type": "text"
      },
      "cell_type": "markdown",
      "source": [
        "Series has an accessor to succinctly return datetime like properties for the values of the Series, if it is a datetime/period like Series. This will return a Series, indexed like the existing Series."
      ]
    },
    {
      "metadata": {
        "id": "a5F1jpaHXDE2",
        "colab_type": "code",
        "colab": {},
        "collapsed": true
      },
      "cell_type": "code",
      "source": [
        "# datetime\n",
        "s = pd.Series(pd.date_range('20130101 09:10:12', periods=4))"
      ],
      "execution_count": 0,
      "outputs": []
    },
    {
      "metadata": {
        "id": "GMOvvGoiXDE2",
        "colab_type": "code",
        "colab": {},
        "outputId": "c2ccabbf-f556-4e40-fef5-a1f7093d1859"
      },
      "cell_type": "code",
      "source": [
        "s"
      ],
      "execution_count": 0,
      "outputs": [
        {
          "output_type": "execute_result",
          "data": {
            "text/plain": [
              "0   2013-01-01 09:10:12\n",
              "1   2013-01-02 09:10:12\n",
              "2   2013-01-03 09:10:12\n",
              "3   2013-01-04 09:10:12\n",
              "dtype: datetime64[ns]"
            ]
          },
          "metadata": {
            "tags": []
          },
          "execution_count": 371
        }
      ]
    },
    {
      "metadata": {
        "id": "xblF5olxXDE3",
        "colab_type": "code",
        "colab": {},
        "outputId": "437ed0ec-7398-4942-9cc0-f0e8f53ec28c"
      },
      "cell_type": "code",
      "source": [
        "s.dt.hour"
      ],
      "execution_count": 0,
      "outputs": [
        {
          "output_type": "execute_result",
          "data": {
            "text/plain": [
              "0    9\n",
              "1    9\n",
              "2    9\n",
              "3    9\n",
              "dtype: int64"
            ]
          },
          "metadata": {
            "tags": []
          },
          "execution_count": 372
        }
      ]
    },
    {
      "metadata": {
        "id": "WE1zqt_cXDE4",
        "colab_type": "code",
        "colab": {},
        "outputId": "bcfdd01b-ec44-4790-ba41-144c77f10cc2"
      },
      "cell_type": "code",
      "source": [
        "s.dt.second"
      ],
      "execution_count": 0,
      "outputs": [
        {
          "output_type": "execute_result",
          "data": {
            "text/plain": [
              "0    12\n",
              "1    12\n",
              "2    12\n",
              "3    12\n",
              "dtype: int64"
            ]
          },
          "metadata": {
            "tags": []
          },
          "execution_count": 373
        }
      ]
    },
    {
      "metadata": {
        "id": "12KT_3OsXDE4",
        "colab_type": "code",
        "colab": {},
        "outputId": "f021c8e8-c910-4862-de9e-1b05b4ede1c2"
      },
      "cell_type": "code",
      "source": [
        "s.dt.day"
      ],
      "execution_count": 0,
      "outputs": [
        {
          "output_type": "execute_result",
          "data": {
            "text/plain": [
              "0    1\n",
              "1    2\n",
              "2    3\n",
              "3    4\n",
              "dtype: int64"
            ]
          },
          "metadata": {
            "tags": []
          },
          "execution_count": 374
        }
      ]
    },
    {
      "metadata": {
        "id": "dgIWu5aQXDE5",
        "colab_type": "text"
      },
      "cell_type": "markdown",
      "source": [
        "This enables nice expressions like this:"
      ]
    },
    {
      "metadata": {
        "id": "lwKTs22QXDE5",
        "colab_type": "code",
        "colab": {},
        "outputId": "731b6c68-c1f0-4110-8723-d282206f8459"
      },
      "cell_type": "code",
      "source": [
        "s[s.dt.day==2]"
      ],
      "execution_count": 0,
      "outputs": [
        {
          "output_type": "execute_result",
          "data": {
            "text/plain": [
              "1   2013-01-02 09:10:12\n",
              "dtype: datetime64[ns]"
            ]
          },
          "metadata": {
            "tags": []
          },
          "execution_count": 375
        }
      ]
    },
    {
      "metadata": {
        "id": "PId-Eh_dXDE6",
        "colab_type": "text"
      },
      "cell_type": "markdown",
      "source": [
        "You can easily produces tz aware transformations:"
      ]
    },
    {
      "metadata": {
        "id": "07SXHThiXDE6",
        "colab_type": "code",
        "colab": {},
        "collapsed": true
      },
      "cell_type": "code",
      "source": [
        "stz = s.dt.tz_localize('US/Eastern')"
      ],
      "execution_count": 0,
      "outputs": []
    },
    {
      "metadata": {
        "id": "ZVCLKNYcXDE7",
        "colab_type": "code",
        "colab": {},
        "outputId": "da157c50-9bf7-4100-c79e-c6473752ab90"
      },
      "cell_type": "code",
      "source": [
        "stz"
      ],
      "execution_count": 0,
      "outputs": [
        {
          "output_type": "execute_result",
          "data": {
            "text/plain": [
              "0   2013-01-01 09:10:12-05:00\n",
              "1   2013-01-02 09:10:12-05:00\n",
              "2   2013-01-03 09:10:12-05:00\n",
              "3   2013-01-04 09:10:12-05:00\n",
              "dtype: datetime64[ns, US/Eastern]"
            ]
          },
          "metadata": {
            "tags": []
          },
          "execution_count": 377
        }
      ]
    },
    {
      "metadata": {
        "id": "-tmLd7gJXDE7",
        "colab_type": "code",
        "colab": {},
        "outputId": "e9bff458-11f1-4058-90a4-3f538b4df1fc"
      },
      "cell_type": "code",
      "source": [
        "stz.dt.tz"
      ],
      "execution_count": 0,
      "outputs": [
        {
          "output_type": "execute_result",
          "data": {
            "text/plain": [
              "<DstTzInfo 'US/Eastern' LMT-1 day, 19:04:00 STD>"
            ]
          },
          "metadata": {
            "tags": []
          },
          "execution_count": 378
        }
      ]
    },
    {
      "metadata": {
        "id": "czY1aQydXDE7",
        "colab_type": "text"
      },
      "cell_type": "markdown",
      "source": [
        "You can also chain these types of operations:"
      ]
    },
    {
      "metadata": {
        "id": "S_vyBhW-XDE8",
        "colab_type": "text"
      },
      "cell_type": "markdown",
      "source": [
        "You can also format datetime values as strings with **Series.dt.strftime()** which supports the same format as the standard **strftime()**."
      ]
    },
    {
      "metadata": {
        "id": "9Nc8IT4mXDE8",
        "colab_type": "code",
        "colab": {},
        "collapsed": true
      },
      "cell_type": "code",
      "source": [
        "# DatetimeIndex\n",
        "s = pd.Series(pd.date_range('20130101', periods=4))"
      ],
      "execution_count": 0,
      "outputs": []
    },
    {
      "metadata": {
        "id": "cWUpifIYXDE9",
        "colab_type": "code",
        "colab": {},
        "outputId": "18ab6dad-403c-4d57-bf7f-e6582ec72361"
      },
      "cell_type": "code",
      "source": [
        "s"
      ],
      "execution_count": 0,
      "outputs": [
        {
          "output_type": "execute_result",
          "data": {
            "text/plain": [
              "0   2013-01-01\n",
              "1   2013-01-02\n",
              "2   2013-01-03\n",
              "3   2013-01-04\n",
              "dtype: datetime64[ns]"
            ]
          },
          "metadata": {
            "tags": []
          },
          "execution_count": 380
        }
      ]
    },
    {
      "metadata": {
        "id": "fb_6Coa7XDE9",
        "colab_type": "code",
        "colab": {},
        "outputId": "6409612b-bb01-47b6-9462-d74e824345ca"
      },
      "cell_type": "code",
      "source": [
        "s.dt.strftime('%Y/%m/%d')"
      ],
      "execution_count": 0,
      "outputs": [
        {
          "output_type": "execute_result",
          "data": {
            "text/plain": [
              "0    2013/01/01\n",
              "1    2013/01/02\n",
              "2    2013/01/03\n",
              "3    2013/01/04\n",
              "dtype: object"
            ]
          },
          "metadata": {
            "tags": []
          },
          "execution_count": 381
        }
      ]
    },
    {
      "metadata": {
        "id": "L2BcYreqXDE9",
        "colab_type": "code",
        "colab": {},
        "collapsed": true
      },
      "cell_type": "code",
      "source": [
        "# PeriodIndex\n",
        "s = pd.Series(pd.period_range('20130101', periods=4))"
      ],
      "execution_count": 0,
      "outputs": []
    },
    {
      "metadata": {
        "id": "g4ZrGalyXDE-",
        "colab_type": "code",
        "colab": {},
        "outputId": "a6764db2-bc91-4519-d625-77ab3c81c881"
      },
      "cell_type": "code",
      "source": [
        "s"
      ],
      "execution_count": 0,
      "outputs": [
        {
          "output_type": "execute_result",
          "data": {
            "text/plain": [
              "0   2013-01-01\n",
              "1   2013-01-02\n",
              "2   2013-01-03\n",
              "3   2013-01-04\n",
              "dtype: object"
            ]
          },
          "metadata": {
            "tags": []
          },
          "execution_count": 383
        }
      ]
    },
    {
      "metadata": {
        "id": "GD1uHNZfXDE_",
        "colab_type": "code",
        "colab": {},
        "outputId": "dfb8c2f9-7d64-47ca-8bf4-95a22557f7d6"
      },
      "cell_type": "code",
      "source": [
        "s.dt.strftime('%Y/%m/%d')"
      ],
      "execution_count": 0,
      "outputs": [
        {
          "output_type": "execute_result",
          "data": {
            "text/plain": [
              "0    2013/01/01\n",
              "1    2013/01/02\n",
              "2    2013/01/03\n",
              "3    2013/01/04\n",
              "dtype: object"
            ]
          },
          "metadata": {
            "tags": []
          },
          "execution_count": 384
        }
      ]
    },
    {
      "metadata": {
        "id": "I3HFjTCKXDE_",
        "colab_type": "text"
      },
      "cell_type": "markdown",
      "source": [
        "The .dt accessor works for period and timedelta dtypes."
      ]
    },
    {
      "metadata": {
        "id": "LRi_4qL0XDE_",
        "colab_type": "code",
        "colab": {},
        "collapsed": true
      },
      "cell_type": "code",
      "source": [
        "# period\n",
        "s = pd.Series(pd.period_range('20130101', periods=4, freq='D'))"
      ],
      "execution_count": 0,
      "outputs": []
    },
    {
      "metadata": {
        "id": "UqQmpITwXDFA",
        "colab_type": "code",
        "colab": {},
        "outputId": "7730cf65-c497-4dce-9ea8-df760983e165"
      },
      "cell_type": "code",
      "source": [
        "s.dt.year"
      ],
      "execution_count": 0,
      "outputs": [
        {
          "output_type": "execute_result",
          "data": {
            "text/plain": [
              "0    2013\n",
              "1    2013\n",
              "2    2013\n",
              "3    2013\n",
              "dtype: int64"
            ]
          },
          "metadata": {
            "tags": []
          },
          "execution_count": 386
        }
      ]
    },
    {
      "metadata": {
        "id": "RaMibBd4XDFA",
        "colab_type": "code",
        "colab": {},
        "outputId": "4a8887d5-5918-420d-c0ea-91c360104913"
      },
      "cell_type": "code",
      "source": [
        "s.dt.day"
      ],
      "execution_count": 0,
      "outputs": [
        {
          "output_type": "execute_result",
          "data": {
            "text/plain": [
              "0    1\n",
              "1    2\n",
              "2    3\n",
              "3    4\n",
              "dtype: int64"
            ]
          },
          "metadata": {
            "tags": []
          },
          "execution_count": 387
        }
      ]
    },
    {
      "metadata": {
        "id": "1fK_4TrvXDFA",
        "colab_type": "code",
        "colab": {},
        "collapsed": true
      },
      "cell_type": "code",
      "source": [
        "# timedelta\n",
        "s = pd.Series(pd.timedelta_range('1 day 00:00:05', periods=4, freq='s'))"
      ],
      "execution_count": 0,
      "outputs": []
    },
    {
      "metadata": {
        "id": "EBm4oywyXDFA",
        "colab_type": "code",
        "colab": {},
        "outputId": "0af9eba0-61dc-4adb-d8a5-4e4fffc9c5a2"
      },
      "cell_type": "code",
      "source": [
        "s.dt.days"
      ],
      "execution_count": 0,
      "outputs": [
        {
          "output_type": "execute_result",
          "data": {
            "text/plain": [
              "0    1\n",
              "1    1\n",
              "2    1\n",
              "3    1\n",
              "dtype: int64"
            ]
          },
          "metadata": {
            "tags": []
          },
          "execution_count": 389
        }
      ]
    },
    {
      "metadata": {
        "id": "UADTfVnsXDFD",
        "colab_type": "code",
        "colab": {},
        "outputId": "3d015d11-8679-481e-9141-c533a164d1b8"
      },
      "cell_type": "code",
      "source": [
        "s.dt.seconds"
      ],
      "execution_count": 0,
      "outputs": [
        {
          "output_type": "execute_result",
          "data": {
            "text/plain": [
              "0    5\n",
              "1    6\n",
              "2    7\n",
              "3    8\n",
              "dtype: int64"
            ]
          },
          "metadata": {
            "tags": []
          },
          "execution_count": 390
        }
      ]
    },
    {
      "metadata": {
        "id": "2xTUNNSqXDFE",
        "colab_type": "code",
        "colab": {},
        "outputId": "b82839c0-c6c1-43ca-a969-15293c92f39c"
      },
      "cell_type": "code",
      "source": [
        "s.dt.components"
      ],
      "execution_count": 0,
      "outputs": [
        {
          "output_type": "execute_result",
          "data": {
            "text/html": [
              "<div>\n",
              "<table border=\"1\" class=\"dataframe\">\n",
              "  <thead>\n",
              "    <tr style=\"text-align: right;\">\n",
              "      <th></th>\n",
              "      <th>days</th>\n",
              "      <th>hours</th>\n",
              "      <th>minutes</th>\n",
              "      <th>seconds</th>\n",
              "      <th>milliseconds</th>\n",
              "      <th>microseconds</th>\n",
              "      <th>nanoseconds</th>\n",
              "    </tr>\n",
              "  </thead>\n",
              "  <tbody>\n",
              "    <tr>\n",
              "      <th>0</th>\n",
              "      <td>1</td>\n",
              "      <td>0</td>\n",
              "      <td>0</td>\n",
              "      <td>5</td>\n",
              "      <td>0</td>\n",
              "      <td>0</td>\n",
              "      <td>0</td>\n",
              "    </tr>\n",
              "    <tr>\n",
              "      <th>1</th>\n",
              "      <td>1</td>\n",
              "      <td>0</td>\n",
              "      <td>0</td>\n",
              "      <td>6</td>\n",
              "      <td>0</td>\n",
              "      <td>0</td>\n",
              "      <td>0</td>\n",
              "    </tr>\n",
              "    <tr>\n",
              "      <th>2</th>\n",
              "      <td>1</td>\n",
              "      <td>0</td>\n",
              "      <td>0</td>\n",
              "      <td>7</td>\n",
              "      <td>0</td>\n",
              "      <td>0</td>\n",
              "      <td>0</td>\n",
              "    </tr>\n",
              "    <tr>\n",
              "      <th>3</th>\n",
              "      <td>1</td>\n",
              "      <td>0</td>\n",
              "      <td>0</td>\n",
              "      <td>8</td>\n",
              "      <td>0</td>\n",
              "      <td>0</td>\n",
              "      <td>0</td>\n",
              "    </tr>\n",
              "  </tbody>\n",
              "</table>\n",
              "</div>"
            ],
            "text/plain": [
              "   days  hours  minutes  seconds  milliseconds  microseconds  nanoseconds\n",
              "0     1      0        0        5             0             0            0\n",
              "1     1      0        0        6             0             0            0\n",
              "2     1      0        0        7             0             0            0\n",
              "3     1      0        0        8             0             0            0"
            ]
          },
          "metadata": {
            "tags": []
          },
          "execution_count": 391
        }
      ]
    },
    {
      "metadata": {
        "id": "4Si_iUlaXDFE",
        "colab_type": "text"
      },
      "cell_type": "markdown",
      "source": [
        "**Note:** Series.dt will raise a TypeError if you access with a non-datetimelike values"
      ]
    },
    {
      "metadata": {
        "id": "vMB8VoJEXDFF",
        "colab_type": "text"
      },
      "cell_type": "markdown",
      "source": [
        "## Vecorized string methods"
      ]
    },
    {
      "metadata": {
        "id": "pV1Lue4tXDFF",
        "colab_type": "text"
      },
      "cell_type": "markdown",
      "source": [
        "Series is equipped with a set of string processing methods that make it easy to operate on each element of the array. Perhaps most importantly, these methods exclude missing/NA values automatically. These are accessed via the Series’s str attribute and generally have names matching the equivalent (scalar) built-in string methods. For example:"
      ]
    },
    {
      "metadata": {
        "id": "IRmiiUBrXDFF",
        "colab_type": "code",
        "colab": {},
        "collapsed": true
      },
      "cell_type": "code",
      "source": [
        " s = pd.Series(['A', 'B', 'C', 'Aaba', 'Baca', np.nan, 'CABA', 'dog', 'cat'])"
      ],
      "execution_count": 0,
      "outputs": []
    },
    {
      "metadata": {
        "id": "mG65UWgmXDFF",
        "colab_type": "code",
        "colab": {},
        "outputId": "5f78be38-bea7-4ef7-e79a-821273fe46c7"
      },
      "cell_type": "code",
      "source": [
        "s.str.lower()"
      ],
      "execution_count": 0,
      "outputs": [
        {
          "output_type": "execute_result",
          "data": {
            "text/plain": [
              "0       a\n",
              "1       b\n",
              "2       c\n",
              "3    aaba\n",
              "4    baca\n",
              "5     NaN\n",
              "6    caba\n",
              "7     dog\n",
              "8     cat\n",
              "dtype: object"
            ]
          },
          "metadata": {
            "tags": []
          },
          "execution_count": 393
        }
      ]
    },
    {
      "metadata": {
        "id": "gzn3p13jXDFF",
        "colab_type": "text"
      },
      "cell_type": "markdown",
      "source": [
        "Powerful pattern-matching methods are provided as well, but note that pattern-matching generally uses [regular expressions](https://docs.python.org/2/library/re.html) by default (and in some cases always uses them).\n",
        "\n",
        "Please see [Vectorized String Methods](http://pandas.pydata.org/pandas-docs/stable/text.html#text-string-methods) for a complete description."
      ]
    },
    {
      "metadata": {
        "id": "YcpFtZhQXDFF",
        "colab_type": "text"
      },
      "cell_type": "markdown",
      "source": [
        "## Sorting"
      ]
    },
    {
      "metadata": {
        "id": "wqLVvSYaXDFF",
        "colab_type": "text"
      },
      "cell_type": "markdown",
      "source": [
        "There are two obvious kinds of sorting that you may be interested in: sorting by label and sorting by actual values."
      ]
    },
    {
      "metadata": {
        "id": "OBdsLqstXDFF",
        "colab_type": "text"
      },
      "cell_type": "markdown",
      "source": [
        "### By Index"
      ]
    },
    {
      "metadata": {
        "id": "qKctmOBnXDFG",
        "colab_type": "text"
      },
      "cell_type": "markdown",
      "source": [
        "The primary method for sorting axis labels (indexes) are the Series.sort_index() and the DataFrame.sort_index() methods."
      ]
    },
    {
      "metadata": {
        "id": "hVibxySnXDFG",
        "colab_type": "code",
        "colab": {},
        "collapsed": true
      },
      "cell_type": "code",
      "source": [
        "unsorted_df = df.reindex(index=['a', 'd', 'c', 'b'],\n",
        "                  columns=['three', 'two', 'one'])       "
      ],
      "execution_count": 0,
      "outputs": []
    },
    {
      "metadata": {
        "id": "YzQG57cjXDFH",
        "colab_type": "code",
        "colab": {},
        "outputId": "ca2b9792-ec22-4596-fd1b-97a2eb29c390"
      },
      "cell_type": "code",
      "source": [
        "unsorted_df"
      ],
      "execution_count": 0,
      "outputs": [
        {
          "output_type": "execute_result",
          "data": {
            "text/html": [
              "<div>\n",
              "<table border=\"1\" class=\"dataframe\">\n",
              "  <thead>\n",
              "    <tr style=\"text-align: right;\">\n",
              "      <th></th>\n",
              "      <th>three</th>\n",
              "      <th>two</th>\n",
              "      <th>one</th>\n",
              "    </tr>\n",
              "  </thead>\n",
              "  <tbody>\n",
              "    <tr>\n",
              "      <th>a</th>\n",
              "      <td>NaN</td>\n",
              "      <td>NaN</td>\n",
              "      <td>NaN</td>\n",
              "    </tr>\n",
              "    <tr>\n",
              "      <th>d</th>\n",
              "      <td>NaN</td>\n",
              "      <td>NaN</td>\n",
              "      <td>NaN</td>\n",
              "    </tr>\n",
              "    <tr>\n",
              "      <th>c</th>\n",
              "      <td>NaN</td>\n",
              "      <td>NaN</td>\n",
              "      <td>NaN</td>\n",
              "    </tr>\n",
              "    <tr>\n",
              "      <th>b</th>\n",
              "      <td>NaN</td>\n",
              "      <td>NaN</td>\n",
              "      <td>NaN</td>\n",
              "    </tr>\n",
              "  </tbody>\n",
              "</table>\n",
              "</div>"
            ],
            "text/plain": [
              "   three  two  one\n",
              "a    NaN  NaN  NaN\n",
              "d    NaN  NaN  NaN\n",
              "c    NaN  NaN  NaN\n",
              "b    NaN  NaN  NaN"
            ]
          },
          "metadata": {
            "tags": []
          },
          "execution_count": 395
        }
      ]
    },
    {
      "metadata": {
        "id": "w10dC-YVXDFI",
        "colab_type": "code",
        "colab": {},
        "outputId": "24dcf3c1-e929-4f6c-da96-34a20a510fd1"
      },
      "cell_type": "code",
      "source": [
        "# DataFrame\n",
        "unsorted_df.sort_index()"
      ],
      "execution_count": 0,
      "outputs": [
        {
          "output_type": "execute_result",
          "data": {
            "text/html": [
              "<div>\n",
              "<table border=\"1\" class=\"dataframe\">\n",
              "  <thead>\n",
              "    <tr style=\"text-align: right;\">\n",
              "      <th></th>\n",
              "      <th>three</th>\n",
              "      <th>two</th>\n",
              "      <th>one</th>\n",
              "    </tr>\n",
              "  </thead>\n",
              "  <tbody>\n",
              "    <tr>\n",
              "      <th>a</th>\n",
              "      <td>NaN</td>\n",
              "      <td>NaN</td>\n",
              "      <td>NaN</td>\n",
              "    </tr>\n",
              "    <tr>\n",
              "      <th>b</th>\n",
              "      <td>NaN</td>\n",
              "      <td>NaN</td>\n",
              "      <td>NaN</td>\n",
              "    </tr>\n",
              "    <tr>\n",
              "      <th>c</th>\n",
              "      <td>NaN</td>\n",
              "      <td>NaN</td>\n",
              "      <td>NaN</td>\n",
              "    </tr>\n",
              "    <tr>\n",
              "      <th>d</th>\n",
              "      <td>NaN</td>\n",
              "      <td>NaN</td>\n",
              "      <td>NaN</td>\n",
              "    </tr>\n",
              "  </tbody>\n",
              "</table>\n",
              "</div>"
            ],
            "text/plain": [
              "   three  two  one\n",
              "a    NaN  NaN  NaN\n",
              "b    NaN  NaN  NaN\n",
              "c    NaN  NaN  NaN\n",
              "d    NaN  NaN  NaN"
            ]
          },
          "metadata": {
            "tags": []
          },
          "execution_count": 396
        }
      ]
    },
    {
      "metadata": {
        "id": "s8PSQ2K-XDFI",
        "colab_type": "code",
        "colab": {},
        "outputId": "db553d4b-ddaa-451c-f426-f0080ad07827"
      },
      "cell_type": "code",
      "source": [
        " unsorted_df.sort_index(ascending=False)"
      ],
      "execution_count": 0,
      "outputs": [
        {
          "output_type": "execute_result",
          "data": {
            "text/html": [
              "<div>\n",
              "<table border=\"1\" class=\"dataframe\">\n",
              "  <thead>\n",
              "    <tr style=\"text-align: right;\">\n",
              "      <th></th>\n",
              "      <th>three</th>\n",
              "      <th>two</th>\n",
              "      <th>one</th>\n",
              "    </tr>\n",
              "  </thead>\n",
              "  <tbody>\n",
              "    <tr>\n",
              "      <th>d</th>\n",
              "      <td>NaN</td>\n",
              "      <td>NaN</td>\n",
              "      <td>NaN</td>\n",
              "    </tr>\n",
              "    <tr>\n",
              "      <th>c</th>\n",
              "      <td>NaN</td>\n",
              "      <td>NaN</td>\n",
              "      <td>NaN</td>\n",
              "    </tr>\n",
              "    <tr>\n",
              "      <th>b</th>\n",
              "      <td>NaN</td>\n",
              "      <td>NaN</td>\n",
              "      <td>NaN</td>\n",
              "    </tr>\n",
              "    <tr>\n",
              "      <th>a</th>\n",
              "      <td>NaN</td>\n",
              "      <td>NaN</td>\n",
              "      <td>NaN</td>\n",
              "    </tr>\n",
              "  </tbody>\n",
              "</table>\n",
              "</div>"
            ],
            "text/plain": [
              "   three  two  one\n",
              "d    NaN  NaN  NaN\n",
              "c    NaN  NaN  NaN\n",
              "b    NaN  NaN  NaN\n",
              "a    NaN  NaN  NaN"
            ]
          },
          "metadata": {
            "tags": []
          },
          "execution_count": 397
        }
      ]
    },
    {
      "metadata": {
        "id": "ro0ZBvEkXDFJ",
        "colab_type": "code",
        "colab": {},
        "outputId": "f03b9499-ba09-4f85-d06c-ab0f57d2c260"
      },
      "cell_type": "code",
      "source": [
        "unsorted_df.sort_index(axis=1)"
      ],
      "execution_count": 0,
      "outputs": [
        {
          "output_type": "execute_result",
          "data": {
            "text/html": [
              "<div>\n",
              "<table border=\"1\" class=\"dataframe\">\n",
              "  <thead>\n",
              "    <tr style=\"text-align: right;\">\n",
              "      <th></th>\n",
              "      <th>one</th>\n",
              "      <th>three</th>\n",
              "      <th>two</th>\n",
              "    </tr>\n",
              "  </thead>\n",
              "  <tbody>\n",
              "    <tr>\n",
              "      <th>a</th>\n",
              "      <td>NaN</td>\n",
              "      <td>NaN</td>\n",
              "      <td>NaN</td>\n",
              "    </tr>\n",
              "    <tr>\n",
              "      <th>d</th>\n",
              "      <td>NaN</td>\n",
              "      <td>NaN</td>\n",
              "      <td>NaN</td>\n",
              "    </tr>\n",
              "    <tr>\n",
              "      <th>c</th>\n",
              "      <td>NaN</td>\n",
              "      <td>NaN</td>\n",
              "      <td>NaN</td>\n",
              "    </tr>\n",
              "    <tr>\n",
              "      <th>b</th>\n",
              "      <td>NaN</td>\n",
              "      <td>NaN</td>\n",
              "      <td>NaN</td>\n",
              "    </tr>\n",
              "  </tbody>\n",
              "</table>\n",
              "</div>"
            ],
            "text/plain": [
              "   one  three  two\n",
              "a  NaN    NaN  NaN\n",
              "d  NaN    NaN  NaN\n",
              "c  NaN    NaN  NaN\n",
              "b  NaN    NaN  NaN"
            ]
          },
          "metadata": {
            "tags": []
          },
          "execution_count": 398
        }
      ]
    },
    {
      "metadata": {
        "id": "5iA_RFCsXDFK",
        "colab_type": "code",
        "colab": {},
        "outputId": "9d3b0762-0925-43b4-94f3-c88e279a9408"
      },
      "cell_type": "code",
      "source": [
        "# Series\n",
        "unsorted_df['three'].sort_index()"
      ],
      "execution_count": 0,
      "outputs": [
        {
          "output_type": "execute_result",
          "data": {
            "text/plain": [
              "a   NaN\n",
              "b   NaN\n",
              "c   NaN\n",
              "d   NaN\n",
              "Name: three, dtype: float64"
            ]
          },
          "metadata": {
            "tags": []
          },
          "execution_count": 400
        }
      ]
    },
    {
      "metadata": {
        "id": "lHHFclYBXDFL",
        "colab_type": "text"
      },
      "cell_type": "markdown",
      "source": [
        "### By Values"
      ]
    },
    {
      "metadata": {
        "id": "C_3Fo7wXXDFL",
        "colab_type": "text"
      },
      "cell_type": "markdown",
      "source": [
        "The **Series.sort_values()** and **DataFrame.sort_values()** are the entry points for **value** sorting (that is the values in a column or row). **DataFrame.sort_values()** can accept an optional by argument for axis=0 which will use an arbitrary vector or a column name of the DataFrame to determine the sort order:"
      ]
    },
    {
      "metadata": {
        "id": "swkigFAQXDFL",
        "colab_type": "code",
        "colab": {},
        "collapsed": true
      },
      "cell_type": "code",
      "source": [
        "df1 = pd.DataFrame({'one':[2,1,1,1],'two':[1,3,2,4],'three':[5,4,3,2]})"
      ],
      "execution_count": 0,
      "outputs": []
    },
    {
      "metadata": {
        "id": "11YylgW-XDFL",
        "colab_type": "code",
        "colab": {},
        "outputId": "f999ab33-4f68-4e84-8043-24ccae292f67"
      },
      "cell_type": "code",
      "source": [
        "df1"
      ],
      "execution_count": 0,
      "outputs": [
        {
          "output_type": "execute_result",
          "data": {
            "text/html": [
              "<div>\n",
              "<table border=\"1\" class=\"dataframe\">\n",
              "  <thead>\n",
              "    <tr style=\"text-align: right;\">\n",
              "      <th></th>\n",
              "      <th>one</th>\n",
              "      <th>three</th>\n",
              "      <th>two</th>\n",
              "    </tr>\n",
              "  </thead>\n",
              "  <tbody>\n",
              "    <tr>\n",
              "      <th>0</th>\n",
              "      <td>2</td>\n",
              "      <td>5</td>\n",
              "      <td>1</td>\n",
              "    </tr>\n",
              "    <tr>\n",
              "      <th>1</th>\n",
              "      <td>1</td>\n",
              "      <td>4</td>\n",
              "      <td>3</td>\n",
              "    </tr>\n",
              "    <tr>\n",
              "      <th>2</th>\n",
              "      <td>1</td>\n",
              "      <td>3</td>\n",
              "      <td>2</td>\n",
              "    </tr>\n",
              "    <tr>\n",
              "      <th>3</th>\n",
              "      <td>1</td>\n",
              "      <td>2</td>\n",
              "      <td>4</td>\n",
              "    </tr>\n",
              "  </tbody>\n",
              "</table>\n",
              "</div>"
            ],
            "text/plain": [
              "   one  three  two\n",
              "0    2      5    1\n",
              "1    1      4    3\n",
              "2    1      3    2\n",
              "3    1      2    4"
            ]
          },
          "metadata": {
            "tags": []
          },
          "execution_count": 402
        }
      ]
    },
    {
      "metadata": {
        "id": "ZLMES_unXDFM",
        "colab_type": "code",
        "colab": {},
        "outputId": "1b79a3f1-d14a-4872-f114-12db7424580f"
      },
      "cell_type": "code",
      "source": [
        "df1.sort_values(by='two')"
      ],
      "execution_count": 0,
      "outputs": [
        {
          "output_type": "execute_result",
          "data": {
            "text/html": [
              "<div>\n",
              "<table border=\"1\" class=\"dataframe\">\n",
              "  <thead>\n",
              "    <tr style=\"text-align: right;\">\n",
              "      <th></th>\n",
              "      <th>one</th>\n",
              "      <th>three</th>\n",
              "      <th>two</th>\n",
              "    </tr>\n",
              "  </thead>\n",
              "  <tbody>\n",
              "    <tr>\n",
              "      <th>0</th>\n",
              "      <td>2</td>\n",
              "      <td>5</td>\n",
              "      <td>1</td>\n",
              "    </tr>\n",
              "    <tr>\n",
              "      <th>2</th>\n",
              "      <td>1</td>\n",
              "      <td>3</td>\n",
              "      <td>2</td>\n",
              "    </tr>\n",
              "    <tr>\n",
              "      <th>1</th>\n",
              "      <td>1</td>\n",
              "      <td>4</td>\n",
              "      <td>3</td>\n",
              "    </tr>\n",
              "    <tr>\n",
              "      <th>3</th>\n",
              "      <td>1</td>\n",
              "      <td>2</td>\n",
              "      <td>4</td>\n",
              "    </tr>\n",
              "  </tbody>\n",
              "</table>\n",
              "</div>"
            ],
            "text/plain": [
              "   one  three  two\n",
              "0    2      5    1\n",
              "2    1      3    2\n",
              "1    1      4    3\n",
              "3    1      2    4"
            ]
          },
          "metadata": {
            "tags": []
          },
          "execution_count": 403
        }
      ]
    },
    {
      "metadata": {
        "id": "Wjne4YQUXDFN",
        "colab_type": "text"
      },
      "cell_type": "markdown",
      "source": [
        "The by argument can take a list of column names, e.g.:"
      ]
    },
    {
      "metadata": {
        "id": "OcpFh73FXDFN",
        "colab_type": "code",
        "colab": {},
        "outputId": "0475f31f-d632-45ec-c67b-e12b61344086"
      },
      "cell_type": "code",
      "source": [
        "df1[['one', 'two', 'three']].sort_values(by=['one','two'])"
      ],
      "execution_count": 0,
      "outputs": [
        {
          "output_type": "execute_result",
          "data": {
            "text/html": [
              "<div>\n",
              "<table border=\"1\" class=\"dataframe\">\n",
              "  <thead>\n",
              "    <tr style=\"text-align: right;\">\n",
              "      <th></th>\n",
              "      <th>one</th>\n",
              "      <th>two</th>\n",
              "      <th>three</th>\n",
              "    </tr>\n",
              "  </thead>\n",
              "  <tbody>\n",
              "    <tr>\n",
              "      <th>2</th>\n",
              "      <td>1</td>\n",
              "      <td>2</td>\n",
              "      <td>3</td>\n",
              "    </tr>\n",
              "    <tr>\n",
              "      <th>1</th>\n",
              "      <td>1</td>\n",
              "      <td>3</td>\n",
              "      <td>4</td>\n",
              "    </tr>\n",
              "    <tr>\n",
              "      <th>3</th>\n",
              "      <td>1</td>\n",
              "      <td>4</td>\n",
              "      <td>2</td>\n",
              "    </tr>\n",
              "    <tr>\n",
              "      <th>0</th>\n",
              "      <td>2</td>\n",
              "      <td>1</td>\n",
              "      <td>5</td>\n",
              "    </tr>\n",
              "  </tbody>\n",
              "</table>\n",
              "</div>"
            ],
            "text/plain": [
              "   one  two  three\n",
              "2    1    2      3\n",
              "1    1    3      4\n",
              "3    1    4      2\n",
              "0    2    1      5"
            ]
          },
          "metadata": {
            "tags": []
          },
          "execution_count": 404
        }
      ]
    },
    {
      "metadata": {
        "id": "kLhdk7NqXDFN",
        "colab_type": "text"
      },
      "cell_type": "markdown",
      "source": [
        "These methods have special treatment of NA values via the na_position argument:"
      ]
    },
    {
      "metadata": {
        "id": "7GJFImW0XDFN",
        "colab_type": "code",
        "colab": {},
        "collapsed": true
      },
      "cell_type": "code",
      "source": [
        "s[2] = np.nan"
      ],
      "execution_count": 0,
      "outputs": []
    },
    {
      "metadata": {
        "id": "Ne3z61bfXDFO",
        "colab_type": "code",
        "colab": {},
        "outputId": "a106dce7-d8bb-4cd8-d198-c2a47e643776"
      },
      "cell_type": "code",
      "source": [
        "s.sort_values()"
      ],
      "execution_count": 0,
      "outputs": [
        {
          "output_type": "execute_result",
          "data": {
            "text/plain": [
              "0       A\n",
              "3    Aaba\n",
              "1       B\n",
              "4    Baca\n",
              "6    CABA\n",
              "8     cat\n",
              "7     dog\n",
              "2     NaN\n",
              "5     NaN\n",
              "dtype: object"
            ]
          },
          "metadata": {
            "tags": []
          },
          "execution_count": 406
        }
      ]
    },
    {
      "metadata": {
        "id": "KOpCFHCcXDFO",
        "colab_type": "code",
        "colab": {},
        "outputId": "eb5eed93-7dd3-46da-bacc-fe41acb7c99d"
      },
      "cell_type": "code",
      "source": [
        "s.sort_values(na_position='first')"
      ],
      "execution_count": 0,
      "outputs": [
        {
          "output_type": "execute_result",
          "data": {
            "text/plain": [
              "2     NaN\n",
              "5     NaN\n",
              "0       A\n",
              "3    Aaba\n",
              "1       B\n",
              "4    Baca\n",
              "6    CABA\n",
              "8     cat\n",
              "7     dog\n",
              "dtype: object"
            ]
          },
          "metadata": {
            "tags": []
          },
          "execution_count": 407
        }
      ]
    },
    {
      "metadata": {
        "id": "WQVZmRYzXDFP",
        "colab_type": "text"
      },
      "cell_type": "markdown",
      "source": [
        "### searchsorted"
      ]
    },
    {
      "metadata": {
        "id": "TPmRksNoXDFP",
        "colab_type": "text"
      },
      "cell_type": "markdown",
      "source": [
        "Series has the **searchsorted()** method, which works similar to **numpy.ndarray.searchsorted()**."
      ]
    },
    {
      "metadata": {
        "id": "AzaV3MZbXDFQ",
        "colab_type": "code",
        "colab": {},
        "collapsed": true
      },
      "cell_type": "code",
      "source": [
        "ser = pd.Series([1, 2, 3])"
      ],
      "execution_count": 0,
      "outputs": []
    },
    {
      "metadata": {
        "id": "Umwwt0x6XDFQ",
        "colab_type": "code",
        "colab": {},
        "outputId": "6f82fe6c-233e-449b-a191-c289922dffb2"
      },
      "cell_type": "code",
      "source": [
        "ser.searchsorted([0, 3])"
      ],
      "execution_count": 0,
      "outputs": [
        {
          "output_type": "execute_result",
          "data": {
            "text/plain": [
              "array([0, 2], dtype=int64)"
            ]
          },
          "metadata": {
            "tags": []
          },
          "execution_count": 409
        }
      ]
    },
    {
      "metadata": {
        "id": "QJdkfAOJXDFR",
        "colab_type": "code",
        "colab": {},
        "outputId": "8237978a-1914-4e9e-f5eb-e9342218abfb"
      },
      "cell_type": "code",
      "source": [
        "ser.searchsorted([0, 4])"
      ],
      "execution_count": 0,
      "outputs": [
        {
          "output_type": "execute_result",
          "data": {
            "text/plain": [
              "array([0, 3], dtype=int64)"
            ]
          },
          "metadata": {
            "tags": []
          },
          "execution_count": 410
        }
      ]
    },
    {
      "metadata": {
        "id": "RbgTZeJ4XDFS",
        "colab_type": "code",
        "colab": {},
        "outputId": "8d89056e-06d3-409d-d034-7937657f8e48"
      },
      "cell_type": "code",
      "source": [
        "ser.searchsorted([1, 3], side='right')"
      ],
      "execution_count": 0,
      "outputs": [
        {
          "output_type": "execute_result",
          "data": {
            "text/plain": [
              "array([1, 3], dtype=int64)"
            ]
          },
          "metadata": {
            "tags": []
          },
          "execution_count": 411
        }
      ]
    },
    {
      "metadata": {
        "id": "ZtWpsFJYXDFS",
        "colab_type": "code",
        "colab": {},
        "outputId": "2eb9db1c-1003-4e4e-a519-c0b68a478b4d"
      },
      "cell_type": "code",
      "source": [
        "ser.searchsorted([1, 3], side='left')"
      ],
      "execution_count": 0,
      "outputs": [
        {
          "output_type": "execute_result",
          "data": {
            "text/plain": [
              "array([0, 2], dtype=int64)"
            ]
          },
          "metadata": {
            "tags": []
          },
          "execution_count": 412
        }
      ]
    },
    {
      "metadata": {
        "id": "nu8w5gDEXDFT",
        "colab_type": "code",
        "colab": {},
        "collapsed": true
      },
      "cell_type": "code",
      "source": [
        "ser = pd.Series([3, 1, 2])"
      ],
      "execution_count": 0,
      "outputs": []
    },
    {
      "metadata": {
        "id": "922Z1ye0XDFT",
        "colab_type": "code",
        "colab": {},
        "outputId": "5766a215-c0ef-46b8-b1f3-18ae08195226"
      },
      "cell_type": "code",
      "source": [
        "ser.searchsorted([0, 3], sorter=np.argsort(ser))"
      ],
      "execution_count": 0,
      "outputs": [
        {
          "output_type": "execute_result",
          "data": {
            "text/plain": [
              "array([0, 2], dtype=int64)"
            ]
          },
          "metadata": {
            "tags": []
          },
          "execution_count": 414
        }
      ]
    },
    {
      "metadata": {
        "id": "94pGh2hYXDFU",
        "colab_type": "text"
      },
      "cell_type": "markdown",
      "source": [
        "### smallest / largest values"
      ]
    },
    {
      "metadata": {
        "id": "c3M9kcjmXDFU",
        "colab_type": "text"
      },
      "cell_type": "markdown",
      "source": [
        "New in version 0.14.0.\n",
        "\n",
        "Series has the **nsmallest()** and **nlargest()** methods which return the smallest or largest n values. For a large Series this can be much faster than sorting the entire Series and calling head(n) on the result."
      ]
    },
    {
      "metadata": {
        "id": "W-gfunVyXDFU",
        "colab_type": "code",
        "colab": {},
        "collapsed": true
      },
      "cell_type": "code",
      "source": [
        "s = pd.Series(np.random.permutation(10))"
      ],
      "execution_count": 0,
      "outputs": []
    },
    {
      "metadata": {
        "id": "E9824NHEXDFW",
        "colab_type": "code",
        "colab": {},
        "outputId": "ed466cf8-0a09-4f06-ebaa-f24aa6a6e25a"
      },
      "cell_type": "code",
      "source": [
        "s"
      ],
      "execution_count": 0,
      "outputs": [
        {
          "output_type": "execute_result",
          "data": {
            "text/plain": [
              "0    5\n",
              "1    4\n",
              "2    8\n",
              "3    7\n",
              "4    3\n",
              "5    6\n",
              "6    9\n",
              "7    1\n",
              "8    0\n",
              "9    2\n",
              "dtype: int32"
            ]
          },
          "metadata": {
            "tags": []
          },
          "execution_count": 416
        }
      ]
    },
    {
      "metadata": {
        "id": "kI9Bhq5oXDFX",
        "colab_type": "code",
        "colab": {},
        "outputId": "3fad8e93-e727-41ba-82fe-41608600401e"
      },
      "cell_type": "code",
      "source": [
        "s.sort_values()"
      ],
      "execution_count": 0,
      "outputs": [
        {
          "output_type": "execute_result",
          "data": {
            "text/plain": [
              "8    0\n",
              "7    1\n",
              "9    2\n",
              "4    3\n",
              "1    4\n",
              "0    5\n",
              "5    6\n",
              "3    7\n",
              "2    8\n",
              "6    9\n",
              "dtype: int32"
            ]
          },
          "metadata": {
            "tags": []
          },
          "execution_count": 417
        }
      ]
    },
    {
      "metadata": {
        "id": "IJG3K9SAXDFX",
        "colab_type": "code",
        "colab": {},
        "outputId": "e5d3fabb-e124-42a7-b910-57dd5b6705ac"
      },
      "cell_type": "code",
      "source": [
        "s.nsmallest(3)"
      ],
      "execution_count": 0,
      "outputs": [
        {
          "output_type": "execute_result",
          "data": {
            "text/plain": [
              "8    0\n",
              "7    1\n",
              "9    2\n",
              "dtype: int32"
            ]
          },
          "metadata": {
            "tags": []
          },
          "execution_count": 418
        }
      ]
    },
    {
      "metadata": {
        "id": "7Li4SkdxXDFY",
        "colab_type": "code",
        "colab": {},
        "outputId": "3a84121b-9b89-456d-801c-4cab9f3af0b5"
      },
      "cell_type": "code",
      "source": [
        "s.nlargest(3)"
      ],
      "execution_count": 0,
      "outputs": [
        {
          "output_type": "execute_result",
          "data": {
            "text/plain": [
              "6    9\n",
              "2    8\n",
              "3    7\n",
              "dtype: int32"
            ]
          },
          "metadata": {
            "tags": []
          },
          "execution_count": 419
        }
      ]
    },
    {
      "metadata": {
        "id": "EcypZ0yFXDFZ",
        "colab_type": "text"
      },
      "cell_type": "markdown",
      "source": [
        "New in version 0.17.0.\n",
        "\n",
        "DataFrame also has the nlargest and nsmallest methods."
      ]
    },
    {
      "metadata": {
        "id": "cjRDrKfXXDFZ",
        "colab_type": "code",
        "colab": {},
        "collapsed": true
      },
      "cell_type": "code",
      "source": [
        "df = pd.DataFrame({'a': [-2, -1, 1, 10, 8, 11, -1],\n",
        "                   'b': list('abdceff'),\n",
        "                   'c': [1.0, 2.0, 4.0, 3.2, np.nan, 3.0, 4.0]})"
      ],
      "execution_count": 0,
      "outputs": []
    },
    {
      "metadata": {
        "id": "b55_usu4XDFZ",
        "colab_type": "code",
        "colab": {},
        "outputId": "a9179421-94ab-4682-8805-2fbf70e8abef"
      },
      "cell_type": "code",
      "source": [
        "df.nlargest(3, 'a')"
      ],
      "execution_count": 0,
      "outputs": [
        {
          "output_type": "execute_result",
          "data": {
            "text/html": [
              "<div>\n",
              "<table border=\"1\" class=\"dataframe\">\n",
              "  <thead>\n",
              "    <tr style=\"text-align: right;\">\n",
              "      <th></th>\n",
              "      <th>a</th>\n",
              "      <th>b</th>\n",
              "      <th>c</th>\n",
              "    </tr>\n",
              "  </thead>\n",
              "  <tbody>\n",
              "    <tr>\n",
              "      <th>5</th>\n",
              "      <td>11</td>\n",
              "      <td>f</td>\n",
              "      <td>3.0</td>\n",
              "    </tr>\n",
              "    <tr>\n",
              "      <th>3</th>\n",
              "      <td>10</td>\n",
              "      <td>c</td>\n",
              "      <td>3.2</td>\n",
              "    </tr>\n",
              "    <tr>\n",
              "      <th>4</th>\n",
              "      <td>8</td>\n",
              "      <td>e</td>\n",
              "      <td>NaN</td>\n",
              "    </tr>\n",
              "  </tbody>\n",
              "</table>\n",
              "</div>"
            ],
            "text/plain": [
              "    a  b    c\n",
              "5  11  f  3.0\n",
              "3  10  c  3.2\n",
              "4   8  e  NaN"
            ]
          },
          "metadata": {
            "tags": []
          },
          "execution_count": 421
        }
      ]
    },
    {
      "metadata": {
        "id": "U1rt-kVAXDFZ",
        "colab_type": "code",
        "colab": {},
        "outputId": "30b98838-8c97-4708-cf3f-6965feea74e8"
      },
      "cell_type": "code",
      "source": [
        "df.nlargest(5, ['a', 'c'])"
      ],
      "execution_count": 0,
      "outputs": [
        {
          "output_type": "execute_result",
          "data": {
            "text/html": [
              "<div>\n",
              "<table border=\"1\" class=\"dataframe\">\n",
              "  <thead>\n",
              "    <tr style=\"text-align: right;\">\n",
              "      <th></th>\n",
              "      <th>a</th>\n",
              "      <th>b</th>\n",
              "      <th>c</th>\n",
              "    </tr>\n",
              "  </thead>\n",
              "  <tbody>\n",
              "    <tr>\n",
              "      <th>5</th>\n",
              "      <td>11</td>\n",
              "      <td>f</td>\n",
              "      <td>3.0</td>\n",
              "    </tr>\n",
              "    <tr>\n",
              "      <th>3</th>\n",
              "      <td>10</td>\n",
              "      <td>c</td>\n",
              "      <td>3.2</td>\n",
              "    </tr>\n",
              "    <tr>\n",
              "      <th>4</th>\n",
              "      <td>8</td>\n",
              "      <td>e</td>\n",
              "      <td>NaN</td>\n",
              "    </tr>\n",
              "    <tr>\n",
              "      <th>2</th>\n",
              "      <td>1</td>\n",
              "      <td>d</td>\n",
              "      <td>4.0</td>\n",
              "    </tr>\n",
              "    <tr>\n",
              "      <th>1</th>\n",
              "      <td>-1</td>\n",
              "      <td>b</td>\n",
              "      <td>2.0</td>\n",
              "    </tr>\n",
              "  </tbody>\n",
              "</table>\n",
              "</div>"
            ],
            "text/plain": [
              "    a  b    c\n",
              "5  11  f  3.0\n",
              "3  10  c  3.2\n",
              "4   8  e  NaN\n",
              "2   1  d  4.0\n",
              "1  -1  b  2.0"
            ]
          },
          "metadata": {
            "tags": []
          },
          "execution_count": 422
        }
      ]
    },
    {
      "metadata": {
        "id": "juetWT_HXDFb",
        "colab_type": "code",
        "colab": {},
        "outputId": "6f45e52d-1e2e-492c-b6f7-18b2d390a0c0"
      },
      "cell_type": "code",
      "source": [
        "df.nsmallest(3, 'a')"
      ],
      "execution_count": 0,
      "outputs": [
        {
          "output_type": "execute_result",
          "data": {
            "text/html": [
              "<div>\n",
              "<table border=\"1\" class=\"dataframe\">\n",
              "  <thead>\n",
              "    <tr style=\"text-align: right;\">\n",
              "      <th></th>\n",
              "      <th>a</th>\n",
              "      <th>b</th>\n",
              "      <th>c</th>\n",
              "    </tr>\n",
              "  </thead>\n",
              "  <tbody>\n",
              "    <tr>\n",
              "      <th>0</th>\n",
              "      <td>-2</td>\n",
              "      <td>a</td>\n",
              "      <td>1.0</td>\n",
              "    </tr>\n",
              "    <tr>\n",
              "      <th>1</th>\n",
              "      <td>-1</td>\n",
              "      <td>b</td>\n",
              "      <td>2.0</td>\n",
              "    </tr>\n",
              "    <tr>\n",
              "      <th>6</th>\n",
              "      <td>-1</td>\n",
              "      <td>f</td>\n",
              "      <td>4.0</td>\n",
              "    </tr>\n",
              "  </tbody>\n",
              "</table>\n",
              "</div>"
            ],
            "text/plain": [
              "   a  b    c\n",
              "0 -2  a  1.0\n",
              "1 -1  b  2.0\n",
              "6 -1  f  4.0"
            ]
          },
          "metadata": {
            "tags": []
          },
          "execution_count": 423
        }
      ]
    },
    {
      "metadata": {
        "id": "TD3t8duLXDFb",
        "colab_type": "code",
        "colab": {},
        "outputId": "f7c86e5c-89a3-4f63-b59c-483ac26f5cf0"
      },
      "cell_type": "code",
      "source": [
        "df.nsmallest(5, ['a', 'c'])"
      ],
      "execution_count": 0,
      "outputs": [
        {
          "output_type": "execute_result",
          "data": {
            "text/html": [
              "<div>\n",
              "<table border=\"1\" class=\"dataframe\">\n",
              "  <thead>\n",
              "    <tr style=\"text-align: right;\">\n",
              "      <th></th>\n",
              "      <th>a</th>\n",
              "      <th>b</th>\n",
              "      <th>c</th>\n",
              "    </tr>\n",
              "  </thead>\n",
              "  <tbody>\n",
              "    <tr>\n",
              "      <th>0</th>\n",
              "      <td>-2</td>\n",
              "      <td>a</td>\n",
              "      <td>1.0</td>\n",
              "    </tr>\n",
              "    <tr>\n",
              "      <th>1</th>\n",
              "      <td>-1</td>\n",
              "      <td>b</td>\n",
              "      <td>2.0</td>\n",
              "    </tr>\n",
              "    <tr>\n",
              "      <th>6</th>\n",
              "      <td>-1</td>\n",
              "      <td>f</td>\n",
              "      <td>4.0</td>\n",
              "    </tr>\n",
              "    <tr>\n",
              "      <th>2</th>\n",
              "      <td>1</td>\n",
              "      <td>d</td>\n",
              "      <td>4.0</td>\n",
              "    </tr>\n",
              "    <tr>\n",
              "      <th>4</th>\n",
              "      <td>8</td>\n",
              "      <td>e</td>\n",
              "      <td>NaN</td>\n",
              "    </tr>\n",
              "  </tbody>\n",
              "</table>\n",
              "</div>"
            ],
            "text/plain": [
              "   a  b    c\n",
              "0 -2  a  1.0\n",
              "1 -1  b  2.0\n",
              "6 -1  f  4.0\n",
              "2  1  d  4.0\n",
              "4  8  e  NaN"
            ]
          },
          "metadata": {
            "tags": []
          },
          "execution_count": 424
        }
      ]
    },
    {
      "metadata": {
        "id": "dKxeKIn-XDFc",
        "colab_type": "text"
      },
      "cell_type": "markdown",
      "source": [
        "### Sorting by a multi-index column"
      ]
    },
    {
      "metadata": {
        "id": "gLfNyyv5XDFc",
        "colab_type": "text"
      },
      "cell_type": "markdown",
      "source": [
        "You must be explicit about sorting when the column is a multi-index, and fully specify all levels to by."
      ]
    },
    {
      "metadata": {
        "id": "jA_HkkyWXDFd",
        "colab_type": "code",
        "colab": {},
        "collapsed": true
      },
      "cell_type": "code",
      "source": [
        "df1.columns = pd.MultiIndex.from_tuples([('a','one'),('a','two'),('b','three')])"
      ],
      "execution_count": 0,
      "outputs": []
    },
    {
      "metadata": {
        "id": "1-0CrLr8XDFd",
        "colab_type": "code",
        "colab": {},
        "outputId": "6b7d5954-1fcc-4b14-af9d-e939685b7660"
      },
      "cell_type": "code",
      "source": [
        "df1"
      ],
      "execution_count": 0,
      "outputs": [
        {
          "output_type": "execute_result",
          "data": {
            "text/html": [
              "<div>\n",
              "<table border=\"1\" class=\"dataframe\">\n",
              "  <thead>\n",
              "    <tr>\n",
              "      <th></th>\n",
              "      <th colspan=\"2\" halign=\"left\">a</th>\n",
              "      <th>b</th>\n",
              "    </tr>\n",
              "    <tr>\n",
              "      <th></th>\n",
              "      <th>one</th>\n",
              "      <th>two</th>\n",
              "      <th>three</th>\n",
              "    </tr>\n",
              "  </thead>\n",
              "  <tbody>\n",
              "    <tr>\n",
              "      <th>0</th>\n",
              "      <td>2</td>\n",
              "      <td>5</td>\n",
              "      <td>1</td>\n",
              "    </tr>\n",
              "    <tr>\n",
              "      <th>1</th>\n",
              "      <td>1</td>\n",
              "      <td>4</td>\n",
              "      <td>3</td>\n",
              "    </tr>\n",
              "    <tr>\n",
              "      <th>2</th>\n",
              "      <td>1</td>\n",
              "      <td>3</td>\n",
              "      <td>2</td>\n",
              "    </tr>\n",
              "    <tr>\n",
              "      <th>3</th>\n",
              "      <td>1</td>\n",
              "      <td>2</td>\n",
              "      <td>4</td>\n",
              "    </tr>\n",
              "  </tbody>\n",
              "</table>\n",
              "</div>"
            ],
            "text/plain": [
              "    a         b\n",
              "  one two three\n",
              "0   2   5     1\n",
              "1   1   4     3\n",
              "2   1   3     2\n",
              "3   1   2     4"
            ]
          },
          "metadata": {
            "tags": []
          },
          "execution_count": 426
        }
      ]
    },
    {
      "metadata": {
        "id": "3-_XQ8f7XDFd",
        "colab_type": "code",
        "colab": {},
        "outputId": "2faff39c-0334-4498-dcdd-430408a93ac7"
      },
      "cell_type": "code",
      "source": [
        "df1.sort_values(by=('a','two'))"
      ],
      "execution_count": 0,
      "outputs": [
        {
          "output_type": "execute_result",
          "data": {
            "text/html": [
              "<div>\n",
              "<table border=\"1\" class=\"dataframe\">\n",
              "  <thead>\n",
              "    <tr>\n",
              "      <th></th>\n",
              "      <th colspan=\"2\" halign=\"left\">a</th>\n",
              "      <th>b</th>\n",
              "    </tr>\n",
              "    <tr>\n",
              "      <th></th>\n",
              "      <th>one</th>\n",
              "      <th>two</th>\n",
              "      <th>three</th>\n",
              "    </tr>\n",
              "  </thead>\n",
              "  <tbody>\n",
              "    <tr>\n",
              "      <th>3</th>\n",
              "      <td>1</td>\n",
              "      <td>2</td>\n",
              "      <td>4</td>\n",
              "    </tr>\n",
              "    <tr>\n",
              "      <th>2</th>\n",
              "      <td>1</td>\n",
              "      <td>3</td>\n",
              "      <td>2</td>\n",
              "    </tr>\n",
              "    <tr>\n",
              "      <th>1</th>\n",
              "      <td>1</td>\n",
              "      <td>4</td>\n",
              "      <td>3</td>\n",
              "    </tr>\n",
              "    <tr>\n",
              "      <th>0</th>\n",
              "      <td>2</td>\n",
              "      <td>5</td>\n",
              "      <td>1</td>\n",
              "    </tr>\n",
              "  </tbody>\n",
              "</table>\n",
              "</div>"
            ],
            "text/plain": [
              "    a         b\n",
              "  one two three\n",
              "3   1   2     4\n",
              "2   1   3     2\n",
              "1   1   4     3\n",
              "0   2   5     1"
            ]
          },
          "metadata": {
            "tags": []
          },
          "execution_count": 427
        }
      ]
    },
    {
      "metadata": {
        "id": "wrUIr3h9XDFd",
        "colab_type": "text"
      },
      "cell_type": "markdown",
      "source": [
        "## Copying"
      ]
    },
    {
      "metadata": {
        "id": "MF4YOr99XDFd",
        "colab_type": "text"
      },
      "cell_type": "markdown",
      "source": [
        "The **copy()** method on pandas objects copies the underlying data (though not the axis indexes, since they are immutable) and returns a new object. Note that **it is seldom necessary to copy objects.** For example, there are only a handful of ways to alter a DataFrame in-place:\n",
        "\n",
        "* Inserting, deleting, or modifying a column\n",
        "* Assigning to the index or columns attributes\n",
        "* For homogeneous data, directly modifying the values via the values attribute or advanced indexing\n",
        "\n",
        "To be clear, no pandas methods have the side effect of modifying your data; almost all methods return new objects, leaving the original object untouched. If data is modified, it is because you did so explicitly."
      ]
    },
    {
      "metadata": {
        "id": "vpWJbCcFXDFe",
        "colab_type": "text"
      },
      "cell_type": "markdown",
      "source": [
        "## dtypes"
      ]
    },
    {
      "metadata": {
        "id": "tpi18ELUXDFe",
        "colab_type": "text"
      },
      "cell_type": "markdown",
      "source": [
        "The main types stored in pandas objects are float, int, bool, datetime64[ns] and datetime64[ns, tz] (in >= 0.17.0), timedelta[ns], category (in >= 0.15.0), and object. In addition these dtypes have item sizes, e.g. int64 and int32. See Series with TZ for more detail on datetime64[ns, tz] dtypes.\n",
        "\n",
        "A convenient **dtypes** attribute for DataFrames returns a Series with the data type of each column."
      ]
    },
    {
      "metadata": {
        "id": "AqNnGLX4XDFe",
        "colab_type": "code",
        "colab": {},
        "collapsed": true
      },
      "cell_type": "code",
      "source": [
        "dft = pd.DataFrame(dict(A = np.random.rand(3),\n",
        "                        B = 1,\n",
        "                        C = 'foo',\n",
        "                        D = pd.Timestamp('20010102'),\n",
        "                        E = pd.Series([1.0]*3).astype('float32'),\n",
        "                        F = False,\n",
        "                        G = pd.Series([1]*3,dtype='int8')))                "
      ],
      "execution_count": 0,
      "outputs": []
    },
    {
      "metadata": {
        "id": "oRDsGFCxXDFe",
        "colab_type": "code",
        "colab": {},
        "outputId": "1a3dab2b-8809-4067-ddc2-33b44c6b7b26"
      },
      "cell_type": "code",
      "source": [
        "dft"
      ],
      "execution_count": 0,
      "outputs": [
        {
          "output_type": "execute_result",
          "data": {
            "text/html": [
              "<div>\n",
              "<table border=\"1\" class=\"dataframe\">\n",
              "  <thead>\n",
              "    <tr style=\"text-align: right;\">\n",
              "      <th></th>\n",
              "      <th>A</th>\n",
              "      <th>B</th>\n",
              "      <th>C</th>\n",
              "      <th>D</th>\n",
              "      <th>E</th>\n",
              "      <th>F</th>\n",
              "      <th>G</th>\n",
              "    </tr>\n",
              "  </thead>\n",
              "  <tbody>\n",
              "    <tr>\n",
              "      <th>0</th>\n",
              "      <td>0.568296</td>\n",
              "      <td>1</td>\n",
              "      <td>foo</td>\n",
              "      <td>2001-01-02</td>\n",
              "      <td>1.0</td>\n",
              "      <td>False</td>\n",
              "      <td>1</td>\n",
              "    </tr>\n",
              "    <tr>\n",
              "      <th>1</th>\n",
              "      <td>0.459525</td>\n",
              "      <td>1</td>\n",
              "      <td>foo</td>\n",
              "      <td>2001-01-02</td>\n",
              "      <td>1.0</td>\n",
              "      <td>False</td>\n",
              "      <td>1</td>\n",
              "    </tr>\n",
              "    <tr>\n",
              "      <th>2</th>\n",
              "      <td>0.258342</td>\n",
              "      <td>1</td>\n",
              "      <td>foo</td>\n",
              "      <td>2001-01-02</td>\n",
              "      <td>1.0</td>\n",
              "      <td>False</td>\n",
              "      <td>1</td>\n",
              "    </tr>\n",
              "  </tbody>\n",
              "</table>\n",
              "</div>"
            ],
            "text/plain": [
              "          A  B    C          D    E      F  G\n",
              "0  0.568296  1  foo 2001-01-02  1.0  False  1\n",
              "1  0.459525  1  foo 2001-01-02  1.0  False  1\n",
              "2  0.258342  1  foo 2001-01-02  1.0  False  1"
            ]
          },
          "metadata": {
            "tags": []
          },
          "execution_count": 429
        }
      ]
    },
    {
      "metadata": {
        "id": "m8bVGErcXDFf",
        "colab_type": "code",
        "colab": {},
        "outputId": "32b60b23-c32e-4992-e83b-db8150eb031c"
      },
      "cell_type": "code",
      "source": [
        "dft.dtypes"
      ],
      "execution_count": 0,
      "outputs": [
        {
          "output_type": "execute_result",
          "data": {
            "text/plain": [
              "A           float64\n",
              "B             int64\n",
              "C            object\n",
              "D    datetime64[ns]\n",
              "E           float32\n",
              "F              bool\n",
              "G              int8\n",
              "dtype: object"
            ]
          },
          "metadata": {
            "tags": []
          },
          "execution_count": 430
        }
      ]
    },
    {
      "metadata": {
        "id": "Zbg10jDDXDFg",
        "colab_type": "text"
      },
      "cell_type": "markdown",
      "source": [
        "On a Series use the **dtype** attribute."
      ]
    },
    {
      "metadata": {
        "id": "hxuhuAVVXDFg",
        "colab_type": "code",
        "colab": {},
        "outputId": "58804725-bf8e-4d4f-cebd-947071edf853"
      },
      "cell_type": "code",
      "source": [
        "dft['A'].dtype"
      ],
      "execution_count": 0,
      "outputs": [
        {
          "output_type": "execute_result",
          "data": {
            "text/plain": [
              "dtype('float64')"
            ]
          },
          "metadata": {
            "tags": []
          },
          "execution_count": 431
        }
      ]
    },
    {
      "metadata": {
        "id": "2fvxqoyZXDFg",
        "colab_type": "text"
      },
      "cell_type": "markdown",
      "source": [
        "If a pandas object contains data multiple dtypes IN A SINGLE COLUMN, the dtype of the column will be chosen to accommodate all of the data types (object is the most general)."
      ]
    },
    {
      "metadata": {
        "id": "gymTPVMgXDFg",
        "colab_type": "code",
        "colab": {},
        "outputId": "0335e80c-806d-4dbb-d18b-67a849a608ff"
      },
      "cell_type": "code",
      "source": [
        "# these ints are coerced to floats\n",
        "pd.Series([1, 2, 3, 4, 5, 6.])"
      ],
      "execution_count": 0,
      "outputs": [
        {
          "output_type": "execute_result",
          "data": {
            "text/plain": [
              "0    1.0\n",
              "1    2.0\n",
              "2    3.0\n",
              "3    4.0\n",
              "4    5.0\n",
              "5    6.0\n",
              "dtype: float64"
            ]
          },
          "metadata": {
            "tags": []
          },
          "execution_count": 432
        }
      ]
    },
    {
      "metadata": {
        "id": "e_DVbpnLXDFh",
        "colab_type": "code",
        "colab": {},
        "outputId": "cb1e4e4e-4f31-4800-ad60-e2b230ee03f4"
      },
      "cell_type": "code",
      "source": [
        "\n",
        "# string data forces an ``object`` dtype\n",
        "pd.Series([1, 2, 3, 6., 'foo'])"
      ],
      "execution_count": 0,
      "outputs": [
        {
          "output_type": "execute_result",
          "data": {
            "text/plain": [
              "0      1\n",
              "1      2\n",
              "2      3\n",
              "3      6\n",
              "4    foo\n",
              "dtype: object"
            ]
          },
          "metadata": {
            "tags": []
          },
          "execution_count": 433
        }
      ]
    },
    {
      "metadata": {
        "id": "uh1aUvqHXDFh",
        "colab_type": "text"
      },
      "cell_type": "markdown",
      "source": [
        "The method **get_dtype_counts()** will return the number of columns of each type in a DataFrame:"
      ]
    },
    {
      "metadata": {
        "id": "ZotqbMKSXDFh",
        "colab_type": "code",
        "colab": {},
        "outputId": "6170bfc0-4de1-414f-cf2e-e5e0c39d46af"
      },
      "cell_type": "code",
      "source": [
        "dft.get_dtype_counts()"
      ],
      "execution_count": 0,
      "outputs": [
        {
          "output_type": "execute_result",
          "data": {
            "text/plain": [
              "bool              1\n",
              "datetime64[ns]    1\n",
              "float32           1\n",
              "float64           1\n",
              "int64             1\n",
              "int8              1\n",
              "object            1\n",
              "dtype: int64"
            ]
          },
          "metadata": {
            "tags": []
          },
          "execution_count": 434
        }
      ]
    },
    {
      "metadata": {
        "id": "EBSQmBS6XDFi",
        "colab_type": "text"
      },
      "cell_type": "markdown",
      "source": [
        "Numeric dtypes will propagate and can coexist in DataFrames (starting in v0.11.0). If a dtype is passed (either directly via the dtype keyword, a passed ndarray, or a passed Series, then it will be preserved in DataFrame operations. Furthermore, different numeric dtypes will **NOT** be combined. The following example will give you a taste"
      ]
    },
    {
      "metadata": {
        "id": "41QW7ryNXDFi",
        "colab_type": "code",
        "colab": {},
        "collapsed": true
      },
      "cell_type": "code",
      "source": [
        "df1 = pd.DataFrame(np.random.randn(8, 1), columns=['A'], dtype='float32')"
      ],
      "execution_count": 0,
      "outputs": []
    },
    {
      "metadata": {
        "id": "wTGKE_McXDFi",
        "colab_type": "code",
        "colab": {},
        "outputId": "6394154d-01a7-4fb3-91d0-f361ee71aac1"
      },
      "cell_type": "code",
      "source": [
        "df1"
      ],
      "execution_count": 0,
      "outputs": [
        {
          "output_type": "execute_result",
          "data": {
            "text/html": [
              "<div>\n",
              "<table border=\"1\" class=\"dataframe\">\n",
              "  <thead>\n",
              "    <tr style=\"text-align: right;\">\n",
              "      <th></th>\n",
              "      <th>A</th>\n",
              "    </tr>\n",
              "  </thead>\n",
              "  <tbody>\n",
              "    <tr>\n",
              "      <th>0</th>\n",
              "      <td>-0.413625</td>\n",
              "    </tr>\n",
              "    <tr>\n",
              "      <th>1</th>\n",
              "      <td>0.972027</td>\n",
              "    </tr>\n",
              "    <tr>\n",
              "      <th>2</th>\n",
              "      <td>-0.977208</td>\n",
              "    </tr>\n",
              "    <tr>\n",
              "      <th>3</th>\n",
              "      <td>-1.659892</td>\n",
              "    </tr>\n",
              "    <tr>\n",
              "      <th>4</th>\n",
              "      <td>-0.735129</td>\n",
              "    </tr>\n",
              "    <tr>\n",
              "      <th>5</th>\n",
              "      <td>0.910707</td>\n",
              "    </tr>\n",
              "    <tr>\n",
              "      <th>6</th>\n",
              "      <td>0.679031</td>\n",
              "    </tr>\n",
              "    <tr>\n",
              "      <th>7</th>\n",
              "      <td>2.088477</td>\n",
              "    </tr>\n",
              "  </tbody>\n",
              "</table>\n",
              "</div>"
            ],
            "text/plain": [
              "          A\n",
              "0 -0.413625\n",
              "1  0.972027\n",
              "2 -0.977208\n",
              "3 -1.659892\n",
              "4 -0.735129\n",
              "5  0.910707\n",
              "6  0.679031\n",
              "7  2.088477"
            ]
          },
          "metadata": {
            "tags": []
          },
          "execution_count": 436
        }
      ]
    },
    {
      "metadata": {
        "id": "ARuRFUxEXDFj",
        "colab_type": "code",
        "colab": {},
        "outputId": "b59f38bc-e9f6-4e02-998a-38bb91028efb"
      },
      "cell_type": "code",
      "source": [
        "df1.dtypes"
      ],
      "execution_count": 0,
      "outputs": [
        {
          "output_type": "execute_result",
          "data": {
            "text/plain": [
              "A    float32\n",
              "dtype: object"
            ]
          },
          "metadata": {
            "tags": []
          },
          "execution_count": 437
        }
      ]
    },
    {
      "metadata": {
        "id": "LgMLN7WWXDFk",
        "colab_type": "code",
        "colab": {},
        "collapsed": true
      },
      "cell_type": "code",
      "source": [
        "df2 = pd.DataFrame(dict( A = pd.Series(np.random.randn(8), dtype='float16'),\n",
        "                         B = pd.Series(np.random.randn(8)),\n",
        "                         C = pd.Series(np.array(np.random.randn(8), dtype='uint8')) ))"
      ],
      "execution_count": 0,
      "outputs": []
    },
    {
      "metadata": {
        "id": "-PXVjdZjXDFk",
        "colab_type": "code",
        "colab": {},
        "outputId": "fb078d43-ffce-48da-e4a6-48822781e933"
      },
      "cell_type": "code",
      "source": [
        "df2"
      ],
      "execution_count": 0,
      "outputs": [
        {
          "output_type": "execute_result",
          "data": {
            "text/html": [
              "<div>\n",
              "<table border=\"1\" class=\"dataframe\">\n",
              "  <thead>\n",
              "    <tr style=\"text-align: right;\">\n",
              "      <th></th>\n",
              "      <th>A</th>\n",
              "      <th>B</th>\n",
              "      <th>C</th>\n",
              "    </tr>\n",
              "  </thead>\n",
              "  <tbody>\n",
              "    <tr>\n",
              "      <th>0</th>\n",
              "      <td>-0.077637</td>\n",
              "      <td>0.723455</td>\n",
              "      <td>1</td>\n",
              "    </tr>\n",
              "    <tr>\n",
              "      <th>1</th>\n",
              "      <td>-1.627930</td>\n",
              "      <td>-0.558913</td>\n",
              "      <td>0</td>\n",
              "    </tr>\n",
              "    <tr>\n",
              "      <th>2</th>\n",
              "      <td>0.643066</td>\n",
              "      <td>0.375315</td>\n",
              "      <td>1</td>\n",
              "    </tr>\n",
              "    <tr>\n",
              "      <th>3</th>\n",
              "      <td>2.304688</td>\n",
              "      <td>-0.065649</td>\n",
              "      <td>0</td>\n",
              "    </tr>\n",
              "    <tr>\n",
              "      <th>4</th>\n",
              "      <td>-2.306641</td>\n",
              "      <td>-1.174541</td>\n",
              "      <td>1</td>\n",
              "    </tr>\n",
              "    <tr>\n",
              "      <th>5</th>\n",
              "      <td>-0.461670</td>\n",
              "      <td>-1.377454</td>\n",
              "      <td>255</td>\n",
              "    </tr>\n",
              "    <tr>\n",
              "      <th>6</th>\n",
              "      <td>0.386719</td>\n",
              "      <td>1.427348</td>\n",
              "      <td>0</td>\n",
              "    </tr>\n",
              "    <tr>\n",
              "      <th>7</th>\n",
              "      <td>-0.240845</td>\n",
              "      <td>-1.043456</td>\n",
              "      <td>0</td>\n",
              "    </tr>\n",
              "  </tbody>\n",
              "</table>\n",
              "</div>"
            ],
            "text/plain": [
              "          A         B    C\n",
              "0 -0.077637  0.723455    1\n",
              "1 -1.627930 -0.558913    0\n",
              "2  0.643066  0.375315    1\n",
              "3  2.304688 -0.065649    0\n",
              "4 -2.306641 -1.174541    1\n",
              "5 -0.461670 -1.377454  255\n",
              "6  0.386719  1.427348    0\n",
              "7 -0.240845 -1.043456    0"
            ]
          },
          "metadata": {
            "tags": []
          },
          "execution_count": 439
        }
      ]
    },
    {
      "metadata": {
        "id": "nUq-GVL4XDFk",
        "colab_type": "code",
        "colab": {},
        "outputId": "4e7a79ef-7be5-4fa1-d534-9d60b4e4ac28"
      },
      "cell_type": "code",
      "source": [
        "df2.dtypes"
      ],
      "execution_count": 0,
      "outputs": [
        {
          "output_type": "execute_result",
          "data": {
            "text/plain": [
              "A    float16\n",
              "B    float64\n",
              "C      uint8\n",
              "dtype: object"
            ]
          },
          "metadata": {
            "tags": []
          },
          "execution_count": 440
        }
      ]
    },
    {
      "metadata": {
        "id": "yOPJ_3ZFXDFl",
        "colab_type": "text"
      },
      "cell_type": "markdown",
      "source": [
        "### defaults"
      ]
    },
    {
      "metadata": {
        "id": "jDq5Cr1UXDFl",
        "colab_type": "text"
      },
      "cell_type": "markdown",
      "source": [
        "By default integer types are int64 and float types are float64, REGARDLESS of platform (32-bit or 64-bit). The following will all result in int64 dtypes."
      ]
    },
    {
      "metadata": {
        "id": "XNtVRbnuXDFl",
        "colab_type": "code",
        "colab": {},
        "outputId": "e7316edd-aa61-4335-c270-669be28306b8"
      },
      "cell_type": "code",
      "source": [
        "pd.DataFrame([1, 2], columns=['a']).dtypes"
      ],
      "execution_count": 0,
      "outputs": [
        {
          "output_type": "execute_result",
          "data": {
            "text/plain": [
              "a    int64\n",
              "dtype: object"
            ]
          },
          "metadata": {
            "tags": []
          },
          "execution_count": 441
        }
      ]
    },
    {
      "metadata": {
        "id": "qF6rLigJXDFl",
        "colab_type": "code",
        "colab": {},
        "outputId": "fdf27dce-6dcc-4aea-cbc6-3cd290b60d9c"
      },
      "cell_type": "code",
      "source": [
        "pd.DataFrame({'a': [1, 2]}).dtypes"
      ],
      "execution_count": 0,
      "outputs": [
        {
          "output_type": "execute_result",
          "data": {
            "text/plain": [
              "a    int64\n",
              "dtype: object"
            ]
          },
          "metadata": {
            "tags": []
          },
          "execution_count": 442
        }
      ]
    },
    {
      "metadata": {
        "id": "30A8ozMtXDFm",
        "colab_type": "code",
        "colab": {},
        "outputId": "0e98d860-19d4-470d-a85b-7fc1ddede884"
      },
      "cell_type": "code",
      "source": [
        " pd.DataFrame({'a': 1 }, index=list(range(2))).dtypes"
      ],
      "execution_count": 0,
      "outputs": [
        {
          "output_type": "execute_result",
          "data": {
            "text/plain": [
              "a    int64\n",
              "dtype: object"
            ]
          },
          "metadata": {
            "tags": []
          },
          "execution_count": 443
        }
      ]
    },
    {
      "metadata": {
        "id": "faobjFxSXDFn",
        "colab_type": "text"
      },
      "cell_type": "markdown",
      "source": [
        "Numpy, however will choose platform-dependent types when creating arrays. The following **WILL** result in int32 on 32-bit platform."
      ]
    },
    {
      "metadata": {
        "id": "tlEPz-zHXDFn",
        "colab_type": "code",
        "colab": {},
        "outputId": "771bac1c-d2a3-4817-a675-5516851fc78a"
      },
      "cell_type": "code",
      "source": [
        "pd.DataFrame(np.array([1, 2])).dtypes"
      ],
      "execution_count": 0,
      "outputs": [
        {
          "output_type": "execute_result",
          "data": {
            "text/plain": [
              "0    int32\n",
              "dtype: object"
            ]
          },
          "metadata": {
            "tags": []
          },
          "execution_count": 445
        }
      ]
    },
    {
      "metadata": {
        "id": "wApma3hLXDFo",
        "colab_type": "text"
      },
      "cell_type": "markdown",
      "source": [
        "### upcasting"
      ]
    },
    {
      "metadata": {
        "id": "NYpqVkCEXDFo",
        "colab_type": "text"
      },
      "cell_type": "markdown",
      "source": [
        "Types can potentially be upcasted when combined with other types, meaning they are promoted from the current type (say int to float)"
      ]
    },
    {
      "metadata": {
        "id": "-Yjv4CoNXDFo",
        "colab_type": "code",
        "colab": {},
        "collapsed": true
      },
      "cell_type": "code",
      "source": [
        "df3 = df1.reindex_like(df2).fillna(value=0.0) + df2"
      ],
      "execution_count": 0,
      "outputs": []
    },
    {
      "metadata": {
        "id": "BjznC_IEXDFo",
        "colab_type": "code",
        "colab": {},
        "outputId": "fceca392-1eed-46ab-b07d-eaa74f2bddc6"
      },
      "cell_type": "code",
      "source": [
        "df3"
      ],
      "execution_count": 0,
      "outputs": [
        {
          "output_type": "execute_result",
          "data": {
            "text/html": [
              "<div>\n",
              "<table border=\"1\" class=\"dataframe\">\n",
              "  <thead>\n",
              "    <tr style=\"text-align: right;\">\n",
              "      <th></th>\n",
              "      <th>A</th>\n",
              "      <th>B</th>\n",
              "      <th>C</th>\n",
              "    </tr>\n",
              "  </thead>\n",
              "  <tbody>\n",
              "    <tr>\n",
              "      <th>0</th>\n",
              "      <td>-0.491262</td>\n",
              "      <td>0.723455</td>\n",
              "      <td>1.0</td>\n",
              "    </tr>\n",
              "    <tr>\n",
              "      <th>1</th>\n",
              "      <td>-0.655902</td>\n",
              "      <td>-0.558913</td>\n",
              "      <td>0.0</td>\n",
              "    </tr>\n",
              "    <tr>\n",
              "      <th>2</th>\n",
              "      <td>-0.334142</td>\n",
              "      <td>0.375315</td>\n",
              "      <td>1.0</td>\n",
              "    </tr>\n",
              "    <tr>\n",
              "      <th>3</th>\n",
              "      <td>0.644795</td>\n",
              "      <td>-0.065649</td>\n",
              "      <td>0.0</td>\n",
              "    </tr>\n",
              "    <tr>\n",
              "      <th>4</th>\n",
              "      <td>-3.041769</td>\n",
              "      <td>-1.174541</td>\n",
              "      <td>1.0</td>\n",
              "    </tr>\n",
              "    <tr>\n",
              "      <th>5</th>\n",
              "      <td>0.449037</td>\n",
              "      <td>-1.377454</td>\n",
              "      <td>255.0</td>\n",
              "    </tr>\n",
              "    <tr>\n",
              "      <th>6</th>\n",
              "      <td>1.065750</td>\n",
              "      <td>1.427348</td>\n",
              "      <td>0.0</td>\n",
              "    </tr>\n",
              "    <tr>\n",
              "      <th>7</th>\n",
              "      <td>1.847633</td>\n",
              "      <td>-1.043456</td>\n",
              "      <td>0.0</td>\n",
              "    </tr>\n",
              "  </tbody>\n",
              "</table>\n",
              "</div>"
            ],
            "text/plain": [
              "          A         B      C\n",
              "0 -0.491262  0.723455    1.0\n",
              "1 -0.655902 -0.558913    0.0\n",
              "2 -0.334142  0.375315    1.0\n",
              "3  0.644795 -0.065649    0.0\n",
              "4 -3.041769 -1.174541    1.0\n",
              "5  0.449037 -1.377454  255.0\n",
              "6  1.065750  1.427348    0.0\n",
              "7  1.847633 -1.043456    0.0"
            ]
          },
          "metadata": {
            "tags": []
          },
          "execution_count": 448
        }
      ]
    },
    {
      "metadata": {
        "id": "i2kC1UfBXDFo",
        "colab_type": "code",
        "colab": {},
        "outputId": "43c06d92-85ce-4760-8846-38a9a073290c"
      },
      "cell_type": "code",
      "source": [
        "df3.dtypes"
      ],
      "execution_count": 0,
      "outputs": [
        {
          "output_type": "execute_result",
          "data": {
            "text/plain": [
              "A    float32\n",
              "B    float64\n",
              "C    float64\n",
              "dtype: object"
            ]
          },
          "metadata": {
            "tags": []
          },
          "execution_count": 449
        }
      ]
    },
    {
      "metadata": {
        "id": "vIwSccM9XDFo",
        "colab_type": "text"
      },
      "cell_type": "markdown",
      "source": [
        "The values attribute on a DataFrame return the lower-common-denominator of the dtypes, meaning the dtype that can accommodate **ALL** of the types in the resulting homogeneous dtyped numpy array. This can force some upcasting."
      ]
    },
    {
      "metadata": {
        "id": "5M36EspUXDFp",
        "colab_type": "code",
        "colab": {},
        "outputId": "2c6a0ba8-3520-4de0-f4c4-fe303b16c285"
      },
      "cell_type": "code",
      "source": [
        "df3.values.dtype"
      ],
      "execution_count": 0,
      "outputs": [
        {
          "output_type": "execute_result",
          "data": {
            "text/plain": [
              "dtype('float64')"
            ]
          },
          "metadata": {
            "tags": []
          },
          "execution_count": 450
        }
      ]
    },
    {
      "metadata": {
        "id": "nDrVDM-jXDFq",
        "colab_type": "text"
      },
      "cell_type": "markdown",
      "source": [
        "### astype"
      ]
    },
    {
      "metadata": {
        "id": "C6uam8B-XDFq",
        "colab_type": "text"
      },
      "cell_type": "markdown",
      "source": [
        "You can use the **astype()** method to explicitly convert dtypes from one to another. These will by default return a copy, even if the dtype was unchanged (pass copy=False to change this behavior). In addition, they will raise an exception if the astype operation is invalid.\n",
        "\n",
        "Upcasting is always according to the **numpy** rules. If two different dtypes are involved in an operation, then the more general one will be used as the result of the operation."
      ]
    },
    {
      "metadata": {
        "id": "1778adzaXDFq",
        "colab_type": "code",
        "colab": {},
        "outputId": "2349d9f2-07d5-42de-dad5-b82c12bc7397"
      },
      "cell_type": "code",
      "source": [
        "df3"
      ],
      "execution_count": 0,
      "outputs": [
        {
          "output_type": "execute_result",
          "data": {
            "text/html": [
              "<div>\n",
              "<table border=\"1\" class=\"dataframe\">\n",
              "  <thead>\n",
              "    <tr style=\"text-align: right;\">\n",
              "      <th></th>\n",
              "      <th>A</th>\n",
              "      <th>B</th>\n",
              "      <th>C</th>\n",
              "    </tr>\n",
              "  </thead>\n",
              "  <tbody>\n",
              "    <tr>\n",
              "      <th>0</th>\n",
              "      <td>-0.491262</td>\n",
              "      <td>0.723455</td>\n",
              "      <td>1.0</td>\n",
              "    </tr>\n",
              "    <tr>\n",
              "      <th>1</th>\n",
              "      <td>-0.655902</td>\n",
              "      <td>-0.558913</td>\n",
              "      <td>0.0</td>\n",
              "    </tr>\n",
              "    <tr>\n",
              "      <th>2</th>\n",
              "      <td>-0.334142</td>\n",
              "      <td>0.375315</td>\n",
              "      <td>1.0</td>\n",
              "    </tr>\n",
              "    <tr>\n",
              "      <th>3</th>\n",
              "      <td>0.644795</td>\n",
              "      <td>-0.065649</td>\n",
              "      <td>0.0</td>\n",
              "    </tr>\n",
              "    <tr>\n",
              "      <th>4</th>\n",
              "      <td>-3.041769</td>\n",
              "      <td>-1.174541</td>\n",
              "      <td>1.0</td>\n",
              "    </tr>\n",
              "    <tr>\n",
              "      <th>5</th>\n",
              "      <td>0.449037</td>\n",
              "      <td>-1.377454</td>\n",
              "      <td>255.0</td>\n",
              "    </tr>\n",
              "    <tr>\n",
              "      <th>6</th>\n",
              "      <td>1.065750</td>\n",
              "      <td>1.427348</td>\n",
              "      <td>0.0</td>\n",
              "    </tr>\n",
              "    <tr>\n",
              "      <th>7</th>\n",
              "      <td>1.847633</td>\n",
              "      <td>-1.043456</td>\n",
              "      <td>0.0</td>\n",
              "    </tr>\n",
              "  </tbody>\n",
              "</table>\n",
              "</div>"
            ],
            "text/plain": [
              "          A         B      C\n",
              "0 -0.491262  0.723455    1.0\n",
              "1 -0.655902 -0.558913    0.0\n",
              "2 -0.334142  0.375315    1.0\n",
              "3  0.644795 -0.065649    0.0\n",
              "4 -3.041769 -1.174541    1.0\n",
              "5  0.449037 -1.377454  255.0\n",
              "6  1.065750  1.427348    0.0\n",
              "7  1.847633 -1.043456    0.0"
            ]
          },
          "metadata": {
            "tags": []
          },
          "execution_count": 451
        }
      ]
    },
    {
      "metadata": {
        "id": "8NrDX6d9XDFq",
        "colab_type": "code",
        "colab": {},
        "outputId": "6a3c7767-dac3-4117-b06e-b44df830ece8"
      },
      "cell_type": "code",
      "source": [
        "# conversion of dtypes\n",
        "df3.astype('float32').dtypes"
      ],
      "execution_count": 0,
      "outputs": [
        {
          "output_type": "execute_result",
          "data": {
            "text/plain": [
              "A    float32\n",
              "B    float32\n",
              "C    float32\n",
              "dtype: object"
            ]
          },
          "metadata": {
            "tags": []
          },
          "execution_count": 452
        }
      ]
    },
    {
      "metadata": {
        "id": "-F_yhSU0XDFr",
        "colab_type": "text"
      },
      "cell_type": "markdown",
      "source": [
        "### object converstion"
      ]
    },
    {
      "metadata": {
        "id": "8nq1iukLXDFr",
        "colab_type": "text"
      },
      "cell_type": "markdown",
      "source": [
        "**convert_objects()** is a method to try to force conversion of types from the object dtype to other types. To force conversion of specific types that are number like, e.g. could be a string that represents a number, pass convert_numeric=True. This will force strings and numbers alike to be numbers if possible, otherwise they will be set to np.nan."
      ]
    },
    {
      "metadata": {
        "id": "k6XbHGuSXDFr",
        "colab_type": "code",
        "colab": {},
        "collapsed": true
      },
      "cell_type": "code",
      "source": [
        "df3['D'] = '1.'"
      ],
      "execution_count": 0,
      "outputs": []
    },
    {
      "metadata": {
        "id": "Pow5s1C6XDFr",
        "colab_type": "code",
        "colab": {},
        "collapsed": true
      },
      "cell_type": "code",
      "source": [
        "df3['E'] = '1'"
      ],
      "execution_count": 0,
      "outputs": []
    },
    {
      "metadata": {
        "id": "rzcJ5X5IXDFr",
        "colab_type": "code",
        "colab": {},
        "outputId": "9d90bdfd-5156-4216-9bf9-831e91b9c726"
      },
      "cell_type": "code",
      "source": [
        "df3.convert_objects(convert_numeric=True).dtypes"
      ],
      "execution_count": 0,
      "outputs": [
        {
          "output_type": "stream",
          "text": [
            "C:\\Anaconda2\\lib\\site-packages\\ipykernel\\__main__.py:1: FutureWarning: convert_objects is deprecated.  Use the data-type specific converters pd.to_datetime, pd.to_timedelta and pd.to_numeric.\n",
            "  if __name__ == '__main__':\n"
          ],
          "name": "stderr"
        },
        {
          "output_type": "execute_result",
          "data": {
            "text/plain": [
              "A    float32\n",
              "B    float64\n",
              "C    float64\n",
              "D    float64\n",
              "E      int64\n",
              "dtype: object"
            ]
          },
          "metadata": {
            "tags": []
          },
          "execution_count": 455
        }
      ]
    },
    {
      "metadata": {
        "id": "ffYnFyiWXDFs",
        "colab_type": "code",
        "colab": {},
        "collapsed": true
      },
      "cell_type": "code",
      "source": [
        "# same, but specific dtype conversion\n",
        "df3['D'] = df3['D'].astype('float16')"
      ],
      "execution_count": 0,
      "outputs": []
    },
    {
      "metadata": {
        "id": "FRWlQbjdXDFs",
        "colab_type": "code",
        "colab": {}
      },
      "cell_type": "code",
      "source": [
        "df3['E'] = df3['E'].astype('int32')"
      ],
      "execution_count": 0,
      "outputs": []
    },
    {
      "metadata": {
        "id": "eE7qCk4xXDFt",
        "colab_type": "code",
        "colab": {},
        "outputId": "94a01863-97bf-4d62-d598-57165b552152"
      },
      "cell_type": "code",
      "source": [
        "df3.dtypes"
      ],
      "execution_count": 0,
      "outputs": [
        {
          "output_type": "execute_result",
          "data": {
            "text/plain": [
              "A    float32\n",
              "B    float64\n",
              "C    float64\n",
              "D    float16\n",
              "E      int32\n",
              "dtype: object"
            ]
          },
          "metadata": {
            "tags": []
          },
          "execution_count": 460
        }
      ]
    },
    {
      "metadata": {
        "id": "UNlvQOFPXDFt",
        "colab_type": "text"
      },
      "cell_type": "markdown",
      "source": [
        "To force conversion to datetime64[ns], pass convert_dates='coerce'. This will convert any datetime-like object to dates, forcing other values to NaT. This might be useful if you are reading in data which is mostly dates, but occasionally has non-dates intermixed and you want to represent as missing."
      ]
    },
    {
      "metadata": {
        "id": "RbbrzUy4XDFt",
        "colab_type": "code",
        "colab": {}
      },
      "cell_type": "code",
      "source": [
        "import datetime\n",
        "\n",
        "s = pd.Series([datetime.datetime(2001,1,1,0,0),\n",
        "               'foo', 1.0, 1, pd.Timestamp('20010104'),\n",
        "               '20010105'], dtype='O')"
      ],
      "execution_count": 0,
      "outputs": []
    },
    {
      "metadata": {
        "id": "cv-8xseDXDFt",
        "colab_type": "code",
        "colab": {},
        "outputId": "11ad0d1d-ac3a-43cb-acb0-a466129b2385"
      },
      "cell_type": "code",
      "source": [
        "s"
      ],
      "execution_count": 0,
      "outputs": [
        {
          "output_type": "execute_result",
          "data": {
            "text/plain": [
              "0    2001-01-01 00:00:00\n",
              "1                    foo\n",
              "2                      1\n",
              "3                      1\n",
              "4    2001-01-04 00:00:00\n",
              "5               20010105\n",
              "dtype: object"
            ]
          },
          "metadata": {
            "tags": []
          },
          "execution_count": 464
        }
      ]
    },
    {
      "metadata": {
        "id": "KP8QRzLMXDFu",
        "colab_type": "code",
        "colab": {},
        "outputId": "c3b4285a-b834-4f9b-a127-3cda88519357"
      },
      "cell_type": "code",
      "source": [
        "pd.to_datetime(s, errors='coerce')"
      ],
      "execution_count": 0,
      "outputs": [
        {
          "output_type": "execute_result",
          "data": {
            "text/plain": [
              "0   2001-01-01\n",
              "1          NaT\n",
              "2          NaT\n",
              "3          NaT\n",
              "4   2001-01-04\n",
              "5   2001-01-05\n",
              "dtype: datetime64[ns]"
            ]
          },
          "metadata": {
            "tags": []
          },
          "execution_count": 465
        }
      ]
    },
    {
      "metadata": {
        "id": "yvMebAbUXDFu",
        "colab_type": "text"
      },
      "cell_type": "markdown",
      "source": [
        "In addition, **convert_objects()** will attempt the soft conversion of any object dtypes, meaning that if all the objects in a Series are of the same type, the Series will have that dtype."
      ]
    },
    {
      "metadata": {
        "id": "jjCqmNVnXDFu",
        "colab_type": "text"
      },
      "cell_type": "markdown",
      "source": [
        "### gotchas"
      ]
    },
    {
      "metadata": {
        "id": "K7bsCauhXDFv",
        "colab_type": "text"
      },
      "cell_type": "markdown",
      "source": [
        "Performing selection operations on integer type data can easily upcast the data to floating. The dtype of the input data will be preserved in cases where nans are not introduced (starting in 0.11.0) See also [integer na gotchas](http://pandas.pydata.org/pandas-docs/stable/gotchas.html#gotchas-intna)"
      ]
    },
    {
      "metadata": {
        "id": "Gv5Nb203XDFv",
        "colab_type": "code",
        "colab": {},
        "collapsed": true
      },
      "cell_type": "code",
      "source": [
        "dfi = df3.astype('int32')"
      ],
      "execution_count": 0,
      "outputs": []
    },
    {
      "metadata": {
        "id": "Sf6jrFnaXDFv",
        "colab_type": "code",
        "colab": {},
        "collapsed": true
      },
      "cell_type": "code",
      "source": [
        "dfi['E'] = 1"
      ],
      "execution_count": 0,
      "outputs": []
    },
    {
      "metadata": {
        "id": "pifqDbBbXDFv",
        "colab_type": "code",
        "colab": {},
        "outputId": "ece1d373-e9a0-4494-ca77-e01b080aab62"
      },
      "cell_type": "code",
      "source": [
        "dfi"
      ],
      "execution_count": 0,
      "outputs": [
        {
          "output_type": "execute_result",
          "data": {
            "text/html": [
              "<div>\n",
              "<table border=\"1\" class=\"dataframe\">\n",
              "  <thead>\n",
              "    <tr style=\"text-align: right;\">\n",
              "      <th></th>\n",
              "      <th>A</th>\n",
              "      <th>B</th>\n",
              "      <th>C</th>\n",
              "      <th>D</th>\n",
              "      <th>E</th>\n",
              "    </tr>\n",
              "  </thead>\n",
              "  <tbody>\n",
              "    <tr>\n",
              "      <th>0</th>\n",
              "      <td>0</td>\n",
              "      <td>0</td>\n",
              "      <td>1</td>\n",
              "      <td>1</td>\n",
              "      <td>1</td>\n",
              "    </tr>\n",
              "    <tr>\n",
              "      <th>1</th>\n",
              "      <td>0</td>\n",
              "      <td>0</td>\n",
              "      <td>0</td>\n",
              "      <td>1</td>\n",
              "      <td>1</td>\n",
              "    </tr>\n",
              "    <tr>\n",
              "      <th>2</th>\n",
              "      <td>0</td>\n",
              "      <td>0</td>\n",
              "      <td>1</td>\n",
              "      <td>1</td>\n",
              "      <td>1</td>\n",
              "    </tr>\n",
              "    <tr>\n",
              "      <th>3</th>\n",
              "      <td>0</td>\n",
              "      <td>0</td>\n",
              "      <td>0</td>\n",
              "      <td>1</td>\n",
              "      <td>1</td>\n",
              "    </tr>\n",
              "    <tr>\n",
              "      <th>4</th>\n",
              "      <td>-3</td>\n",
              "      <td>-1</td>\n",
              "      <td>1</td>\n",
              "      <td>1</td>\n",
              "      <td>1</td>\n",
              "    </tr>\n",
              "    <tr>\n",
              "      <th>5</th>\n",
              "      <td>0</td>\n",
              "      <td>-1</td>\n",
              "      <td>255</td>\n",
              "      <td>1</td>\n",
              "      <td>1</td>\n",
              "    </tr>\n",
              "    <tr>\n",
              "      <th>6</th>\n",
              "      <td>1</td>\n",
              "      <td>1</td>\n",
              "      <td>0</td>\n",
              "      <td>1</td>\n",
              "      <td>1</td>\n",
              "    </tr>\n",
              "    <tr>\n",
              "      <th>7</th>\n",
              "      <td>1</td>\n",
              "      <td>-1</td>\n",
              "      <td>0</td>\n",
              "      <td>1</td>\n",
              "      <td>1</td>\n",
              "    </tr>\n",
              "  </tbody>\n",
              "</table>\n",
              "</div>"
            ],
            "text/plain": [
              "   A  B    C  D  E\n",
              "0  0  0    1  1  1\n",
              "1  0  0    0  1  1\n",
              "2  0  0    1  1  1\n",
              "3  0  0    0  1  1\n",
              "4 -3 -1    1  1  1\n",
              "5  0 -1  255  1  1\n",
              "6  1  1    0  1  1\n",
              "7  1 -1    0  1  1"
            ]
          },
          "metadata": {
            "tags": []
          },
          "execution_count": 468
        }
      ]
    },
    {
      "metadata": {
        "id": "VZcWjcZgXDFv",
        "colab_type": "code",
        "colab": {},
        "outputId": "fadf5db5-f183-4279-e63f-678ad115eca2"
      },
      "cell_type": "code",
      "source": [
        "dfi.dtypes"
      ],
      "execution_count": 0,
      "outputs": [
        {
          "output_type": "execute_result",
          "data": {
            "text/plain": [
              "A    int32\n",
              "B    int32\n",
              "C    int32\n",
              "D    int32\n",
              "E    int64\n",
              "dtype: object"
            ]
          },
          "metadata": {
            "tags": []
          },
          "execution_count": 469
        }
      ]
    },
    {
      "metadata": {
        "id": "QLFt_RckXDFw",
        "colab_type": "code",
        "colab": {},
        "collapsed": true
      },
      "cell_type": "code",
      "source": [
        "casted = dfi[dfi>0]"
      ],
      "execution_count": 0,
      "outputs": []
    },
    {
      "metadata": {
        "id": "KWgbLIvMXDFx",
        "colab_type": "code",
        "colab": {},
        "outputId": "74801c69-9574-494c-ba74-da2dd6b36907"
      },
      "cell_type": "code",
      "source": [
        "casted"
      ],
      "execution_count": 0,
      "outputs": [
        {
          "output_type": "execute_result",
          "data": {
            "text/html": [
              "<div>\n",
              "<table border=\"1\" class=\"dataframe\">\n",
              "  <thead>\n",
              "    <tr style=\"text-align: right;\">\n",
              "      <th></th>\n",
              "      <th>A</th>\n",
              "      <th>B</th>\n",
              "      <th>C</th>\n",
              "      <th>D</th>\n",
              "      <th>E</th>\n",
              "    </tr>\n",
              "  </thead>\n",
              "  <tbody>\n",
              "    <tr>\n",
              "      <th>0</th>\n",
              "      <td>NaN</td>\n",
              "      <td>NaN</td>\n",
              "      <td>1.0</td>\n",
              "      <td>1</td>\n",
              "      <td>1</td>\n",
              "    </tr>\n",
              "    <tr>\n",
              "      <th>1</th>\n",
              "      <td>NaN</td>\n",
              "      <td>NaN</td>\n",
              "      <td>NaN</td>\n",
              "      <td>1</td>\n",
              "      <td>1</td>\n",
              "    </tr>\n",
              "    <tr>\n",
              "      <th>2</th>\n",
              "      <td>NaN</td>\n",
              "      <td>NaN</td>\n",
              "      <td>1.0</td>\n",
              "      <td>1</td>\n",
              "      <td>1</td>\n",
              "    </tr>\n",
              "    <tr>\n",
              "      <th>3</th>\n",
              "      <td>NaN</td>\n",
              "      <td>NaN</td>\n",
              "      <td>NaN</td>\n",
              "      <td>1</td>\n",
              "      <td>1</td>\n",
              "    </tr>\n",
              "    <tr>\n",
              "      <th>4</th>\n",
              "      <td>NaN</td>\n",
              "      <td>NaN</td>\n",
              "      <td>1.0</td>\n",
              "      <td>1</td>\n",
              "      <td>1</td>\n",
              "    </tr>\n",
              "    <tr>\n",
              "      <th>5</th>\n",
              "      <td>NaN</td>\n",
              "      <td>NaN</td>\n",
              "      <td>255.0</td>\n",
              "      <td>1</td>\n",
              "      <td>1</td>\n",
              "    </tr>\n",
              "    <tr>\n",
              "      <th>6</th>\n",
              "      <td>1.0</td>\n",
              "      <td>1.0</td>\n",
              "      <td>NaN</td>\n",
              "      <td>1</td>\n",
              "      <td>1</td>\n",
              "    </tr>\n",
              "    <tr>\n",
              "      <th>7</th>\n",
              "      <td>1.0</td>\n",
              "      <td>NaN</td>\n",
              "      <td>NaN</td>\n",
              "      <td>1</td>\n",
              "      <td>1</td>\n",
              "    </tr>\n",
              "  </tbody>\n",
              "</table>\n",
              "</div>"
            ],
            "text/plain": [
              "     A    B      C  D  E\n",
              "0  NaN  NaN    1.0  1  1\n",
              "1  NaN  NaN    NaN  1  1\n",
              "2  NaN  NaN    1.0  1  1\n",
              "3  NaN  NaN    NaN  1  1\n",
              "4  NaN  NaN    1.0  1  1\n",
              "5  NaN  NaN  255.0  1  1\n",
              "6  1.0  1.0    NaN  1  1\n",
              "7  1.0  NaN    NaN  1  1"
            ]
          },
          "metadata": {
            "tags": []
          },
          "execution_count": 477
        }
      ]
    },
    {
      "metadata": {
        "id": "JRlD0IlwXDFy",
        "colab_type": "code",
        "colab": {},
        "outputId": "d21bfc12-e08a-4d91-cdc0-efbe06b0ebb7"
      },
      "cell_type": "code",
      "source": [
        "casted.dtypes"
      ],
      "execution_count": 0,
      "outputs": [
        {
          "output_type": "execute_result",
          "data": {
            "text/plain": [
              "A    float64\n",
              "B    float64\n",
              "C    float64\n",
              "D      int32\n",
              "E      int64\n",
              "dtype: object"
            ]
          },
          "metadata": {
            "tags": []
          },
          "execution_count": 478
        }
      ]
    },
    {
      "metadata": {
        "id": "6i8e6VHEXDFz",
        "colab_type": "text"
      },
      "cell_type": "markdown",
      "source": [
        "While float dtypes are unchanged."
      ]
    },
    {
      "metadata": {
        "id": "NOwWCClvXDFz",
        "colab_type": "code",
        "colab": {},
        "collapsed": true
      },
      "cell_type": "code",
      "source": [
        "dfa = df3.copy()"
      ],
      "execution_count": 0,
      "outputs": []
    },
    {
      "metadata": {
        "id": "mKseGTSLXDF2",
        "colab_type": "code",
        "colab": {},
        "collapsed": true
      },
      "cell_type": "code",
      "source": [
        "dfa['A'] = dfa['A'].astype('float32')"
      ],
      "execution_count": 0,
      "outputs": []
    },
    {
      "metadata": {
        "id": "WmZOsH_aXDF3",
        "colab_type": "code",
        "colab": {},
        "outputId": "f7aeafd1-b677-4d7c-c336-369c4301195c"
      },
      "cell_type": "code",
      "source": [
        "dfa.dtypes"
      ],
      "execution_count": 0,
      "outputs": [
        {
          "output_type": "execute_result",
          "data": {
            "text/plain": [
              "A    float32\n",
              "B    float64\n",
              "C    float64\n",
              "D    float16\n",
              "E      int32\n",
              "dtype: object"
            ]
          },
          "metadata": {
            "tags": []
          },
          "execution_count": 482
        }
      ]
    },
    {
      "metadata": {
        "id": "Fzy7fYQZXDF3",
        "colab_type": "code",
        "colab": {},
        "collapsed": true
      },
      "cell_type": "code",
      "source": [
        "casted = dfa[df2>0]"
      ],
      "execution_count": 0,
      "outputs": []
    },
    {
      "metadata": {
        "id": "k6djaICWXDF3",
        "colab_type": "code",
        "colab": {},
        "outputId": "30f0c949-3f3a-4aeb-906d-424c6edb16bd"
      },
      "cell_type": "code",
      "source": [
        "casted"
      ],
      "execution_count": 0,
      "outputs": [
        {
          "output_type": "execute_result",
          "data": {
            "text/html": [
              "<div>\n",
              "<table border=\"1\" class=\"dataframe\">\n",
              "  <thead>\n",
              "    <tr style=\"text-align: right;\">\n",
              "      <th></th>\n",
              "      <th>A</th>\n",
              "      <th>B</th>\n",
              "      <th>C</th>\n",
              "      <th>D</th>\n",
              "      <th>E</th>\n",
              "    </tr>\n",
              "  </thead>\n",
              "  <tbody>\n",
              "    <tr>\n",
              "      <th>0</th>\n",
              "      <td>NaN</td>\n",
              "      <td>0.723455</td>\n",
              "      <td>1.0</td>\n",
              "      <td>NaN</td>\n",
              "      <td>NaN</td>\n",
              "    </tr>\n",
              "    <tr>\n",
              "      <th>1</th>\n",
              "      <td>NaN</td>\n",
              "      <td>NaN</td>\n",
              "      <td>NaN</td>\n",
              "      <td>NaN</td>\n",
              "      <td>NaN</td>\n",
              "    </tr>\n",
              "    <tr>\n",
              "      <th>2</th>\n",
              "      <td>-0.334142</td>\n",
              "      <td>0.375315</td>\n",
              "      <td>1.0</td>\n",
              "      <td>NaN</td>\n",
              "      <td>NaN</td>\n",
              "    </tr>\n",
              "    <tr>\n",
              "      <th>3</th>\n",
              "      <td>0.644795</td>\n",
              "      <td>NaN</td>\n",
              "      <td>NaN</td>\n",
              "      <td>NaN</td>\n",
              "      <td>NaN</td>\n",
              "    </tr>\n",
              "    <tr>\n",
              "      <th>4</th>\n",
              "      <td>NaN</td>\n",
              "      <td>NaN</td>\n",
              "      <td>1.0</td>\n",
              "      <td>NaN</td>\n",
              "      <td>NaN</td>\n",
              "    </tr>\n",
              "    <tr>\n",
              "      <th>5</th>\n",
              "      <td>NaN</td>\n",
              "      <td>NaN</td>\n",
              "      <td>255.0</td>\n",
              "      <td>NaN</td>\n",
              "      <td>NaN</td>\n",
              "    </tr>\n",
              "    <tr>\n",
              "      <th>6</th>\n",
              "      <td>1.065750</td>\n",
              "      <td>1.427348</td>\n",
              "      <td>NaN</td>\n",
              "      <td>NaN</td>\n",
              "      <td>NaN</td>\n",
              "    </tr>\n",
              "    <tr>\n",
              "      <th>7</th>\n",
              "      <td>NaN</td>\n",
              "      <td>NaN</td>\n",
              "      <td>NaN</td>\n",
              "      <td>NaN</td>\n",
              "      <td>NaN</td>\n",
              "    </tr>\n",
              "  </tbody>\n",
              "</table>\n",
              "</div>"
            ],
            "text/plain": [
              "          A         B      C   D   E\n",
              "0       NaN  0.723455    1.0 NaN NaN\n",
              "1       NaN       NaN    NaN NaN NaN\n",
              "2 -0.334142  0.375315    1.0 NaN NaN\n",
              "3  0.644795       NaN    NaN NaN NaN\n",
              "4       NaN       NaN    1.0 NaN NaN\n",
              "5       NaN       NaN  255.0 NaN NaN\n",
              "6  1.065750  1.427348    NaN NaN NaN\n",
              "7       NaN       NaN    NaN NaN NaN"
            ]
          },
          "metadata": {
            "tags": []
          },
          "execution_count": 484
        }
      ]
    },
    {
      "metadata": {
        "id": "AmSHflO4XDF4",
        "colab_type": "code",
        "colab": {},
        "outputId": "9d993823-f203-4819-fcc4-14d6be5f2fc2"
      },
      "cell_type": "code",
      "source": [
        "casted.dtypes"
      ],
      "execution_count": 0,
      "outputs": [
        {
          "output_type": "execute_result",
          "data": {
            "text/plain": [
              "A    float32\n",
              "B    float64\n",
              "C    float64\n",
              "D    float16\n",
              "E    float64\n",
              "dtype: object"
            ]
          },
          "metadata": {
            "tags": []
          },
          "execution_count": 485
        }
      ]
    },
    {
      "metadata": {
        "id": "D3C-4AkVXDF5",
        "colab_type": "text"
      },
      "cell_type": "markdown",
      "source": [
        "## Selecting columns based on dtype"
      ]
    },
    {
      "metadata": {
        "id": "TSXBAx9NXDF5",
        "colab_type": "text"
      },
      "cell_type": "markdown",
      "source": [
        "New in version 0.14.1.\n",
        "\n",
        "The **select_dtypes()** method implements subsetting of columns based on their dtype.\n",
        "\n",
        "First, let’s create a **DataFrame** with a slew of different dtypes:"
      ]
    },
    {
      "metadata": {
        "id": "m9Tk6BO8XDF5",
        "colab_type": "code",
        "colab": {},
        "collapsed": true
      },
      "cell_type": "code",
      "source": [
        "df = pd.DataFrame({'string': list('abc'),\n",
        "                    'int64': list(range(1, 4)),\n",
        "                    'uint8': np.arange(3, 6).astype('u1'),\n",
        "                    'float64': np.arange(4.0, 7.0),\n",
        "                    'bool1': [True, False, True],\n",
        "                    'bool2': [False, True, False],\n",
        "                    'dates': pd.date_range('now', periods=3).values,\n",
        "                    'category': pd.Series(list(\"ABC\")).astype('category')})"
      ],
      "execution_count": 0,
      "outputs": []
    },
    {
      "metadata": {
        "id": "XX-beX2mXDF5",
        "colab_type": "code",
        "colab": {},
        "outputId": "8f534747-233b-4e63-90ed-79d24edab958"
      },
      "cell_type": "code",
      "source": [
        "df"
      ],
      "execution_count": 0,
      "outputs": [
        {
          "output_type": "execute_result",
          "data": {
            "text/html": [
              "<div>\n",
              "<table border=\"1\" class=\"dataframe\">\n",
              "  <thead>\n",
              "    <tr style=\"text-align: right;\">\n",
              "      <th></th>\n",
              "      <th>bool1</th>\n",
              "      <th>bool2</th>\n",
              "      <th>category</th>\n",
              "      <th>dates</th>\n",
              "      <th>float64</th>\n",
              "      <th>int64</th>\n",
              "      <th>string</th>\n",
              "      <th>uint8</th>\n",
              "    </tr>\n",
              "  </thead>\n",
              "  <tbody>\n",
              "    <tr>\n",
              "      <th>0</th>\n",
              "      <td>True</td>\n",
              "      <td>False</td>\n",
              "      <td>A</td>\n",
              "      <td>2016-08-30 15:23:58.933</td>\n",
              "      <td>4.0</td>\n",
              "      <td>1</td>\n",
              "      <td>a</td>\n",
              "      <td>3</td>\n",
              "    </tr>\n",
              "    <tr>\n",
              "      <th>1</th>\n",
              "      <td>False</td>\n",
              "      <td>True</td>\n",
              "      <td>B</td>\n",
              "      <td>2016-08-31 15:23:58.933</td>\n",
              "      <td>5.0</td>\n",
              "      <td>2</td>\n",
              "      <td>b</td>\n",
              "      <td>4</td>\n",
              "    </tr>\n",
              "    <tr>\n",
              "      <th>2</th>\n",
              "      <td>True</td>\n",
              "      <td>False</td>\n",
              "      <td>C</td>\n",
              "      <td>2016-09-01 15:23:58.933</td>\n",
              "      <td>6.0</td>\n",
              "      <td>3</td>\n",
              "      <td>c</td>\n",
              "      <td>5</td>\n",
              "    </tr>\n",
              "  </tbody>\n",
              "</table>\n",
              "</div>"
            ],
            "text/plain": [
              "   bool1  bool2 category                   dates  float64  int64 string  uint8\n",
              "0   True  False        A 2016-08-30 15:23:58.933      4.0      1      a      3\n",
              "1  False   True        B 2016-08-31 15:23:58.933      5.0      2      b      4\n",
              "2   True  False        C 2016-09-01 15:23:58.933      6.0      3      c      5"
            ]
          },
          "metadata": {
            "tags": []
          },
          "execution_count": 488
        }
      ]
    },
    {
      "metadata": {
        "id": "C3yL3PmWXDF5",
        "colab_type": "code",
        "colab": {}
      },
      "cell_type": "code",
      "source": [
        "df['tdeltas'] = df.dates.diff()"
      ],
      "execution_count": 0,
      "outputs": []
    },
    {
      "metadata": {
        "id": "BogruZ-YXDF6",
        "colab_type": "code",
        "colab": {},
        "collapsed": true
      },
      "cell_type": "code",
      "source": [
        "df['uint64'] = np.arange(3, 6).astype('u8')"
      ],
      "execution_count": 0,
      "outputs": []
    },
    {
      "metadata": {
        "id": "Y2Emc99pXDF6",
        "colab_type": "code",
        "colab": {},
        "collapsed": true
      },
      "cell_type": "code",
      "source": [
        "df['other_dates'] = pd.date_range('20130101', periods=3).values"
      ],
      "execution_count": 0,
      "outputs": []
    },
    {
      "metadata": {
        "id": "lWg3eXfaXDF7",
        "colab_type": "code",
        "colab": {},
        "collapsed": true
      },
      "cell_type": "code",
      "source": [
        "df['tz_aware_dates'] = pd.date_range('20130101', periods=3, tz='US/Eastern')"
      ],
      "execution_count": 0,
      "outputs": []
    },
    {
      "metadata": {
        "id": "nhqoAHrJXDF7",
        "colab_type": "code",
        "colab": {},
        "outputId": "bdd12e6d-82c9-4c3e-a3ce-9899a88b8aaa"
      },
      "cell_type": "code",
      "source": [
        "df"
      ],
      "execution_count": 0,
      "outputs": [
        {
          "output_type": "execute_result",
          "data": {
            "text/html": [
              "<div>\n",
              "<table border=\"1\" class=\"dataframe\">\n",
              "  <thead>\n",
              "    <tr style=\"text-align: right;\">\n",
              "      <th></th>\n",
              "      <th>bool1</th>\n",
              "      <th>bool2</th>\n",
              "      <th>category</th>\n",
              "      <th>dates</th>\n",
              "      <th>float64</th>\n",
              "      <th>int64</th>\n",
              "      <th>string</th>\n",
              "      <th>uint8</th>\n",
              "      <th>tdeltas</th>\n",
              "      <th>uint64</th>\n",
              "      <th>other_dates</th>\n",
              "      <th>tz_aware_dates</th>\n",
              "    </tr>\n",
              "  </thead>\n",
              "  <tbody>\n",
              "    <tr>\n",
              "      <th>0</th>\n",
              "      <td>True</td>\n",
              "      <td>False</td>\n",
              "      <td>A</td>\n",
              "      <td>2016-08-30 15:23:58.933</td>\n",
              "      <td>4.0</td>\n",
              "      <td>1</td>\n",
              "      <td>a</td>\n",
              "      <td>3</td>\n",
              "      <td>NaT</td>\n",
              "      <td>3</td>\n",
              "      <td>2013-01-01</td>\n",
              "      <td>2013-01-01 00:00:00-05:00</td>\n",
              "    </tr>\n",
              "    <tr>\n",
              "      <th>1</th>\n",
              "      <td>False</td>\n",
              "      <td>True</td>\n",
              "      <td>B</td>\n",
              "      <td>2016-08-31 15:23:58.933</td>\n",
              "      <td>5.0</td>\n",
              "      <td>2</td>\n",
              "      <td>b</td>\n",
              "      <td>4</td>\n",
              "      <td>1 days</td>\n",
              "      <td>4</td>\n",
              "      <td>2013-01-02</td>\n",
              "      <td>2013-01-02 00:00:00-05:00</td>\n",
              "    </tr>\n",
              "    <tr>\n",
              "      <th>2</th>\n",
              "      <td>True</td>\n",
              "      <td>False</td>\n",
              "      <td>C</td>\n",
              "      <td>2016-09-01 15:23:58.933</td>\n",
              "      <td>6.0</td>\n",
              "      <td>3</td>\n",
              "      <td>c</td>\n",
              "      <td>5</td>\n",
              "      <td>1 days</td>\n",
              "      <td>5</td>\n",
              "      <td>2013-01-03</td>\n",
              "      <td>2013-01-03 00:00:00-05:00</td>\n",
              "    </tr>\n",
              "  </tbody>\n",
              "</table>\n",
              "</div>"
            ],
            "text/plain": [
              "   bool1  bool2 category                   dates  float64  int64 string  \\\n",
              "0   True  False        A 2016-08-30 15:23:58.933      4.0      1      a   \n",
              "1  False   True        B 2016-08-31 15:23:58.933      5.0      2      b   \n",
              "2   True  False        C 2016-09-01 15:23:58.933      6.0      3      c   \n",
              "\n",
              "   uint8  tdeltas  uint64 other_dates            tz_aware_dates  \n",
              "0      3      NaT       3  2013-01-01 2013-01-01 00:00:00-05:00  \n",
              "1      4   1 days       4  2013-01-02 2013-01-02 00:00:00-05:00  \n",
              "2      5   1 days       5  2013-01-03 2013-01-03 00:00:00-05:00  "
            ]
          },
          "metadata": {
            "tags": []
          },
          "execution_count": 494
        }
      ]
    },
    {
      "metadata": {
        "id": "94UHmFi3XDF7",
        "colab_type": "text"
      },
      "cell_type": "markdown",
      "source": [
        "And the dtypes"
      ]
    },
    {
      "metadata": {
        "id": "w_wkMudJXDF7",
        "colab_type": "code",
        "colab": {},
        "outputId": "4164480d-c21f-4511-fa4c-5904cd959e06"
      },
      "cell_type": "code",
      "source": [
        "df.dtypes"
      ],
      "execution_count": 0,
      "outputs": [
        {
          "output_type": "execute_result",
          "data": {
            "text/plain": [
              "bool1                                   bool\n",
              "bool2                                   bool\n",
              "category                            category\n",
              "dates                         datetime64[ns]\n",
              "float64                              float64\n",
              "int64                                  int64\n",
              "string                                object\n",
              "uint8                                  uint8\n",
              "tdeltas                      timedelta64[ns]\n",
              "uint64                                uint64\n",
              "other_dates                   datetime64[ns]\n",
              "tz_aware_dates    datetime64[ns, US/Eastern]\n",
              "dtype: object"
            ]
          },
          "metadata": {
            "tags": []
          },
          "execution_count": 495
        }
      ]
    },
    {
      "metadata": {
        "id": "qidvujRxXDF8",
        "colab_type": "text"
      },
      "cell_type": "markdown",
      "source": [
        "**select_dtypes()** has two parameters include and exclude that allow you to say “give me the columns WITH these dtypes” (include) and/or “give the columns WITHOUT these dtypes” (exclude).\n",
        "\n",
        "For example, to select bool columns"
      ]
    },
    {
      "metadata": {
        "id": "cFM9tGulXDF8",
        "colab_type": "code",
        "colab": {},
        "outputId": "660f5fba-4aa4-4959-fe36-e24496925fa2"
      },
      "cell_type": "code",
      "source": [
        "df.select_dtypes(include=[bool])"
      ],
      "execution_count": 0,
      "outputs": [
        {
          "output_type": "execute_result",
          "data": {
            "text/html": [
              "<div>\n",
              "<table border=\"1\" class=\"dataframe\">\n",
              "  <thead>\n",
              "    <tr style=\"text-align: right;\">\n",
              "      <th></th>\n",
              "      <th>bool1</th>\n",
              "      <th>bool2</th>\n",
              "    </tr>\n",
              "  </thead>\n",
              "  <tbody>\n",
              "    <tr>\n",
              "      <th>0</th>\n",
              "      <td>True</td>\n",
              "      <td>False</td>\n",
              "    </tr>\n",
              "    <tr>\n",
              "      <th>1</th>\n",
              "      <td>False</td>\n",
              "      <td>True</td>\n",
              "    </tr>\n",
              "    <tr>\n",
              "      <th>2</th>\n",
              "      <td>True</td>\n",
              "      <td>False</td>\n",
              "    </tr>\n",
              "  </tbody>\n",
              "</table>\n",
              "</div>"
            ],
            "text/plain": [
              "   bool1  bool2\n",
              "0   True  False\n",
              "1  False   True\n",
              "2   True  False"
            ]
          },
          "metadata": {
            "tags": []
          },
          "execution_count": 496
        }
      ]
    },
    {
      "metadata": {
        "id": "V8Q_z1KNXDF8",
        "colab_type": "text"
      },
      "cell_type": "markdown",
      "source": [
        "You can also pass the name of a dtype in the [numpy dtype hierarchy](https://docs.scipy.org/doc/numpy/reference/arrays.scalars.html):"
      ]
    },
    {
      "metadata": {
        "id": "6Xe5RGCLXDF9",
        "colab_type": "code",
        "colab": {},
        "outputId": "e56df372-9e43-4e29-eec7-edd2bdb60507"
      },
      "cell_type": "code",
      "source": [
        " df.select_dtypes(include=['bool'])"
      ],
      "execution_count": 0,
      "outputs": [
        {
          "output_type": "execute_result",
          "data": {
            "text/html": [
              "<div>\n",
              "<table border=\"1\" class=\"dataframe\">\n",
              "  <thead>\n",
              "    <tr style=\"text-align: right;\">\n",
              "      <th></th>\n",
              "      <th>bool1</th>\n",
              "      <th>bool2</th>\n",
              "    </tr>\n",
              "  </thead>\n",
              "  <tbody>\n",
              "    <tr>\n",
              "      <th>0</th>\n",
              "      <td>True</td>\n",
              "      <td>False</td>\n",
              "    </tr>\n",
              "    <tr>\n",
              "      <th>1</th>\n",
              "      <td>False</td>\n",
              "      <td>True</td>\n",
              "    </tr>\n",
              "    <tr>\n",
              "      <th>2</th>\n",
              "      <td>True</td>\n",
              "      <td>False</td>\n",
              "    </tr>\n",
              "  </tbody>\n",
              "</table>\n",
              "</div>"
            ],
            "text/plain": [
              "   bool1  bool2\n",
              "0   True  False\n",
              "1  False   True\n",
              "2   True  False"
            ]
          },
          "metadata": {
            "tags": []
          },
          "execution_count": 497
        }
      ]
    },
    {
      "metadata": {
        "id": "-oDP2sskXDF-",
        "colab_type": "text"
      },
      "cell_type": "markdown",
      "source": [
        "**select_dtypes()** also works with generic dtypes as well.\n",
        "\n",
        "For example, to select all numeric and boolean columns while excluding unsigned integers"
      ]
    },
    {
      "metadata": {
        "id": "Wl3Zsml5XDF-",
        "colab_type": "code",
        "colab": {},
        "outputId": "573acb8f-0dac-43f3-e903-44b2c1f6be70"
      },
      "cell_type": "code",
      "source": [
        "df.select_dtypes(include=['number', 'bool'], exclude=['unsignedinteger'])"
      ],
      "execution_count": 0,
      "outputs": [
        {
          "output_type": "execute_result",
          "data": {
            "text/html": [
              "<div>\n",
              "<table border=\"1\" class=\"dataframe\">\n",
              "  <thead>\n",
              "    <tr style=\"text-align: right;\">\n",
              "      <th></th>\n",
              "      <th>bool1</th>\n",
              "      <th>bool2</th>\n",
              "      <th>float64</th>\n",
              "      <th>int64</th>\n",
              "      <th>tdeltas</th>\n",
              "    </tr>\n",
              "  </thead>\n",
              "  <tbody>\n",
              "    <tr>\n",
              "      <th>0</th>\n",
              "      <td>True</td>\n",
              "      <td>False</td>\n",
              "      <td>4.0</td>\n",
              "      <td>1</td>\n",
              "      <td>NaT</td>\n",
              "    </tr>\n",
              "    <tr>\n",
              "      <th>1</th>\n",
              "      <td>False</td>\n",
              "      <td>True</td>\n",
              "      <td>5.0</td>\n",
              "      <td>2</td>\n",
              "      <td>1 days</td>\n",
              "    </tr>\n",
              "    <tr>\n",
              "      <th>2</th>\n",
              "      <td>True</td>\n",
              "      <td>False</td>\n",
              "      <td>6.0</td>\n",
              "      <td>3</td>\n",
              "      <td>1 days</td>\n",
              "    </tr>\n",
              "  </tbody>\n",
              "</table>\n",
              "</div>"
            ],
            "text/plain": [
              "   bool1  bool2  float64  int64  tdeltas\n",
              "0   True  False      4.0      1      NaT\n",
              "1  False   True      5.0      2   1 days\n",
              "2   True  False      6.0      3   1 days"
            ]
          },
          "metadata": {
            "tags": []
          },
          "execution_count": 498
        }
      ]
    },
    {
      "metadata": {
        "id": "CIMWMLJ2XDF-",
        "colab_type": "text"
      },
      "cell_type": "markdown",
      "source": [
        "To select string columns you must use the object dtype:"
      ]
    },
    {
      "metadata": {
        "id": "ST9HOFr_XDF-",
        "colab_type": "code",
        "colab": {},
        "outputId": "1bd05650-9899-42ec-de0a-8b7a86878cab"
      },
      "cell_type": "code",
      "source": [
        "df.select_dtypes(include=['object'])"
      ],
      "execution_count": 0,
      "outputs": [
        {
          "output_type": "execute_result",
          "data": {
            "text/html": [
              "<div>\n",
              "<table border=\"1\" class=\"dataframe\">\n",
              "  <thead>\n",
              "    <tr style=\"text-align: right;\">\n",
              "      <th></th>\n",
              "      <th>string</th>\n",
              "    </tr>\n",
              "  </thead>\n",
              "  <tbody>\n",
              "    <tr>\n",
              "      <th>0</th>\n",
              "      <td>a</td>\n",
              "    </tr>\n",
              "    <tr>\n",
              "      <th>1</th>\n",
              "      <td>b</td>\n",
              "    </tr>\n",
              "    <tr>\n",
              "      <th>2</th>\n",
              "      <td>c</td>\n",
              "    </tr>\n",
              "  </tbody>\n",
              "</table>\n",
              "</div>"
            ],
            "text/plain": [
              "  string\n",
              "0      a\n",
              "1      b\n",
              "2      c"
            ]
          },
          "metadata": {
            "tags": []
          },
          "execution_count": 499
        }
      ]
    },
    {
      "metadata": {
        "id": "U03mwb3EXDF_",
        "colab_type": "text"
      },
      "cell_type": "markdown",
      "source": [
        "To see all the child dtypes of a generic dtype like numpy.number you can define a function that returns a tree of child dtypes:"
      ]
    },
    {
      "metadata": {
        "id": "elqjRFymXDF_",
        "colab_type": "code",
        "colab": {}
      },
      "cell_type": "code",
      "source": [
        "def subdtypes(dtype):\n",
        "     subs = dtype.__subclasses__()\n",
        "     if not subs:\n",
        "         return dtype\n",
        "     return [dtype, [subdtypes(dt) for dt in subs]]"
      ],
      "execution_count": 0,
      "outputs": []
    },
    {
      "metadata": {
        "id": "aklgUbBGXDF_",
        "colab_type": "text"
      },
      "cell_type": "markdown",
      "source": [
        "All numpy dtypes are subclasses of numpy.generic:"
      ]
    },
    {
      "metadata": {
        "id": "NCdGPHjCXDF_",
        "colab_type": "code",
        "colab": {},
        "outputId": "a84d3f4b-ed62-40b4-c2cc-a9c35f7e708c"
      },
      "cell_type": "code",
      "source": [
        "subdtypes(np.generic)"
      ],
      "execution_count": 0,
      "outputs": [
        {
          "output_type": "execute_result",
          "data": {
            "text/plain": [
              "[numpy.generic,\n",
              " [[numpy.number,\n",
              "   [[numpy.integer,\n",
              "     [[numpy.signedinteger,\n",
              "       [numpy.int8,\n",
              "        numpy.int16,\n",
              "        numpy.int32,\n",
              "        numpy.int32,\n",
              "        numpy.int64,\n",
              "        numpy.timedelta64]],\n",
              "      [numpy.unsignedinteger,\n",
              "       [numpy.uint8,\n",
              "        numpy.uint16,\n",
              "        numpy.uint32,\n",
              "        numpy.uint32,\n",
              "        numpy.uint64]]]],\n",
              "    [numpy.inexact,\n",
              "     [[numpy.floating,\n",
              "       [numpy.float16, numpy.float32, numpy.float64, numpy.float64]],\n",
              "      [numpy.complexfloating,\n",
              "       [numpy.complex64, numpy.complex128, numpy.complex128]]]]]],\n",
              "  [numpy.flexible,\n",
              "   [[numpy.character, [numpy.string_, numpy.unicode_]],\n",
              "    [numpy.void, [numpy.record]]]],\n",
              "  numpy.bool_,\n",
              "  numpy.datetime64,\n",
              "  numpy.object_]]"
            ]
          },
          "metadata": {
            "tags": []
          },
          "execution_count": 502
        }
      ]
    },
    {
      "metadata": {
        "id": "ZlpwjIi0XDGA",
        "colab_type": "text"
      },
      "cell_type": "markdown",
      "source": [
        "**Note:** Pandas also defines the types category, and datetime64[ns, tz], which are not integrated into the normal numpy hierarchy and wont show up with the above function.\n",
        "\n",
        "**Note:** The include and exclude parameters must be non-string sequences."
      ]
    }
  ]
}